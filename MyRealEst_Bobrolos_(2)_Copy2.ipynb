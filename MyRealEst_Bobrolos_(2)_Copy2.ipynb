{
  "nbformat": 4,
  "nbformat_minor": 0,
  "metadata": {
    "kernelspec": {
      "display_name": "Python 3",
      "language": "python",
      "name": "python3"
    },
    "language_info": {
      "codemirror_mode": {
        "name": "ipython",
        "version": 3
      },
      "file_extension": ".py",
      "mimetype": "text/x-python",
      "name": "python",
      "nbconvert_exporter": "python",
      "pygments_lexer": "ipython3",
      "version": "3.8.8"
    },
    "colab": {
      "name": "MyRealEst_Bobrolos (2)-Copy2.ipynb",
      "provenance": [],
      "include_colab_link": true
    }
  },
  "cells": [
    {
      "cell_type": "markdown",
      "metadata": {
        "id": "view-in-github",
        "colab_type": "text"
      },
      "source": [
        "<a href=\"https://colab.research.google.com/github/Bobrolos/Python-/blob/main/MyRealEst_Bobrolos_(2)_Copy2.ipynb\" target=\"_parent\"><img src=\"https://colab.research.google.com/assets/colab-badge.svg\" alt=\"Open In Colab\"/></a>"
      ]
    },
    {
      "cell_type": "code",
      "metadata": {
        "execution": {
          "iopub.execute_input": "2021-05-25T15:46:34.313385Z",
          "iopub.status.busy": "2021-05-25T15:46:34.313116Z",
          "iopub.status.idle": "2021-05-25T15:46:35.838525Z",
          "shell.execute_reply": "2021-05-25T15:46:35.837562Z",
          "shell.execute_reply.started": "2021-05-25T15:46:34.313359Z"
        },
        "id": "XdTw3Uomg2eo"
      },
      "source": [
        "import numpy as np\n",
        "import pandas as pd\n",
        "import random\n",
        "\n",
        "from sklearn.model_selection import train_test_split, cross_val_score\n",
        "from sklearn.preprocessing import StandardScaler, RobustScaler\n",
        "from sklearn.ensemble import RandomForestRegressor\n",
        "from sklearn.metrics import r2_score as r2\n",
        "from sklearn.model_selection import KFold, GridSearchCV\n",
        "\n",
        "from datetime import datetime\n",
        "\n",
        "import matplotlib\n",
        "import matplotlib.pyplot as plt\n",
        "import seaborn as sns\n",
        "%matplotlib inline"
      ],
      "execution_count": null,
      "outputs": []
    },
    {
      "cell_type": "code",
      "metadata": {
        "id": "NwRTY3WFg2ev"
      },
      "source": [
        "import warnings\n",
        "warnings.filterwarnings('ignore')"
      ],
      "execution_count": null,
      "outputs": []
    },
    {
      "cell_type": "code",
      "metadata": {
        "execution": {
          "iopub.execute_input": "2021-05-25T15:46:35.850049Z",
          "iopub.status.busy": "2021-05-25T15:46:35.849566Z",
          "iopub.status.idle": "2021-05-25T15:46:35.862899Z",
          "shell.execute_reply": "2021-05-25T15:46:35.86187Z",
          "shell.execute_reply.started": "2021-05-25T15:46:35.850002Z"
        },
        "id": "0svwCBI7g2ew"
      },
      "source": [
        "matplotlib.rcParams.update({'font.size': 14})"
      ],
      "execution_count": null,
      "outputs": []
    },
    {
      "cell_type": "code",
      "metadata": {
        "execution": {
          "iopub.execute_input": "2021-05-25T15:46:35.865578Z",
          "iopub.status.busy": "2021-05-25T15:46:35.865077Z",
          "iopub.status.idle": "2021-05-25T15:46:35.881362Z",
          "shell.execute_reply": "2021-05-25T15:46:35.880378Z",
          "shell.execute_reply.started": "2021-05-25T15:46:35.865546Z"
        },
        "id": "ObyntXgVg2ew"
      },
      "source": [
        "def evaluate_preds(train_true_values, train_pred_values, test_true_values, test_pred_values):\n",
        "    print(\"Train R2:\\t\" + str(round(r2(train_true_values, train_pred_values), 3)))\n",
        "    print(\"Test R2:\\t\" + str(round(r2(test_true_values, test_pred_values), 3)))\n",
        "    \n",
        "    plt.figure(figsize=(18,10))\n",
        "    \n",
        "    plt.subplot(121)\n",
        "    sns.scatterplot(x=train_pred_values, y=train_true_values)\n",
        "    plt.xlabel('Predicted values')\n",
        "    plt.ylabel('True values')\n",
        "    plt.title('Train sample prediction')\n",
        "    \n",
        "    plt.subplot(122)\n",
        "    sns.scatterplot(x=test_pred_values, y=test_true_values)\n",
        "    plt.xlabel('Predicted values')\n",
        "    plt.ylabel('True values')\n",
        "    plt.title('Test sample prediction')\n",
        "\n",
        "    plt.show()"
      ],
      "execution_count": null,
      "outputs": []
    },
    {
      "cell_type": "markdown",
      "metadata": {
        "id": "hFx7H-4ug2ex"
      },
      "source": [
        "### Загрузка данных <a class='anchor' id='load'>"
      ]
    },
    {
      "cell_type": "code",
      "metadata": {
        "id": "zviXt3A2g2ey",
        "outputId": "6bd794fa-c8a1-4a46-d9e9-e132f8d09177"
      },
      "source": [
        "train_df = pd.read_csv('train.csv')\n",
        "test_df = pd.read_csv('test.csv')\n",
        "\n",
        "train_df.head()"
      ],
      "execution_count": null,
      "outputs": [
        {
          "output_type": "execute_result",
          "data": {
            "text/html": [
              "<div>\n",
              "<style scoped>\n",
              "    .dataframe tbody tr th:only-of-type {\n",
              "        vertical-align: middle;\n",
              "    }\n",
              "\n",
              "    .dataframe tbody tr th {\n",
              "        vertical-align: top;\n",
              "    }\n",
              "\n",
              "    .dataframe thead th {\n",
              "        text-align: right;\n",
              "    }\n",
              "</style>\n",
              "<table border=\"1\" class=\"dataframe\">\n",
              "  <thead>\n",
              "    <tr style=\"text-align: right;\">\n",
              "      <th></th>\n",
              "      <th>Id</th>\n",
              "      <th>DistrictId</th>\n",
              "      <th>Rooms</th>\n",
              "      <th>Square</th>\n",
              "      <th>LifeSquare</th>\n",
              "      <th>KitchenSquare</th>\n",
              "      <th>Floor</th>\n",
              "      <th>HouseFloor</th>\n",
              "      <th>HouseYear</th>\n",
              "      <th>Ecology_1</th>\n",
              "      <th>Ecology_2</th>\n",
              "      <th>Ecology_3</th>\n",
              "      <th>Social_1</th>\n",
              "      <th>Social_2</th>\n",
              "      <th>Social_3</th>\n",
              "      <th>Healthcare_1</th>\n",
              "      <th>Helthcare_2</th>\n",
              "      <th>Shops_1</th>\n",
              "      <th>Shops_2</th>\n",
              "      <th>Price</th>\n",
              "    </tr>\n",
              "  </thead>\n",
              "  <tbody>\n",
              "    <tr>\n",
              "      <th>0</th>\n",
              "      <td>11809</td>\n",
              "      <td>27</td>\n",
              "      <td>3.0</td>\n",
              "      <td>115.027311</td>\n",
              "      <td>NaN</td>\n",
              "      <td>10.0</td>\n",
              "      <td>4</td>\n",
              "      <td>10.0</td>\n",
              "      <td>2014</td>\n",
              "      <td>0.075424</td>\n",
              "      <td>B</td>\n",
              "      <td>B</td>\n",
              "      <td>11</td>\n",
              "      <td>3097</td>\n",
              "      <td>0</td>\n",
              "      <td>NaN</td>\n",
              "      <td>0</td>\n",
              "      <td>0</td>\n",
              "      <td>B</td>\n",
              "      <td>305018.871089</td>\n",
              "    </tr>\n",
              "    <tr>\n",
              "      <th>1</th>\n",
              "      <td>3013</td>\n",
              "      <td>22</td>\n",
              "      <td>1.0</td>\n",
              "      <td>39.832524</td>\n",
              "      <td>23.169223</td>\n",
              "      <td>8.0</td>\n",
              "      <td>7</td>\n",
              "      <td>8.0</td>\n",
              "      <td>1966</td>\n",
              "      <td>0.118537</td>\n",
              "      <td>B</td>\n",
              "      <td>B</td>\n",
              "      <td>30</td>\n",
              "      <td>6207</td>\n",
              "      <td>1</td>\n",
              "      <td>1183.0</td>\n",
              "      <td>1</td>\n",
              "      <td>0</td>\n",
              "      <td>B</td>\n",
              "      <td>177734.553407</td>\n",
              "    </tr>\n",
              "    <tr>\n",
              "      <th>2</th>\n",
              "      <td>8215</td>\n",
              "      <td>1</td>\n",
              "      <td>3.0</td>\n",
              "      <td>78.342215</td>\n",
              "      <td>47.671972</td>\n",
              "      <td>10.0</td>\n",
              "      <td>2</td>\n",
              "      <td>17.0</td>\n",
              "      <td>1988</td>\n",
              "      <td>0.025609</td>\n",
              "      <td>B</td>\n",
              "      <td>B</td>\n",
              "      <td>33</td>\n",
              "      <td>5261</td>\n",
              "      <td>0</td>\n",
              "      <td>240.0</td>\n",
              "      <td>3</td>\n",
              "      <td>1</td>\n",
              "      <td>B</td>\n",
              "      <td>282078.720850</td>\n",
              "    </tr>\n",
              "    <tr>\n",
              "      <th>3</th>\n",
              "      <td>2352</td>\n",
              "      <td>1</td>\n",
              "      <td>1.0</td>\n",
              "      <td>40.409907</td>\n",
              "      <td>NaN</td>\n",
              "      <td>1.0</td>\n",
              "      <td>10</td>\n",
              "      <td>22.0</td>\n",
              "      <td>1977</td>\n",
              "      <td>0.007122</td>\n",
              "      <td>B</td>\n",
              "      <td>B</td>\n",
              "      <td>1</td>\n",
              "      <td>264</td>\n",
              "      <td>0</td>\n",
              "      <td>NaN</td>\n",
              "      <td>0</td>\n",
              "      <td>1</td>\n",
              "      <td>B</td>\n",
              "      <td>168106.007630</td>\n",
              "    </tr>\n",
              "    <tr>\n",
              "      <th>4</th>\n",
              "      <td>13866</td>\n",
              "      <td>94</td>\n",
              "      <td>2.0</td>\n",
              "      <td>64.285067</td>\n",
              "      <td>38.562517</td>\n",
              "      <td>9.0</td>\n",
              "      <td>16</td>\n",
              "      <td>16.0</td>\n",
              "      <td>1972</td>\n",
              "      <td>0.282798</td>\n",
              "      <td>B</td>\n",
              "      <td>B</td>\n",
              "      <td>33</td>\n",
              "      <td>8667</td>\n",
              "      <td>2</td>\n",
              "      <td>NaN</td>\n",
              "      <td>0</td>\n",
              "      <td>6</td>\n",
              "      <td>B</td>\n",
              "      <td>343995.102962</td>\n",
              "    </tr>\n",
              "  </tbody>\n",
              "</table>\n",
              "</div>"
            ],
            "text/plain": [
              "      Id  DistrictId  Rooms      Square  LifeSquare  KitchenSquare  Floor  \\\n",
              "0  11809          27    3.0  115.027311         NaN           10.0      4   \n",
              "1   3013          22    1.0   39.832524   23.169223            8.0      7   \n",
              "2   8215           1    3.0   78.342215   47.671972           10.0      2   \n",
              "3   2352           1    1.0   40.409907         NaN            1.0     10   \n",
              "4  13866          94    2.0   64.285067   38.562517            9.0     16   \n",
              "\n",
              "   HouseFloor  HouseYear  Ecology_1 Ecology_2 Ecology_3  Social_1  Social_2  \\\n",
              "0        10.0       2014   0.075424         B         B        11      3097   \n",
              "1         8.0       1966   0.118537         B         B        30      6207   \n",
              "2        17.0       1988   0.025609         B         B        33      5261   \n",
              "3        22.0       1977   0.007122         B         B         1       264   \n",
              "4        16.0       1972   0.282798         B         B        33      8667   \n",
              "\n",
              "   Social_3  Healthcare_1  Helthcare_2  Shops_1 Shops_2          Price  \n",
              "0         0           NaN            0        0       B  305018.871089  \n",
              "1         1        1183.0            1        0       B  177734.553407  \n",
              "2         0         240.0            3        1       B  282078.720850  \n",
              "3         0           NaN            0        1       B  168106.007630  \n",
              "4         2           NaN            0        6       B  343995.102962  "
            ]
          },
          "metadata": {
            "tags": []
          },
          "execution_count": 5
        }
      ]
    },
    {
      "cell_type": "markdown",
      "metadata": {
        "id": "iaZprHg4g2e1"
      },
      "source": [
        "**Описание датасета**\n",
        "\n",
        "* **Id** - идентификационный номер квартиры\n",
        "* **DistrictId** - идентификационный номер района\n",
        "* **Rooms** - количество комнат\n",
        "* **Square** - площадь\n",
        "* **LifeSquare** - жилая площадь\n",
        "* **KitchenSquare** - площадь кухни\n",
        "* **Floor** - этаж\n",
        "* **HouseFloor** - количество этажей в доме\n",
        "* **HouseYear** - год постройки дома\n",
        "* **Ecology_1, Ecology_2, Ecology_3** - экологические показатели местности\n",
        "* **Social_1, Social_2, Social_3** - социальные показатели местности\n",
        "* **Healthcare_1, Helthcare_2** - показатели местности, связанные с охраной здоровья\n",
        "* **Shops_1, Shops_2** - показатели, связанные с наличием магазинов, торговых центров\n",
        "* **Price** - цена квартиры"
      ]
    },
    {
      "cell_type": "code",
      "metadata": {
        "execution": {
          "iopub.execute_input": "2021-05-25T15:46:36.061803Z",
          "iopub.status.busy": "2021-05-25T15:46:36.0614Z",
          "iopub.status.idle": "2021-05-25T15:46:36.075333Z",
          "shell.execute_reply": "2021-05-25T15:46:36.074447Z",
          "shell.execute_reply.started": "2021-05-25T15:46:36.061762Z"
        },
        "id": "5eMUltE4g2e2",
        "outputId": "1a8be34a-6851-4c9c-8af1-cc3c56b8ab99"
      },
      "source": [
        "train_df.shape[1] - 1 == test_df.shape[1]"
      ],
      "execution_count": null,
      "outputs": [
        {
          "output_type": "execute_result",
          "data": {
            "text/plain": [
              "True"
            ]
          },
          "metadata": {
            "tags": []
          },
          "execution_count": 6
        }
      ]
    },
    {
      "cell_type": "markdown",
      "metadata": {
        "id": "-ERzONFFg2e3"
      },
      "source": [
        "### Приведение типов"
      ]
    },
    {
      "cell_type": "code",
      "metadata": {
        "execution": {
          "iopub.execute_input": "2021-05-25T15:46:36.077447Z",
          "iopub.status.busy": "2021-05-25T15:46:36.076777Z",
          "iopub.status.idle": "2021-05-25T15:46:36.095279Z",
          "shell.execute_reply": "2021-05-25T15:46:36.094326Z",
          "shell.execute_reply.started": "2021-05-25T15:46:36.077403Z"
        },
        "id": "pN82oW5cg2e4",
        "outputId": "3a3aa682-31ba-4092-a902-2f08a85db7d7"
      },
      "source": [
        "train_df.dtypes"
      ],
      "execution_count": null,
      "outputs": [
        {
          "output_type": "execute_result",
          "data": {
            "text/plain": [
              "Id                 int64\n",
              "DistrictId         int64\n",
              "Rooms            float64\n",
              "Square           float64\n",
              "LifeSquare       float64\n",
              "KitchenSquare    float64\n",
              "Floor              int64\n",
              "HouseFloor       float64\n",
              "HouseYear          int64\n",
              "Ecology_1        float64\n",
              "Ecology_2         object\n",
              "Ecology_3         object\n",
              "Social_1           int64\n",
              "Social_2           int64\n",
              "Social_3           int64\n",
              "Healthcare_1     float64\n",
              "Helthcare_2        int64\n",
              "Shops_1            int64\n",
              "Shops_2           object\n",
              "Price            float64\n",
              "dtype: object"
            ]
          },
          "metadata": {
            "tags": []
          },
          "execution_count": 7
        }
      ]
    },
    {
      "cell_type": "code",
      "metadata": {
        "execution": {
          "iopub.execute_input": "2021-05-25T15:46:36.096994Z",
          "iopub.status.busy": "2021-05-25T15:46:36.096602Z",
          "iopub.status.idle": "2021-05-25T15:46:36.116629Z",
          "shell.execute_reply": "2021-05-25T15:46:36.11562Z",
          "shell.execute_reply.started": "2021-05-25T15:46:36.096962Z"
        },
        "id": "VCoYkU6Og2e5"
      },
      "source": [
        "train_df['Id'] = train_df['Id'].astype(str)\n",
        "train_df['DistrictId'] = train_df['DistrictId'].astype(str)"
      ],
      "execution_count": null,
      "outputs": []
    },
    {
      "cell_type": "markdown",
      "metadata": {
        "id": "eqbO8FNcg2e5"
      },
      "source": [
        "**Целевая переменная**"
      ]
    },
    {
      "cell_type": "code",
      "metadata": {
        "execution": {
          "iopub.execute_input": "2021-05-25T15:46:36.118271Z",
          "iopub.status.busy": "2021-05-25T15:46:36.117979Z",
          "iopub.status.idle": "2021-05-25T15:46:36.410799Z",
          "shell.execute_reply": "2021-05-25T15:46:36.40961Z",
          "shell.execute_reply.started": "2021-05-25T15:46:36.118244Z"
        },
        "id": "cozrhf1eg2e6",
        "outputId": "18e855b7-2bae-40df-88b0-aec7a07cd437"
      },
      "source": [
        "target = train_df[['Price']]\n",
        "\n",
        "target_mean = round(target.mean(), 2)\n",
        "target_median = round(target.median(), 2)\n",
        "\n",
        "plt.figure(figsize = (12, 5))\n",
        "\n",
        "sns.kdeplot(train_df['Price'], shade=True, legend=False)\n",
        "\n",
        "plt.xlabel('price')\n",
        "\n",
        "y = np.linspace(0, 0.0000065, 100)\n",
        "plt.plot([target_mean] * 100, y, label='mean', linestyle=':', linewidth=4)\n",
        "plt.plot([target_median] * 100, y, label='median', linestyle='--', linewidth=4)\n",
        "\n",
        "plt.title('Распределение целевой переменной')\n",
        "plt.legend(frameon=False)\n",
        "plt.show()"
      ],
      "execution_count": null,
      "outputs": [
        {
          "output_type": "display_data",
          "data": {
            "image/png": "[encoded data removed]",
            "text/plain": [
              "<Figure size 864x360 with 1 Axes>"
            ]
          },
          "metadata": {
            "tags": [],
            "needs_background": "light"
          }
        }
      ]
    },
    {
      "cell_type": "markdown",
      "metadata": {
        "id": "fofvEbvCg2e7"
      },
      "source": [
        "**Количественные переменные**"
      ]
    },
    {
      "cell_type": "code",
      "metadata": {
        "execution": {
          "iopub.execute_input": "2021-05-25T15:46:36.412349Z",
          "iopub.status.busy": "2021-05-25T15:46:36.412054Z",
          "iopub.status.idle": "2021-05-25T15:46:36.551146Z",
          "shell.execute_reply": "2021-05-25T15:46:36.550125Z",
          "shell.execute_reply.started": "2021-05-25T15:46:36.412318Z"
        },
        "id": "Wdc5iYMBg2e7",
        "outputId": "9af958a3-f48f-4ec3-d209-ebda5b3b4a00"
      },
      "source": [
        "train_df.describe()"
      ],
      "execution_count": null,
      "outputs": [
        {
          "output_type": "execute_result",
          "data": {
            "text/html": [
              "<div>\n",
              "<style scoped>\n",
              "    .dataframe tbody tr th:only-of-type {\n",
              "        vertical-align: middle;\n",
              "    }\n",
              "\n",
              "    .dataframe tbody tr th {\n",
              "        vertical-align: top;\n",
              "    }\n",
              "\n",
              "    .dataframe thead th {\n",
              "        text-align: right;\n",
              "    }\n",
              "</style>\n",
              "<table border=\"1\" class=\"dataframe\">\n",
              "  <thead>\n",
              "    <tr style=\"text-align: right;\">\n",
              "      <th></th>\n",
              "      <th>Rooms</th>\n",
              "      <th>Square</th>\n",
              "      <th>LifeSquare</th>\n",
              "      <th>KitchenSquare</th>\n",
              "      <th>Floor</th>\n",
              "      <th>HouseFloor</th>\n",
              "      <th>HouseYear</th>\n",
              "      <th>Ecology_1</th>\n",
              "      <th>Social_1</th>\n",
              "      <th>Social_2</th>\n",
              "      <th>Social_3</th>\n",
              "      <th>Healthcare_1</th>\n",
              "      <th>Helthcare_2</th>\n",
              "      <th>Shops_1</th>\n",
              "      <th>Price</th>\n",
              "    </tr>\n",
              "  </thead>\n",
              "  <tbody>\n",
              "    <tr>\n",
              "      <th>count</th>\n",
              "      <td>10000.000000</td>\n",
              "      <td>10000.000000</td>\n",
              "      <td>7887.000000</td>\n",
              "      <td>10000.000000</td>\n",
              "      <td>10000.000000</td>\n",
              "      <td>10000.000000</td>\n",
              "      <td>1.000000e+04</td>\n",
              "      <td>10000.000000</td>\n",
              "      <td>10000.000000</td>\n",
              "      <td>10000.000000</td>\n",
              "      <td>10000.000000</td>\n",
              "      <td>5202.000000</td>\n",
              "      <td>10000.000000</td>\n",
              "      <td>10000.000000</td>\n",
              "      <td>10000.000000</td>\n",
              "    </tr>\n",
              "    <tr>\n",
              "      <th>mean</th>\n",
              "      <td>1.890500</td>\n",
              "      <td>56.315775</td>\n",
              "      <td>37.199645</td>\n",
              "      <td>6.273300</td>\n",
              "      <td>8.526700</td>\n",
              "      <td>12.609400</td>\n",
              "      <td>3.990166e+03</td>\n",
              "      <td>0.118858</td>\n",
              "      <td>24.687000</td>\n",
              "      <td>5352.157400</td>\n",
              "      <td>8.039200</td>\n",
              "      <td>1142.904460</td>\n",
              "      <td>1.319500</td>\n",
              "      <td>4.231300</td>\n",
              "      <td>214138.857399</td>\n",
              "    </tr>\n",
              "    <tr>\n",
              "      <th>std</th>\n",
              "      <td>0.839512</td>\n",
              "      <td>21.058732</td>\n",
              "      <td>86.241209</td>\n",
              "      <td>28.560917</td>\n",
              "      <td>5.241148</td>\n",
              "      <td>6.775974</td>\n",
              "      <td>2.005003e+05</td>\n",
              "      <td>0.119025</td>\n",
              "      <td>17.532614</td>\n",
              "      <td>4006.799803</td>\n",
              "      <td>23.831875</td>\n",
              "      <td>1021.517264</td>\n",
              "      <td>1.493601</td>\n",
              "      <td>4.806341</td>\n",
              "      <td>92872.293865</td>\n",
              "    </tr>\n",
              "    <tr>\n",
              "      <th>min</th>\n",
              "      <td>0.000000</td>\n",
              "      <td>1.136859</td>\n",
              "      <td>0.370619</td>\n",
              "      <td>0.000000</td>\n",
              "      <td>1.000000</td>\n",
              "      <td>0.000000</td>\n",
              "      <td>1.910000e+03</td>\n",
              "      <td>0.000000</td>\n",
              "      <td>0.000000</td>\n",
              "      <td>168.000000</td>\n",
              "      <td>0.000000</td>\n",
              "      <td>0.000000</td>\n",
              "      <td>0.000000</td>\n",
              "      <td>0.000000</td>\n",
              "      <td>59174.778028</td>\n",
              "    </tr>\n",
              "    <tr>\n",
              "      <th>25%</th>\n",
              "      <td>1.000000</td>\n",
              "      <td>41.774881</td>\n",
              "      <td>22.769832</td>\n",
              "      <td>1.000000</td>\n",
              "      <td>4.000000</td>\n",
              "      <td>9.000000</td>\n",
              "      <td>1.974000e+03</td>\n",
              "      <td>0.017647</td>\n",
              "      <td>6.000000</td>\n",
              "      <td>1564.000000</td>\n",
              "      <td>0.000000</td>\n",
              "      <td>350.000000</td>\n",
              "      <td>0.000000</td>\n",
              "      <td>1.000000</td>\n",
              "      <td>153872.633942</td>\n",
              "    </tr>\n",
              "    <tr>\n",
              "      <th>50%</th>\n",
              "      <td>2.000000</td>\n",
              "      <td>52.513310</td>\n",
              "      <td>32.781260</td>\n",
              "      <td>6.000000</td>\n",
              "      <td>7.000000</td>\n",
              "      <td>13.000000</td>\n",
              "      <td>1.977000e+03</td>\n",
              "      <td>0.075424</td>\n",
              "      <td>25.000000</td>\n",
              "      <td>5285.000000</td>\n",
              "      <td>2.000000</td>\n",
              "      <td>900.000000</td>\n",
              "      <td>1.000000</td>\n",
              "      <td>3.000000</td>\n",
              "      <td>192269.644879</td>\n",
              "    </tr>\n",
              "    <tr>\n",
              "      <th>75%</th>\n",
              "      <td>2.000000</td>\n",
              "      <td>65.900625</td>\n",
              "      <td>45.128803</td>\n",
              "      <td>9.000000</td>\n",
              "      <td>12.000000</td>\n",
              "      <td>17.000000</td>\n",
              "      <td>2.001000e+03</td>\n",
              "      <td>0.195781</td>\n",
              "      <td>36.000000</td>\n",
              "      <td>7227.000000</td>\n",
              "      <td>5.000000</td>\n",
              "      <td>1548.000000</td>\n",
              "      <td>2.000000</td>\n",
              "      <td>6.000000</td>\n",
              "      <td>249135.462171</td>\n",
              "    </tr>\n",
              "    <tr>\n",
              "      <th>max</th>\n",
              "      <td>19.000000</td>\n",
              "      <td>641.065193</td>\n",
              "      <td>7480.592129</td>\n",
              "      <td>2014.000000</td>\n",
              "      <td>42.000000</td>\n",
              "      <td>117.000000</td>\n",
              "      <td>2.005201e+07</td>\n",
              "      <td>0.521867</td>\n",
              "      <td>74.000000</td>\n",
              "      <td>19083.000000</td>\n",
              "      <td>141.000000</td>\n",
              "      <td>4849.000000</td>\n",
              "      <td>6.000000</td>\n",
              "      <td>23.000000</td>\n",
              "      <td>633233.466570</td>\n",
              "    </tr>\n",
              "  </tbody>\n",
              "</table>\n",
              "</div>"
            ],
            "text/plain": [
              "              Rooms        Square   LifeSquare  KitchenSquare         Floor  \\\n",
              "count  10000.000000  10000.000000  7887.000000   10000.000000  10000.000000   \n",
              "mean       1.890500     56.315775    37.199645       6.273300      8.526700   \n",
              "std        0.839512     21.058732    86.241209      28.560917      5.241148   \n",
              "min        0.000000      1.136859     0.370619       0.000000      1.000000   \n",
              "25%        1.000000     41.774881    22.769832       1.000000      4.000000   \n",
              "50%        2.000000     52.513310    32.781260       6.000000      7.000000   \n",
              "75%        2.000000     65.900625    45.128803       9.000000     12.000000   \n",
              "max       19.000000    641.065193  7480.592129    2014.000000     42.000000   \n",
              "\n",
              "         HouseFloor     HouseYear     Ecology_1      Social_1      Social_2  \\\n",
              "count  10000.000000  1.000000e+04  10000.000000  10000.000000  10000.000000   \n",
              "mean      12.609400  3.990166e+03      0.118858     24.687000   5352.157400   \n",
              "std        6.775974  2.005003e+05      0.119025     17.532614   4006.799803   \n",
              "min        0.000000  1.910000e+03      0.000000      0.000000    168.000000   \n",
              "25%        9.000000  1.974000e+03      0.017647      6.000000   1564.000000   \n",
              "50%       13.000000  1.977000e+03      0.075424     25.000000   5285.000000   \n",
              "75%       17.000000  2.001000e+03      0.195781     36.000000   7227.000000   \n",
              "max      117.000000  2.005201e+07      0.521867     74.000000  19083.000000   \n",
              "\n",
              "           Social_3  Healthcare_1   Helthcare_2       Shops_1          Price  \n",
              "count  10000.000000   5202.000000  10000.000000  10000.000000   10000.000000  \n",
              "mean       8.039200   1142.904460      1.319500      4.231300  214138.857399  \n",
              "std       23.831875   1021.517264      1.493601      4.806341   92872.293865  \n",
              "min        0.000000      0.000000      0.000000      0.000000   59174.778028  \n",
              "25%        0.000000    350.000000      0.000000      1.000000  153872.633942  \n",
              "50%        2.000000    900.000000      1.000000      3.000000  192269.644879  \n",
              "75%        5.000000   1548.000000      2.000000      6.000000  249135.462171  \n",
              "max      141.000000   4849.000000      6.000000     23.000000  633233.466570  "
            ]
          },
          "metadata": {
            "tags": []
          },
          "execution_count": 10
        }
      ]
    },
    {
      "cell_type": "markdown",
      "metadata": {
        "id": "WQ6DB3X2g2e8"
      },
      "source": [
        "**Номинативные переменные**"
      ]
    },
    {
      "cell_type": "code",
      "metadata": {
        "execution": {
          "iopub.execute_input": "2021-05-25T15:46:36.552574Z",
          "iopub.status.busy": "2021-05-25T15:46:36.552323Z",
          "iopub.status.idle": "2021-05-25T15:46:36.561211Z",
          "shell.execute_reply": "2021-05-25T15:46:36.560343Z",
          "shell.execute_reply.started": "2021-05-25T15:46:36.552549Z"
        },
        "id": "9mlq8dm-g2e9",
        "outputId": "fce48d32-f01d-4240-9fab-396b888a21ef"
      },
      "source": [
        "train_df.select_dtypes(include='object').columns.tolist()"
      ],
      "execution_count": null,
      "outputs": [
        {
          "output_type": "execute_result",
          "data": {
            "text/plain": [
              "['Id', 'DistrictId', 'Ecology_2', 'Ecology_3', 'Shops_2']"
            ]
          },
          "metadata": {
            "tags": []
          },
          "execution_count": 11
        }
      ]
    },
    {
      "cell_type": "code",
      "metadata": {
        "execution": {
          "iopub.execute_input": "2021-05-25T15:46:36.562826Z",
          "iopub.status.busy": "2021-05-25T15:46:36.562548Z",
          "iopub.status.idle": "2021-05-25T15:46:36.57585Z",
          "shell.execute_reply": "2021-05-25T15:46:36.574597Z",
          "shell.execute_reply.started": "2021-05-25T15:46:36.562799Z"
        },
        "id": "0l-l7YGdg2e-",
        "outputId": "336a9702-be38-49d3-cfd0-9d588ea28e55"
      },
      "source": [
        "train_df['DistrictId'].value_counts()"
      ],
      "execution_count": null,
      "outputs": [
        {
          "output_type": "execute_result",
          "data": {
            "text/plain": [
              "27     851\n",
              "1      652\n",
              "23     565\n",
              "6      511\n",
              "9      294\n",
              "      ... \n",
              "196      1\n",
              "209      1\n",
              "199      1\n",
              "117      1\n",
              "207      1\n",
              "Name: DistrictId, Length: 205, dtype: int64"
            ]
          },
          "metadata": {
            "tags": []
          },
          "execution_count": 12
        }
      ]
    },
    {
      "cell_type": "code",
      "metadata": {
        "execution": {
          "iopub.execute_input": "2021-05-25T15:46:36.577699Z",
          "iopub.status.busy": "2021-05-25T15:46:36.577316Z",
          "iopub.status.idle": "2021-05-25T15:46:36.592005Z",
          "shell.execute_reply": "2021-05-25T15:46:36.590787Z",
          "shell.execute_reply.started": "2021-05-25T15:46:36.577644Z"
        },
        "id": "ioPRJ-tZg2e-",
        "outputId": "53d1c6ff-64c3-41d2-ac65-c3753a1ef94f"
      },
      "source": [
        "train_df['Ecology_2'].value_counts()"
      ],
      "execution_count": null,
      "outputs": [
        {
          "output_type": "execute_result",
          "data": {
            "text/plain": [
              "B    9903\n",
              "A      97\n",
              "Name: Ecology_2, dtype: int64"
            ]
          },
          "metadata": {
            "tags": []
          },
          "execution_count": 13
        }
      ]
    },
    {
      "cell_type": "code",
      "metadata": {
        "execution": {
          "iopub.execute_input": "2021-05-25T15:46:36.59341Z",
          "iopub.status.busy": "2021-05-25T15:46:36.59316Z",
          "iopub.status.idle": "2021-05-25T15:46:36.608404Z",
          "shell.execute_reply": "2021-05-25T15:46:36.607415Z",
          "shell.execute_reply.started": "2021-05-25T15:46:36.593385Z"
        },
        "id": "FEuLPm8Zg2e_",
        "outputId": "17e14170-de34-46ff-aaa5-6e0360c9d5b2"
      },
      "source": [
        "train_df['Ecology_3'].value_counts()"
      ],
      "execution_count": null,
      "outputs": [
        {
          "output_type": "execute_result",
          "data": {
            "text/plain": [
              "B    9725\n",
              "A     275\n",
              "Name: Ecology_3, dtype: int64"
            ]
          },
          "metadata": {
            "tags": []
          },
          "execution_count": 14
        }
      ]
    },
    {
      "cell_type": "code",
      "metadata": {
        "execution": {
          "iopub.execute_input": "2021-05-25T15:46:36.610374Z",
          "iopub.status.busy": "2021-05-25T15:46:36.609952Z",
          "iopub.status.idle": "2021-05-25T15:46:36.623258Z",
          "shell.execute_reply": "2021-05-25T15:46:36.622092Z",
          "shell.execute_reply.started": "2021-05-25T15:46:36.610335Z"
        },
        "id": "MCOnLhVZg2fA",
        "outputId": "cac4941f-17fb-4ce4-df3f-74e4aeec492c"
      },
      "source": [
        "train_df['Shops_2'].value_counts()"
      ],
      "execution_count": null,
      "outputs": [
        {
          "output_type": "execute_result",
          "data": {
            "text/plain": [
              "B    9175\n",
              "A     825\n",
              "Name: Shops_2, dtype: int64"
            ]
          },
          "metadata": {
            "tags": []
          },
          "execution_count": 15
        }
      ]
    },
    {
      "cell_type": "markdown",
      "metadata": {
        "id": "GV7PD08qg2fB"
      },
      "source": [
        "### Обработка выбросов  <a class='anchor' id='outlier'>"
      ]
    },
    {
      "cell_type": "markdown",
      "metadata": {
        "id": "WazrD1Yyg2fC"
      },
      "source": [
        "**Rooms**"
      ]
    },
    {
      "cell_type": "code",
      "metadata": {
        "execution": {
          "iopub.execute_input": "2021-05-25T15:46:36.624782Z",
          "iopub.status.busy": "2021-05-25T15:46:36.624477Z",
          "iopub.status.idle": "2021-05-25T15:46:36.638969Z",
          "shell.execute_reply": "2021-05-25T15:46:36.638128Z",
          "shell.execute_reply.started": "2021-05-25T15:46:36.624746Z"
        },
        "scrolled": true,
        "id": "Ltq6bmdpg2fC",
        "outputId": "b64968ec-5017-4508-d396-ec26545c1505"
      },
      "source": [
        "train_df['Rooms'].value_counts()"
      ],
      "execution_count": null,
      "outputs": [
        {
          "output_type": "execute_result",
          "data": {
            "text/plain": [
              "2.0     3880\n",
              "1.0     3705\n",
              "3.0     2235\n",
              "4.0      150\n",
              "5.0       18\n",
              "0.0        8\n",
              "10.0       2\n",
              "6.0        1\n",
              "19.0       1\n",
              "Name: Rooms, dtype: int64"
            ]
          },
          "metadata": {
            "tags": []
          },
          "execution_count": 16
        }
      ]
    },
    {
      "cell_type": "code",
      "metadata": {
        "execution": {
          "iopub.execute_input": "2021-05-25T15:46:36.643762Z",
          "iopub.status.busy": "2021-05-25T15:46:36.643265Z",
          "iopub.status.idle": "2021-05-25T15:46:36.696288Z",
          "shell.execute_reply": "2021-05-25T15:46:36.695273Z",
          "shell.execute_reply.started": "2021-05-25T15:46:36.643718Z"
        },
        "id": "XRdpSXDQg2fD",
        "outputId": "82c6de4c-b330-4a3a-ae6c-5811321728fc"
      },
      "source": [
        "train_df['Rooms_outlier'] = 0\n",
        "train_df.loc[(train_df['Rooms'] == 0) | (train_df['Rooms'] >= 6), 'Rooms_outlier'] = 1\n",
        "train_df.head()"
      ],
      "execution_count": null,
      "outputs": [
        {
          "output_type": "execute_result",
          "data": {
            "text/html": [
              "<div>\n",
              "<style scoped>\n",
              "    .dataframe tbody tr th:only-of-type {\n",
              "        vertical-align: middle;\n",
              "    }\n",
              "\n",
              "    .dataframe tbody tr th {\n",
              "        vertical-align: top;\n",
              "    }\n",
              "\n",
              "    .dataframe thead th {\n",
              "        text-align: right;\n",
              "    }\n",
              "</style>\n",
              "<table border=\"1\" class=\"dataframe\">\n",
              "  <thead>\n",
              "    <tr style=\"text-align: right;\">\n",
              "      <th></th>\n",
              "      <th>Id</th>\n",
              "      <th>DistrictId</th>\n",
              "      <th>Rooms</th>\n",
              "      <th>Square</th>\n",
              "      <th>LifeSquare</th>\n",
              "      <th>KitchenSquare</th>\n",
              "      <th>Floor</th>\n",
              "      <th>HouseFloor</th>\n",
              "      <th>HouseYear</th>\n",
              "      <th>Ecology_1</th>\n",
              "      <th>...</th>\n",
              "      <th>Ecology_3</th>\n",
              "      <th>Social_1</th>\n",
              "      <th>Social_2</th>\n",
              "      <th>Social_3</th>\n",
              "      <th>Healthcare_1</th>\n",
              "      <th>Helthcare_2</th>\n",
              "      <th>Shops_1</th>\n",
              "      <th>Shops_2</th>\n",
              "      <th>Price</th>\n",
              "      <th>Rooms_outlier</th>\n",
              "    </tr>\n",
              "  </thead>\n",
              "  <tbody>\n",
              "    <tr>\n",
              "      <th>0</th>\n",
              "      <td>11809</td>\n",
              "      <td>27</td>\n",
              "      <td>3.0</td>\n",
              "      <td>115.027311</td>\n",
              "      <td>NaN</td>\n",
              "      <td>10.0</td>\n",
              "      <td>4</td>\n",
              "      <td>10.0</td>\n",
              "      <td>2014</td>\n",
              "      <td>0.075424</td>\n",
              "      <td>...</td>\n",
              "      <td>B</td>\n",
              "      <td>11</td>\n",
              "      <td>3097</td>\n",
              "      <td>0</td>\n",
              "      <td>NaN</td>\n",
              "      <td>0</td>\n",
              "      <td>0</td>\n",
              "      <td>B</td>\n",
              "      <td>305018.871089</td>\n",
              "      <td>0</td>\n",
              "    </tr>\n",
              "    <tr>\n",
              "      <th>1</th>\n",
              "      <td>3013</td>\n",
              "      <td>22</td>\n",
              "      <td>1.0</td>\n",
              "      <td>39.832524</td>\n",
              "      <td>23.169223</td>\n",
              "      <td>8.0</td>\n",
              "      <td>7</td>\n",
              "      <td>8.0</td>\n",
              "      <td>1966</td>\n",
              "      <td>0.118537</td>\n",
              "      <td>...</td>\n",
              "      <td>B</td>\n",
              "      <td>30</td>\n",
              "      <td>6207</td>\n",
              "      <td>1</td>\n",
              "      <td>1183.0</td>\n",
              "      <td>1</td>\n",
              "      <td>0</td>\n",
              "      <td>B</td>\n",
              "      <td>177734.553407</td>\n",
              "      <td>0</td>\n",
              "    </tr>\n",
              "    <tr>\n",
              "      <th>2</th>\n",
              "      <td>8215</td>\n",
              "      <td>1</td>\n",
              "      <td>3.0</td>\n",
              "      <td>78.342215</td>\n",
              "      <td>47.671972</td>\n",
              "      <td>10.0</td>\n",
              "      <td>2</td>\n",
              "      <td>17.0</td>\n",
              "      <td>1988</td>\n",
              "      <td>0.025609</td>\n",
              "      <td>...</td>\n",
              "      <td>B</td>\n",
              "      <td>33</td>\n",
              "      <td>5261</td>\n",
              "      <td>0</td>\n",
              "      <td>240.0</td>\n",
              "      <td>3</td>\n",
              "      <td>1</td>\n",
              "      <td>B</td>\n",
              "      <td>282078.720850</td>\n",
              "      <td>0</td>\n",
              "    </tr>\n",
              "    <tr>\n",
              "      <th>3</th>\n",
              "      <td>2352</td>\n",
              "      <td>1</td>\n",
              "      <td>1.0</td>\n",
              "      <td>40.409907</td>\n",
              "      <td>NaN</td>\n",
              "      <td>1.0</td>\n",
              "      <td>10</td>\n",
              "      <td>22.0</td>\n",
              "      <td>1977</td>\n",
              "      <td>0.007122</td>\n",
              "      <td>...</td>\n",
              "      <td>B</td>\n",
              "      <td>1</td>\n",
              "      <td>264</td>\n",
              "      <td>0</td>\n",
              "      <td>NaN</td>\n",
              "      <td>0</td>\n",
              "      <td>1</td>\n",
              "      <td>B</td>\n",
              "      <td>168106.007630</td>\n",
              "      <td>0</td>\n",
              "    </tr>\n",
              "    <tr>\n",
              "      <th>4</th>\n",
              "      <td>13866</td>\n",
              "      <td>94</td>\n",
              "      <td>2.0</td>\n",
              "      <td>64.285067</td>\n",
              "      <td>38.562517</td>\n",
              "      <td>9.0</td>\n",
              "      <td>16</td>\n",
              "      <td>16.0</td>\n",
              "      <td>1972</td>\n",
              "      <td>0.282798</td>\n",
              "      <td>...</td>\n",
              "      <td>B</td>\n",
              "      <td>33</td>\n",
              "      <td>8667</td>\n",
              "      <td>2</td>\n",
              "      <td>NaN</td>\n",
              "      <td>0</td>\n",
              "      <td>6</td>\n",
              "      <td>B</td>\n",
              "      <td>343995.102962</td>\n",
              "      <td>0</td>\n",
              "    </tr>\n",
              "  </tbody>\n",
              "</table>\n",
              "<p>5 rows × 21 columns</p>\n",
              "</div>"
            ],
            "text/plain": [
              "      Id DistrictId  Rooms      Square  LifeSquare  KitchenSquare  Floor  \\\n",
              "0  11809         27    3.0  115.027311         NaN           10.0      4   \n",
              "1   3013         22    1.0   39.832524   23.169223            8.0      7   \n",
              "2   8215          1    3.0   78.342215   47.671972           10.0      2   \n",
              "3   2352          1    1.0   40.409907         NaN            1.0     10   \n",
              "4  13866         94    2.0   64.285067   38.562517            9.0     16   \n",
              "\n",
              "   HouseFloor  HouseYear  Ecology_1  ... Ecology_3 Social_1  Social_2  \\\n",
              "0        10.0       2014   0.075424  ...         B       11      3097   \n",
              "1         8.0       1966   0.118537  ...         B       30      6207   \n",
              "2        17.0       1988   0.025609  ...         B       33      5261   \n",
              "3        22.0       1977   0.007122  ...         B        1       264   \n",
              "4        16.0       1972   0.282798  ...         B       33      8667   \n",
              "\n",
              "   Social_3  Healthcare_1  Helthcare_2  Shops_1  Shops_2          Price  \\\n",
              "0         0           NaN            0        0        B  305018.871089   \n",
              "1         1        1183.0            1        0        B  177734.553407   \n",
              "2         0         240.0            3        1        B  282078.720850   \n",
              "3         0           NaN            0        1        B  168106.007630   \n",
              "4         2           NaN            0        6        B  343995.102962   \n",
              "\n",
              "   Rooms_outlier  \n",
              "0              0  \n",
              "1              0  \n",
              "2              0  \n",
              "3              0  \n",
              "4              0  \n",
              "\n",
              "[5 rows x 21 columns]"
            ]
          },
          "metadata": {
            "tags": []
          },
          "execution_count": 17
        }
      ]
    },
    {
      "cell_type": "code",
      "metadata": {
        "execution": {
          "iopub.execute_input": "2021-05-25T15:46:36.697805Z",
          "iopub.status.busy": "2021-05-25T15:46:36.697542Z",
          "iopub.status.idle": "2021-05-25T15:46:36.704882Z",
          "shell.execute_reply": "2021-05-25T15:46:36.704022Z",
          "shell.execute_reply.started": "2021-05-25T15:46:36.69778Z"
        },
        "id": "fFEmn7PPg2fE"
      },
      "source": [
        "train_df.loc[train_df['Rooms'] == 0, 'Rooms'] = 1\n",
        "train_df.loc[train_df['Rooms'] >= 6, 'Rooms'] = train_df['Rooms'].median()"
      ],
      "execution_count": null,
      "outputs": []
    },
    {
      "cell_type": "code",
      "metadata": {
        "execution": {
          "iopub.execute_input": "2021-05-25T15:46:36.70664Z",
          "iopub.status.busy": "2021-05-25T15:46:36.706217Z",
          "iopub.status.idle": "2021-05-25T15:46:36.722203Z",
          "shell.execute_reply": "2021-05-25T15:46:36.721272Z",
          "shell.execute_reply.started": "2021-05-25T15:46:36.706612Z"
        },
        "id": "O1XuF95gg2fE",
        "outputId": "977533d0-359c-48be-ca49-5bcdc18b3ce2"
      },
      "source": [
        "train_df['Rooms'].value_counts()"
      ],
      "execution_count": null,
      "outputs": [
        {
          "output_type": "execute_result",
          "data": {
            "text/plain": [
              "2.0    3884\n",
              "1.0    3713\n",
              "3.0    2235\n",
              "4.0     150\n",
              "5.0      18\n",
              "Name: Rooms, dtype: int64"
            ]
          },
          "metadata": {
            "tags": []
          },
          "execution_count": 19
        }
      ]
    },
    {
      "cell_type": "markdown",
      "metadata": {
        "id": "Lb7zQzgTg2fF"
      },
      "source": [
        "**KitchenSquare** "
      ]
    },
    {
      "cell_type": "code",
      "metadata": {
        "execution": {
          "iopub.execute_input": "2021-05-25T15:46:36.723613Z",
          "iopub.status.busy": "2021-05-25T15:46:36.723247Z",
          "iopub.status.idle": "2021-05-25T15:46:36.738252Z",
          "shell.execute_reply": "2021-05-25T15:46:36.737219Z",
          "shell.execute_reply.started": "2021-05-25T15:46:36.723586Z"
        },
        "id": "iRMk89TPg2fF",
        "outputId": "a7482470-acd9-4f9a-b995-1c67506cd511"
      },
      "source": [
        "train_df['KitchenSquare'].value_counts()"
      ],
      "execution_count": null,
      "outputs": [
        {
          "output_type": "execute_result",
          "data": {
            "text/plain": [
              "1.0       2460\n",
              "8.0       1306\n",
              "5.0       1169\n",
              "10.0      1075\n",
              "6.0       1038\n",
              "9.0        843\n",
              "0.0        697\n",
              "7.0        609\n",
              "12.0       249\n",
              "11.0       233\n",
              "13.0        67\n",
              "14.0        51\n",
              "4.0         39\n",
              "15.0        31\n",
              "3.0         22\n",
              "16.0        16\n",
              "20.0        14\n",
              "17.0        12\n",
              "19.0        11\n",
              "18.0         6\n",
              "2.0          4\n",
              "22.0         3\n",
              "112.0        2\n",
              "51.0         2\n",
              "58.0         2\n",
              "37.0         2\n",
              "32.0         2\n",
              "41.0         2\n",
              "43.0         2\n",
              "30.0         2\n",
              "25.0         2\n",
              "39.0         1\n",
              "23.0         1\n",
              "123.0        1\n",
              "40.0         1\n",
              "48.0         1\n",
              "21.0         1\n",
              "72.0         1\n",
              "27.0         1\n",
              "63.0         1\n",
              "1970.0       1\n",
              "29.0         1\n",
              "66.0         1\n",
              "2014.0       1\n",
              "31.0         1\n",
              "78.0         1\n",
              "35.0         1\n",
              "42.0         1\n",
              "73.0         1\n",
              "60.0         1\n",
              "84.0         1\n",
              "26.0         1\n",
              "54.0         1\n",
              "36.0         1\n",
              "53.0         1\n",
              "96.0         1\n",
              "62.0         1\n",
              "75.0         1\n",
              "Name: KitchenSquare, dtype: int64"
            ]
          },
          "metadata": {
            "tags": []
          },
          "execution_count": 20
        }
      ]
    },
    {
      "cell_type": "code",
      "metadata": {
        "execution": {
          "iopub.execute_input": "2021-05-25T15:46:36.739977Z",
          "iopub.status.busy": "2021-05-25T15:46:36.739563Z",
          "iopub.status.idle": "2021-05-25T15:46:36.756926Z",
          "shell.execute_reply": "2021-05-25T15:46:36.756009Z",
          "shell.execute_reply.started": "2021-05-25T15:46:36.739948Z"
        },
        "id": "uOBx_KsQg2fG",
        "outputId": "257a3638-568c-4809-ad0c-31c2de06157b"
      },
      "source": [
        "train_df['KitchenSquare'].quantile(.975), train_df['KitchenSquare'].quantile(.025)"
      ],
      "execution_count": null,
      "outputs": [
        {
          "output_type": "execute_result",
          "data": {
            "text/plain": [
              "(13.0, 0.0)"
            ]
          },
          "metadata": {
            "tags": []
          },
          "execution_count": 21
        }
      ]
    },
    {
      "cell_type": "code",
      "metadata": {
        "execution": {
          "iopub.execute_input": "2021-05-25T15:46:36.758948Z",
          "iopub.status.busy": "2021-05-25T15:46:36.758367Z",
          "iopub.status.idle": "2021-05-25T15:46:36.776398Z",
          "shell.execute_reply": "2021-05-25T15:46:36.775225Z",
          "shell.execute_reply.started": "2021-05-25T15:46:36.758907Z"
        },
        "id": "GmslKGF8g2fH"
      },
      "source": [
        "condition = (train_df['KitchenSquare'].isna()) \\\n",
        "             | (train_df['KitchenSquare'] > train_df['KitchenSquare'].quantile(.975))\n",
        "        \n",
        "train_df.loc[condition, 'KitchenSquare'] = train_df['KitchenSquare'].median()\n",
        "\n",
        "train_df.loc[train_df['KitchenSquare'] < 3, 'KitchenSquare'] = 3"
      ],
      "execution_count": null,
      "outputs": []
    },
    {
      "cell_type": "code",
      "metadata": {
        "execution": {
          "iopub.execute_input": "2021-05-25T15:46:36.778549Z",
          "iopub.status.busy": "2021-05-25T15:46:36.778125Z",
          "iopub.status.idle": "2021-05-25T15:46:36.795187Z",
          "shell.execute_reply": "2021-05-25T15:46:36.794047Z",
          "shell.execute_reply.started": "2021-05-25T15:46:36.778516Z"
        },
        "id": "1TWf58jvg2fI",
        "outputId": "5044194d-9bb4-4988-9d5e-9f6f2a080db3"
      },
      "source": [
        "train_df['KitchenSquare'].value_counts()"
      ],
      "execution_count": null,
      "outputs": [
        {
          "output_type": "execute_result",
          "data": {
            "text/plain": [
              "3.0     3183\n",
              "8.0     1306\n",
              "6.0     1227\n",
              "5.0     1169\n",
              "10.0    1075\n",
              "9.0      843\n",
              "7.0      609\n",
              "12.0     249\n",
              "11.0     233\n",
              "13.0      67\n",
              "4.0       39\n",
              "Name: KitchenSquare, dtype: int64"
            ]
          },
          "metadata": {
            "tags": []
          },
          "execution_count": 23
        }
      ]
    },
    {
      "cell_type": "markdown",
      "metadata": {
        "id": "yFFQs1pHg2fI"
      },
      "source": [
        "**HouseFloor, Floor**"
      ]
    },
    {
      "cell_type": "code",
      "metadata": {
        "execution": {
          "iopub.execute_input": "2021-05-25T15:46:36.796888Z",
          "iopub.status.busy": "2021-05-25T15:46:36.796591Z",
          "iopub.status.idle": "2021-05-25T15:46:36.812217Z",
          "shell.execute_reply": "2021-05-25T15:46:36.810979Z",
          "shell.execute_reply.started": "2021-05-25T15:46:36.796856Z"
        },
        "scrolled": true,
        "id": "YZ_UBrZFg2fJ",
        "outputId": "07e8121b-36bc-4a79-bf5c-4563f0ddca20"
      },
      "source": [
        "train_df['HouseFloor'].sort_values().unique()"
      ],
      "execution_count": null,
      "outputs": [
        {
          "output_type": "execute_result",
          "data": {
            "text/plain": [
              "array([  0.,   1.,   2.,   3.,   4.,   5.,   6.,   7.,   8.,   9.,  10.,\n",
              "        11.,  12.,  13.,  14.,  15.,  16.,  17.,  18.,  19.,  20.,  21.,\n",
              "        22.,  23.,  24.,  25.,  26.,  27.,  28.,  29.,  30.,  31.,  32.,\n",
              "        36.,  37.,  38.,  39.,  40.,  44.,  45.,  47.,  48.,  99., 117.])"
            ]
          },
          "metadata": {
            "tags": []
          },
          "execution_count": 24
        }
      ]
    },
    {
      "cell_type": "code",
      "metadata": {
        "execution": {
          "iopub.execute_input": "2021-05-25T15:46:36.813887Z",
          "iopub.status.busy": "2021-05-25T15:46:36.813511Z",
          "iopub.status.idle": "2021-05-25T15:46:36.830366Z",
          "shell.execute_reply": "2021-05-25T15:46:36.829143Z",
          "shell.execute_reply.started": "2021-05-25T15:46:36.813851Z"
        },
        "scrolled": true,
        "id": "y0d_hrRYg2fK",
        "outputId": "8dd4db06-274d-4f49-9954-ff06774dee2e"
      },
      "source": [
        "train_df['Floor'].sort_values().unique()"
      ],
      "execution_count": null,
      "outputs": [
        {
          "output_type": "execute_result",
          "data": {
            "text/plain": [
              "array([ 1,  2,  3,  4,  5,  6,  7,  8,  9, 10, 11, 12, 13, 14, 15, 16, 17,\n",
              "       18, 19, 20, 21, 22, 23, 24, 25, 26, 27, 28, 31, 32, 33, 37, 42],\n",
              "      dtype=int64)"
            ]
          },
          "metadata": {
            "tags": []
          },
          "execution_count": 25
        }
      ]
    },
    {
      "cell_type": "code",
      "metadata": {
        "execution": {
          "iopub.execute_input": "2021-05-25T15:46:36.832164Z",
          "iopub.status.busy": "2021-05-25T15:46:36.831859Z",
          "iopub.status.idle": "2021-05-25T15:46:36.848046Z",
          "shell.execute_reply": "2021-05-25T15:46:36.846546Z",
          "shell.execute_reply.started": "2021-05-25T15:46:36.832136Z"
        },
        "id": "Mgr4xlEtg2fK",
        "outputId": "c55fa6c3-1d27-4521-a810-00c8fa60c069"
      },
      "source": [
        "(train_df['Floor'] > train_df['HouseFloor']).sum()"
      ],
      "execution_count": null,
      "outputs": [
        {
          "output_type": "execute_result",
          "data": {
            "text/plain": [
              "1825"
            ]
          },
          "metadata": {
            "tags": []
          },
          "execution_count": 26
        }
      ]
    },
    {
      "cell_type": "code",
      "metadata": {
        "execution": {
          "iopub.execute_input": "2021-05-25T15:46:36.850341Z",
          "iopub.status.busy": "2021-05-25T15:46:36.849949Z",
          "iopub.status.idle": "2021-05-25T15:46:36.866757Z",
          "shell.execute_reply": "2021-05-25T15:46:36.865603Z",
          "shell.execute_reply.started": "2021-05-25T15:46:36.850299Z"
        },
        "id": "v7vWFRS5g2fL"
      },
      "source": [
        "train_df['HouseFloor_outlier'] = 0\n",
        "train_df.loc[train_df['HouseFloor'] == 0, 'HouseFloor_outlier'] = 1\n",
        "train_df.loc[train_df['Floor'] > train_df['HouseFloor'], 'HouseFloor_outlier'] = 1"
      ],
      "execution_count": null,
      "outputs": []
    },
    {
      "cell_type": "code",
      "metadata": {
        "execution": {
          "iopub.execute_input": "2021-05-25T15:46:36.868858Z",
          "iopub.status.busy": "2021-05-25T15:46:36.868447Z",
          "iopub.status.idle": "2021-05-25T15:46:36.879569Z",
          "shell.execute_reply": "2021-05-25T15:46:36.878534Z",
          "shell.execute_reply.started": "2021-05-25T15:46:36.868817Z"
        },
        "id": "oqOo2DO4g2fM"
      },
      "source": [
        "train_df.loc[train_df['HouseFloor'] == 0, 'HouseFloor'] = train_df['HouseFloor'].median()"
      ],
      "execution_count": null,
      "outputs": []
    },
    {
      "cell_type": "code",
      "metadata": {
        "execution": {
          "iopub.execute_input": "2021-05-25T15:46:36.881938Z",
          "iopub.status.busy": "2021-05-25T15:46:36.88148Z",
          "iopub.status.idle": "2021-05-25T15:46:36.898356Z",
          "shell.execute_reply": "2021-05-25T15:46:36.897353Z",
          "shell.execute_reply.started": "2021-05-25T15:46:36.881883Z"
        },
        "id": "3XtFtbLbg2fM",
        "outputId": "d29b32b8-30b6-43b9-8591-d71a93fbe98b"
      },
      "source": [
        "floor_outliers = train_df.loc[train_df['Floor'] > train_df['HouseFloor']].index\n",
        "floor_outliers"
      ],
      "execution_count": null,
      "outputs": [
        {
          "output_type": "execute_result",
          "data": {
            "text/plain": [
              "Int64Index([  17,   19,   21,   25,   26,   33,   34,   37,   39,   44,\n",
              "            ...\n",
              "            9913, 9921, 9930, 9931, 9938, 9953, 9960, 9968, 9970, 9975],\n",
              "           dtype='int64', length=1610)"
            ]
          },
          "metadata": {
            "tags": []
          },
          "execution_count": 29
        }
      ]
    },
    {
      "cell_type": "code",
      "metadata": {
        "execution": {
          "iopub.execute_input": "2021-05-25T15:46:36.900298Z",
          "iopub.status.busy": "2021-05-25T15:46:36.89992Z",
          "iopub.status.idle": "2021-05-25T15:46:36.9174Z",
          "shell.execute_reply": "2021-05-25T15:46:36.916175Z",
          "shell.execute_reply.started": "2021-05-25T15:46:36.900254Z"
        },
        "id": "ru6D2nppg2fN"
      },
      "source": [
        "train_df.loc[floor_outliers, 'Floor'] = train_df.loc[floor_outliers, 'HouseFloor']\\\n",
        "                                                .apply(lambda x: random.randint(1, x))"
      ],
      "execution_count": null,
      "outputs": []
    },
    {
      "cell_type": "code",
      "metadata": {
        "execution": {
          "iopub.execute_input": "2021-05-25T15:46:36.91971Z",
          "iopub.status.busy": "2021-05-25T15:46:36.919274Z",
          "iopub.status.idle": "2021-05-25T15:46:36.929351Z",
          "shell.execute_reply": "2021-05-25T15:46:36.928637Z",
          "shell.execute_reply.started": "2021-05-25T15:46:36.91965Z"
        },
        "id": "CJF1mpivg2fO",
        "outputId": "a86ef694-4e2c-44fc-b3cc-ee4da7abfe09"
      },
      "source": [
        "(train_df['Floor'] > train_df['HouseFloor']).sum()"
      ],
      "execution_count": null,
      "outputs": [
        {
          "output_type": "execute_result",
          "data": {
            "text/plain": [
              "0"
            ]
          },
          "metadata": {
            "tags": []
          },
          "execution_count": 31
        }
      ]
    },
    {
      "cell_type": "markdown",
      "metadata": {
        "id": "6ODdjM9eg2fO"
      },
      "source": [
        "**HouseYear**"
      ]
    },
    {
      "cell_type": "code",
      "metadata": {
        "execution": {
          "iopub.execute_input": "2021-05-25T15:46:36.930759Z",
          "iopub.status.busy": "2021-05-25T15:46:36.930457Z",
          "iopub.status.idle": "2021-05-25T15:46:36.948761Z",
          "shell.execute_reply": "2021-05-25T15:46:36.947774Z",
          "shell.execute_reply.started": "2021-05-25T15:46:36.930726Z"
        },
        "id": "oNJ6LSVtg2fP",
        "outputId": "46aa2871-02fb-4293-fbde-d968ae5ea92b"
      },
      "source": [
        "train_df['HouseYear'].sort_values(ascending=False)"
      ],
      "execution_count": null,
      "outputs": [
        {
          "output_type": "execute_result",
          "data": {
            "text/plain": [
              "9163    20052011\n",
              "8828        4968\n",
              "7721        2020\n",
              "9122        2020\n",
              "7955        2020\n",
              "          ...   \n",
              "7610        1916\n",
              "6250        1914\n",
              "2066        1912\n",
              "2795        1912\n",
              "6794        1910\n",
              "Name: HouseYear, Length: 10000, dtype: int64"
            ]
          },
          "metadata": {
            "tags": []
          },
          "execution_count": 32
        }
      ]
    },
    {
      "cell_type": "code",
      "metadata": {
        "execution": {
          "iopub.execute_input": "2021-05-25T15:46:36.950274Z",
          "iopub.status.busy": "2021-05-25T15:46:36.949996Z",
          "iopub.status.idle": "2021-05-25T15:46:36.959984Z",
          "shell.execute_reply": "2021-05-25T15:46:36.959022Z",
          "shell.execute_reply.started": "2021-05-25T15:46:36.950238Z"
        },
        "id": "9ytJk0iCg2fQ"
      },
      "source": [
        "train_df.loc[train_df['HouseYear'] > 2020, 'HouseYear'] = 2020"
      ],
      "execution_count": null,
      "outputs": []
    },
    {
      "cell_type": "markdown",
      "metadata": {
        "id": "atdTKRLEg2fQ"
      },
      "source": [
        "### Обработка пропусков  <a class='anchor' id='nan'>"
      ]
    },
    {
      "cell_type": "code",
      "metadata": {
        "execution": {
          "iopub.execute_input": "2021-05-25T15:46:36.961753Z",
          "iopub.status.busy": "2021-05-25T15:46:36.961362Z",
          "iopub.status.idle": "2021-05-25T15:46:36.981152Z",
          "shell.execute_reply": "2021-05-25T15:46:36.980115Z",
          "shell.execute_reply.started": "2021-05-25T15:46:36.961708Z"
        },
        "id": "miZUdFYog2fR",
        "outputId": "d2c8a557-17e9-4495-92ff-4c1152c15309"
      },
      "source": [
        "train_df.isna().sum()"
      ],
      "execution_count": null,
      "outputs": [
        {
          "output_type": "execute_result",
          "data": {
            "text/plain": [
              "Id                       0\n",
              "DistrictId               0\n",
              "Rooms                    0\n",
              "Square                   0\n",
              "LifeSquare            2113\n",
              "KitchenSquare            0\n",
              "Floor                    0\n",
              "HouseFloor               0\n",
              "HouseYear                0\n",
              "Ecology_1                0\n",
              "Ecology_2                0\n",
              "Ecology_3                0\n",
              "Social_1                 0\n",
              "Social_2                 0\n",
              "Social_3                 0\n",
              "Healthcare_1          4798\n",
              "Helthcare_2              0\n",
              "Shops_1                  0\n",
              "Shops_2                  0\n",
              "Price                    0\n",
              "Rooms_outlier            0\n",
              "HouseFloor_outlier       0\n",
              "dtype: int64"
            ]
          },
          "metadata": {
            "tags": []
          },
          "execution_count": 34
        }
      ]
    },
    {
      "cell_type": "code",
      "metadata": {
        "execution": {
          "iopub.execute_input": "2021-05-25T15:46:36.983674Z",
          "iopub.status.busy": "2021-05-25T15:46:36.983079Z",
          "iopub.status.idle": "2021-05-25T15:46:37.003276Z",
          "shell.execute_reply": "2021-05-25T15:46:37.001233Z",
          "shell.execute_reply.started": "2021-05-25T15:46:36.983612Z"
        },
        "id": "ysJI03-Tg2fR",
        "outputId": "fcc423ca-5101-43fe-a959-c290d9085be4"
      },
      "source": [
        "train_df[['Square', 'LifeSquare', 'KitchenSquare']].head(10)"
      ],
      "execution_count": null,
      "outputs": [
        {
          "output_type": "execute_result",
          "data": {
            "text/html": [
              "<div>\n",
              "<style scoped>\n",
              "    .dataframe tbody tr th:only-of-type {\n",
              "        vertical-align: middle;\n",
              "    }\n",
              "\n",
              "    .dataframe tbody tr th {\n",
              "        vertical-align: top;\n",
              "    }\n",
              "\n",
              "    .dataframe thead th {\n",
              "        text-align: right;\n",
              "    }\n",
              "</style>\n",
              "<table border=\"1\" class=\"dataframe\">\n",
              "  <thead>\n",
              "    <tr style=\"text-align: right;\">\n",
              "      <th></th>\n",
              "      <th>Square</th>\n",
              "      <th>LifeSquare</th>\n",
              "      <th>KitchenSquare</th>\n",
              "    </tr>\n",
              "  </thead>\n",
              "  <tbody>\n",
              "    <tr>\n",
              "      <th>0</th>\n",
              "      <td>115.027311</td>\n",
              "      <td>NaN</td>\n",
              "      <td>10.0</td>\n",
              "    </tr>\n",
              "    <tr>\n",
              "      <th>1</th>\n",
              "      <td>39.832524</td>\n",
              "      <td>23.169223</td>\n",
              "      <td>8.0</td>\n",
              "    </tr>\n",
              "    <tr>\n",
              "      <th>2</th>\n",
              "      <td>78.342215</td>\n",
              "      <td>47.671972</td>\n",
              "      <td>10.0</td>\n",
              "    </tr>\n",
              "    <tr>\n",
              "      <th>3</th>\n",
              "      <td>40.409907</td>\n",
              "      <td>NaN</td>\n",
              "      <td>3.0</td>\n",
              "    </tr>\n",
              "    <tr>\n",
              "      <th>4</th>\n",
              "      <td>64.285067</td>\n",
              "      <td>38.562517</td>\n",
              "      <td>9.0</td>\n",
              "    </tr>\n",
              "    <tr>\n",
              "      <th>5</th>\n",
              "      <td>62.528465</td>\n",
              "      <td>47.103833</td>\n",
              "      <td>6.0</td>\n",
              "    </tr>\n",
              "    <tr>\n",
              "      <th>6</th>\n",
              "      <td>33.938750</td>\n",
              "      <td>21.772930</td>\n",
              "      <td>9.0</td>\n",
              "    </tr>\n",
              "    <tr>\n",
              "      <th>7</th>\n",
              "      <td>50.391814</td>\n",
              "      <td>32.893256</td>\n",
              "      <td>8.0</td>\n",
              "    </tr>\n",
              "    <tr>\n",
              "      <th>8</th>\n",
              "      <td>46.887892</td>\n",
              "      <td>44.628132</td>\n",
              "      <td>3.0</td>\n",
              "    </tr>\n",
              "    <tr>\n",
              "      <th>9</th>\n",
              "      <td>79.867477</td>\n",
              "      <td>75.085125</td>\n",
              "      <td>3.0</td>\n",
              "    </tr>\n",
              "  </tbody>\n",
              "</table>\n",
              "</div>"
            ],
            "text/plain": [
              "       Square  LifeSquare  KitchenSquare\n",
              "0  115.027311         NaN           10.0\n",
              "1   39.832524   23.169223            8.0\n",
              "2   78.342215   47.671972           10.0\n",
              "3   40.409907         NaN            3.0\n",
              "4   64.285067   38.562517            9.0\n",
              "5   62.528465   47.103833            6.0\n",
              "6   33.938750   21.772930            9.0\n",
              "7   50.391814   32.893256            8.0\n",
              "8   46.887892   44.628132            3.0\n",
              "9   79.867477   75.085125            3.0"
            ]
          },
          "metadata": {
            "tags": []
          },
          "execution_count": 35
        }
      ]
    },
    {
      "cell_type": "markdown",
      "metadata": {
        "id": "qPfHYDCxg2fS"
      },
      "source": [
        "**LifeSquare**"
      ]
    },
    {
      "cell_type": "code",
      "metadata": {
        "execution": {
          "iopub.execute_input": "2021-05-25T15:46:37.00523Z",
          "iopub.status.busy": "2021-05-25T15:46:37.004815Z",
          "iopub.status.idle": "2021-05-25T15:46:37.032456Z",
          "shell.execute_reply": "2021-05-25T15:46:37.031482Z",
          "shell.execute_reply.started": "2021-05-25T15:46:37.005185Z"
        },
        "id": "20yGTMb4g2fS"
      },
      "source": [
        "train_df['LifeSquare_nan'] = train_df['LifeSquare'].isna() * 1\n",
        "\n",
        "condition = (train_df['LifeSquare'].isna()) \\\n",
        "             & (~train_df['Square'].isna()) \\\n",
        "             & (~train_df['KitchenSquare'].isna())\n",
        "        \n",
        "train_df.loc[condition, 'LifeSquare'] = train_df.loc[condition, 'Square'] \\\n",
        "                                            - train_df.loc[condition, 'KitchenSquare'] - 3"
      ],
      "execution_count": null,
      "outputs": []
    },
    {
      "cell_type": "markdown",
      "metadata": {
        "id": "eLGTW1wyg2fT"
      },
      "source": [
        "**Healthcare_1**"
      ]
    },
    {
      "cell_type": "code",
      "metadata": {
        "execution": {
          "iopub.execute_input": "2021-05-25T15:46:37.035627Z",
          "iopub.status.busy": "2021-05-25T15:46:37.035266Z",
          "iopub.status.idle": "2021-05-25T15:46:37.049052Z",
          "shell.execute_reply": "2021-05-25T15:46:37.048088Z",
          "shell.execute_reply.started": "2021-05-25T15:46:37.035596Z"
        },
        "id": "qs-7Apt7g2fT"
      },
      "source": [
        "train_df.drop('Healthcare_1', axis=1, inplace=True)"
      ],
      "execution_count": null,
      "outputs": []
    },
    {
      "cell_type": "code",
      "metadata": {
        "execution": {
          "iopub.execute_input": "2021-05-25T15:46:37.146284Z",
          "iopub.status.busy": "2021-05-25T15:46:37.145981Z",
          "iopub.status.idle": "2021-05-25T15:46:37.164392Z",
          "shell.execute_reply": "2021-05-25T15:46:37.163389Z",
          "shell.execute_reply.started": "2021-05-25T15:46:37.146258Z"
        },
        "id": "cf1UQxYQg2fU"
      },
      "source": [
        "class DataPreprocessing:\n",
        "    \"\"\"Подготовка исходных данных\"\"\"\n",
        "\n",
        "    def __init__(self):\n",
        "        \"\"\"Параметры класса\"\"\"\n",
        "        self.medians = None\n",
        "        self.kitchen_square_quantile = None\n",
        "        \n",
        "    def fit(self, X):\n",
        "        \"\"\"Сохранение статистик\"\"\"       \n",
        "        # Расчет медиан\n",
        "        self.medians = X.median()\n",
        "        self.kitchen_square_quantile = X['KitchenSquare'].quantile(.975)\n",
        "    \n",
        "    def transform(self, X):\n",
        "        \"\"\"Трансформация данных\"\"\"\n",
        "\n",
        "        # Rooms\n",
        "        X['Rooms_outlier'] = 0\n",
        "        X.loc[(X['Rooms'] == 0) | (X['Rooms'] >= 6), 'Rooms_outlier'] = 1\n",
        "        \n",
        "        X.loc[X['Rooms'] == 0, 'Rooms'] = 1\n",
        "        X.loc[X['Rooms'] >= 6, 'Rooms'] = self.medians['Rooms']\n",
        "        \n",
        "        # KitchenSquare\n",
        "        condition = (X['KitchenSquare'].isna()) \\\n",
        "                    | (X['KitchenSquare'] > self.kitchen_square_quantile)\n",
        "        \n",
        "        X.loc[condition, 'KitchenSquare'] = self.medians['KitchenSquare']\n",
        "\n",
        "        X.loc[X['KitchenSquare'] < 3, 'KitchenSquare'] = 3\n",
        "        \n",
        "        # HouseFloor, Floor\n",
        "        X['HouseFloor_outlier'] = 0\n",
        "        X.loc[X['HouseFloor'] == 0, 'HouseFloor_outlier'] = 1\n",
        "        X.loc[X['Floor'] > X['HouseFloor'], 'HouseFloor_outlier'] = 1\n",
        "        \n",
        "        X.loc[X['HouseFloor'] == 0, 'HouseFloor'] = self.medians['HouseFloor']\n",
        "        \n",
        "        floor_outliers = X.loc[X['Floor'] > X['HouseFloor']].index\n",
        "        X.loc[floor_outliers, 'Floor'] = X.loc[floor_outliers, 'HouseFloor']\\\n",
        "                                            .apply(lambda x: random.randint(1, x))\n",
        "        \n",
        "        # HouseYear\n",
        "        current_year = datetime.now().year\n",
        "        \n",
        "        X['HouseYear_outlier'] = 0\n",
        "        X.loc[X['HouseYear'] > current_year, 'HouseYear_outlier'] = 1\n",
        "        \n",
        "        X.loc[X['HouseYear'] > current_year, 'HouseYear'] = current_year\n",
        "        \n",
        "        # Healthcare_1\n",
        "        if 'Healthcare_1' in X.columns:\n",
        "            X.drop('Healthcare_1', axis=1, inplace=True)\n",
        "            \n",
        "        # LifeSquare\n",
        "        X['LifeSquare_nan'] = X['LifeSquare'].isna() * 1\n",
        "        condition = (X['LifeSquare'].isna()) & \\\n",
        "                      (~X['Square'].isna()) & \\\n",
        "                      (~X['KitchenSquare'].isna())\n",
        "        \n",
        "        X.loc[condition, 'LifeSquare'] = X.loc[condition, 'Square'] - X.loc[condition, 'KitchenSquare'] - 3\n",
        "        \n",
        "        \n",
        "        X.fillna(self.medians, inplace=True)\n",
        "        \n",
        "        return X"
      ],
      "execution_count": null,
      "outputs": []
    },
    {
      "cell_type": "markdown",
      "metadata": {
        "id": "2aPXp_eAg2fW"
      },
      "source": [
        "### Построение новых признаков  <a class='anchor' id='feature'>"
      ]
    },
    {
      "cell_type": "markdown",
      "metadata": {
        "id": "5RhYcd5Yg2fY"
      },
      "source": [
        "**Dummies**"
      ]
    },
    {
      "cell_type": "code",
      "metadata": {
        "execution": {
          "iopub.execute_input": "2021-05-25T15:46:38.057305Z",
          "iopub.status.busy": "2021-05-25T15:46:38.057011Z",
          "iopub.status.idle": "2021-05-25T15:46:38.078688Z",
          "shell.execute_reply": "2021-05-25T15:46:38.07758Z",
          "shell.execute_reply.started": "2021-05-25T15:46:38.057278Z"
        },
        "id": "3RjjVvz6g2fZ"
      },
      "source": [
        "binary_to_numbers = {'A': 0, 'B': 1}\n",
        "\n",
        "train_df['Ecology_2'] = train_df['Ecology_2'].replace(binary_to_numbers)\n",
        "train_df['Ecology_3'] = train_df['Ecology_3'].replace(binary_to_numbers)\n",
        "train_df['Shops_2'] = train_df['Shops_2'].replace(binary_to_numbers)"
      ],
      "execution_count": null,
      "outputs": []
    },
    {
      "cell_type": "markdown",
      "metadata": {
        "id": "9UeB8NOQg2fZ"
      },
      "source": [
        "**DistrictSize, IsDistrictLarge**"
      ]
    },
    {
      "cell_type": "code",
      "metadata": {
        "execution": {
          "iopub.execute_input": "2021-05-25T15:46:38.717971Z",
          "iopub.status.busy": "2021-05-25T15:46:38.717583Z",
          "iopub.status.idle": "2021-05-25T15:46:38.732152Z",
          "shell.execute_reply": "2021-05-25T15:46:38.73108Z",
          "shell.execute_reply.started": "2021-05-25T15:46:38.717944Z"
        },
        "id": "QJQ1Pn8lg2fa",
        "outputId": "fa43bfc0-5136-46ec-dca6-a2583e9ac21f"
      },
      "source": [
        "district_size = train_df['DistrictId'].value_counts().reset_index()\\\n",
        "                    .rename(columns={'index':'DistrictId', 'DistrictId':'DistrictSize'})\n",
        "\n",
        "district_size.head()"
      ],
      "execution_count": null,
      "outputs": [
        {
          "output_type": "execute_result",
          "data": {
            "text/html": [
              "<div>\n",
              "<style scoped>\n",
              "    .dataframe tbody tr th:only-of-type {\n",
              "        vertical-align: middle;\n",
              "    }\n",
              "\n",
              "    .dataframe tbody tr th {\n",
              "        vertical-align: top;\n",
              "    }\n",
              "\n",
              "    .dataframe thead th {\n",
              "        text-align: right;\n",
              "    }\n",
              "</style>\n",
              "<table border=\"1\" class=\"dataframe\">\n",
              "  <thead>\n",
              "    <tr style=\"text-align: right;\">\n",
              "      <th></th>\n",
              "      <th>DistrictId</th>\n",
              "      <th>DistrictSize</th>\n",
              "    </tr>\n",
              "  </thead>\n",
              "  <tbody>\n",
              "    <tr>\n",
              "      <th>0</th>\n",
              "      <td>27</td>\n",
              "      <td>851</td>\n",
              "    </tr>\n",
              "    <tr>\n",
              "      <th>1</th>\n",
              "      <td>1</td>\n",
              "      <td>652</td>\n",
              "    </tr>\n",
              "    <tr>\n",
              "      <th>2</th>\n",
              "      <td>23</td>\n",
              "      <td>565</td>\n",
              "    </tr>\n",
              "    <tr>\n",
              "      <th>3</th>\n",
              "      <td>6</td>\n",
              "      <td>511</td>\n",
              "    </tr>\n",
              "    <tr>\n",
              "      <th>4</th>\n",
              "      <td>9</td>\n",
              "      <td>294</td>\n",
              "    </tr>\n",
              "  </tbody>\n",
              "</table>\n",
              "</div>"
            ],
            "text/plain": [
              "  DistrictId  DistrictSize\n",
              "0         27           851\n",
              "1          1           652\n",
              "2         23           565\n",
              "3          6           511\n",
              "4          9           294"
            ]
          },
          "metadata": {
            "tags": []
          },
          "execution_count": 40
        }
      ]
    },
    {
      "cell_type": "code",
      "metadata": {
        "execution": {
          "iopub.execute_input": "2021-05-25T15:46:38.986317Z",
          "iopub.status.busy": "2021-05-25T15:46:38.986017Z",
          "iopub.status.idle": "2021-05-25T15:46:39.028312Z",
          "shell.execute_reply": "2021-05-25T15:46:39.027123Z",
          "shell.execute_reply.started": "2021-05-25T15:46:38.986291Z"
        },
        "id": "t34gEJarg2fb",
        "outputId": "b2de4cfd-d171-433b-80ea-8c9e3b8d1daf"
      },
      "source": [
        "train_df = train_df.merge(district_size, on='DistrictId', how='left')\n",
        "train_df.head()"
      ],
      "execution_count": null,
      "outputs": [
        {
          "output_type": "execute_result",
          "data": {
            "text/html": [
              "<div>\n",
              "<style scoped>\n",
              "    .dataframe tbody tr th:only-of-type {\n",
              "        vertical-align: middle;\n",
              "    }\n",
              "\n",
              "    .dataframe tbody tr th {\n",
              "        vertical-align: top;\n",
              "    }\n",
              "\n",
              "    .dataframe thead th {\n",
              "        text-align: right;\n",
              "    }\n",
              "</style>\n",
              "<table border=\"1\" class=\"dataframe\">\n",
              "  <thead>\n",
              "    <tr style=\"text-align: right;\">\n",
              "      <th></th>\n",
              "      <th>Id</th>\n",
              "      <th>DistrictId</th>\n",
              "      <th>Rooms</th>\n",
              "      <th>Square</th>\n",
              "      <th>LifeSquare</th>\n",
              "      <th>KitchenSquare</th>\n",
              "      <th>Floor</th>\n",
              "      <th>HouseFloor</th>\n",
              "      <th>HouseYear</th>\n",
              "      <th>Ecology_1</th>\n",
              "      <th>...</th>\n",
              "      <th>Social_2</th>\n",
              "      <th>Social_3</th>\n",
              "      <th>Helthcare_2</th>\n",
              "      <th>Shops_1</th>\n",
              "      <th>Shops_2</th>\n",
              "      <th>Price</th>\n",
              "      <th>Rooms_outlier</th>\n",
              "      <th>HouseFloor_outlier</th>\n",
              "      <th>LifeSquare_nan</th>\n",
              "      <th>DistrictSize</th>\n",
              "    </tr>\n",
              "  </thead>\n",
              "  <tbody>\n",
              "    <tr>\n",
              "      <th>0</th>\n",
              "      <td>11809</td>\n",
              "      <td>27</td>\n",
              "      <td>3.0</td>\n",
              "      <td>115.027311</td>\n",
              "      <td>102.027311</td>\n",
              "      <td>10.0</td>\n",
              "      <td>4</td>\n",
              "      <td>10.0</td>\n",
              "      <td>2014</td>\n",
              "      <td>0.075424</td>\n",
              "      <td>...</td>\n",
              "      <td>3097</td>\n",
              "      <td>0</td>\n",
              "      <td>0</td>\n",
              "      <td>0</td>\n",
              "      <td>1</td>\n",
              "      <td>305018.871089</td>\n",
              "      <td>0</td>\n",
              "      <td>0</td>\n",
              "      <td>1</td>\n",
              "      <td>851</td>\n",
              "    </tr>\n",
              "    <tr>\n",
              "      <th>1</th>\n",
              "      <td>3013</td>\n",
              "      <td>22</td>\n",
              "      <td>1.0</td>\n",
              "      <td>39.832524</td>\n",
              "      <td>23.169223</td>\n",
              "      <td>8.0</td>\n",
              "      <td>7</td>\n",
              "      <td>8.0</td>\n",
              "      <td>1966</td>\n",
              "      <td>0.118537</td>\n",
              "      <td>...</td>\n",
              "      <td>6207</td>\n",
              "      <td>1</td>\n",
              "      <td>1</td>\n",
              "      <td>0</td>\n",
              "      <td>1</td>\n",
              "      <td>177734.553407</td>\n",
              "      <td>0</td>\n",
              "      <td>0</td>\n",
              "      <td>0</td>\n",
              "      <td>78</td>\n",
              "    </tr>\n",
              "    <tr>\n",
              "      <th>2</th>\n",
              "      <td>8215</td>\n",
              "      <td>1</td>\n",
              "      <td>3.0</td>\n",
              "      <td>78.342215</td>\n",
              "      <td>47.671972</td>\n",
              "      <td>10.0</td>\n",
              "      <td>2</td>\n",
              "      <td>17.0</td>\n",
              "      <td>1988</td>\n",
              "      <td>0.025609</td>\n",
              "      <td>...</td>\n",
              "      <td>5261</td>\n",
              "      <td>0</td>\n",
              "      <td>3</td>\n",
              "      <td>1</td>\n",
              "      <td>1</td>\n",
              "      <td>282078.720850</td>\n",
              "      <td>0</td>\n",
              "      <td>0</td>\n",
              "      <td>0</td>\n",
              "      <td>652</td>\n",
              "    </tr>\n",
              "    <tr>\n",
              "      <th>3</th>\n",
              "      <td>2352</td>\n",
              "      <td>1</td>\n",
              "      <td>1.0</td>\n",
              "      <td>40.409907</td>\n",
              "      <td>34.409907</td>\n",
              "      <td>3.0</td>\n",
              "      <td>10</td>\n",
              "      <td>22.0</td>\n",
              "      <td>1977</td>\n",
              "      <td>0.007122</td>\n",
              "      <td>...</td>\n",
              "      <td>264</td>\n",
              "      <td>0</td>\n",
              "      <td>0</td>\n",
              "      <td>1</td>\n",
              "      <td>1</td>\n",
              "      <td>168106.007630</td>\n",
              "      <td>0</td>\n",
              "      <td>0</td>\n",
              "      <td>1</td>\n",
              "      <td>652</td>\n",
              "    </tr>\n",
              "    <tr>\n",
              "      <th>4</th>\n",
              "      <td>13866</td>\n",
              "      <td>94</td>\n",
              "      <td>2.0</td>\n",
              "      <td>64.285067</td>\n",
              "      <td>38.562517</td>\n",
              "      <td>9.0</td>\n",
              "      <td>16</td>\n",
              "      <td>16.0</td>\n",
              "      <td>1972</td>\n",
              "      <td>0.282798</td>\n",
              "      <td>...</td>\n",
              "      <td>8667</td>\n",
              "      <td>2</td>\n",
              "      <td>0</td>\n",
              "      <td>6</td>\n",
              "      <td>1</td>\n",
              "      <td>343995.102962</td>\n",
              "      <td>0</td>\n",
              "      <td>0</td>\n",
              "      <td>0</td>\n",
              "      <td>89</td>\n",
              "    </tr>\n",
              "  </tbody>\n",
              "</table>\n",
              "<p>5 rows × 23 columns</p>\n",
              "</div>"
            ],
            "text/plain": [
              "      Id DistrictId  Rooms      Square  LifeSquare  KitchenSquare  Floor  \\\n",
              "0  11809         27    3.0  115.027311  102.027311           10.0      4   \n",
              "1   3013         22    1.0   39.832524   23.169223            8.0      7   \n",
              "2   8215          1    3.0   78.342215   47.671972           10.0      2   \n",
              "3   2352          1    1.0   40.409907   34.409907            3.0     10   \n",
              "4  13866         94    2.0   64.285067   38.562517            9.0     16   \n",
              "\n",
              "   HouseFloor  HouseYear  Ecology_1  ...  Social_2  Social_3  Helthcare_2  \\\n",
              "0        10.0       2014   0.075424  ...      3097         0            0   \n",
              "1         8.0       1966   0.118537  ...      6207         1            1   \n",
              "2        17.0       1988   0.025609  ...      5261         0            3   \n",
              "3        22.0       1977   0.007122  ...       264         0            0   \n",
              "4        16.0       1972   0.282798  ...      8667         2            0   \n",
              "\n",
              "   Shops_1  Shops_2          Price  Rooms_outlier  HouseFloor_outlier  \\\n",
              "0        0        1  305018.871089              0                   0   \n",
              "1        0        1  177734.553407              0                   0   \n",
              "2        1        1  282078.720850              0                   0   \n",
              "3        1        1  168106.007630              0                   0   \n",
              "4        6        1  343995.102962              0                   0   \n",
              "\n",
              "   LifeSquare_nan  DistrictSize  \n",
              "0               1           851  \n",
              "1               0            78  \n",
              "2               0           652  \n",
              "3               1           652  \n",
              "4               0            89  \n",
              "\n",
              "[5 rows x 23 columns]"
            ]
          },
          "metadata": {
            "tags": []
          },
          "execution_count": 41
        }
      ]
    },
    {
      "cell_type": "code",
      "metadata": {
        "execution": {
          "iopub.execute_input": "2021-05-25T15:46:39.25878Z",
          "iopub.status.busy": "2021-05-25T15:46:39.258419Z",
          "iopub.status.idle": "2021-05-25T15:46:39.27035Z",
          "shell.execute_reply": "2021-05-25T15:46:39.269321Z",
          "shell.execute_reply.started": "2021-05-25T15:46:39.258746Z"
        },
        "id": "7o7SLyqPg2fc",
        "outputId": "2880762a-ca0c-4f31-caf8-4ad9d2b5ab29"
      },
      "source": [
        "(train_df['DistrictSize'] > 100).value_counts()"
      ],
      "execution_count": null,
      "outputs": [
        {
          "output_type": "execute_result",
          "data": {
            "text/plain": [
              "True     5069\n",
              "False    4931\n",
              "Name: DistrictSize, dtype: int64"
            ]
          },
          "metadata": {
            "tags": []
          },
          "execution_count": 42
        }
      ]
    },
    {
      "cell_type": "code",
      "metadata": {
        "execution": {
          "iopub.execute_input": "2021-05-25T15:46:39.524953Z",
          "iopub.status.busy": "2021-05-25T15:46:39.524603Z",
          "iopub.status.idle": "2021-05-25T15:46:39.530625Z",
          "shell.execute_reply": "2021-05-25T15:46:39.529758Z",
          "shell.execute_reply.started": "2021-05-25T15:46:39.524925Z"
        },
        "id": "YVXhXEqig2fd"
      },
      "source": [
        "train_df['IsDistrictLarge'] = (train_df['DistrictSize'] > 100).astype(int)"
      ],
      "execution_count": null,
      "outputs": []
    },
    {
      "cell_type": "markdown",
      "metadata": {
        "id": "j8GN4Naqg2fe"
      },
      "source": [
        "**MedPriceByDistrict**"
      ]
    },
    {
      "cell_type": "code",
      "metadata": {
        "execution": {
          "iopub.execute_input": "2021-05-25T15:46:39.989867Z",
          "iopub.status.busy": "2021-05-25T15:46:39.9895Z",
          "iopub.status.idle": "2021-05-25T15:46:40.011261Z",
          "shell.execute_reply": "2021-05-25T15:46:40.010495Z",
          "shell.execute_reply.started": "2021-05-25T15:46:39.989827Z"
        },
        "id": "QXwxZOZ0g2fe",
        "outputId": "1a0ab7c7-d87e-40ba-b1cd-7c5d5c735042"
      },
      "source": [
        "med_price_by_district = train_df.groupby(['DistrictId', 'Rooms'], as_index=False).agg({'Price':'median'})\\\n",
        "                            .rename(columns={'Price':'MedPriceByDistrict'})\n",
        "\n",
        "med_price_by_district.head()"
      ],
      "execution_count": null,
      "outputs": [
        {
          "output_type": "execute_result",
          "data": {
            "text/html": [
              "<div>\n",
              "<style scoped>\n",
              "    .dataframe tbody tr th:only-of-type {\n",
              "        vertical-align: middle;\n",
              "    }\n",
              "\n",
              "    .dataframe tbody tr th {\n",
              "        vertical-align: top;\n",
              "    }\n",
              "\n",
              "    .dataframe thead th {\n",
              "        text-align: right;\n",
              "    }\n",
              "</style>\n",
              "<table border=\"1\" class=\"dataframe\">\n",
              "  <thead>\n",
              "    <tr style=\"text-align: right;\">\n",
              "      <th></th>\n",
              "      <th>DistrictId</th>\n",
              "      <th>Rooms</th>\n",
              "      <th>MedPriceByDistrict</th>\n",
              "    </tr>\n",
              "  </thead>\n",
              "  <tbody>\n",
              "    <tr>\n",
              "      <th>0</th>\n",
              "      <td>0</td>\n",
              "      <td>1.0</td>\n",
              "      <td>142799.434052</td>\n",
              "    </tr>\n",
              "    <tr>\n",
              "      <th>1</th>\n",
              "      <td>0</td>\n",
              "      <td>2.0</td>\n",
              "      <td>176210.812334</td>\n",
              "    </tr>\n",
              "    <tr>\n",
              "      <th>2</th>\n",
              "      <td>0</td>\n",
              "      <td>3.0</td>\n",
              "      <td>300610.359425</td>\n",
              "    </tr>\n",
              "    <tr>\n",
              "      <th>3</th>\n",
              "      <td>1</td>\n",
              "      <td>1.0</td>\n",
              "      <td>146735.671740</td>\n",
              "    </tr>\n",
              "    <tr>\n",
              "      <th>4</th>\n",
              "      <td>1</td>\n",
              "      <td>2.0</td>\n",
              "      <td>202666.310126</td>\n",
              "    </tr>\n",
              "  </tbody>\n",
              "</table>\n",
              "</div>"
            ],
            "text/plain": [
              "  DistrictId  Rooms  MedPriceByDistrict\n",
              "0          0    1.0       142799.434052\n",
              "1          0    2.0       176210.812334\n",
              "2          0    3.0       300610.359425\n",
              "3          1    1.0       146735.671740\n",
              "4          1    2.0       202666.310126"
            ]
          },
          "metadata": {
            "tags": []
          },
          "execution_count": 44
        }
      ]
    },
    {
      "cell_type": "code",
      "metadata": {
        "execution": {
          "iopub.execute_input": "2021-05-25T15:46:40.259118Z",
          "iopub.status.busy": "2021-05-25T15:46:40.258656Z",
          "iopub.status.idle": "2021-05-25T15:46:40.264111Z",
          "shell.execute_reply": "2021-05-25T15:46:40.2632Z",
          "shell.execute_reply.started": "2021-05-25T15:46:40.25909Z"
        },
        "id": "8k_ULOW0g2ff",
        "outputId": "b64f810a-58cb-408d-b65b-1367ad654ea9"
      },
      "source": [
        "med_price_by_district.shape"
      ],
      "execution_count": null,
      "outputs": [
        {
          "output_type": "execute_result",
          "data": {
            "text/plain": [
              "(667, 3)"
            ]
          },
          "metadata": {
            "tags": []
          },
          "execution_count": 45
        }
      ]
    },
    {
      "cell_type": "code",
      "metadata": {
        "execution": {
          "iopub.execute_input": "2021-05-25T15:46:40.408752Z",
          "iopub.status.busy": "2021-05-25T15:46:40.408285Z",
          "iopub.status.idle": "2021-05-25T15:46:40.443032Z",
          "shell.execute_reply": "2021-05-25T15:46:40.442275Z",
          "shell.execute_reply.started": "2021-05-25T15:46:40.408721Z"
        },
        "id": "htNdWWGzg2fg",
        "outputId": "bbbdfeaf-3709-4428-ea00-83b5d773b315"
      },
      "source": [
        "train_df = train_df.merge(med_price_by_district, on=['DistrictId', 'Rooms'], how='left')\n",
        "train_df.head()"
      ],
      "execution_count": null,
      "outputs": [
        {
          "output_type": "execute_result",
          "data": {
            "text/html": [
              "<div>\n",
              "<style scoped>\n",
              "    .dataframe tbody tr th:only-of-type {\n",
              "        vertical-align: middle;\n",
              "    }\n",
              "\n",
              "    .dataframe tbody tr th {\n",
              "        vertical-align: top;\n",
              "    }\n",
              "\n",
              "    .dataframe thead th {\n",
              "        text-align: right;\n",
              "    }\n",
              "</style>\n",
              "<table border=\"1\" class=\"dataframe\">\n",
              "  <thead>\n",
              "    <tr style=\"text-align: right;\">\n",
              "      <th></th>\n",
              "      <th>Id</th>\n",
              "      <th>DistrictId</th>\n",
              "      <th>Rooms</th>\n",
              "      <th>Square</th>\n",
              "      <th>LifeSquare</th>\n",
              "      <th>KitchenSquare</th>\n",
              "      <th>Floor</th>\n",
              "      <th>HouseFloor</th>\n",
              "      <th>HouseYear</th>\n",
              "      <th>Ecology_1</th>\n",
              "      <th>...</th>\n",
              "      <th>Helthcare_2</th>\n",
              "      <th>Shops_1</th>\n",
              "      <th>Shops_2</th>\n",
              "      <th>Price</th>\n",
              "      <th>Rooms_outlier</th>\n",
              "      <th>HouseFloor_outlier</th>\n",
              "      <th>LifeSquare_nan</th>\n",
              "      <th>DistrictSize</th>\n",
              "      <th>IsDistrictLarge</th>\n",
              "      <th>MedPriceByDistrict</th>\n",
              "    </tr>\n",
              "  </thead>\n",
              "  <tbody>\n",
              "    <tr>\n",
              "      <th>0</th>\n",
              "      <td>11809</td>\n",
              "      <td>27</td>\n",
              "      <td>3.0</td>\n",
              "      <td>115.027311</td>\n",
              "      <td>102.027311</td>\n",
              "      <td>10.0</td>\n",
              "      <td>4</td>\n",
              "      <td>10.0</td>\n",
              "      <td>2014</td>\n",
              "      <td>0.075424</td>\n",
              "      <td>...</td>\n",
              "      <td>0</td>\n",
              "      <td>0</td>\n",
              "      <td>1</td>\n",
              "      <td>305018.871089</td>\n",
              "      <td>0</td>\n",
              "      <td>0</td>\n",
              "      <td>1</td>\n",
              "      <td>851</td>\n",
              "      <td>1</td>\n",
              "      <td>213530.788443</td>\n",
              "    </tr>\n",
              "    <tr>\n",
              "      <th>1</th>\n",
              "      <td>3013</td>\n",
              "      <td>22</td>\n",
              "      <td>1.0</td>\n",
              "      <td>39.832524</td>\n",
              "      <td>23.169223</td>\n",
              "      <td>8.0</td>\n",
              "      <td>7</td>\n",
              "      <td>8.0</td>\n",
              "      <td>1966</td>\n",
              "      <td>0.118537</td>\n",
              "      <td>...</td>\n",
              "      <td>1</td>\n",
              "      <td>0</td>\n",
              "      <td>1</td>\n",
              "      <td>177734.553407</td>\n",
              "      <td>0</td>\n",
              "      <td>0</td>\n",
              "      <td>0</td>\n",
              "      <td>78</td>\n",
              "      <td>0</td>\n",
              "      <td>146032.829834</td>\n",
              "    </tr>\n",
              "    <tr>\n",
              "      <th>2</th>\n",
              "      <td>8215</td>\n",
              "      <td>1</td>\n",
              "      <td>3.0</td>\n",
              "      <td>78.342215</td>\n",
              "      <td>47.671972</td>\n",
              "      <td>10.0</td>\n",
              "      <td>2</td>\n",
              "      <td>17.0</td>\n",
              "      <td>1988</td>\n",
              "      <td>0.025609</td>\n",
              "      <td>...</td>\n",
              "      <td>3</td>\n",
              "      <td>1</td>\n",
              "      <td>1</td>\n",
              "      <td>282078.720850</td>\n",
              "      <td>0</td>\n",
              "      <td>0</td>\n",
              "      <td>0</td>\n",
              "      <td>652</td>\n",
              "      <td>1</td>\n",
              "      <td>244005.272380</td>\n",
              "    </tr>\n",
              "    <tr>\n",
              "      <th>3</th>\n",
              "      <td>2352</td>\n",
              "      <td>1</td>\n",
              "      <td>1.0</td>\n",
              "      <td>40.409907</td>\n",
              "      <td>34.409907</td>\n",
              "      <td>3.0</td>\n",
              "      <td>10</td>\n",
              "      <td>22.0</td>\n",
              "      <td>1977</td>\n",
              "      <td>0.007122</td>\n",
              "      <td>...</td>\n",
              "      <td>0</td>\n",
              "      <td>1</td>\n",
              "      <td>1</td>\n",
              "      <td>168106.007630</td>\n",
              "      <td>0</td>\n",
              "      <td>0</td>\n",
              "      <td>1</td>\n",
              "      <td>652</td>\n",
              "      <td>1</td>\n",
              "      <td>146735.671740</td>\n",
              "    </tr>\n",
              "    <tr>\n",
              "      <th>4</th>\n",
              "      <td>13866</td>\n",
              "      <td>94</td>\n",
              "      <td>2.0</td>\n",
              "      <td>64.285067</td>\n",
              "      <td>38.562517</td>\n",
              "      <td>9.0</td>\n",
              "      <td>16</td>\n",
              "      <td>16.0</td>\n",
              "      <td>1972</td>\n",
              "      <td>0.282798</td>\n",
              "      <td>...</td>\n",
              "      <td>0</td>\n",
              "      <td>6</td>\n",
              "      <td>1</td>\n",
              "      <td>343995.102962</td>\n",
              "      <td>0</td>\n",
              "      <td>0</td>\n",
              "      <td>0</td>\n",
              "      <td>89</td>\n",
              "      <td>0</td>\n",
              "      <td>201584.441255</td>\n",
              "    </tr>\n",
              "  </tbody>\n",
              "</table>\n",
              "<p>5 rows × 25 columns</p>\n",
              "</div>"
            ],
            "text/plain": [
              "      Id DistrictId  Rooms      Square  LifeSquare  KitchenSquare  Floor  \\\n",
              "0  11809         27    3.0  115.027311  102.027311           10.0      4   \n",
              "1   3013         22    1.0   39.832524   23.169223            8.0      7   \n",
              "2   8215          1    3.0   78.342215   47.671972           10.0      2   \n",
              "3   2352          1    1.0   40.409907   34.409907            3.0     10   \n",
              "4  13866         94    2.0   64.285067   38.562517            9.0     16   \n",
              "\n",
              "   HouseFloor  HouseYear  Ecology_1  ...  Helthcare_2  Shops_1  Shops_2  \\\n",
              "0        10.0       2014   0.075424  ...            0        0        1   \n",
              "1         8.0       1966   0.118537  ...            1        0        1   \n",
              "2        17.0       1988   0.025609  ...            3        1        1   \n",
              "3        22.0       1977   0.007122  ...            0        1        1   \n",
              "4        16.0       1972   0.282798  ...            0        6        1   \n",
              "\n",
              "           Price  Rooms_outlier  HouseFloor_outlier  LifeSquare_nan  \\\n",
              "0  305018.871089              0                   0               1   \n",
              "1  177734.553407              0                   0               0   \n",
              "2  282078.720850              0                   0               0   \n",
              "3  168106.007630              0                   0               1   \n",
              "4  343995.102962              0                   0               0   \n",
              "\n",
              "   DistrictSize  IsDistrictLarge  MedPriceByDistrict  \n",
              "0           851                1       213530.788443  \n",
              "1            78                0       146032.829834  \n",
              "2           652                1       244005.272380  \n",
              "3           652                1       146735.671740  \n",
              "4            89                0       201584.441255  \n",
              "\n",
              "[5 rows x 25 columns]"
            ]
          },
          "metadata": {
            "tags": []
          },
          "execution_count": 46
        }
      ]
    },
    {
      "cell_type": "markdown",
      "metadata": {
        "id": "kO6Lwt3Ig2fh"
      },
      "source": [
        "**MedPriceByFloorYear**"
      ]
    },
    {
      "cell_type": "code",
      "metadata": {
        "execution": {
          "iopub.execute_input": "2021-05-25T15:46:41.183488Z",
          "iopub.status.busy": "2021-05-25T15:46:41.183031Z",
          "iopub.status.idle": "2021-05-25T15:46:41.196422Z",
          "shell.execute_reply": "2021-05-25T15:46:41.195056Z",
          "shell.execute_reply.started": "2021-05-25T15:46:41.183457Z"
        },
        "id": "gvLZQ8xfg2fh"
      },
      "source": [
        "def floor_to_cat(X):\n",
        "\n",
        "    X['floor_cat'] = 0\n",
        "\n",
        "    X.loc[X['Floor'] <= 3, 'floor_cat'] = 1  \n",
        "    X.loc[(X['Floor'] > 3) & (X['Floor'] <= 5), 'floor_cat'] = 2\n",
        "    X.loc[(X['Floor'] > 5) & (X['Floor'] <= 9), 'floor_cat'] = 3\n",
        "    X.loc[(X['Floor'] > 9) & (X['Floor'] <= 15), 'floor_cat'] = 4\n",
        "    X.loc[X['Floor'] > 15, 'floor_cat'] = 5\n",
        "\n",
        "    return X\n",
        "\n",
        "\n",
        "def floor_to_cat_pandas(X):\n",
        "    bins = [0, 3, 5, 9, 15, X['Floor'].max()]\n",
        "    X['floor_cat'] = pd.cut(X['Floor'], bins=bins, labels=False)\n",
        "    \n",
        "    X['floor_cat'].fillna(-1, inplace=True)\n",
        "    return X\n",
        "\n",
        "\n",
        "def year_to_cat(X):\n",
        "\n",
        "    X['year_cat'] = 0\n",
        "\n",
        "    X.loc[X['HouseYear'] <= 1941, 'year_cat'] = 1\n",
        "    X.loc[(X['HouseYear'] > 1941) & (X['HouseYear'] <= 1945), 'year_cat'] = 2\n",
        "    X.loc[(X['HouseYear'] > 1945) & (X['HouseYear'] <= 1980), 'year_cat'] = 3\n",
        "    X.loc[(X['HouseYear'] > 1980) & (X['HouseYear'] <= 2000), 'year_cat'] = 4\n",
        "    X.loc[(X['HouseYear'] > 2000) & (X['HouseYear'] <= 2010), 'year_cat'] = 5\n",
        "    X.loc[(X['HouseYear'] > 2010), 'year_cat'] = 6\n",
        "\n",
        "    return X\n",
        "\n",
        "\n",
        "def year_to_cat_pandas(X):\n",
        "    bins = [0, 1941, 1945, 1980, 2000, 2010, X['HouseYear'].max()]\n",
        "    X['year_cat'] = pd.cut(X['HouseYear'], bins=bins, labels=False)\n",
        "    \n",
        "    X['year_cat'].fillna(-1, inplace=True)\n",
        "    return X"
      ],
      "execution_count": null,
      "outputs": []
    },
    {
      "cell_type": "code",
      "metadata": {
        "execution": {
          "iopub.execute_input": "2021-05-25T15:46:41.644897Z",
          "iopub.status.busy": "2021-05-25T15:46:41.644565Z",
          "iopub.status.idle": "2021-05-25T15:46:41.65413Z",
          "shell.execute_reply": "2021-05-25T15:46:41.653091Z",
          "shell.execute_reply.started": "2021-05-25T15:46:41.644868Z"
        },
        "id": "dr9gmfIMg2fi",
        "outputId": "81302dab-6cb7-4a98-dc6c-03f8072c0414"
      },
      "source": [
        "bins = [0, 3, 5, 9, 15, train_df['Floor'].max()]\n",
        "pd.cut(train_df['Floor'], bins=bins, labels=False)"
      ],
      "execution_count": null,
      "outputs": [
        {
          "output_type": "execute_result",
          "data": {
            "text/plain": [
              "0       1\n",
              "1       2\n",
              "2       0\n",
              "3       3\n",
              "4       4\n",
              "       ..\n",
              "9995    0\n",
              "9996    3\n",
              "9997    0\n",
              "9998    0\n",
              "9999    2\n",
              "Name: Floor, Length: 10000, dtype: int64"
            ]
          },
          "metadata": {
            "tags": []
          },
          "execution_count": 48
        }
      ]
    },
    {
      "cell_type": "code",
      "metadata": {
        "execution": {
          "iopub.execute_input": "2021-05-25T15:46:41.656634Z",
          "iopub.status.busy": "2021-05-25T15:46:41.656246Z",
          "iopub.status.idle": "2021-05-25T15:46:41.677547Z",
          "shell.execute_reply": "2021-05-25T15:46:41.676594Z",
          "shell.execute_reply.started": "2021-05-25T15:46:41.656593Z"
        },
        "id": "EiMCs5ZGg2fj",
        "outputId": "87a5f786-673b-419a-cad2-b4322b97026f"
      },
      "source": [
        "bins = [0, 3, 5, 9, 15, train_df['Floor'].max()]\n",
        "pd.cut(train_df['Floor'], bins=bins)"
      ],
      "execution_count": null,
      "outputs": [
        {
          "output_type": "execute_result",
          "data": {
            "text/plain": [
              "0         (3, 5]\n",
              "1         (5, 9]\n",
              "2         (0, 3]\n",
              "3        (9, 15]\n",
              "4       (15, 42]\n",
              "          ...   \n",
              "9995      (0, 3]\n",
              "9996     (9, 15]\n",
              "9997      (0, 3]\n",
              "9998      (0, 3]\n",
              "9999      (5, 9]\n",
              "Name: Floor, Length: 10000, dtype: category\n",
              "Categories (5, interval[int64]): [(0, 3] < (3, 5] < (5, 9] < (9, 15] < (15, 42]]"
            ]
          },
          "metadata": {
            "tags": []
          },
          "execution_count": 49
        }
      ]
    },
    {
      "cell_type": "code",
      "metadata": {
        "execution": {
          "iopub.execute_input": "2021-05-25T15:46:41.678989Z",
          "iopub.status.busy": "2021-05-25T15:46:41.678751Z",
          "iopub.status.idle": "2021-05-25T15:46:41.72024Z",
          "shell.execute_reply": "2021-05-25T15:46:41.719541Z",
          "shell.execute_reply.started": "2021-05-25T15:46:41.678966Z"
        },
        "id": "Dqzc-o5Lg2fk",
        "outputId": "255a7de7-4a9a-4428-9a3f-80095767d60f"
      },
      "source": [
        "train_df = year_to_cat(train_df)\n",
        "train_df = floor_to_cat(train_df)\n",
        "train_df.head()"
      ],
      "execution_count": null,
      "outputs": [
        {
          "output_type": "execute_result",
          "data": {
            "text/html": [
              "<div>\n",
              "<style scoped>\n",
              "    .dataframe tbody tr th:only-of-type {\n",
              "        vertical-align: middle;\n",
              "    }\n",
              "\n",
              "    .dataframe tbody tr th {\n",
              "        vertical-align: top;\n",
              "    }\n",
              "\n",
              "    .dataframe thead th {\n",
              "        text-align: right;\n",
              "    }\n",
              "</style>\n",
              "<table border=\"1\" class=\"dataframe\">\n",
              "  <thead>\n",
              "    <tr style=\"text-align: right;\">\n",
              "      <th></th>\n",
              "      <th>Id</th>\n",
              "      <th>DistrictId</th>\n",
              "      <th>Rooms</th>\n",
              "      <th>Square</th>\n",
              "      <th>LifeSquare</th>\n",
              "      <th>KitchenSquare</th>\n",
              "      <th>Floor</th>\n",
              "      <th>HouseFloor</th>\n",
              "      <th>HouseYear</th>\n",
              "      <th>Ecology_1</th>\n",
              "      <th>...</th>\n",
              "      <th>Shops_2</th>\n",
              "      <th>Price</th>\n",
              "      <th>Rooms_outlier</th>\n",
              "      <th>HouseFloor_outlier</th>\n",
              "      <th>LifeSquare_nan</th>\n",
              "      <th>DistrictSize</th>\n",
              "      <th>IsDistrictLarge</th>\n",
              "      <th>MedPriceByDistrict</th>\n",
              "      <th>year_cat</th>\n",
              "      <th>floor_cat</th>\n",
              "    </tr>\n",
              "  </thead>\n",
              "  <tbody>\n",
              "    <tr>\n",
              "      <th>0</th>\n",
              "      <td>11809</td>\n",
              "      <td>27</td>\n",
              "      <td>3.0</td>\n",
              "      <td>115.027311</td>\n",
              "      <td>102.027311</td>\n",
              "      <td>10.0</td>\n",
              "      <td>4</td>\n",
              "      <td>10.0</td>\n",
              "      <td>2014</td>\n",
              "      <td>0.075424</td>\n",
              "      <td>...</td>\n",
              "      <td>1</td>\n",
              "      <td>305018.871089</td>\n",
              "      <td>0</td>\n",
              "      <td>0</td>\n",
              "      <td>1</td>\n",
              "      <td>851</td>\n",
              "      <td>1</td>\n",
              "      <td>213530.788443</td>\n",
              "      <td>6</td>\n",
              "      <td>2</td>\n",
              "    </tr>\n",
              "    <tr>\n",
              "      <th>1</th>\n",
              "      <td>3013</td>\n",
              "      <td>22</td>\n",
              "      <td>1.0</td>\n",
              "      <td>39.832524</td>\n",
              "      <td>23.169223</td>\n",
              "      <td>8.0</td>\n",
              "      <td>7</td>\n",
              "      <td>8.0</td>\n",
              "      <td>1966</td>\n",
              "      <td>0.118537</td>\n",
              "      <td>...</td>\n",
              "      <td>1</td>\n",
              "      <td>177734.553407</td>\n",
              "      <td>0</td>\n",
              "      <td>0</td>\n",
              "      <td>0</td>\n",
              "      <td>78</td>\n",
              "      <td>0</td>\n",
              "      <td>146032.829834</td>\n",
              "      <td>3</td>\n",
              "      <td>3</td>\n",
              "    </tr>\n",
              "    <tr>\n",
              "      <th>2</th>\n",
              "      <td>8215</td>\n",
              "      <td>1</td>\n",
              "      <td>3.0</td>\n",
              "      <td>78.342215</td>\n",
              "      <td>47.671972</td>\n",
              "      <td>10.0</td>\n",
              "      <td>2</td>\n",
              "      <td>17.0</td>\n",
              "      <td>1988</td>\n",
              "      <td>0.025609</td>\n",
              "      <td>...</td>\n",
              "      <td>1</td>\n",
              "      <td>282078.720850</td>\n",
              "      <td>0</td>\n",
              "      <td>0</td>\n",
              "      <td>0</td>\n",
              "      <td>652</td>\n",
              "      <td>1</td>\n",
              "      <td>244005.272380</td>\n",
              "      <td>4</td>\n",
              "      <td>1</td>\n",
              "    </tr>\n",
              "    <tr>\n",
              "      <th>3</th>\n",
              "      <td>2352</td>\n",
              "      <td>1</td>\n",
              "      <td>1.0</td>\n",
              "      <td>40.409907</td>\n",
              "      <td>34.409907</td>\n",
              "      <td>3.0</td>\n",
              "      <td>10</td>\n",
              "      <td>22.0</td>\n",
              "      <td>1977</td>\n",
              "      <td>0.007122</td>\n",
              "      <td>...</td>\n",
              "      <td>1</td>\n",
              "      <td>168106.007630</td>\n",
              "      <td>0</td>\n",
              "      <td>0</td>\n",
              "      <td>1</td>\n",
              "      <td>652</td>\n",
              "      <td>1</td>\n",
              "      <td>146735.671740</td>\n",
              "      <td>3</td>\n",
              "      <td>4</td>\n",
              "    </tr>\n",
              "    <tr>\n",
              "      <th>4</th>\n",
              "      <td>13866</td>\n",
              "      <td>94</td>\n",
              "      <td>2.0</td>\n",
              "      <td>64.285067</td>\n",
              "      <td>38.562517</td>\n",
              "      <td>9.0</td>\n",
              "      <td>16</td>\n",
              "      <td>16.0</td>\n",
              "      <td>1972</td>\n",
              "      <td>0.282798</td>\n",
              "      <td>...</td>\n",
              "      <td>1</td>\n",
              "      <td>343995.102962</td>\n",
              "      <td>0</td>\n",
              "      <td>0</td>\n",
              "      <td>0</td>\n",
              "      <td>89</td>\n",
              "      <td>0</td>\n",
              "      <td>201584.441255</td>\n",
              "      <td>3</td>\n",
              "      <td>5</td>\n",
              "    </tr>\n",
              "  </tbody>\n",
              "</table>\n",
              "<p>5 rows × 27 columns</p>\n",
              "</div>"
            ],
            "text/plain": [
              "      Id DistrictId  Rooms      Square  LifeSquare  KitchenSquare  Floor  \\\n",
              "0  11809         27    3.0  115.027311  102.027311           10.0      4   \n",
              "1   3013         22    1.0   39.832524   23.169223            8.0      7   \n",
              "2   8215          1    3.0   78.342215   47.671972           10.0      2   \n",
              "3   2352          1    1.0   40.409907   34.409907            3.0     10   \n",
              "4  13866         94    2.0   64.285067   38.562517            9.0     16   \n",
              "\n",
              "   HouseFloor  HouseYear  Ecology_1  ...  Shops_2          Price  \\\n",
              "0        10.0       2014   0.075424  ...        1  305018.871089   \n",
              "1         8.0       1966   0.118537  ...        1  177734.553407   \n",
              "2        17.0       1988   0.025609  ...        1  282078.720850   \n",
              "3        22.0       1977   0.007122  ...        1  168106.007630   \n",
              "4        16.0       1972   0.282798  ...        1  343995.102962   \n",
              "\n",
              "   Rooms_outlier  HouseFloor_outlier  LifeSquare_nan  DistrictSize  \\\n",
              "0              0                   0               1           851   \n",
              "1              0                   0               0            78   \n",
              "2              0                   0               0           652   \n",
              "3              0                   0               1           652   \n",
              "4              0                   0               0            89   \n",
              "\n",
              "   IsDistrictLarge  MedPriceByDistrict  year_cat  floor_cat  \n",
              "0                1       213530.788443         6          2  \n",
              "1                0       146032.829834         3          3  \n",
              "2                1       244005.272380         4          1  \n",
              "3                1       146735.671740         3          4  \n",
              "4                0       201584.441255         3          5  \n",
              "\n",
              "[5 rows x 27 columns]"
            ]
          },
          "metadata": {
            "tags": []
          },
          "execution_count": 50
        }
      ]
    },
    {
      "cell_type": "code",
      "metadata": {
        "execution": {
          "iopub.execute_input": "2021-05-25T15:46:41.851423Z",
          "iopub.status.busy": "2021-05-25T15:46:41.851106Z",
          "iopub.status.idle": "2021-05-25T15:46:41.867565Z",
          "shell.execute_reply": "2021-05-25T15:46:41.866744Z",
          "shell.execute_reply.started": "2021-05-25T15:46:41.851396Z"
        },
        "id": "Qu-5rgvHg2fl",
        "outputId": "efabdfe4-f05c-4170-abf7-5e680464e0b5"
      },
      "source": [
        "med_price_by_floor_year = train_df.groupby(['year_cat', 'floor_cat'], as_index=False).agg({'Price':'median'}).\\\n",
        "                                            rename(columns={'Price':'MedPriceByFloorYear'})\n",
        "med_price_by_floor_year.head()"
      ],
      "execution_count": null,
      "outputs": [
        {
          "output_type": "execute_result",
          "data": {
            "text/html": [
              "<div>\n",
              "<style scoped>\n",
              "    .dataframe tbody tr th:only-of-type {\n",
              "        vertical-align: middle;\n",
              "    }\n",
              "\n",
              "    .dataframe tbody tr th {\n",
              "        vertical-align: top;\n",
              "    }\n",
              "\n",
              "    .dataframe thead th {\n",
              "        text-align: right;\n",
              "    }\n",
              "</style>\n",
              "<table border=\"1\" class=\"dataframe\">\n",
              "  <thead>\n",
              "    <tr style=\"text-align: right;\">\n",
              "      <th></th>\n",
              "      <th>year_cat</th>\n",
              "      <th>floor_cat</th>\n",
              "      <th>MedPriceByFloorYear</th>\n",
              "    </tr>\n",
              "  </thead>\n",
              "  <tbody>\n",
              "    <tr>\n",
              "      <th>0</th>\n",
              "      <td>1</td>\n",
              "      <td>1</td>\n",
              "      <td>362698.813373</td>\n",
              "    </tr>\n",
              "    <tr>\n",
              "      <th>1</th>\n",
              "      <td>1</td>\n",
              "      <td>2</td>\n",
              "      <td>329090.758590</td>\n",
              "    </tr>\n",
              "    <tr>\n",
              "      <th>2</th>\n",
              "      <td>1</td>\n",
              "      <td>3</td>\n",
              "      <td>429825.896082</td>\n",
              "    </tr>\n",
              "    <tr>\n",
              "      <th>3</th>\n",
              "      <td>1</td>\n",
              "      <td>4</td>\n",
              "      <td>274992.472366</td>\n",
              "    </tr>\n",
              "    <tr>\n",
              "      <th>4</th>\n",
              "      <td>2</td>\n",
              "      <td>1</td>\n",
              "      <td>467230.539057</td>\n",
              "    </tr>\n",
              "  </tbody>\n",
              "</table>\n",
              "</div>"
            ],
            "text/plain": [
              "   year_cat  floor_cat  MedPriceByFloorYear\n",
              "0         1          1        362698.813373\n",
              "1         1          2        329090.758590\n",
              "2         1          3        429825.896082\n",
              "3         1          4        274992.472366\n",
              "4         2          1        467230.539057"
            ]
          },
          "metadata": {
            "tags": []
          },
          "execution_count": 51
        }
      ]
    },
    {
      "cell_type": "code",
      "metadata": {
        "execution": {
          "iopub.execute_input": "2021-05-25T15:46:42.144642Z",
          "iopub.status.busy": "2021-05-25T15:46:42.144308Z",
          "iopub.status.idle": "2021-05-25T15:46:42.181588Z",
          "shell.execute_reply": "2021-05-25T15:46:42.180501Z",
          "shell.execute_reply.started": "2021-05-25T15:46:42.144614Z"
        },
        "id": "vSChEEJtg2fm",
        "outputId": "d5eb201f-654a-435c-ff12-45a37e763b56"
      },
      "source": [
        "train_df = train_df.merge(med_price_by_floor_year, on=['year_cat', 'floor_cat'], how='left')\n",
        "train_df.head()"
      ],
      "execution_count": null,
      "outputs": [
        {
          "output_type": "execute_result",
          "data": {
            "text/html": [
              "<div>\n",
              "<style scoped>\n",
              "    .dataframe tbody tr th:only-of-type {\n",
              "        vertical-align: middle;\n",
              "    }\n",
              "\n",
              "    .dataframe tbody tr th {\n",
              "        vertical-align: top;\n",
              "    }\n",
              "\n",
              "    .dataframe thead th {\n",
              "        text-align: right;\n",
              "    }\n",
              "</style>\n",
              "<table border=\"1\" class=\"dataframe\">\n",
              "  <thead>\n",
              "    <tr style=\"text-align: right;\">\n",
              "      <th></th>\n",
              "      <th>Id</th>\n",
              "      <th>DistrictId</th>\n",
              "      <th>Rooms</th>\n",
              "      <th>Square</th>\n",
              "      <th>LifeSquare</th>\n",
              "      <th>KitchenSquare</th>\n",
              "      <th>Floor</th>\n",
              "      <th>HouseFloor</th>\n",
              "      <th>HouseYear</th>\n",
              "      <th>Ecology_1</th>\n",
              "      <th>...</th>\n",
              "      <th>Price</th>\n",
              "      <th>Rooms_outlier</th>\n",
              "      <th>HouseFloor_outlier</th>\n",
              "      <th>LifeSquare_nan</th>\n",
              "      <th>DistrictSize</th>\n",
              "      <th>IsDistrictLarge</th>\n",
              "      <th>MedPriceByDistrict</th>\n",
              "      <th>year_cat</th>\n",
              "      <th>floor_cat</th>\n",
              "      <th>MedPriceByFloorYear</th>\n",
              "    </tr>\n",
              "  </thead>\n",
              "  <tbody>\n",
              "    <tr>\n",
              "      <th>0</th>\n",
              "      <td>11809</td>\n",
              "      <td>27</td>\n",
              "      <td>3.0</td>\n",
              "      <td>115.027311</td>\n",
              "      <td>102.027311</td>\n",
              "      <td>10.0</td>\n",
              "      <td>4</td>\n",
              "      <td>10.0</td>\n",
              "      <td>2014</td>\n",
              "      <td>0.075424</td>\n",
              "      <td>...</td>\n",
              "      <td>305018.871089</td>\n",
              "      <td>0</td>\n",
              "      <td>0</td>\n",
              "      <td>1</td>\n",
              "      <td>851</td>\n",
              "      <td>1</td>\n",
              "      <td>213530.788443</td>\n",
              "      <td>6</td>\n",
              "      <td>2</td>\n",
              "      <td>161186.760269</td>\n",
              "    </tr>\n",
              "    <tr>\n",
              "      <th>1</th>\n",
              "      <td>3013</td>\n",
              "      <td>22</td>\n",
              "      <td>1.0</td>\n",
              "      <td>39.832524</td>\n",
              "      <td>23.169223</td>\n",
              "      <td>8.0</td>\n",
              "      <td>7</td>\n",
              "      <td>8.0</td>\n",
              "      <td>1966</td>\n",
              "      <td>0.118537</td>\n",
              "      <td>...</td>\n",
              "      <td>177734.553407</td>\n",
              "      <td>0</td>\n",
              "      <td>0</td>\n",
              "      <td>0</td>\n",
              "      <td>78</td>\n",
              "      <td>0</td>\n",
              "      <td>146032.829834</td>\n",
              "      <td>3</td>\n",
              "      <td>3</td>\n",
              "      <td>192302.751941</td>\n",
              "    </tr>\n",
              "    <tr>\n",
              "      <th>2</th>\n",
              "      <td>8215</td>\n",
              "      <td>1</td>\n",
              "      <td>3.0</td>\n",
              "      <td>78.342215</td>\n",
              "      <td>47.671972</td>\n",
              "      <td>10.0</td>\n",
              "      <td>2</td>\n",
              "      <td>17.0</td>\n",
              "      <td>1988</td>\n",
              "      <td>0.025609</td>\n",
              "      <td>...</td>\n",
              "      <td>282078.720850</td>\n",
              "      <td>0</td>\n",
              "      <td>0</td>\n",
              "      <td>0</td>\n",
              "      <td>652</td>\n",
              "      <td>1</td>\n",
              "      <td>244005.272380</td>\n",
              "      <td>4</td>\n",
              "      <td>1</td>\n",
              "      <td>209026.030952</td>\n",
              "    </tr>\n",
              "    <tr>\n",
              "      <th>3</th>\n",
              "      <td>2352</td>\n",
              "      <td>1</td>\n",
              "      <td>1.0</td>\n",
              "      <td>40.409907</td>\n",
              "      <td>34.409907</td>\n",
              "      <td>3.0</td>\n",
              "      <td>10</td>\n",
              "      <td>22.0</td>\n",
              "      <td>1977</td>\n",
              "      <td>0.007122</td>\n",
              "      <td>...</td>\n",
              "      <td>168106.007630</td>\n",
              "      <td>0</td>\n",
              "      <td>0</td>\n",
              "      <td>1</td>\n",
              "      <td>652</td>\n",
              "      <td>1</td>\n",
              "      <td>146735.671740</td>\n",
              "      <td>3</td>\n",
              "      <td>4</td>\n",
              "      <td>183505.979560</td>\n",
              "    </tr>\n",
              "    <tr>\n",
              "      <th>4</th>\n",
              "      <td>13866</td>\n",
              "      <td>94</td>\n",
              "      <td>2.0</td>\n",
              "      <td>64.285067</td>\n",
              "      <td>38.562517</td>\n",
              "      <td>9.0</td>\n",
              "      <td>16</td>\n",
              "      <td>16.0</td>\n",
              "      <td>1972</td>\n",
              "      <td>0.282798</td>\n",
              "      <td>...</td>\n",
              "      <td>343995.102962</td>\n",
              "      <td>0</td>\n",
              "      <td>0</td>\n",
              "      <td>0</td>\n",
              "      <td>89</td>\n",
              "      <td>0</td>\n",
              "      <td>201584.441255</td>\n",
              "      <td>3</td>\n",
              "      <td>5</td>\n",
              "      <td>173955.556579</td>\n",
              "    </tr>\n",
              "  </tbody>\n",
              "</table>\n",
              "<p>5 rows × 28 columns</p>\n",
              "</div>"
            ],
            "text/plain": [
              "      Id DistrictId  Rooms      Square  LifeSquare  KitchenSquare  Floor  \\\n",
              "0  11809         27    3.0  115.027311  102.027311           10.0      4   \n",
              "1   3013         22    1.0   39.832524   23.169223            8.0      7   \n",
              "2   8215          1    3.0   78.342215   47.671972           10.0      2   \n",
              "3   2352          1    1.0   40.409907   34.409907            3.0     10   \n",
              "4  13866         94    2.0   64.285067   38.562517            9.0     16   \n",
              "\n",
              "   HouseFloor  HouseYear  Ecology_1  ...          Price  Rooms_outlier  \\\n",
              "0        10.0       2014   0.075424  ...  305018.871089              0   \n",
              "1         8.0       1966   0.118537  ...  177734.553407              0   \n",
              "2        17.0       1988   0.025609  ...  282078.720850              0   \n",
              "3        22.0       1977   0.007122  ...  168106.007630              0   \n",
              "4        16.0       1972   0.282798  ...  343995.102962              0   \n",
              "\n",
              "   HouseFloor_outlier  LifeSquare_nan  DistrictSize  IsDistrictLarge  \\\n",
              "0                   0               1           851                1   \n",
              "1                   0               0            78                0   \n",
              "2                   0               0           652                1   \n",
              "3                   0               1           652                1   \n",
              "4                   0               0            89                0   \n",
              "\n",
              "   MedPriceByDistrict  year_cat  floor_cat  MedPriceByFloorYear  \n",
              "0       213530.788443         6          2        161186.760269  \n",
              "1       146032.829834         3          3        192302.751941  \n",
              "2       244005.272380         4          1        209026.030952  \n",
              "3       146735.671740         3          4        183505.979560  \n",
              "4       201584.441255         3          5        173955.556579  \n",
              "\n",
              "[5 rows x 28 columns]"
            ]
          },
          "metadata": {
            "tags": []
          },
          "execution_count": 52
        }
      ]
    },
    {
      "cell_type": "code",
      "metadata": {
        "execution": {
          "iopub.execute_input": "2021-05-25T15:47:32.534516Z",
          "iopub.status.busy": "2021-05-25T15:47:32.534179Z",
          "iopub.status.idle": "2021-05-25T15:47:32.555631Z",
          "shell.execute_reply": "2021-05-25T15:47:32.5542Z",
          "shell.execute_reply.started": "2021-05-25T15:47:32.534484Z"
        },
        "id": "OpWCaCR-g2fm"
      },
      "source": [
        "class FeatureGenetator():\n",
        "    \"\"\"Генерация новых фич\"\"\"\n",
        "    \n",
        "    def __init__(self):\n",
        "        self.DistrictId_counts = None\n",
        "        self.binary_to_numbers = None\n",
        "        self.med_price_by_district = None\n",
        "        self.med_price_by_floor_year = None\n",
        "        self.house_year_max = None\n",
        "        self.floor_max = None\n",
        "        self.district_size = None\n",
        "        \n",
        "    def fit(self, X, y=None):\n",
        "        \n",
        "        X = X.copy()\n",
        "        \n",
        "        # Binary features\n",
        "        self.binary_to_numbers = {'A': 0, 'B': 1}\n",
        "        \n",
        "        # DistrictID\n",
        "        self.district_size = X['DistrictId'].value_counts().reset_index() \\\n",
        "                               .rename(columns={'index':'DistrictId', 'DistrictId':'DistrictSize'})\n",
        "                \n",
        "        # Target encoding\n",
        "        ## District, Rooms\n",
        "        df = X.copy()\n",
        "        \n",
        "        if y is not None:\n",
        "            df['Price'] = y.values\n",
        "            \n",
        "            self.med_price_by_district = df.groupby(['DistrictId', 'Rooms'], as_index=False).agg({'Price':'median'})\\\n",
        "                                            .rename(columns={'Price':'MedPriceByDistrict'})\n",
        "            \n",
        "            self.med_price_by_district_median = self.med_price_by_district['MedPriceByDistrict'].median()\n",
        "            \n",
        "        ## floor, year\n",
        "        if y is not None:\n",
        "            self.floor_max = df['Floor'].max()\n",
        "            self.house_year_max = df['HouseYear'].max()\n",
        "            df['Price'] = y.values\n",
        "            df = self.floor_to_cat(df)\n",
        "            df = self.year_to_cat(df)\n",
        "            self.med_price_by_floor_year = df.groupby(['year_cat', 'floor_cat'], as_index=False).agg({'Price':'median'}).\\\n",
        "                                            rename(columns={'Price':'MedPriceByFloorYear'})\n",
        "            self.med_price_by_floor_year_median = self.med_price_by_floor_year['MedPriceByFloorYear'].median()\n",
        "        \n",
        "\n",
        "        \n",
        "    def transform(self, X):\n",
        "        \n",
        "        # Binary features\n",
        "        X['Ecology_2'] = X['Ecology_2'].map(self.binary_to_numbers)  # self.binary_to_numbers = {'A': 0, 'B': 1}\n",
        "        X['Ecology_3'] = X['Ecology_3'].map(self.binary_to_numbers)\n",
        "        X['Shops_2'] = X['Shops_2'].map(self.binary_to_numbers)\n",
        "        \n",
        "        # DistrictId, IsDistrictLarge\n",
        "        X = X.merge(self.district_size, on='DistrictId', how='left')\n",
        "        \n",
        "        X['new_district'] = 0\n",
        "        X.loc[X['DistrictSize'].isna(), 'new_district'] = 1\n",
        "        \n",
        "        X['DistrictSize'].fillna(5, inplace=True)\n",
        "        \n",
        "        X['IsDistrictLarge'] = (X['DistrictSize'] > 100).astype(int)\n",
        "        \n",
        "        # More categorical features\n",
        "        X = self.floor_to_cat(X)  # + столбец floor_cat\n",
        "        X = self.year_to_cat(X)   # + столбец year_cat\n",
        "        \n",
        "        # Target encoding\n",
        "        if self.med_price_by_district is not None:\n",
        "            X = X.merge(self.med_price_by_district, on=['DistrictId', 'Rooms'], how='left')\n",
        "            X['MedPriceByDistrict'].fillna(self.med_price_by_district_median, inplace=True)\n",
        "            \n",
        "        if self.med_price_by_floor_year is not None:\n",
        "            X = X.merge(self.med_price_by_floor_year, on=['year_cat', 'floor_cat'], how='left')\n",
        "            X['MedPriceByFloorYear'].fillna(self.med_price_by_floor_year_median, inplace=True)\n",
        "        \n",
        "        return X\n",
        "    \n",
        "    def floor_to_cat(self, X):\n",
        "        bins = [0, 3, 5, 9, 15, self.floor_max]\n",
        "        X['floor_cat'] = pd.cut(X['Floor'], bins=bins, labels=False)\n",
        "\n",
        "        X['floor_cat'].fillna(-1, inplace=True) \n",
        "        return X\n",
        "     \n",
        "    def year_to_cat(self, X):\n",
        "        bins = [0, 1941, 1945, 1980, 2000, 2010, self.house_year_max]\n",
        "        X['year_cat'] = pd.cut(X['HouseYear'], bins=bins, labels=False)\n",
        "\n",
        "        X['year_cat'].fillna(-1, inplace=True)\n",
        "        return X\n",
        "            \n",
        "    "
      ],
      "execution_count": null,
      "outputs": []
    },
    {
      "cell_type": "markdown",
      "metadata": {
        "id": "XOUA1uROg2fo"
      },
      "source": [
        "### Отбор признаков  <a class='anchor' id='feature_selection'>"
      ]
    },
    {
      "cell_type": "code",
      "metadata": {
        "execution": {
          "iopub.execute_input": "2021-05-25T15:47:34.854577Z",
          "iopub.status.busy": "2021-05-25T15:47:34.854266Z",
          "iopub.status.idle": "2021-05-25T15:47:34.859908Z",
          "shell.execute_reply": "2021-05-25T15:47:34.859094Z",
          "shell.execute_reply.started": "2021-05-25T15:47:34.85455Z"
        },
        "id": "LjwEvIQXg2fq",
        "outputId": "6a915c60-1eb1-4eca-81b2-5fae45f4a5bb"
      },
      "source": [
        "train_df.columns.tolist()"
      ],
      "execution_count": null,
      "outputs": [
        {
          "output_type": "execute_result",
          "data": {
            "text/plain": [
              "['Id',\n",
              " 'DistrictId',\n",
              " 'Rooms',\n",
              " 'Square',\n",
              " 'LifeSquare',\n",
              " 'KitchenSquare',\n",
              " 'Floor',\n",
              " 'HouseFloor',\n",
              " 'HouseYear',\n",
              " 'Ecology_1',\n",
              " 'Ecology_2',\n",
              " 'Ecology_3',\n",
              " 'Social_1',\n",
              " 'Social_2',\n",
              " 'Social_3',\n",
              " 'Helthcare_2',\n",
              " 'Shops_1',\n",
              " 'Shops_2',\n",
              " 'Price',\n",
              " 'Rooms_outlier',\n",
              " 'HouseFloor_outlier',\n",
              " 'LifeSquare_nan',\n",
              " 'DistrictSize',\n",
              " 'IsDistrictLarge',\n",
              " 'MedPriceByDistrict',\n",
              " 'year_cat',\n",
              " 'floor_cat',\n",
              " 'MedPriceByFloorYear']"
            ]
          },
          "metadata": {
            "tags": []
          },
          "execution_count": 54
        }
      ]
    },
    {
      "cell_type": "code",
      "metadata": {
        "execution": {
          "iopub.execute_input": "2021-05-25T15:47:35.367904Z",
          "iopub.status.busy": "2021-05-25T15:47:35.367428Z",
          "iopub.status.idle": "2021-05-25T15:47:35.372945Z",
          "shell.execute_reply": "2021-05-25T15:47:35.372116Z",
          "shell.execute_reply.started": "2021-05-25T15:47:35.367865Z"
        },
        "id": "2pMy5Fkhg2fq"
      },
      "source": [
        "feature_names = ['Rooms', 'Square', 'LifeSquare', 'KitchenSquare', 'Floor', 'HouseFloor', 'HouseYear',\n",
        "                 'Ecology_1', 'Ecology_2', 'Ecology_3', 'Social_1', 'Social_2', 'Social_3',\n",
        "                 'Helthcare_2', 'Shops_1', 'Shops_2']\n",
        "\n",
        "new_feature_names = ['Rooms_outlier', 'HouseFloor_outlier', 'HouseYear_outlier', 'LifeSquare_nan', 'DistrictSize',\n",
        "                     'new_district', 'IsDistrictLarge',  'MedPriceByDistrict', 'MedPriceByFloorYear']\n",
        "\n",
        "target_name = 'Price'"
      ],
      "execution_count": null,
      "outputs": []
    },
    {
      "cell_type": "markdown",
      "metadata": {
        "id": "5cmVoYngg2fr"
      },
      "source": [
        "### Разбиение на train и test  <a class='anchor' id='split'>"
      ]
    },
    {
      "cell_type": "code",
      "metadata": {
        "execution": {
          "iopub.execute_input": "2021-05-25T15:47:36.631637Z",
          "iopub.status.busy": "2021-05-25T15:47:36.631073Z",
          "iopub.status.idle": "2021-05-25T15:47:36.681311Z",
          "shell.execute_reply": "2021-05-25T15:47:36.680653Z",
          "shell.execute_reply.started": "2021-05-25T15:47:36.631603Z"
        },
        "id": "z-c_04lRg2fs"
      },
      "source": [
        "train_df = pd.read_csv('train.csv')\n",
        "test_df = pd.read_csv('test.csv')\n",
        "\n",
        "X = train_df.drop(columns=target_name)\n",
        "y = train_df[target_name]"
      ],
      "execution_count": null,
      "outputs": []
    },
    {
      "cell_type": "code",
      "metadata": {
        "execution": {
          "iopub.execute_input": "2021-05-25T15:47:37.087607Z",
          "iopub.status.busy": "2021-05-25T15:47:37.087136Z",
          "iopub.status.idle": "2021-05-25T15:47:37.095619Z",
          "shell.execute_reply": "2021-05-25T15:47:37.094624Z",
          "shell.execute_reply.started": "2021-05-25T15:47:37.087568Z"
        },
        "id": "X9kmURiJg2fs"
      },
      "source": [
        "X_train, X_valid, y_train, y_valid = train_test_split(X, y, test_size=0.33, shuffle=True, random_state=21)"
      ],
      "execution_count": null,
      "outputs": []
    },
    {
      "cell_type": "code",
      "metadata": {
        "execution": {
          "iopub.execute_input": "2021-05-25T15:47:37.436412Z",
          "iopub.status.busy": "2021-05-25T15:47:37.436066Z",
          "iopub.status.idle": "2021-05-25T15:47:37.508796Z",
          "shell.execute_reply": "2021-05-25T15:47:37.507593Z",
          "shell.execute_reply.started": "2021-05-25T15:47:37.436379Z"
        },
        "id": "RwR0TSJug2ft",
        "outputId": "6cb19b21-2259-4240-8c53-d114890f81dd"
      },
      "source": [
        "preprocessor = DataPreprocessing()\n",
        "preprocessor.fit(X_train)\n",
        "\n",
        "X_train = preprocessor.transform(X_train)\n",
        "X_valid = preprocessor.transform(X_valid)\n",
        "test_df = preprocessor.transform(test_df)\n",
        "\n",
        "X_train.shape, X_valid.shape, test_df.shape"
      ],
      "execution_count": null,
      "outputs": [
        {
          "output_type": "execute_result",
          "data": {
            "text/plain": [
              "((6700, 22), (3300, 22), (5000, 22))"
            ]
          },
          "metadata": {
            "tags": []
          },
          "execution_count": 58
        }
      ]
    },
    {
      "cell_type": "code",
      "metadata": {
        "execution": {
          "iopub.execute_input": "2021-05-25T15:47:38.721484Z",
          "iopub.status.busy": "2021-05-25T15:47:38.721171Z",
          "iopub.status.idle": "2021-05-25T15:47:38.826965Z",
          "shell.execute_reply": "2021-05-25T15:47:38.825856Z",
          "shell.execute_reply.started": "2021-05-25T15:47:38.721456Z"
        },
        "id": "gNxmLJ9Hg2fu",
        "outputId": "85469a7b-5c3c-4335-cb8d-2208ad4722df"
      },
      "source": [
        "features_gen = FeatureGenetator()\n",
        "features_gen.fit(X_train, y_train)\n",
        "\n",
        "X_train = features_gen.transform(X_train)\n",
        "X_valid = features_gen.transform(X_valid)\n",
        "test_df = features_gen.transform(test_df)\n",
        "\n",
        "X_train.shape, X_valid.shape, test_df.shape"
      ],
      "execution_count": null,
      "outputs": [
        {
          "output_type": "execute_result",
          "data": {
            "text/plain": [
              "((6700, 29), (3300, 29), (5000, 29))"
            ]
          },
          "metadata": {
            "tags": []
          },
          "execution_count": 59
        }
      ]
    },
    {
      "cell_type": "code",
      "metadata": {
        "execution": {
          "iopub.execute_input": "2021-05-25T15:47:40.173688Z",
          "iopub.status.busy": "2021-05-25T15:47:40.173341Z",
          "iopub.status.idle": "2021-05-25T15:47:40.184952Z",
          "shell.execute_reply": "2021-05-25T15:47:40.183901Z",
          "shell.execute_reply.started": "2021-05-25T15:47:40.173643Z"
        },
        "id": "PwXVMzs-g2fu"
      },
      "source": [
        "X_train = X_train[feature_names + new_feature_names]\n",
        "X_valid = X_valid[feature_names + new_feature_names]\n",
        "test_df = test_df[feature_names + new_feature_names]"
      ],
      "execution_count": null,
      "outputs": []
    },
    {
      "cell_type": "code",
      "metadata": {
        "execution": {
          "iopub.execute_input": "2021-05-25T15:47:40.661114Z",
          "iopub.status.busy": "2021-05-25T15:47:40.660619Z",
          "iopub.status.idle": "2021-05-25T15:47:40.671918Z",
          "shell.execute_reply": "2021-05-25T15:47:40.670937Z",
          "shell.execute_reply.started": "2021-05-25T15:47:40.661069Z"
        },
        "id": "eoSohtuCg2fv",
        "outputId": "8e0635ea-ef05-4c4a-e153-2166cf314a70"
      },
      "source": [
        "X_train.isna().sum().sum(), X_valid.isna().sum().sum(), test_df.isna().sum().sum()"
      ],
      "execution_count": null,
      "outputs": [
        {
          "output_type": "execute_result",
          "data": {
            "text/plain": [
              "(0, 0, 0)"
            ]
          },
          "metadata": {
            "tags": []
          },
          "execution_count": 61
        }
      ]
    },
    {
      "cell_type": "markdown",
      "metadata": {
        "id": "t6cH_MDMg2fw"
      },
      "source": [
        "### Построение модели  <a class='anchor' id='modeling'>"
      ]
    },
    {
      "cell_type": "markdown",
      "metadata": {
        "id": "bKrOMetgg2fw"
      },
      "source": [
        "**Обучение**"
      ]
    },
    {
      "cell_type": "code",
      "metadata": {
        "id": "LmLyOSrtg2fw"
      },
      "source": [
        "from sklearn.ensemble import GradientBoostingRegressor\n",
        "\n",
        "model = GradientBoostingRegressor(criterion='mse',\n",
        "                                     max_depth=6,\n",
        "                                     min_samples_leaf=50,\n",
        "                                     random_state=42,  \n",
        "                                     n_estimators=2250, \n",
        "                                     max_features='sqrt', \n",
        "                                     loss='huber', \n",
        "                                     learning_rate=0.100)\n"
      ],
      "execution_count": null,
      "outputs": []
    },
    {
      "cell_type": "code",
      "metadata": {
        "id": "BrZ2cfMcg2fx",
        "outputId": "a2ab3ec2-95c6-4c46-a977-b6aaf4a4d1ff"
      },
      "source": [
        "model.fit(X_train, y_train)"
      ],
      "execution_count": null,
      "outputs": [
        {
          "output_type": "execute_result",
          "data": {
            "text/plain": [
              "GradientBoostingRegressor(criterion='mse', loss='huber', max_depth=6,\n",
              "                          max_features='sqrt', min_samples_leaf=50,\n",
              "                          n_estimators=2250, random_state=42)"
            ]
          },
          "metadata": {
            "tags": []
          },
          "execution_count": 68
        }
      ]
    },
    {
      "cell_type": "code",
      "metadata": {
        "id": "7ySpCAWng2fy",
        "outputId": "b1b843dc-d391-4f7b-89a7-0fc87ab7cb2c"
      },
      "source": [
        "feature_importances = pd.DataFrame(zip(X_train.columns, model.feature_importances_), \n",
        "                                   columns=['feature_name', 'importance'])\n",
        "\n",
        "feature_importances.sort_values(by='importance', ascending=False)"
      ],
      "execution_count": null,
      "outputs": [
        {
          "output_type": "execute_result",
          "data": {
            "text/html": [
              "<div>\n",
              "<style scoped>\n",
              "    .dataframe tbody tr th:only-of-type {\n",
              "        vertical-align: middle;\n",
              "    }\n",
              "\n",
              "    .dataframe tbody tr th {\n",
              "        vertical-align: top;\n",
              "    }\n",
              "\n",
              "    .dataframe thead th {\n",
              "        text-align: right;\n",
              "    }\n",
              "</style>\n",
              "<table border=\"1\" class=\"dataframe\">\n",
              "  <thead>\n",
              "    <tr style=\"text-align: right;\">\n",
              "      <th></th>\n",
              "      <th>feature_name</th>\n",
              "      <th>importance</th>\n",
              "    </tr>\n",
              "  </thead>\n",
              "  <tbody>\n",
              "    <tr>\n",
              "      <th>23</th>\n",
              "      <td>MedPriceByDistrict</td>\n",
              "      <td>0.287166</td>\n",
              "    </tr>\n",
              "    <tr>\n",
              "      <th>1</th>\n",
              "      <td>Square</td>\n",
              "      <td>0.224717</td>\n",
              "    </tr>\n",
              "    <tr>\n",
              "      <th>20</th>\n",
              "      <td>DistrictSize</td>\n",
              "      <td>0.080839</td>\n",
              "    </tr>\n",
              "    <tr>\n",
              "      <th>0</th>\n",
              "      <td>Rooms</td>\n",
              "      <td>0.063992</td>\n",
              "    </tr>\n",
              "    <tr>\n",
              "      <th>2</th>\n",
              "      <td>LifeSquare</td>\n",
              "      <td>0.060749</td>\n",
              "    </tr>\n",
              "    <tr>\n",
              "      <th>10</th>\n",
              "      <td>Social_1</td>\n",
              "      <td>0.054825</td>\n",
              "    </tr>\n",
              "    <tr>\n",
              "      <th>11</th>\n",
              "      <td>Social_2</td>\n",
              "      <td>0.043860</td>\n",
              "    </tr>\n",
              "    <tr>\n",
              "      <th>12</th>\n",
              "      <td>Social_3</td>\n",
              "      <td>0.030241</td>\n",
              "    </tr>\n",
              "    <tr>\n",
              "      <th>24</th>\n",
              "      <td>MedPriceByFloorYear</td>\n",
              "      <td>0.024229</td>\n",
              "    </tr>\n",
              "    <tr>\n",
              "      <th>22</th>\n",
              "      <td>IsDistrictLarge</td>\n",
              "      <td>0.023196</td>\n",
              "    </tr>\n",
              "    <tr>\n",
              "      <th>3</th>\n",
              "      <td>KitchenSquare</td>\n",
              "      <td>0.021744</td>\n",
              "    </tr>\n",
              "    <tr>\n",
              "      <th>6</th>\n",
              "      <td>HouseYear</td>\n",
              "      <td>0.018743</td>\n",
              "    </tr>\n",
              "    <tr>\n",
              "      <th>7</th>\n",
              "      <td>Ecology_1</td>\n",
              "      <td>0.018634</td>\n",
              "    </tr>\n",
              "    <tr>\n",
              "      <th>5</th>\n",
              "      <td>HouseFloor</td>\n",
              "      <td>0.015594</td>\n",
              "    </tr>\n",
              "    <tr>\n",
              "      <th>14</th>\n",
              "      <td>Shops_1</td>\n",
              "      <td>0.010369</td>\n",
              "    </tr>\n",
              "    <tr>\n",
              "      <th>4</th>\n",
              "      <td>Floor</td>\n",
              "      <td>0.009384</td>\n",
              "    </tr>\n",
              "    <tr>\n",
              "      <th>13</th>\n",
              "      <td>Helthcare_2</td>\n",
              "      <td>0.006791</td>\n",
              "    </tr>\n",
              "    <tr>\n",
              "      <th>19</th>\n",
              "      <td>LifeSquare_nan</td>\n",
              "      <td>0.002891</td>\n",
              "    </tr>\n",
              "    <tr>\n",
              "      <th>17</th>\n",
              "      <td>HouseFloor_outlier</td>\n",
              "      <td>0.001192</td>\n",
              "    </tr>\n",
              "    <tr>\n",
              "      <th>15</th>\n",
              "      <td>Shops_2</td>\n",
              "      <td>0.000723</td>\n",
              "    </tr>\n",
              "    <tr>\n",
              "      <th>9</th>\n",
              "      <td>Ecology_3</td>\n",
              "      <td>0.000118</td>\n",
              "    </tr>\n",
              "    <tr>\n",
              "      <th>8</th>\n",
              "      <td>Ecology_2</td>\n",
              "      <td>0.000003</td>\n",
              "    </tr>\n",
              "    <tr>\n",
              "      <th>21</th>\n",
              "      <td>new_district</td>\n",
              "      <td>0.000000</td>\n",
              "    </tr>\n",
              "    <tr>\n",
              "      <th>18</th>\n",
              "      <td>HouseYear_outlier</td>\n",
              "      <td>0.000000</td>\n",
              "    </tr>\n",
              "    <tr>\n",
              "      <th>16</th>\n",
              "      <td>Rooms_outlier</td>\n",
              "      <td>0.000000</td>\n",
              "    </tr>\n",
              "  </tbody>\n",
              "</table>\n",
              "</div>"
            ],
            "text/plain": [
              "           feature_name  importance\n",
              "23   MedPriceByDistrict    0.287166\n",
              "1                Square    0.224717\n",
              "20         DistrictSize    0.080839\n",
              "0                 Rooms    0.063992\n",
              "2            LifeSquare    0.060749\n",
              "10             Social_1    0.054825\n",
              "11             Social_2    0.043860\n",
              "12             Social_3    0.030241\n",
              "24  MedPriceByFloorYear    0.024229\n",
              "22      IsDistrictLarge    0.023196\n",
              "3         KitchenSquare    0.021744\n",
              "6             HouseYear    0.018743\n",
              "7             Ecology_1    0.018634\n",
              "5            HouseFloor    0.015594\n",
              "14              Shops_1    0.010369\n",
              "4                 Floor    0.009384\n",
              "13          Helthcare_2    0.006791\n",
              "19       LifeSquare_nan    0.002891\n",
              "17   HouseFloor_outlier    0.001192\n",
              "15              Shops_2    0.000723\n",
              "9             Ecology_3    0.000118\n",
              "8             Ecology_2    0.000003\n",
              "21         new_district    0.000000\n",
              "18    HouseYear_outlier    0.000000\n",
              "16        Rooms_outlier    0.000000"
            ]
          },
          "metadata": {
            "tags": []
          },
          "execution_count": 66
        }
      ]
    },
    {
      "cell_type": "markdown",
      "metadata": {
        "id": "M0fB3c1Mg2fy"
      },
      "source": [
        "### Прогнозирование на тестовом датасете  <a class='anchor' id='prediction'>"
      ]
    },
    {
      "cell_type": "code",
      "metadata": {
        "id": "CHNjmIwdg2fz",
        "outputId": "5719b8b0-3de9-4816-e4a7-3b18596756ce"
      },
      "source": [
        "test_df.shape"
      ],
      "execution_count": null,
      "outputs": [
        {
          "output_type": "execute_result",
          "data": {
            "text/plain": [
              "(5000, 25)"
            ]
          },
          "metadata": {
            "tags": []
          },
          "execution_count": 69
        }
      ]
    },
    {
      "cell_type": "code",
      "metadata": {
        "id": "LNdh7yTqg2fz",
        "outputId": "b16607fc-0e58-4101-a078-3acea3c215d2"
      },
      "source": [
        "test_df"
      ],
      "execution_count": null,
      "outputs": [
        {
          "output_type": "execute_result",
          "data": {
            "text/html": [
              "<div>\n",
              "<style scoped>\n",
              "    .dataframe tbody tr th:only-of-type {\n",
              "        vertical-align: middle;\n",
              "    }\n",
              "\n",
              "    .dataframe tbody tr th {\n",
              "        vertical-align: top;\n",
              "    }\n",
              "\n",
              "    .dataframe thead th {\n",
              "        text-align: right;\n",
              "    }\n",
              "</style>\n",
              "<table border=\"1\" class=\"dataframe\">\n",
              "  <thead>\n",
              "    <tr style=\"text-align: right;\">\n",
              "      <th></th>\n",
              "      <th>Rooms</th>\n",
              "      <th>Square</th>\n",
              "      <th>LifeSquare</th>\n",
              "      <th>KitchenSquare</th>\n",
              "      <th>Floor</th>\n",
              "      <th>HouseFloor</th>\n",
              "      <th>HouseYear</th>\n",
              "      <th>Ecology_1</th>\n",
              "      <th>Ecology_2</th>\n",
              "      <th>Ecology_3</th>\n",
              "      <th>...</th>\n",
              "      <th>Shops_2</th>\n",
              "      <th>Rooms_outlier</th>\n",
              "      <th>HouseFloor_outlier</th>\n",
              "      <th>HouseYear_outlier</th>\n",
              "      <th>LifeSquare_nan</th>\n",
              "      <th>DistrictSize</th>\n",
              "      <th>new_district</th>\n",
              "      <th>IsDistrictLarge</th>\n",
              "      <th>MedPriceByDistrict</th>\n",
              "      <th>MedPriceByFloorYear</th>\n",
              "    </tr>\n",
              "  </thead>\n",
              "  <tbody>\n",
              "    <tr>\n",
              "      <th>0</th>\n",
              "      <td>1.0</td>\n",
              "      <td>36.847630</td>\n",
              "      <td>19.094182</td>\n",
              "      <td>5.0</td>\n",
              "      <td>5</td>\n",
              "      <td>9.0</td>\n",
              "      <td>1970</td>\n",
              "      <td>0.036122</td>\n",
              "      <td>1</td>\n",
              "      <td>1</td>\n",
              "      <td>...</td>\n",
              "      <td>1</td>\n",
              "      <td>0</td>\n",
              "      <td>0</td>\n",
              "      <td>0</td>\n",
              "      <td>0</td>\n",
              "      <td>76.0</td>\n",
              "      <td>0</td>\n",
              "      <td>0</td>\n",
              "      <td>171145.169069</td>\n",
              "      <td>188417.787348</td>\n",
              "    </tr>\n",
              "    <tr>\n",
              "      <th>1</th>\n",
              "      <td>1.0</td>\n",
              "      <td>42.493907</td>\n",
              "      <td>42.568133</td>\n",
              "      <td>10.0</td>\n",
              "      <td>7</td>\n",
              "      <td>17.0</td>\n",
              "      <td>2017</td>\n",
              "      <td>0.072158</td>\n",
              "      <td>1</td>\n",
              "      <td>1</td>\n",
              "      <td>...</td>\n",
              "      <td>0</td>\n",
              "      <td>0</td>\n",
              "      <td>0</td>\n",
              "      <td>0</td>\n",
              "      <td>0</td>\n",
              "      <td>164.0</td>\n",
              "      <td>0</td>\n",
              "      <td>1</td>\n",
              "      <td>131107.271962</td>\n",
              "      <td>177755.781775</td>\n",
              "    </tr>\n",
              "    <tr>\n",
              "      <th>2</th>\n",
              "      <td>2.0</td>\n",
              "      <td>59.463678</td>\n",
              "      <td>47.463678</td>\n",
              "      <td>9.0</td>\n",
              "      <td>19</td>\n",
              "      <td>19.0</td>\n",
              "      <td>1977</td>\n",
              "      <td>0.211401</td>\n",
              "      <td>1</td>\n",
              "      <td>1</td>\n",
              "      <td>...</td>\n",
              "      <td>1</td>\n",
              "      <td>0</td>\n",
              "      <td>0</td>\n",
              "      <td>0</td>\n",
              "      <td>1</td>\n",
              "      <td>580.0</td>\n",
              "      <td>0</td>\n",
              "      <td>1</td>\n",
              "      <td>165993.292450</td>\n",
              "      <td>171739.199220</td>\n",
              "    </tr>\n",
              "    <tr>\n",
              "      <th>3</th>\n",
              "      <td>3.0</td>\n",
              "      <td>49.646030</td>\n",
              "      <td>33.893825</td>\n",
              "      <td>6.0</td>\n",
              "      <td>2</td>\n",
              "      <td>2.0</td>\n",
              "      <td>1965</td>\n",
              "      <td>0.014073</td>\n",
              "      <td>1</td>\n",
              "      <td>1</td>\n",
              "      <td>...</td>\n",
              "      <td>1</td>\n",
              "      <td>0</td>\n",
              "      <td>0</td>\n",
              "      <td>0</td>\n",
              "      <td>0</td>\n",
              "      <td>372.0</td>\n",
              "      <td>0</td>\n",
              "      <td>1</td>\n",
              "      <td>172778.615365</td>\n",
              "      <td>181075.620347</td>\n",
              "    </tr>\n",
              "    <tr>\n",
              "      <th>4</th>\n",
              "      <td>1.0</td>\n",
              "      <td>53.837056</td>\n",
              "      <td>47.837056</td>\n",
              "      <td>3.0</td>\n",
              "      <td>8</td>\n",
              "      <td>17.0</td>\n",
              "      <td>1977</td>\n",
              "      <td>0.309479</td>\n",
              "      <td>1</td>\n",
              "      <td>1</td>\n",
              "      <td>...</td>\n",
              "      <td>1</td>\n",
              "      <td>0</td>\n",
              "      <td>0</td>\n",
              "      <td>0</td>\n",
              "      <td>1</td>\n",
              "      <td>65.0</td>\n",
              "      <td>0</td>\n",
              "      <td>0</td>\n",
              "      <td>164116.183543</td>\n",
              "      <td>191935.165175</td>\n",
              "    </tr>\n",
              "    <tr>\n",
              "      <th>...</th>\n",
              "      <td>...</td>\n",
              "      <td>...</td>\n",
              "      <td>...</td>\n",
              "      <td>...</td>\n",
              "      <td>...</td>\n",
              "      <td>...</td>\n",
              "      <td>...</td>\n",
              "      <td>...</td>\n",
              "      <td>...</td>\n",
              "      <td>...</td>\n",
              "      <td>...</td>\n",
              "      <td>...</td>\n",
              "      <td>...</td>\n",
              "      <td>...</td>\n",
              "      <td>...</td>\n",
              "      <td>...</td>\n",
              "      <td>...</td>\n",
              "      <td>...</td>\n",
              "      <td>...</td>\n",
              "      <td>...</td>\n",
              "      <td>...</td>\n",
              "    </tr>\n",
              "    <tr>\n",
              "      <th>4995</th>\n",
              "      <td>2.0</td>\n",
              "      <td>43.177521</td>\n",
              "      <td>30.339945</td>\n",
              "      <td>5.0</td>\n",
              "      <td>1</td>\n",
              "      <td>5.0</td>\n",
              "      <td>1962</td>\n",
              "      <td>0.069660</td>\n",
              "      <td>1</td>\n",
              "      <td>1</td>\n",
              "      <td>...</td>\n",
              "      <td>1</td>\n",
              "      <td>0</td>\n",
              "      <td>1</td>\n",
              "      <td>0</td>\n",
              "      <td>0</td>\n",
              "      <td>56.0</td>\n",
              "      <td>0</td>\n",
              "      <td>0</td>\n",
              "      <td>183575.963167</td>\n",
              "      <td>181075.620347</td>\n",
              "    </tr>\n",
              "    <tr>\n",
              "      <th>4996</th>\n",
              "      <td>3.0</td>\n",
              "      <td>93.698122</td>\n",
              "      <td>94.521465</td>\n",
              "      <td>10.0</td>\n",
              "      <td>21</td>\n",
              "      <td>27.0</td>\n",
              "      <td>2018</td>\n",
              "      <td>0.060753</td>\n",
              "      <td>1</td>\n",
              "      <td>1</td>\n",
              "      <td>...</td>\n",
              "      <td>1</td>\n",
              "      <td>0</td>\n",
              "      <td>0</td>\n",
              "      <td>0</td>\n",
              "      <td>0</td>\n",
              "      <td>26.0</td>\n",
              "      <td>0</td>\n",
              "      <td>0</td>\n",
              "      <td>425037.641820</td>\n",
              "      <td>197079.177851</td>\n",
              "    </tr>\n",
              "    <tr>\n",
              "      <th>4997</th>\n",
              "      <td>1.0</td>\n",
              "      <td>33.656723</td>\n",
              "      <td>19.003259</td>\n",
              "      <td>5.0</td>\n",
              "      <td>2</td>\n",
              "      <td>5.0</td>\n",
              "      <td>1966</td>\n",
              "      <td>0.038693</td>\n",
              "      <td>1</td>\n",
              "      <td>1</td>\n",
              "      <td>...</td>\n",
              "      <td>1</td>\n",
              "      <td>0</td>\n",
              "      <td>0</td>\n",
              "      <td>0</td>\n",
              "      <td>0</td>\n",
              "      <td>54.0</td>\n",
              "      <td>0</td>\n",
              "      <td>0</td>\n",
              "      <td>156266.487610</td>\n",
              "      <td>181075.620347</td>\n",
              "    </tr>\n",
              "    <tr>\n",
              "      <th>4998</th>\n",
              "      <td>1.0</td>\n",
              "      <td>38.635155</td>\n",
              "      <td>20.976257</td>\n",
              "      <td>9.0</td>\n",
              "      <td>8</td>\n",
              "      <td>14.0</td>\n",
              "      <td>1970</td>\n",
              "      <td>0.089040</td>\n",
              "      <td>1</td>\n",
              "      <td>1</td>\n",
              "      <td>...</td>\n",
              "      <td>1</td>\n",
              "      <td>0</td>\n",
              "      <td>0</td>\n",
              "      <td>0</td>\n",
              "      <td>0</td>\n",
              "      <td>40.0</td>\n",
              "      <td>0</td>\n",
              "      <td>0</td>\n",
              "      <td>185704.766694</td>\n",
              "      <td>191935.165175</td>\n",
              "    </tr>\n",
              "    <tr>\n",
              "      <th>4999</th>\n",
              "      <td>2.0</td>\n",
              "      <td>67.122742</td>\n",
              "      <td>33.944344</td>\n",
              "      <td>6.0</td>\n",
              "      <td>9</td>\n",
              "      <td>17.0</td>\n",
              "      <td>2009</td>\n",
              "      <td>0.194489</td>\n",
              "      <td>1</td>\n",
              "      <td>1</td>\n",
              "      <td>...</td>\n",
              "      <td>1</td>\n",
              "      <td>0</td>\n",
              "      <td>0</td>\n",
              "      <td>0</td>\n",
              "      <td>0</td>\n",
              "      <td>117.0</td>\n",
              "      <td>0</td>\n",
              "      <td>1</td>\n",
              "      <td>182602.286983</td>\n",
              "      <td>230123.997638</td>\n",
              "    </tr>\n",
              "  </tbody>\n",
              "</table>\n",
              "<p>5000 rows × 25 columns</p>\n",
              "</div>"
            ],
            "text/plain": [
              "      Rooms     Square  LifeSquare  KitchenSquare  Floor  HouseFloor  \\\n",
              "0       1.0  36.847630   19.094182            5.0      5         9.0   \n",
              "1       1.0  42.493907   42.568133           10.0      7        17.0   \n",
              "2       2.0  59.463678   47.463678            9.0     19        19.0   \n",
              "3       3.0  49.646030   33.893825            6.0      2         2.0   \n",
              "4       1.0  53.837056   47.837056            3.0      8        17.0   \n",
              "...     ...        ...         ...            ...    ...         ...   \n",
              "4995    2.0  43.177521   30.339945            5.0      1         5.0   \n",
              "4996    3.0  93.698122   94.521465           10.0     21        27.0   \n",
              "4997    1.0  33.656723   19.003259            5.0      2         5.0   \n",
              "4998    1.0  38.635155   20.976257            9.0      8        14.0   \n",
              "4999    2.0  67.122742   33.944344            6.0      9        17.0   \n",
              "\n",
              "      HouseYear  Ecology_1  Ecology_2  Ecology_3  ...  Shops_2  Rooms_outlier  \\\n",
              "0          1970   0.036122          1          1  ...        1              0   \n",
              "1          2017   0.072158          1          1  ...        0              0   \n",
              "2          1977   0.211401          1          1  ...        1              0   \n",
              "3          1965   0.014073          1          1  ...        1              0   \n",
              "4          1977   0.309479          1          1  ...        1              0   \n",
              "...         ...        ...        ...        ...  ...      ...            ...   \n",
              "4995       1962   0.069660          1          1  ...        1              0   \n",
              "4996       2018   0.060753          1          1  ...        1              0   \n",
              "4997       1966   0.038693          1          1  ...        1              0   \n",
              "4998       1970   0.089040          1          1  ...        1              0   \n",
              "4999       2009   0.194489          1          1  ...        1              0   \n",
              "\n",
              "      HouseFloor_outlier  HouseYear_outlier  LifeSquare_nan  DistrictSize  \\\n",
              "0                      0                  0               0          76.0   \n",
              "1                      0                  0               0         164.0   \n",
              "2                      0                  0               1         580.0   \n",
              "3                      0                  0               0         372.0   \n",
              "4                      0                  0               1          65.0   \n",
              "...                  ...                ...             ...           ...   \n",
              "4995                   1                  0               0          56.0   \n",
              "4996                   0                  0               0          26.0   \n",
              "4997                   0                  0               0          54.0   \n",
              "4998                   0                  0               0          40.0   \n",
              "4999                   0                  0               0         117.0   \n",
              "\n",
              "      new_district  IsDistrictLarge  MedPriceByDistrict  MedPriceByFloorYear  \n",
              "0                0                0       171145.169069        188417.787348  \n",
              "1                0                1       131107.271962        177755.781775  \n",
              "2                0                1       165993.292450        171739.199220  \n",
              "3                0                1       172778.615365        181075.620347  \n",
              "4                0                0       164116.183543        191935.165175  \n",
              "...            ...              ...                 ...                  ...  \n",
              "4995             0                0       183575.963167        181075.620347  \n",
              "4996             0                0       425037.641820        197079.177851  \n",
              "4997             0                0       156266.487610        181075.620347  \n",
              "4998             0                0       185704.766694        191935.165175  \n",
              "4999             0                1       182602.286983        230123.997638  \n",
              "\n",
              "[5000 rows x 25 columns]"
            ]
          },
          "metadata": {
            "tags": []
          },
          "execution_count": 70
        }
      ]
    },
    {
      "cell_type": "code",
      "metadata": {
        "id": "0ZtxehCDg2f0",
        "outputId": "5a899649-96e9-42d3-9bdf-adbdc53d05a8"
      },
      "source": [
        "submit = pd.read_csv('sample_submission.csv')\n",
        "submit.head()"
      ],
      "execution_count": null,
      "outputs": [
        {
          "output_type": "execute_result",
          "data": {
            "text/html": [
              "<div>\n",
              "<style scoped>\n",
              "    .dataframe tbody tr th:only-of-type {\n",
              "        vertical-align: middle;\n",
              "    }\n",
              "\n",
              "    .dataframe tbody tr th {\n",
              "        vertical-align: top;\n",
              "    }\n",
              "\n",
              "    .dataframe thead th {\n",
              "        text-align: right;\n",
              "    }\n",
              "</style>\n",
              "<table border=\"1\" class=\"dataframe\">\n",
              "  <thead>\n",
              "    <tr style=\"text-align: right;\">\n",
              "      <th></th>\n",
              "      <th>Id</th>\n",
              "      <th>Price</th>\n",
              "    </tr>\n",
              "  </thead>\n",
              "  <tbody>\n",
              "    <tr>\n",
              "      <th>0</th>\n",
              "      <td>4567</td>\n",
              "      <td>200000.0</td>\n",
              "    </tr>\n",
              "    <tr>\n",
              "      <th>1</th>\n",
              "      <td>5925</td>\n",
              "      <td>200000.0</td>\n",
              "    </tr>\n",
              "    <tr>\n",
              "      <th>2</th>\n",
              "      <td>960</td>\n",
              "      <td>200000.0</td>\n",
              "    </tr>\n",
              "    <tr>\n",
              "      <th>3</th>\n",
              "      <td>3848</td>\n",
              "      <td>200000.0</td>\n",
              "    </tr>\n",
              "    <tr>\n",
              "      <th>4</th>\n",
              "      <td>746</td>\n",
              "      <td>200000.0</td>\n",
              "    </tr>\n",
              "  </tbody>\n",
              "</table>\n",
              "</div>"
            ],
            "text/plain": [
              "     Id     Price\n",
              "0  4567  200000.0\n",
              "1  5925  200000.0\n",
              "2   960  200000.0\n",
              "3  3848  200000.0\n",
              "4   746  200000.0"
            ]
          },
          "metadata": {
            "tags": []
          },
          "execution_count": 74
        }
      ]
    },
    {
      "cell_type": "code",
      "metadata": {
        "id": "r0q1xDu-g2f0",
        "outputId": "19d6413f-7a54-487a-c069-a63c9c590706"
      },
      "source": [
        "predictions = model.predict(test_df)\n",
        "predictions"
      ],
      "execution_count": null,
      "outputs": [
        {
          "output_type": "execute_result",
          "data": {
            "text/plain": [
              "array([171720.86258202, 125196.2232599 , 132393.69428641, ...,\n",
              "       159941.81658813, 196710.98388416, 256225.44419331])"
            ]
          },
          "metadata": {
            "tags": []
          },
          "execution_count": 72
        }
      ]
    },
    {
      "cell_type": "code",
      "metadata": {
        "id": "8YTiJkHvg2f1",
        "outputId": "011f6786-baa1-4383-9013-2fb5c075df33"
      },
      "source": [
        "submit['Price'] = predictions\n",
        "submit.head()"
      ],
      "execution_count": null,
      "outputs": [
        {
          "output_type": "execute_result",
          "data": {
            "text/html": [
              "<div>\n",
              "<style scoped>\n",
              "    .dataframe tbody tr th:only-of-type {\n",
              "        vertical-align: middle;\n",
              "    }\n",
              "\n",
              "    .dataframe tbody tr th {\n",
              "        vertical-align: top;\n",
              "    }\n",
              "\n",
              "    .dataframe thead th {\n",
              "        text-align: right;\n",
              "    }\n",
              "</style>\n",
              "<table border=\"1\" class=\"dataframe\">\n",
              "  <thead>\n",
              "    <tr style=\"text-align: right;\">\n",
              "      <th></th>\n",
              "      <th>Id</th>\n",
              "      <th>Price</th>\n",
              "    </tr>\n",
              "  </thead>\n",
              "  <tbody>\n",
              "    <tr>\n",
              "      <th>0</th>\n",
              "      <td>4567</td>\n",
              "      <td>171720.862582</td>\n",
              "    </tr>\n",
              "    <tr>\n",
              "      <th>1</th>\n",
              "      <td>5925</td>\n",
              "      <td>125196.223260</td>\n",
              "    </tr>\n",
              "    <tr>\n",
              "      <th>2</th>\n",
              "      <td>960</td>\n",
              "      <td>132393.694286</td>\n",
              "    </tr>\n",
              "    <tr>\n",
              "      <th>3</th>\n",
              "      <td>3848</td>\n",
              "      <td>109370.596626</td>\n",
              "    </tr>\n",
              "    <tr>\n",
              "      <th>4</th>\n",
              "      <td>746</td>\n",
              "      <td>184250.290331</td>\n",
              "    </tr>\n",
              "  </tbody>\n",
              "</table>\n",
              "</div>"
            ],
            "text/plain": [
              "     Id          Price\n",
              "0  4567  171720.862582\n",
              "1  5925  125196.223260\n",
              "2   960  132393.694286\n",
              "3  3848  109370.596626\n",
              "4   746  184250.290331"
            ]
          },
          "metadata": {
            "tags": []
          },
          "execution_count": 73
        }
      ]
    },
    {
      "cell_type": "code",
      "metadata": {
        "id": "OXs5HRyDg2f2"
      },
      "source": [
        "submit.to_csv('my_submit2.csv', index=False)"
      ],
      "execution_count": null,
      "outputs": []
    },
    {
      "cell_type": "code",
      "metadata": {
        "id": "NT9vnF-Cg2f2"
      },
      "source": [
        ""
      ],
      "execution_count": null,
      "outputs": []
    }
  ]
}