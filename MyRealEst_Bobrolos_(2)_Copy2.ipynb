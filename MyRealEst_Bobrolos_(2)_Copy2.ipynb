{
  "nbformat": 4,
  "nbformat_minor": 0,
  "metadata": {
    "kernelspec": {
      "display_name": "Python 3",
      "language": "python",
      "name": "python3"
    },
    "language_info": {
      "codemirror_mode": {
        "name": "ipython",
        "version": 3
      },
      "file_extension": ".py",
      "mimetype": "text/x-python",
      "name": "python",
      "nbconvert_exporter": "python",
      "pygments_lexer": "ipython3",
      "version": "3.8.8"
    },
    "colab": {
      "name": "MyRealEst_Bobrolos (2)-Copy2.ipynb",
      "provenance": [],
      "include_colab_link": true
    }
  },
  "cells": [
    {
      "cell_type": "markdown",
      "metadata": {
        "id": "view-in-github",
        "colab_type": "text"
      },
      "source": [
        "<a href=\"https://colab.research.google.com/github/Bobrolos/Python-/blob/main/MyRealEst_Bobrolos_(2)_Copy2.ipynb\" target=\"_parent\"><img src=\"https://colab.research.google.com/assets/colab-badge.svg\" alt=\"Open In Colab\"/></a>"
      ]
    },
    {
      "cell_type": "code",
      "metadata": {
        "execution": {
          "iopub.execute_input": "2021-05-25T15:46:34.313385Z",
          "iopub.status.busy": "2021-05-25T15:46:34.313116Z",
          "iopub.status.idle": "2021-05-25T15:46:35.838525Z",
          "shell.execute_reply": "2021-05-25T15:46:35.837562Z",
          "shell.execute_reply.started": "2021-05-25T15:46:34.313359Z"
        },
        "id": "gLfkrMCt1-1y"
      },
      "source": [
        "import numpy as np\n",
        "import pandas as pd\n",
        "import random\n",
        "\n",
        "from sklearn.model_selection import train_test_split, cross_val_score\n",
        "from sklearn.preprocessing import StandardScaler, RobustScaler\n",
        "from sklearn.ensemble import RandomForestRegressor\n",
        "from sklearn.metrics import r2_score as r2\n",
        "from sklearn.model_selection import KFold, GridSearchCV\n",
        "\n",
        "from datetime import datetime\n",
        "\n",
        "import matplotlib\n",
        "import matplotlib.pyplot as plt\n",
        "import seaborn as sns\n",
        "%matplotlib inline"
      ],
      "execution_count": null,
      "outputs": []
    },
    {
      "cell_type": "code",
      "metadata": {
        "id": "H8I5cmIX1-14"
      },
      "source": [
        "import warnings\n",
        "warnings.filterwarnings('ignore')"
      ],
      "execution_count": null,
      "outputs": []
    },
    {
      "cell_type": "code",
      "metadata": {
        "execution": {
          "iopub.execute_input": "2021-05-25T15:46:35.850049Z",
          "iopub.status.busy": "2021-05-25T15:46:35.849566Z",
          "iopub.status.idle": "2021-05-25T15:46:35.862899Z",
          "shell.execute_reply": "2021-05-25T15:46:35.86187Z",
          "shell.execute_reply.started": "2021-05-25T15:46:35.850002Z"
        },
        "id": "_xPJUm471-15"
      },
      "source": [
        "matplotlib.rcParams.update({'font.size': 14})"
      ],
      "execution_count": null,
      "outputs": []
    },
    {
      "cell_type": "code",
      "metadata": {
        "execution": {
          "iopub.execute_input": "2021-05-25T15:46:35.865578Z",
          "iopub.status.busy": "2021-05-25T15:46:35.865077Z",
          "iopub.status.idle": "2021-05-25T15:46:35.881362Z",
          "shell.execute_reply": "2021-05-25T15:46:35.880378Z",
          "shell.execute_reply.started": "2021-05-25T15:46:35.865546Z"
        },
        "id": "pC0tNrYK1-15"
      },
      "source": [
        "def evaluate_preds(train_true_values, train_pred_values, test_true_values, test_pred_values):\n",
        "    print(\"Train R2:\\t\" + str(round(r2(train_true_values, train_pred_values), 3)))\n",
        "    print(\"Test R2:\\t\" + str(round(r2(test_true_values, test_pred_values), 3)))\n",
        "    \n",
        "    plt.figure(figsize=(18,10))\n",
        "    \n",
        "    plt.subplot(121)\n",
        "    sns.scatterplot(x=train_pred_values, y=train_true_values)\n",
        "    plt.xlabel('Predicted values')\n",
        "    plt.ylabel('True values')\n",
        "    plt.title('Train sample prediction')\n",
        "    \n",
        "    plt.subplot(122)\n",
        "    sns.scatterplot(x=test_pred_values, y=test_true_values)\n",
        "    plt.xlabel('Predicted values')\n",
        "    plt.ylabel('True values')\n",
        "    plt.title('Test sample prediction')\n",
        "\n",
        "    plt.show()"
      ],
      "execution_count": null,
      "outputs": []
    },
    {
      "cell_type": "markdown",
      "metadata": {
        "id": "8vc09nEC1-16"
      },
      "source": [
        "### Загрузка данных <a class='anchor' id='load'>"
      ]
    },
    {
      "cell_type": "code",
      "metadata": {
        "id": "aH55vtYp1-17",
        "outputId": "4fee1bed-2bb1-40e9-b12e-286198007a13"
      },
      "source": [
        "train_df = pd.read_csv('train.csv')\n",
        "test_df = pd.read_csv('test.csv')\n",
        "\n",
        "train_df.head()"
      ],
      "execution_count": null,
      "outputs": [
        {
          "output_type": "execute_result",
          "data": {
            "text/html": [
              "<div>\n",
              "<style scoped>\n",
              "    .dataframe tbody tr th:only-of-type {\n",
              "        vertical-align: middle;\n",
              "    }\n",
              "\n",
              "    .dataframe tbody tr th {\n",
              "        vertical-align: top;\n",
              "    }\n",
              "\n",
              "    .dataframe thead th {\n",
              "        text-align: right;\n",
              "    }\n",
              "</style>\n",
              "<table border=\"1\" class=\"dataframe\">\n",
              "  <thead>\n",
              "    <tr style=\"text-align: right;\">\n",
              "      <th></th>\n",
              "      <th>Id</th>\n",
              "      <th>DistrictId</th>\n",
              "      <th>Rooms</th>\n",
              "      <th>Square</th>\n",
              "      <th>LifeSquare</th>\n",
              "      <th>KitchenSquare</th>\n",
              "      <th>Floor</th>\n",
              "      <th>HouseFloor</th>\n",
              "      <th>HouseYear</th>\n",
              "      <th>Ecology_1</th>\n",
              "      <th>Ecology_2</th>\n",
              "      <th>Ecology_3</th>\n",
              "      <th>Social_1</th>\n",
              "      <th>Social_2</th>\n",
              "      <th>Social_3</th>\n",
              "      <th>Healthcare_1</th>\n",
              "      <th>Helthcare_2</th>\n",
              "      <th>Shops_1</th>\n",
              "      <th>Shops_2</th>\n",
              "      <th>Price</th>\n",
              "    </tr>\n",
              "  </thead>\n",
              "  <tbody>\n",
              "    <tr>\n",
              "      <th>0</th>\n",
              "      <td>11809</td>\n",
              "      <td>27</td>\n",
              "      <td>3.0</td>\n",
              "      <td>115.027311</td>\n",
              "      <td>NaN</td>\n",
              "      <td>10.0</td>\n",
              "      <td>4</td>\n",
              "      <td>10.0</td>\n",
              "      <td>2014</td>\n",
              "      <td>0.075424</td>\n",
              "      <td>B</td>\n",
              "      <td>B</td>\n",
              "      <td>11</td>\n",
              "      <td>3097</td>\n",
              "      <td>0</td>\n",
              "      <td>NaN</td>\n",
              "      <td>0</td>\n",
              "      <td>0</td>\n",
              "      <td>B</td>\n",
              "      <td>305018.871089</td>\n",
              "    </tr>\n",
              "    <tr>\n",
              "      <th>1</th>\n",
              "      <td>3013</td>\n",
              "      <td>22</td>\n",
              "      <td>1.0</td>\n",
              "      <td>39.832524</td>\n",
              "      <td>23.169223</td>\n",
              "      <td>8.0</td>\n",
              "      <td>7</td>\n",
              "      <td>8.0</td>\n",
              "      <td>1966</td>\n",
              "      <td>0.118537</td>\n",
              "      <td>B</td>\n",
              "      <td>B</td>\n",
              "      <td>30</td>\n",
              "      <td>6207</td>\n",
              "      <td>1</td>\n",
              "      <td>1183.0</td>\n",
              "      <td>1</td>\n",
              "      <td>0</td>\n",
              "      <td>B</td>\n",
              "      <td>177734.553407</td>\n",
              "    </tr>\n",
              "    <tr>\n",
              "      <th>2</th>\n",
              "      <td>8215</td>\n",
              "      <td>1</td>\n",
              "      <td>3.0</td>\n",
              "      <td>78.342215</td>\n",
              "      <td>47.671972</td>\n",
              "      <td>10.0</td>\n",
              "      <td>2</td>\n",
              "      <td>17.0</td>\n",
              "      <td>1988</td>\n",
              "      <td>0.025609</td>\n",
              "      <td>B</td>\n",
              "      <td>B</td>\n",
              "      <td>33</td>\n",
              "      <td>5261</td>\n",
              "      <td>0</td>\n",
              "      <td>240.0</td>\n",
              "      <td>3</td>\n",
              "      <td>1</td>\n",
              "      <td>B</td>\n",
              "      <td>282078.720850</td>\n",
              "    </tr>\n",
              "    <tr>\n",
              "      <th>3</th>\n",
              "      <td>2352</td>\n",
              "      <td>1</td>\n",
              "      <td>1.0</td>\n",
              "      <td>40.409907</td>\n",
              "      <td>NaN</td>\n",
              "      <td>1.0</td>\n",
              "      <td>10</td>\n",
              "      <td>22.0</td>\n",
              "      <td>1977</td>\n",
              "      <td>0.007122</td>\n",
              "      <td>B</td>\n",
              "      <td>B</td>\n",
              "      <td>1</td>\n",
              "      <td>264</td>\n",
              "      <td>0</td>\n",
              "      <td>NaN</td>\n",
              "      <td>0</td>\n",
              "      <td>1</td>\n",
              "      <td>B</td>\n",
              "      <td>168106.007630</td>\n",
              "    </tr>\n",
              "    <tr>\n",
              "      <th>4</th>\n",
              "      <td>13866</td>\n",
              "      <td>94</td>\n",
              "      <td>2.0</td>\n",
              "      <td>64.285067</td>\n",
              "      <td>38.562517</td>\n",
              "      <td>9.0</td>\n",
              "      <td>16</td>\n",
              "      <td>16.0</td>\n",
              "      <td>1972</td>\n",
              "      <td>0.282798</td>\n",
              "      <td>B</td>\n",
              "      <td>B</td>\n",
              "      <td>33</td>\n",
              "      <td>8667</td>\n",
              "      <td>2</td>\n",
              "      <td>NaN</td>\n",
              "      <td>0</td>\n",
              "      <td>6</td>\n",
              "      <td>B</td>\n",
              "      <td>343995.102962</td>\n",
              "    </tr>\n",
              "  </tbody>\n",
              "</table>\n",
              "</div>"
            ],
            "text/plain": [
              "      Id  DistrictId  Rooms      Square  LifeSquare  KitchenSquare  Floor  \\\n",
              "0  11809          27    3.0  115.027311         NaN           10.0      4   \n",
              "1   3013          22    1.0   39.832524   23.169223            8.0      7   \n",
              "2   8215           1    3.0   78.342215   47.671972           10.0      2   \n",
              "3   2352           1    1.0   40.409907         NaN            1.0     10   \n",
              "4  13866          94    2.0   64.285067   38.562517            9.0     16   \n",
              "\n",
              "   HouseFloor  HouseYear  Ecology_1 Ecology_2 Ecology_3  Social_1  Social_2  \\\n",
              "0        10.0       2014   0.075424         B         B        11      3097   \n",
              "1         8.0       1966   0.118537         B         B        30      6207   \n",
              "2        17.0       1988   0.025609         B         B        33      5261   \n",
              "3        22.0       1977   0.007122         B         B         1       264   \n",
              "4        16.0       1972   0.282798         B         B        33      8667   \n",
              "\n",
              "   Social_3  Healthcare_1  Helthcare_2  Shops_1 Shops_2          Price  \n",
              "0         0           NaN            0        0       B  305018.871089  \n",
              "1         1        1183.0            1        0       B  177734.553407  \n",
              "2         0         240.0            3        1       B  282078.720850  \n",
              "3         0           NaN            0        1       B  168106.007630  \n",
              "4         2           NaN            0        6       B  343995.102962  "
            ]
          },
          "metadata": {
            "tags": []
          },
          "execution_count": 5
        }
      ]
    },
    {
      "cell_type": "markdown",
      "metadata": {
        "id": "WW1Spbyw1-19"
      },
      "source": [
        "**Описание датасета**\n",
        "\n",
        "* **Id** - идентификационный номер квартиры\n",
        "* **DistrictId** - идентификационный номер района\n",
        "* **Rooms** - количество комнат\n",
        "* **Square** - площадь\n",
        "* **LifeSquare** - жилая площадь\n",
        "* **KitchenSquare** - площадь кухни\n",
        "* **Floor** - этаж\n",
        "* **HouseFloor** - количество этажей в доме\n",
        "* **HouseYear** - год постройки дома\n",
        "* **Ecology_1, Ecology_2, Ecology_3** - экологические показатели местности\n",
        "* **Social_1, Social_2, Social_3** - социальные показатели местности\n",
        "* **Healthcare_1, Helthcare_2** - показатели местности, связанные с охраной здоровья\n",
        "* **Shops_1, Shops_2** - показатели, связанные с наличием магазинов, торговых центров\n",
        "* **Price** - цена квартиры"
      ]
    },
    {
      "cell_type": "code",
      "metadata": {
        "execution": {
          "iopub.execute_input": "2021-05-25T15:46:36.061803Z",
          "iopub.status.busy": "2021-05-25T15:46:36.0614Z",
          "iopub.status.idle": "2021-05-25T15:46:36.075333Z",
          "shell.execute_reply": "2021-05-25T15:46:36.074447Z",
          "shell.execute_reply.started": "2021-05-25T15:46:36.061762Z"
        },
        "id": "NhQDIS1n1-1-",
        "outputId": "d0908b65-51f7-4fb8-cdc9-4f4dc0a1770f"
      },
      "source": [
        "train_df.shape[1] - 1 == test_df.shape[1]"
      ],
      "execution_count": null,
      "outputs": [
        {
          "output_type": "execute_result",
          "data": {
            "text/plain": [
              "True"
            ]
          },
          "metadata": {
            "tags": []
          },
          "execution_count": 6
        }
      ]
    },
    {
      "cell_type": "markdown",
      "metadata": {
        "id": "brLvf0Z_1-1_"
      },
      "source": [
        "### Приведение типов"
      ]
    },
    {
      "cell_type": "code",
      "metadata": {
        "execution": {
          "iopub.execute_input": "2021-05-25T15:46:36.077447Z",
          "iopub.status.busy": "2021-05-25T15:46:36.076777Z",
          "iopub.status.idle": "2021-05-25T15:46:36.095279Z",
          "shell.execute_reply": "2021-05-25T15:46:36.094326Z",
          "shell.execute_reply.started": "2021-05-25T15:46:36.077403Z"
        },
        "id": "_w6CRLAZ1-2A",
        "outputId": "07e780cc-9757-45f7-8878-f825176d6b9c"
      },
      "source": [
        "train_df.dtypes"
      ],
      "execution_count": null,
      "outputs": [
        {
          "output_type": "execute_result",
          "data": {
            "text/plain": [
              "Id                 int64\n",
              "DistrictId         int64\n",
              "Rooms            float64\n",
              "Square           float64\n",
              "LifeSquare       float64\n",
              "KitchenSquare    float64\n",
              "Floor              int64\n",
              "HouseFloor       float64\n",
              "HouseYear          int64\n",
              "Ecology_1        float64\n",
              "Ecology_2         object\n",
              "Ecology_3         object\n",
              "Social_1           int64\n",
              "Social_2           int64\n",
              "Social_3           int64\n",
              "Healthcare_1     float64\n",
              "Helthcare_2        int64\n",
              "Shops_1            int64\n",
              "Shops_2           object\n",
              "Price            float64\n",
              "dtype: object"
            ]
          },
          "metadata": {
            "tags": []
          },
          "execution_count": 7
        }
      ]
    },
    {
      "cell_type": "code",
      "metadata": {
        "execution": {
          "iopub.execute_input": "2021-05-25T15:46:36.096994Z",
          "iopub.status.busy": "2021-05-25T15:46:36.096602Z",
          "iopub.status.idle": "2021-05-25T15:46:36.116629Z",
          "shell.execute_reply": "2021-05-25T15:46:36.11562Z",
          "shell.execute_reply.started": "2021-05-25T15:46:36.096962Z"
        },
        "id": "pjSLzYJS1-2B"
      },
      "source": [
        "train_df['Id'] = train_df['Id'].astype(str)\n",
        "train_df['DistrictId'] = train_df['DistrictId'].astype(str)"
      ],
      "execution_count": null,
      "outputs": []
    },
    {
      "cell_type": "markdown",
      "metadata": {
        "id": "EbYopr2N1-2B"
      },
      "source": [
        "**Целевая переменная**"
      ]
    },
    {
      "cell_type": "code",
      "metadata": {
        "execution": {
          "iopub.execute_input": "2021-05-25T15:46:36.118271Z",
          "iopub.status.busy": "2021-05-25T15:46:36.117979Z",
          "iopub.status.idle": "2021-05-25T15:46:36.410799Z",
          "shell.execute_reply": "2021-05-25T15:46:36.40961Z",
          "shell.execute_reply.started": "2021-05-25T15:46:36.118244Z"
        },
        "id": "Qq3hi69N1-2C",
        "outputId": "d9b244da-6271-407f-9e5f-47fea9728129"
      },
      "source": [
        "target = train_df[['Price']]\n",
        "\n",
        "target_mean = round(target.mean(), 2)\n",
        "target_median = round(target.median(), 2)\n",
        "\n",
        "plt.figure(figsize = (12, 5))\n",
        "\n",
        "sns.kdeplot(train_df['Price'], shade=True, legend=False)\n",
        "\n",
        "plt.xlabel('price')\n",
        "\n",
        "y = np.linspace(0, 0.0000065, 100)\n",
        "plt.plot([target_mean] * 100, y, label='mean', linestyle=':', linewidth=4)\n",
        "plt.plot([target_median] * 100, y, label='median', linestyle='--', linewidth=4)\n",
        "\n",
        "plt.title('Распределение целевой переменной')\n",
        "plt.legend(frameon=False)\n",
        "plt.show()"
      ],
      "execution_count": null,
      "outputs": [
        {
          "output_type": "display_data",
          "data": {
            "image/png": "[encoded data removed]",
            "text/plain": [
              "<Figure size 864x360 with 1 Axes>"
            ]
          },
          "metadata": {
            "tags": [],
            "needs_background": "light"
          }
        }
      ]
    },
    {
      "cell_type": "markdown",
      "metadata": {
        "id": "kozWBqU31-2D"
      },
      "source": [
        "**Количественные переменные**"
      ]
    },
    {
      "cell_type": "code",
      "metadata": {
        "execution": {
          "iopub.execute_input": "2021-05-25T15:46:36.412349Z",
          "iopub.status.busy": "2021-05-25T15:46:36.412054Z",
          "iopub.status.idle": "2021-05-25T15:46:36.551146Z",
          "shell.execute_reply": "2021-05-25T15:46:36.550125Z",
          "shell.execute_reply.started": "2021-05-25T15:46:36.412318Z"
        },
        "id": "FgwMLSLW1-2D",
        "outputId": "61ffa94a-7ac4-4935-b0a1-df787e327ab0"
      },
      "source": [
        "train_df.describe()"
      ],
      "execution_count": null,
      "outputs": [
        {
          "output_type": "execute_result",
          "data": {
            "text/html": [
              "<div>\n",
              "<style scoped>\n",
              "    .dataframe tbody tr th:only-of-type {\n",
              "        vertical-align: middle;\n",
              "    }\n",
              "\n",
              "    .dataframe tbody tr th {\n",
              "        vertical-align: top;\n",
              "    }\n",
              "\n",
              "    .dataframe thead th {\n",
              "        text-align: right;\n",
              "    }\n",
              "</style>\n",
              "<table border=\"1\" class=\"dataframe\">\n",
              "  <thead>\n",
              "    <tr style=\"text-align: right;\">\n",
              "      <th></th>\n",
              "      <th>Rooms</th>\n",
              "      <th>Square</th>\n",
              "      <th>LifeSquare</th>\n",
              "      <th>KitchenSquare</th>\n",
              "      <th>Floor</th>\n",
              "      <th>HouseFloor</th>\n",
              "      <th>HouseYear</th>\n",
              "      <th>Ecology_1</th>\n",
              "      <th>Social_1</th>\n",
              "      <th>Social_2</th>\n",
              "      <th>Social_3</th>\n",
              "      <th>Healthcare_1</th>\n",
              "      <th>Helthcare_2</th>\n",
              "      <th>Shops_1</th>\n",
              "      <th>Price</th>\n",
              "    </tr>\n",
              "  </thead>\n",
              "  <tbody>\n",
              "    <tr>\n",
              "      <th>count</th>\n",
              "      <td>10000.000000</td>\n",
              "      <td>10000.000000</td>\n",
              "      <td>7887.000000</td>\n",
              "      <td>10000.000000</td>\n",
              "      <td>10000.000000</td>\n",
              "      <td>10000.000000</td>\n",
              "      <td>1.000000e+04</td>\n",
              "      <td>10000.000000</td>\n",
              "      <td>10000.000000</td>\n",
              "      <td>10000.000000</td>\n",
              "      <td>10000.000000</td>\n",
              "      <td>5202.000000</td>\n",
              "      <td>10000.000000</td>\n",
              "      <td>10000.000000</td>\n",
              "      <td>10000.000000</td>\n",
              "    </tr>\n",
              "    <tr>\n",
              "      <th>mean</th>\n",
              "      <td>1.890500</td>\n",
              "      <td>56.315775</td>\n",
              "      <td>37.199645</td>\n",
              "      <td>6.273300</td>\n",
              "      <td>8.526700</td>\n",
              "      <td>12.609400</td>\n",
              "      <td>3.990166e+03</td>\n",
              "      <td>0.118858</td>\n",
              "      <td>24.687000</td>\n",
              "      <td>5352.157400</td>\n",
              "      <td>8.039200</td>\n",
              "      <td>1142.904460</td>\n",
              "      <td>1.319500</td>\n",
              "      <td>4.231300</td>\n",
              "      <td>214138.857399</td>\n",
              "    </tr>\n",
              "    <tr>\n",
              "      <th>std</th>\n",
              "      <td>0.839512</td>\n",
              "      <td>21.058732</td>\n",
              "      <td>86.241209</td>\n",
              "      <td>28.560917</td>\n",
              "      <td>5.241148</td>\n",
              "      <td>6.775974</td>\n",
              "      <td>2.005003e+05</td>\n",
              "      <td>0.119025</td>\n",
              "      <td>17.532614</td>\n",
              "      <td>4006.799803</td>\n",
              "      <td>23.831875</td>\n",
              "      <td>1021.517264</td>\n",
              "      <td>1.493601</td>\n",
              "      <td>4.806341</td>\n",
              "      <td>92872.293865</td>\n",
              "    </tr>\n",
              "    <tr>\n",
              "      <th>min</th>\n",
              "      <td>0.000000</td>\n",
              "      <td>1.136859</td>\n",
              "      <td>0.370619</td>\n",
              "      <td>0.000000</td>\n",
              "      <td>1.000000</td>\n",
              "      <td>0.000000</td>\n",
              "      <td>1.910000e+03</td>\n",
              "      <td>0.000000</td>\n",
              "      <td>0.000000</td>\n",
              "      <td>168.000000</td>\n",
              "      <td>0.000000</td>\n",
              "      <td>0.000000</td>\n",
              "      <td>0.000000</td>\n",
              "      <td>0.000000</td>\n",
              "      <td>59174.778028</td>\n",
              "    </tr>\n",
              "    <tr>\n",
              "      <th>25%</th>\n",
              "      <td>1.000000</td>\n",
              "      <td>41.774881</td>\n",
              "      <td>22.769832</td>\n",
              "      <td>1.000000</td>\n",
              "      <td>4.000000</td>\n",
              "      <td>9.000000</td>\n",
              "      <td>1.974000e+03</td>\n",
              "      <td>0.017647</td>\n",
              "      <td>6.000000</td>\n",
              "      <td>1564.000000</td>\n",
              "      <td>0.000000</td>\n",
              "      <td>350.000000</td>\n",
              "      <td>0.000000</td>\n",
              "      <td>1.000000</td>\n",
              "      <td>153872.633942</td>\n",
              "    </tr>\n",
              "    <tr>\n",
              "      <th>50%</th>\n",
              "      <td>2.000000</td>\n",
              "      <td>52.513310</td>\n",
              "      <td>32.781260</td>\n",
              "      <td>6.000000</td>\n",
              "      <td>7.000000</td>\n",
              "      <td>13.000000</td>\n",
              "      <td>1.977000e+03</td>\n",
              "      <td>0.075424</td>\n",
              "      <td>25.000000</td>\n",
              "      <td>5285.000000</td>\n",
              "      <td>2.000000</td>\n",
              "      <td>900.000000</td>\n",
              "      <td>1.000000</td>\n",
              "      <td>3.000000</td>\n",
              "      <td>192269.644879</td>\n",
              "    </tr>\n",
              "    <tr>\n",
              "      <th>75%</th>\n",
              "      <td>2.000000</td>\n",
              "      <td>65.900625</td>\n",
              "      <td>45.128803</td>\n",
              "      <td>9.000000</td>\n",
              "      <td>12.000000</td>\n",
              "      <td>17.000000</td>\n",
              "      <td>2.001000e+03</td>\n",
              "      <td>0.195781</td>\n",
              "      <td>36.000000</td>\n",
              "      <td>7227.000000</td>\n",
              "      <td>5.000000</td>\n",
              "      <td>1548.000000</td>\n",
              "      <td>2.000000</td>\n",
              "      <td>6.000000</td>\n",
              "      <td>249135.462171</td>\n",
              "    </tr>\n",
              "    <tr>\n",
              "      <th>max</th>\n",
              "      <td>19.000000</td>\n",
              "      <td>641.065193</td>\n",
              "      <td>7480.592129</td>\n",
              "      <td>2014.000000</td>\n",
              "      <td>42.000000</td>\n",
              "      <td>117.000000</td>\n",
              "      <td>2.005201e+07</td>\n",
              "      <td>0.521867</td>\n",
              "      <td>74.000000</td>\n",
              "      <td>19083.000000</td>\n",
              "      <td>141.000000</td>\n",
              "      <td>4849.000000</td>\n",
              "      <td>6.000000</td>\n",
              "      <td>23.000000</td>\n",
              "      <td>633233.466570</td>\n",
              "    </tr>\n",
              "  </tbody>\n",
              "</table>\n",
              "</div>"
            ],
            "text/plain": [
              "              Rooms        Square   LifeSquare  KitchenSquare         Floor  \\\n",
              "count  10000.000000  10000.000000  7887.000000   10000.000000  10000.000000   \n",
              "mean       1.890500     56.315775    37.199645       6.273300      8.526700   \n",
              "std        0.839512     21.058732    86.241209      28.560917      5.241148   \n",
              "min        0.000000      1.136859     0.370619       0.000000      1.000000   \n",
              "25%        1.000000     41.774881    22.769832       1.000000      4.000000   \n",
              "50%        2.000000     52.513310    32.781260       6.000000      7.000000   \n",
              "75%        2.000000     65.900625    45.128803       9.000000     12.000000   \n",
              "max       19.000000    641.065193  7480.592129    2014.000000     42.000000   \n",
              "\n",
              "         HouseFloor     HouseYear     Ecology_1      Social_1      Social_2  \\\n",
              "count  10000.000000  1.000000e+04  10000.000000  10000.000000  10000.000000   \n",
              "mean      12.609400  3.990166e+03      0.118858     24.687000   5352.157400   \n",
              "std        6.775974  2.005003e+05      0.119025     17.532614   4006.799803   \n",
              "min        0.000000  1.910000e+03      0.000000      0.000000    168.000000   \n",
              "25%        9.000000  1.974000e+03      0.017647      6.000000   1564.000000   \n",
              "50%       13.000000  1.977000e+03      0.075424     25.000000   5285.000000   \n",
              "75%       17.000000  2.001000e+03      0.195781     36.000000   7227.000000   \n",
              "max      117.000000  2.005201e+07      0.521867     74.000000  19083.000000   \n",
              "\n",
              "           Social_3  Healthcare_1   Helthcare_2       Shops_1          Price  \n",
              "count  10000.000000   5202.000000  10000.000000  10000.000000   10000.000000  \n",
              "mean       8.039200   1142.904460      1.319500      4.231300  214138.857399  \n",
              "std       23.831875   1021.517264      1.493601      4.806341   92872.293865  \n",
              "min        0.000000      0.000000      0.000000      0.000000   59174.778028  \n",
              "25%        0.000000    350.000000      0.000000      1.000000  153872.633942  \n",
              "50%        2.000000    900.000000      1.000000      3.000000  192269.644879  \n",
              "75%        5.000000   1548.000000      2.000000      6.000000  249135.462171  \n",
              "max      141.000000   4849.000000      6.000000     23.000000  633233.466570  "
            ]
          },
          "metadata": {
            "tags": []
          },
          "execution_count": 10
        }
      ]
    },
    {
      "cell_type": "markdown",
      "metadata": {
        "id": "IK51-Hs21-2E"
      },
      "source": [
        "**Номинативные переменные**"
      ]
    },
    {
      "cell_type": "code",
      "metadata": {
        "execution": {
          "iopub.execute_input": "2021-05-25T15:46:36.552574Z",
          "iopub.status.busy": "2021-05-25T15:46:36.552323Z",
          "iopub.status.idle": "2021-05-25T15:46:36.561211Z",
          "shell.execute_reply": "2021-05-25T15:46:36.560343Z",
          "shell.execute_reply.started": "2021-05-25T15:46:36.552549Z"
        },
        "id": "U1ckACyu1-2E",
        "outputId": "468ad3a1-9430-402f-897a-ba22787a37c9"
      },
      "source": [
        "train_df.select_dtypes(include='object').columns.tolist()"
      ],
      "execution_count": null,
      "outputs": [
        {
          "output_type": "execute_result",
          "data": {
            "text/plain": [
              "['Id', 'DistrictId', 'Ecology_2', 'Ecology_3', 'Shops_2']"
            ]
          },
          "metadata": {
            "tags": []
          },
          "execution_count": 11
        }
      ]
    },
    {
      "cell_type": "code",
      "metadata": {
        "execution": {
          "iopub.execute_input": "2021-05-25T15:46:36.562826Z",
          "iopub.status.busy": "2021-05-25T15:46:36.562548Z",
          "iopub.status.idle": "2021-05-25T15:46:36.57585Z",
          "shell.execute_reply": "2021-05-25T15:46:36.574597Z",
          "shell.execute_reply.started": "2021-05-25T15:46:36.562799Z"
        },
        "id": "ptK5JBQg1-2E",
        "outputId": "3c71dc34-1566-4765-f7d4-63163ef8d696"
      },
      "source": [
        "train_df['DistrictId'].value_counts()"
      ],
      "execution_count": null,
      "outputs": [
        {
          "output_type": "execute_result",
          "data": {
            "text/plain": [
              "27     851\n",
              "1      652\n",
              "23     565\n",
              "6      511\n",
              "9      294\n",
              "      ... \n",
              "117      1\n",
              "207      1\n",
              "205      1\n",
              "199      1\n",
              "174      1\n",
              "Name: DistrictId, Length: 205, dtype: int64"
            ]
          },
          "metadata": {
            "tags": []
          },
          "execution_count": 12
        }
      ]
    },
    {
      "cell_type": "code",
      "metadata": {
        "execution": {
          "iopub.execute_input": "2021-05-25T15:46:36.577699Z",
          "iopub.status.busy": "2021-05-25T15:46:36.577316Z",
          "iopub.status.idle": "2021-05-25T15:46:36.592005Z",
          "shell.execute_reply": "2021-05-25T15:46:36.590787Z",
          "shell.execute_reply.started": "2021-05-25T15:46:36.577644Z"
        },
        "id": "09znH6iC1-2F",
        "outputId": "1356f1de-d2e8-4b08-fd78-e9a23702c00b"
      },
      "source": [
        "train_df['Ecology_2'].value_counts()"
      ],
      "execution_count": null,
      "outputs": [
        {
          "output_type": "execute_result",
          "data": {
            "text/plain": [
              "B    9903\n",
              "A      97\n",
              "Name: Ecology_2, dtype: int64"
            ]
          },
          "metadata": {
            "tags": []
          },
          "execution_count": 13
        }
      ]
    },
    {
      "cell_type": "code",
      "metadata": {
        "execution": {
          "iopub.execute_input": "2021-05-25T15:46:36.59341Z",
          "iopub.status.busy": "2021-05-25T15:46:36.59316Z",
          "iopub.status.idle": "2021-05-25T15:46:36.608404Z",
          "shell.execute_reply": "2021-05-25T15:46:36.607415Z",
          "shell.execute_reply.started": "2021-05-25T15:46:36.593385Z"
        },
        "id": "o9yMvKSV1-2F",
        "outputId": "7268e450-24e0-4f9a-a030-0a11c6b91d5c"
      },
      "source": [
        "train_df['Ecology_3'].value_counts()"
      ],
      "execution_count": null,
      "outputs": [
        {
          "output_type": "execute_result",
          "data": {
            "text/plain": [
              "B    9725\n",
              "A     275\n",
              "Name: Ecology_3, dtype: int64"
            ]
          },
          "metadata": {
            "tags": []
          },
          "execution_count": 14
        }
      ]
    },
    {
      "cell_type": "code",
      "metadata": {
        "execution": {
          "iopub.execute_input": "2021-05-25T15:46:36.610374Z",
          "iopub.status.busy": "2021-05-25T15:46:36.609952Z",
          "iopub.status.idle": "2021-05-25T15:46:36.623258Z",
          "shell.execute_reply": "2021-05-25T15:46:36.622092Z",
          "shell.execute_reply.started": "2021-05-25T15:46:36.610335Z"
        },
        "id": "HHtdHAUV1-2G",
        "outputId": "507fd16c-4191-41b5-fe49-b863eafdbb8b"
      },
      "source": [
        "train_df['Shops_2'].value_counts()"
      ],
      "execution_count": null,
      "outputs": [
        {
          "output_type": "execute_result",
          "data": {
            "text/plain": [
              "B    9175\n",
              "A     825\n",
              "Name: Shops_2, dtype: int64"
            ]
          },
          "metadata": {
            "tags": []
          },
          "execution_count": 15
        }
      ]
    },
    {
      "cell_type": "markdown",
      "metadata": {
        "id": "BV7xU-9P1-2H"
      },
      "source": [
        "### Обработка выбросов  <a class='anchor' id='outlier'>"
      ]
    },
    {
      "cell_type": "markdown",
      "metadata": {
        "id": "U_EzxbW01-2H"
      },
      "source": [
        "**Rooms**"
      ]
    },
    {
      "cell_type": "code",
      "metadata": {
        "execution": {
          "iopub.execute_input": "2021-05-25T15:46:36.624782Z",
          "iopub.status.busy": "2021-05-25T15:46:36.624477Z",
          "iopub.status.idle": "2021-05-25T15:46:36.638969Z",
          "shell.execute_reply": "2021-05-25T15:46:36.638128Z",
          "shell.execute_reply.started": "2021-05-25T15:46:36.624746Z"
        },
        "scrolled": true,
        "id": "eSEyHQ2E1-2H",
        "outputId": "9611f333-29c7-4a34-b078-e9b79bb70d69"
      },
      "source": [
        "train_df['Rooms'].value_counts()"
      ],
      "execution_count": null,
      "outputs": [
        {
          "output_type": "execute_result",
          "data": {
            "text/plain": [
              "2.0     3880\n",
              "1.0     3705\n",
              "3.0     2235\n",
              "4.0      150\n",
              "5.0       18\n",
              "0.0        8\n",
              "10.0       2\n",
              "6.0        1\n",
              "19.0       1\n",
              "Name: Rooms, dtype: int64"
            ]
          },
          "metadata": {
            "tags": []
          },
          "execution_count": 16
        }
      ]
    },
    {
      "cell_type": "code",
      "metadata": {
        "execution": {
          "iopub.execute_input": "2021-05-25T15:46:36.643762Z",
          "iopub.status.busy": "2021-05-25T15:46:36.643265Z",
          "iopub.status.idle": "2021-05-25T15:46:36.696288Z",
          "shell.execute_reply": "2021-05-25T15:46:36.695273Z",
          "shell.execute_reply.started": "2021-05-25T15:46:36.643718Z"
        },
        "id": "7E9QwyAG1-2I",
        "outputId": "e45f7cd3-8a15-40b9-e1d1-3a42f32ecca8"
      },
      "source": [
        "train_df['Rooms_outlier'] = 0\n",
        "train_df.loc[(train_df['Rooms'] == 0) | (train_df['Rooms'] >= 8), 'Rooms_outlier'] = 1\n",
        "train_df.head()"
      ],
      "execution_count": null,
      "outputs": [
        {
          "output_type": "execute_result",
          "data": {
            "text/html": [
              "<div>\n",
              "<style scoped>\n",
              "    .dataframe tbody tr th:only-of-type {\n",
              "        vertical-align: middle;\n",
              "    }\n",
              "\n",
              "    .dataframe tbody tr th {\n",
              "        vertical-align: top;\n",
              "    }\n",
              "\n",
              "    .dataframe thead th {\n",
              "        text-align: right;\n",
              "    }\n",
              "</style>\n",
              "<table border=\"1\" class=\"dataframe\">\n",
              "  <thead>\n",
              "    <tr style=\"text-align: right;\">\n",
              "      <th></th>\n",
              "      <th>Id</th>\n",
              "      <th>DistrictId</th>\n",
              "      <th>Rooms</th>\n",
              "      <th>Square</th>\n",
              "      <th>LifeSquare</th>\n",
              "      <th>KitchenSquare</th>\n",
              "      <th>Floor</th>\n",
              "      <th>HouseFloor</th>\n",
              "      <th>HouseYear</th>\n",
              "      <th>Ecology_1</th>\n",
              "      <th>...</th>\n",
              "      <th>Ecology_3</th>\n",
              "      <th>Social_1</th>\n",
              "      <th>Social_2</th>\n",
              "      <th>Social_3</th>\n",
              "      <th>Healthcare_1</th>\n",
              "      <th>Helthcare_2</th>\n",
              "      <th>Shops_1</th>\n",
              "      <th>Shops_2</th>\n",
              "      <th>Price</th>\n",
              "      <th>Rooms_outlier</th>\n",
              "    </tr>\n",
              "  </thead>\n",
              "  <tbody>\n",
              "    <tr>\n",
              "      <th>0</th>\n",
              "      <td>11809</td>\n",
              "      <td>27</td>\n",
              "      <td>3.0</td>\n",
              "      <td>115.027311</td>\n",
              "      <td>NaN</td>\n",
              "      <td>10.0</td>\n",
              "      <td>4</td>\n",
              "      <td>10.0</td>\n",
              "      <td>2014</td>\n",
              "      <td>0.075424</td>\n",
              "      <td>...</td>\n",
              "      <td>B</td>\n",
              "      <td>11</td>\n",
              "      <td>3097</td>\n",
              "      <td>0</td>\n",
              "      <td>NaN</td>\n",
              "      <td>0</td>\n",
              "      <td>0</td>\n",
              "      <td>B</td>\n",
              "      <td>305018.871089</td>\n",
              "      <td>0</td>\n",
              "    </tr>\n",
              "    <tr>\n",
              "      <th>1</th>\n",
              "      <td>3013</td>\n",
              "      <td>22</td>\n",
              "      <td>1.0</td>\n",
              "      <td>39.832524</td>\n",
              "      <td>23.169223</td>\n",
              "      <td>8.0</td>\n",
              "      <td>7</td>\n",
              "      <td>8.0</td>\n",
              "      <td>1966</td>\n",
              "      <td>0.118537</td>\n",
              "      <td>...</td>\n",
              "      <td>B</td>\n",
              "      <td>30</td>\n",
              "      <td>6207</td>\n",
              "      <td>1</td>\n",
              "      <td>1183.0</td>\n",
              "      <td>1</td>\n",
              "      <td>0</td>\n",
              "      <td>B</td>\n",
              "      <td>177734.553407</td>\n",
              "      <td>0</td>\n",
              "    </tr>\n",
              "    <tr>\n",
              "      <th>2</th>\n",
              "      <td>8215</td>\n",
              "      <td>1</td>\n",
              "      <td>3.0</td>\n",
              "      <td>78.342215</td>\n",
              "      <td>47.671972</td>\n",
              "      <td>10.0</td>\n",
              "      <td>2</td>\n",
              "      <td>17.0</td>\n",
              "      <td>1988</td>\n",
              "      <td>0.025609</td>\n",
              "      <td>...</td>\n",
              "      <td>B</td>\n",
              "      <td>33</td>\n",
              "      <td>5261</td>\n",
              "      <td>0</td>\n",
              "      <td>240.0</td>\n",
              "      <td>3</td>\n",
              "      <td>1</td>\n",
              "      <td>B</td>\n",
              "      <td>282078.720850</td>\n",
              "      <td>0</td>\n",
              "    </tr>\n",
              "    <tr>\n",
              "      <th>3</th>\n",
              "      <td>2352</td>\n",
              "      <td>1</td>\n",
              "      <td>1.0</td>\n",
              "      <td>40.409907</td>\n",
              "      <td>NaN</td>\n",
              "      <td>1.0</td>\n",
              "      <td>10</td>\n",
              "      <td>22.0</td>\n",
              "      <td>1977</td>\n",
              "      <td>0.007122</td>\n",
              "      <td>...</td>\n",
              "      <td>B</td>\n",
              "      <td>1</td>\n",
              "      <td>264</td>\n",
              "      <td>0</td>\n",
              "      <td>NaN</td>\n",
              "      <td>0</td>\n",
              "      <td>1</td>\n",
              "      <td>B</td>\n",
              "      <td>168106.007630</td>\n",
              "      <td>0</td>\n",
              "    </tr>\n",
              "    <tr>\n",
              "      <th>4</th>\n",
              "      <td>13866</td>\n",
              "      <td>94</td>\n",
              "      <td>2.0</td>\n",
              "      <td>64.285067</td>\n",
              "      <td>38.562517</td>\n",
              "      <td>9.0</td>\n",
              "      <td>16</td>\n",
              "      <td>16.0</td>\n",
              "      <td>1972</td>\n",
              "      <td>0.282798</td>\n",
              "      <td>...</td>\n",
              "      <td>B</td>\n",
              "      <td>33</td>\n",
              "      <td>8667</td>\n",
              "      <td>2</td>\n",
              "      <td>NaN</td>\n",
              "      <td>0</td>\n",
              "      <td>6</td>\n",
              "      <td>B</td>\n",
              "      <td>343995.102962</td>\n",
              "      <td>0</td>\n",
              "    </tr>\n",
              "  </tbody>\n",
              "</table>\n",
              "<p>5 rows × 21 columns</p>\n",
              "</div>"
            ],
            "text/plain": [
              "      Id DistrictId  Rooms      Square  LifeSquare  KitchenSquare  Floor  \\\n",
              "0  11809         27    3.0  115.027311         NaN           10.0      4   \n",
              "1   3013         22    1.0   39.832524   23.169223            8.0      7   \n",
              "2   8215          1    3.0   78.342215   47.671972           10.0      2   \n",
              "3   2352          1    1.0   40.409907         NaN            1.0     10   \n",
              "4  13866         94    2.0   64.285067   38.562517            9.0     16   \n",
              "\n",
              "   HouseFloor  HouseYear  Ecology_1  ... Ecology_3 Social_1  Social_2  \\\n",
              "0        10.0       2014   0.075424  ...         B       11      3097   \n",
              "1         8.0       1966   0.118537  ...         B       30      6207   \n",
              "2        17.0       1988   0.025609  ...         B       33      5261   \n",
              "3        22.0       1977   0.007122  ...         B        1       264   \n",
              "4        16.0       1972   0.282798  ...         B       33      8667   \n",
              "\n",
              "   Social_3  Healthcare_1  Helthcare_2  Shops_1  Shops_2          Price  \\\n",
              "0         0           NaN            0        0        B  305018.871089   \n",
              "1         1        1183.0            1        0        B  177734.553407   \n",
              "2         0         240.0            3        1        B  282078.720850   \n",
              "3         0           NaN            0        1        B  168106.007630   \n",
              "4         2           NaN            0        6        B  343995.102962   \n",
              "\n",
              "   Rooms_outlier  \n",
              "0              0  \n",
              "1              0  \n",
              "2              0  \n",
              "3              0  \n",
              "4              0  \n",
              "\n",
              "[5 rows x 21 columns]"
            ]
          },
          "metadata": {
            "tags": []
          },
          "execution_count": 17
        }
      ]
    },
    {
      "cell_type": "code",
      "metadata": {
        "execution": {
          "iopub.execute_input": "2021-05-25T15:46:36.697805Z",
          "iopub.status.busy": "2021-05-25T15:46:36.697542Z",
          "iopub.status.idle": "2021-05-25T15:46:36.704882Z",
          "shell.execute_reply": "2021-05-25T15:46:36.704022Z",
          "shell.execute_reply.started": "2021-05-25T15:46:36.69778Z"
        },
        "id": "vbnD3e_U1-2I"
      },
      "source": [
        "train_df.loc[train_df['Rooms'] == 0, 'Rooms'] = 1\n",
        "train_df.loc[train_df['Rooms'] >= 8, 'Rooms'] = train_df['Rooms'].median()"
      ],
      "execution_count": null,
      "outputs": []
    },
    {
      "cell_type": "code",
      "metadata": {
        "execution": {
          "iopub.execute_input": "2021-05-25T15:46:36.70664Z",
          "iopub.status.busy": "2021-05-25T15:46:36.706217Z",
          "iopub.status.idle": "2021-05-25T15:46:36.722203Z",
          "shell.execute_reply": "2021-05-25T15:46:36.721272Z",
          "shell.execute_reply.started": "2021-05-25T15:46:36.706612Z"
        },
        "id": "fk5p-nuE1-2J",
        "outputId": "f5ec762d-6ec3-461c-84cb-c71531e610af"
      },
      "source": [
        "train_df['Rooms'].value_counts()"
      ],
      "execution_count": null,
      "outputs": [
        {
          "output_type": "execute_result",
          "data": {
            "text/plain": [
              "2.0    3883\n",
              "1.0    3713\n",
              "3.0    2235\n",
              "4.0     150\n",
              "5.0      18\n",
              "6.0       1\n",
              "Name: Rooms, dtype: int64"
            ]
          },
          "metadata": {
            "tags": []
          },
          "execution_count": 19
        }
      ]
    },
    {
      "cell_type": "markdown",
      "metadata": {
        "id": "mjSJwYpg1-2J"
      },
      "source": [
        "**KitchenSquare** "
      ]
    },
    {
      "cell_type": "code",
      "metadata": {
        "execution": {
          "iopub.execute_input": "2021-05-25T15:46:36.723613Z",
          "iopub.status.busy": "2021-05-25T15:46:36.723247Z",
          "iopub.status.idle": "2021-05-25T15:46:36.738252Z",
          "shell.execute_reply": "2021-05-25T15:46:36.737219Z",
          "shell.execute_reply.started": "2021-05-25T15:46:36.723586Z"
        },
        "id": "UIoiqXyy1-2J",
        "outputId": "40478407-4e07-44af-9e5b-8965708a1bba"
      },
      "source": [
        "train_df['KitchenSquare'].value_counts()"
      ],
      "execution_count": null,
      "outputs": [
        {
          "output_type": "execute_result",
          "data": {
            "text/plain": [
              "1.0       2460\n",
              "8.0       1306\n",
              "5.0       1169\n",
              "10.0      1075\n",
              "6.0       1038\n",
              "9.0        843\n",
              "0.0        697\n",
              "7.0        609\n",
              "12.0       249\n",
              "11.0       233\n",
              "13.0        67\n",
              "14.0        51\n",
              "4.0         39\n",
              "15.0        31\n",
              "3.0         22\n",
              "16.0        16\n",
              "20.0        14\n",
              "17.0        12\n",
              "19.0        11\n",
              "18.0         6\n",
              "2.0          4\n",
              "22.0         3\n",
              "112.0        2\n",
              "51.0         2\n",
              "58.0         2\n",
              "37.0         2\n",
              "32.0         2\n",
              "41.0         2\n",
              "43.0         2\n",
              "30.0         2\n",
              "25.0         2\n",
              "39.0         1\n",
              "23.0         1\n",
              "123.0        1\n",
              "40.0         1\n",
              "48.0         1\n",
              "21.0         1\n",
              "72.0         1\n",
              "27.0         1\n",
              "63.0         1\n",
              "1970.0       1\n",
              "29.0         1\n",
              "66.0         1\n",
              "2014.0       1\n",
              "31.0         1\n",
              "78.0         1\n",
              "35.0         1\n",
              "42.0         1\n",
              "73.0         1\n",
              "60.0         1\n",
              "84.0         1\n",
              "26.0         1\n",
              "54.0         1\n",
              "36.0         1\n",
              "53.0         1\n",
              "96.0         1\n",
              "62.0         1\n",
              "75.0         1\n",
              "Name: KitchenSquare, dtype: int64"
            ]
          },
          "metadata": {
            "tags": []
          },
          "execution_count": 20
        }
      ]
    },
    {
      "cell_type": "code",
      "metadata": {
        "execution": {
          "iopub.execute_input": "2021-05-25T15:46:36.739977Z",
          "iopub.status.busy": "2021-05-25T15:46:36.739563Z",
          "iopub.status.idle": "2021-05-25T15:46:36.756926Z",
          "shell.execute_reply": "2021-05-25T15:46:36.756009Z",
          "shell.execute_reply.started": "2021-05-25T15:46:36.739948Z"
        },
        "id": "IniQVlgu1-2K",
        "outputId": "f56640b5-1595-43d7-a3c9-181bf28de245"
      },
      "source": [
        "train_df['KitchenSquare'].quantile(.975), train_df['KitchenSquare'].quantile(.025)"
      ],
      "execution_count": null,
      "outputs": [
        {
          "output_type": "execute_result",
          "data": {
            "text/plain": [
              "(13.0, 0.0)"
            ]
          },
          "metadata": {
            "tags": []
          },
          "execution_count": 21
        }
      ]
    },
    {
      "cell_type": "code",
      "metadata": {
        "execution": {
          "iopub.execute_input": "2021-05-25T15:46:36.758948Z",
          "iopub.status.busy": "2021-05-25T15:46:36.758367Z",
          "iopub.status.idle": "2021-05-25T15:46:36.776398Z",
          "shell.execute_reply": "2021-05-25T15:46:36.775225Z",
          "shell.execute_reply.started": "2021-05-25T15:46:36.758907Z"
        },
        "id": "b5uUGvey1-2K"
      },
      "source": [
        "condition = (train_df['KitchenSquare'].isna()) \\\n",
        "             | (train_df['KitchenSquare'] > train_df['KitchenSquare'].quantile(.975))\n",
        "        \n",
        "train_df.loc[condition, 'KitchenSquare'] = train_df['KitchenSquare'].median()\n",
        "\n",
        "train_df.loc[train_df['KitchenSquare'] < 3, 'KitchenSquare'] = 3"
      ],
      "execution_count": null,
      "outputs": []
    },
    {
      "cell_type": "code",
      "metadata": {
        "execution": {
          "iopub.execute_input": "2021-05-25T15:46:36.778549Z",
          "iopub.status.busy": "2021-05-25T15:46:36.778125Z",
          "iopub.status.idle": "2021-05-25T15:46:36.795187Z",
          "shell.execute_reply": "2021-05-25T15:46:36.794047Z",
          "shell.execute_reply.started": "2021-05-25T15:46:36.778516Z"
        },
        "id": "XCKX_e7g1-2L",
        "outputId": "a57f9cac-9c32-4a5f-a8c4-2e2a42f36087"
      },
      "source": [
        "train_df['KitchenSquare'].value_counts()"
      ],
      "execution_count": null,
      "outputs": [
        {
          "output_type": "execute_result",
          "data": {
            "text/plain": [
              "3.0     3183\n",
              "8.0     1306\n",
              "6.0     1227\n",
              "5.0     1169\n",
              "10.0    1075\n",
              "9.0      843\n",
              "7.0      609\n",
              "12.0     249\n",
              "11.0     233\n",
              "13.0      67\n",
              "4.0       39\n",
              "Name: KitchenSquare, dtype: int64"
            ]
          },
          "metadata": {
            "tags": []
          },
          "execution_count": 23
        }
      ]
    },
    {
      "cell_type": "markdown",
      "metadata": {
        "id": "3S1jxW_51-2L"
      },
      "source": [
        "**HouseFloor, Floor**"
      ]
    },
    {
      "cell_type": "code",
      "metadata": {
        "execution": {
          "iopub.execute_input": "2021-05-25T15:46:36.796888Z",
          "iopub.status.busy": "2021-05-25T15:46:36.796591Z",
          "iopub.status.idle": "2021-05-25T15:46:36.812217Z",
          "shell.execute_reply": "2021-05-25T15:46:36.810979Z",
          "shell.execute_reply.started": "2021-05-25T15:46:36.796856Z"
        },
        "scrolled": true,
        "id": "2j3oBYOn1-2M",
        "outputId": "ce39e496-20fa-41a7-9dbb-8da9210fe41d"
      },
      "source": [
        "train_df['HouseFloor'].sort_values().unique()"
      ],
      "execution_count": null,
      "outputs": [
        {
          "output_type": "execute_result",
          "data": {
            "text/plain": [
              "array([  0.,   1.,   2.,   3.,   4.,   5.,   6.,   7.,   8.,   9.,  10.,\n",
              "        11.,  12.,  13.,  14.,  15.,  16.,  17.,  18.,  19.,  20.,  21.,\n",
              "        22.,  23.,  24.,  25.,  26.,  27.,  28.,  29.,  30.,  31.,  32.,\n",
              "        36.,  37.,  38.,  39.,  40.,  44.,  45.,  47.,  48.,  99., 117.])"
            ]
          },
          "metadata": {
            "tags": []
          },
          "execution_count": 24
        }
      ]
    },
    {
      "cell_type": "code",
      "metadata": {
        "execution": {
          "iopub.execute_input": "2021-05-25T15:46:36.813887Z",
          "iopub.status.busy": "2021-05-25T15:46:36.813511Z",
          "iopub.status.idle": "2021-05-25T15:46:36.830366Z",
          "shell.execute_reply": "2021-05-25T15:46:36.829143Z",
          "shell.execute_reply.started": "2021-05-25T15:46:36.813851Z"
        },
        "scrolled": true,
        "id": "fVN4JMnT1-2M",
        "outputId": "294ca57d-6f98-4792-a427-4c095bfd14da"
      },
      "source": [
        "train_df['Floor'].sort_values().unique()"
      ],
      "execution_count": null,
      "outputs": [
        {
          "output_type": "execute_result",
          "data": {
            "text/plain": [
              "array([ 1,  2,  3,  4,  5,  6,  7,  8,  9, 10, 11, 12, 13, 14, 15, 16, 17,\n",
              "       18, 19, 20, 21, 22, 23, 24, 25, 26, 27, 28, 31, 32, 33, 37, 42],\n",
              "      dtype=int64)"
            ]
          },
          "metadata": {
            "tags": []
          },
          "execution_count": 25
        }
      ]
    },
    {
      "cell_type": "code",
      "metadata": {
        "execution": {
          "iopub.execute_input": "2021-05-25T15:46:36.832164Z",
          "iopub.status.busy": "2021-05-25T15:46:36.831859Z",
          "iopub.status.idle": "2021-05-25T15:46:36.848046Z",
          "shell.execute_reply": "2021-05-25T15:46:36.846546Z",
          "shell.execute_reply.started": "2021-05-25T15:46:36.832136Z"
        },
        "id": "6__rwIMe1-2N",
        "outputId": "91956050-1fd9-4bbc-e120-08bdaecece05"
      },
      "source": [
        "(train_df['Floor'] > train_df['HouseFloor']).sum()"
      ],
      "execution_count": null,
      "outputs": [
        {
          "output_type": "execute_result",
          "data": {
            "text/plain": [
              "1825"
            ]
          },
          "metadata": {
            "tags": []
          },
          "execution_count": 26
        }
      ]
    },
    {
      "cell_type": "code",
      "metadata": {
        "execution": {
          "iopub.execute_input": "2021-05-25T15:46:36.850341Z",
          "iopub.status.busy": "2021-05-25T15:46:36.849949Z",
          "iopub.status.idle": "2021-05-25T15:46:36.866757Z",
          "shell.execute_reply": "2021-05-25T15:46:36.865603Z",
          "shell.execute_reply.started": "2021-05-25T15:46:36.850299Z"
        },
        "id": "DLrEUE2z1-2N"
      },
      "source": [
        "train_df['HouseFloor_outlier'] = 0\n",
        "train_df.loc[train_df['HouseFloor'] == 0, 'HouseFloor_outlier'] = 1\n",
        "train_df.loc[train_df['Floor'] > train_df['HouseFloor'], 'HouseFloor_outlier'] = 1"
      ],
      "execution_count": null,
      "outputs": []
    },
    {
      "cell_type": "code",
      "metadata": {
        "execution": {
          "iopub.execute_input": "2021-05-25T15:46:36.868858Z",
          "iopub.status.busy": "2021-05-25T15:46:36.868447Z",
          "iopub.status.idle": "2021-05-25T15:46:36.879569Z",
          "shell.execute_reply": "2021-05-25T15:46:36.878534Z",
          "shell.execute_reply.started": "2021-05-25T15:46:36.868817Z"
        },
        "id": "0PRuO1vq1-2N"
      },
      "source": [
        "train_df.loc[train_df['HouseFloor'] == 0, 'HouseFloor'] = train_df['HouseFloor'].median()"
      ],
      "execution_count": null,
      "outputs": []
    },
    {
      "cell_type": "code",
      "metadata": {
        "execution": {
          "iopub.execute_input": "2021-05-25T15:46:36.881938Z",
          "iopub.status.busy": "2021-05-25T15:46:36.88148Z",
          "iopub.status.idle": "2021-05-25T15:46:36.898356Z",
          "shell.execute_reply": "2021-05-25T15:46:36.897353Z",
          "shell.execute_reply.started": "2021-05-25T15:46:36.881883Z"
        },
        "id": "Io3HA-Bp1-2O",
        "outputId": "bc7a52e8-be97-45ee-e187-b5128a2e65be"
      },
      "source": [
        "floor_outliers = train_df.loc[train_df['Floor'] > train_df['HouseFloor']].index\n",
        "floor_outliers"
      ],
      "execution_count": null,
      "outputs": [
        {
          "output_type": "execute_result",
          "data": {
            "text/plain": [
              "Int64Index([  17,   19,   21,   25,   26,   33,   34,   37,   39,   44,\n",
              "            ...\n",
              "            9913, 9921, 9930, 9931, 9938, 9953, 9960, 9968, 9970, 9975],\n",
              "           dtype='int64', length=1610)"
            ]
          },
          "metadata": {
            "tags": []
          },
          "execution_count": 29
        }
      ]
    },
    {
      "cell_type": "code",
      "metadata": {
        "execution": {
          "iopub.execute_input": "2021-05-25T15:46:36.900298Z",
          "iopub.status.busy": "2021-05-25T15:46:36.89992Z",
          "iopub.status.idle": "2021-05-25T15:46:36.9174Z",
          "shell.execute_reply": "2021-05-25T15:46:36.916175Z",
          "shell.execute_reply.started": "2021-05-25T15:46:36.900254Z"
        },
        "id": "fgOhKeJc1-2O"
      },
      "source": [
        "train_df.loc[floor_outliers, 'Floor'] = train_df.loc[floor_outliers, 'HouseFloor']\\\n",
        "                                                .apply(lambda x: random.randint(1, x))"
      ],
      "execution_count": null,
      "outputs": []
    },
    {
      "cell_type": "code",
      "metadata": {
        "execution": {
          "iopub.execute_input": "2021-05-25T15:46:36.91971Z",
          "iopub.status.busy": "2021-05-25T15:46:36.919274Z",
          "iopub.status.idle": "2021-05-25T15:46:36.929351Z",
          "shell.execute_reply": "2021-05-25T15:46:36.928637Z",
          "shell.execute_reply.started": "2021-05-25T15:46:36.91965Z"
        },
        "id": "QN1udXen1-2P",
        "outputId": "33a247bd-7efd-4bb8-e835-40e5b7f525c2"
      },
      "source": [
        "(train_df['Floor'] > train_df['HouseFloor']).sum()"
      ],
      "execution_count": null,
      "outputs": [
        {
          "output_type": "execute_result",
          "data": {
            "text/plain": [
              "0"
            ]
          },
          "metadata": {
            "tags": []
          },
          "execution_count": 31
        }
      ]
    },
    {
      "cell_type": "markdown",
      "metadata": {
        "id": "r2La0uqI1-2P"
      },
      "source": [
        "**HouseYear**"
      ]
    },
    {
      "cell_type": "code",
      "metadata": {
        "execution": {
          "iopub.execute_input": "2021-05-25T15:46:36.930759Z",
          "iopub.status.busy": "2021-05-25T15:46:36.930457Z",
          "iopub.status.idle": "2021-05-25T15:46:36.948761Z",
          "shell.execute_reply": "2021-05-25T15:46:36.947774Z",
          "shell.execute_reply.started": "2021-05-25T15:46:36.930726Z"
        },
        "id": "nYMJXJ4P1-2P",
        "outputId": "f4688057-8d7b-4a25-adcf-0bb3735647e1"
      },
      "source": [
        "train_df['HouseYear'].sort_values(ascending=False)"
      ],
      "execution_count": null,
      "outputs": [
        {
          "output_type": "execute_result",
          "data": {
            "text/plain": [
              "9163    20052011\n",
              "8828        4968\n",
              "7721        2020\n",
              "9122        2020\n",
              "7955        2020\n",
              "          ...   \n",
              "7610        1916\n",
              "6250        1914\n",
              "2066        1912\n",
              "2795        1912\n",
              "6794        1910\n",
              "Name: HouseYear, Length: 10000, dtype: int64"
            ]
          },
          "metadata": {
            "tags": []
          },
          "execution_count": 32
        }
      ]
    },
    {
      "cell_type": "code",
      "metadata": {
        "execution": {
          "iopub.execute_input": "2021-05-25T15:46:36.950274Z",
          "iopub.status.busy": "2021-05-25T15:46:36.949996Z",
          "iopub.status.idle": "2021-05-25T15:46:36.959984Z",
          "shell.execute_reply": "2021-05-25T15:46:36.959022Z",
          "shell.execute_reply.started": "2021-05-25T15:46:36.950238Z"
        },
        "id": "GVL-JkY31-2Q"
      },
      "source": [
        "train_df.loc[train_df['HouseYear'] > 2020, 'HouseYear'] = 2020"
      ],
      "execution_count": null,
      "outputs": []
    },
    {
      "cell_type": "markdown",
      "metadata": {
        "id": "zyfFf76K1-2Q"
      },
      "source": [
        "### Обработка пропусков  <a class='anchor' id='nan'>"
      ]
    },
    {
      "cell_type": "code",
      "metadata": {
        "execution": {
          "iopub.execute_input": "2021-05-25T15:46:36.961753Z",
          "iopub.status.busy": "2021-05-25T15:46:36.961362Z",
          "iopub.status.idle": "2021-05-25T15:46:36.981152Z",
          "shell.execute_reply": "2021-05-25T15:46:36.980115Z",
          "shell.execute_reply.started": "2021-05-25T15:46:36.961708Z"
        },
        "id": "55omFULJ1-2Q",
        "outputId": "1b83b2cd-e60a-4d35-b934-811c0c58ff61"
      },
      "source": [
        "train_df.isna().sum()"
      ],
      "execution_count": null,
      "outputs": [
        {
          "output_type": "execute_result",
          "data": {
            "text/plain": [
              "Id                       0\n",
              "DistrictId               0\n",
              "Rooms                    0\n",
              "Square                   0\n",
              "LifeSquare            2113\n",
              "KitchenSquare            0\n",
              "Floor                    0\n",
              "HouseFloor               0\n",
              "HouseYear                0\n",
              "Ecology_1                0\n",
              "Ecology_2                0\n",
              "Ecology_3                0\n",
              "Social_1                 0\n",
              "Social_2                 0\n",
              "Social_3                 0\n",
              "Healthcare_1          4798\n",
              "Helthcare_2              0\n",
              "Shops_1                  0\n",
              "Shops_2                  0\n",
              "Price                    0\n",
              "Rooms_outlier            0\n",
              "HouseFloor_outlier       0\n",
              "dtype: int64"
            ]
          },
          "metadata": {
            "tags": []
          },
          "execution_count": 34
        }
      ]
    },
    {
      "cell_type": "code",
      "metadata": {
        "execution": {
          "iopub.execute_input": "2021-05-25T15:46:36.983674Z",
          "iopub.status.busy": "2021-05-25T15:46:36.983079Z",
          "iopub.status.idle": "2021-05-25T15:46:37.003276Z",
          "shell.execute_reply": "2021-05-25T15:46:37.001233Z",
          "shell.execute_reply.started": "2021-05-25T15:46:36.983612Z"
        },
        "id": "2ANTK_811-2R",
        "outputId": "7b4b58b5-d294-4eda-952d-9c6957468e16"
      },
      "source": [
        "train_df[['Square', 'LifeSquare', 'KitchenSquare']].head(10)"
      ],
      "execution_count": null,
      "outputs": [
        {
          "output_type": "execute_result",
          "data": {
            "text/html": [
              "<div>\n",
              "<style scoped>\n",
              "    .dataframe tbody tr th:only-of-type {\n",
              "        vertical-align: middle;\n",
              "    }\n",
              "\n",
              "    .dataframe tbody tr th {\n",
              "        vertical-align: top;\n",
              "    }\n",
              "\n",
              "    .dataframe thead th {\n",
              "        text-align: right;\n",
              "    }\n",
              "</style>\n",
              "<table border=\"1\" class=\"dataframe\">\n",
              "  <thead>\n",
              "    <tr style=\"text-align: right;\">\n",
              "      <th></th>\n",
              "      <th>Square</th>\n",
              "      <th>LifeSquare</th>\n",
              "      <th>KitchenSquare</th>\n",
              "    </tr>\n",
              "  </thead>\n",
              "  <tbody>\n",
              "    <tr>\n",
              "      <th>0</th>\n",
              "      <td>115.027311</td>\n",
              "      <td>NaN</td>\n",
              "      <td>10.0</td>\n",
              "    </tr>\n",
              "    <tr>\n",
              "      <th>1</th>\n",
              "      <td>39.832524</td>\n",
              "      <td>23.169223</td>\n",
              "      <td>8.0</td>\n",
              "    </tr>\n",
              "    <tr>\n",
              "      <th>2</th>\n",
              "      <td>78.342215</td>\n",
              "      <td>47.671972</td>\n",
              "      <td>10.0</td>\n",
              "    </tr>\n",
              "    <tr>\n",
              "      <th>3</th>\n",
              "      <td>40.409907</td>\n",
              "      <td>NaN</td>\n",
              "      <td>3.0</td>\n",
              "    </tr>\n",
              "    <tr>\n",
              "      <th>4</th>\n",
              "      <td>64.285067</td>\n",
              "      <td>38.562517</td>\n",
              "      <td>9.0</td>\n",
              "    </tr>\n",
              "    <tr>\n",
              "      <th>5</th>\n",
              "      <td>62.528465</td>\n",
              "      <td>47.103833</td>\n",
              "      <td>6.0</td>\n",
              "    </tr>\n",
              "    <tr>\n",
              "      <th>6</th>\n",
              "      <td>33.938750</td>\n",
              "      <td>21.772930</td>\n",
              "      <td>9.0</td>\n",
              "    </tr>\n",
              "    <tr>\n",
              "      <th>7</th>\n",
              "      <td>50.391814</td>\n",
              "      <td>32.893256</td>\n",
              "      <td>8.0</td>\n",
              "    </tr>\n",
              "    <tr>\n",
              "      <th>8</th>\n",
              "      <td>46.887892</td>\n",
              "      <td>44.628132</td>\n",
              "      <td>3.0</td>\n",
              "    </tr>\n",
              "    <tr>\n",
              "      <th>9</th>\n",
              "      <td>79.867477</td>\n",
              "      <td>75.085125</td>\n",
              "      <td>3.0</td>\n",
              "    </tr>\n",
              "  </tbody>\n",
              "</table>\n",
              "</div>"
            ],
            "text/plain": [
              "       Square  LifeSquare  KitchenSquare\n",
              "0  115.027311         NaN           10.0\n",
              "1   39.832524   23.169223            8.0\n",
              "2   78.342215   47.671972           10.0\n",
              "3   40.409907         NaN            3.0\n",
              "4   64.285067   38.562517            9.0\n",
              "5   62.528465   47.103833            6.0\n",
              "6   33.938750   21.772930            9.0\n",
              "7   50.391814   32.893256            8.0\n",
              "8   46.887892   44.628132            3.0\n",
              "9   79.867477   75.085125            3.0"
            ]
          },
          "metadata": {
            "tags": []
          },
          "execution_count": 35
        }
      ]
    },
    {
      "cell_type": "markdown",
      "metadata": {
        "id": "_RErDeVw1-2R"
      },
      "source": [
        "**LifeSquare**"
      ]
    },
    {
      "cell_type": "code",
      "metadata": {
        "execution": {
          "iopub.execute_input": "2021-05-25T15:46:37.00523Z",
          "iopub.status.busy": "2021-05-25T15:46:37.004815Z",
          "iopub.status.idle": "2021-05-25T15:46:37.032456Z",
          "shell.execute_reply": "2021-05-25T15:46:37.031482Z",
          "shell.execute_reply.started": "2021-05-25T15:46:37.005185Z"
        },
        "id": "EON_AjHT1-2S"
      },
      "source": [
        "train_df['LifeSquare_nan'] = train_df['LifeSquare'].isna() * 1\n",
        "\n",
        "condition = (train_df['LifeSquare'].isna()) \\\n",
        "             & (~train_df['Square'].isna()) \\\n",
        "             & (~train_df['KitchenSquare'].isna())\n",
        "        \n",
        "train_df.loc[condition, 'LifeSquare'] = train_df.loc[condition, 'Square'] \\\n",
        "                                            - train_df.loc[condition, 'KitchenSquare'] - 3"
      ],
      "execution_count": null,
      "outputs": []
    },
    {
      "cell_type": "markdown",
      "metadata": {
        "id": "RGPPwXUB1-2S"
      },
      "source": [
        "**Healthcare_1**"
      ]
    },
    {
      "cell_type": "code",
      "metadata": {
        "execution": {
          "iopub.execute_input": "2021-05-25T15:46:37.035627Z",
          "iopub.status.busy": "2021-05-25T15:46:37.035266Z",
          "iopub.status.idle": "2021-05-25T15:46:37.049052Z",
          "shell.execute_reply": "2021-05-25T15:46:37.048088Z",
          "shell.execute_reply.started": "2021-05-25T15:46:37.035596Z"
        },
        "id": "VeH6koTh1-2S"
      },
      "source": [
        "train_df.drop('Healthcare_1', axis=1, inplace=True)"
      ],
      "execution_count": null,
      "outputs": []
    },
    {
      "cell_type": "code",
      "metadata": {
        "execution": {
          "iopub.execute_input": "2021-05-25T15:46:37.146284Z",
          "iopub.status.busy": "2021-05-25T15:46:37.145981Z",
          "iopub.status.idle": "2021-05-25T15:46:37.164392Z",
          "shell.execute_reply": "2021-05-25T15:46:37.163389Z",
          "shell.execute_reply.started": "2021-05-25T15:46:37.146258Z"
        },
        "id": "-I4Tzsf31-2T"
      },
      "source": [
        "class DataPreprocessing:\n",
        "    \"\"\"Подготовка исходных данных\"\"\"\n",
        "\n",
        "    def __init__(self):\n",
        "        \"\"\"Параметры класса\"\"\"\n",
        "        self.medians = None\n",
        "        self.kitchen_square_quantile = None\n",
        "        \n",
        "    def fit(self, X):\n",
        "        \"\"\"Сохранение статистик\"\"\"       \n",
        "        # Расчет медиан\n",
        "        self.medians = X.median()\n",
        "        self.kitchen_square_quantile = X['KitchenSquare'].quantile(.975)\n",
        "    \n",
        "    def transform(self, X):\n",
        "        \"\"\"Трансформация данных\"\"\"\n",
        "\n",
        "        # Rooms\n",
        "        X['Rooms_outlier'] = 0\n",
        "        X.loc[(X['Rooms'] == 0) | (X['Rooms'] >= 6), 'Rooms_outlier'] = 1\n",
        "        \n",
        "        X.loc[X['Rooms'] == 0, 'Rooms'] = 1\n",
        "        X.loc[X['Rooms'] >= 6, 'Rooms'] = self.medians['Rooms']\n",
        "        \n",
        "        # KitchenSquare\n",
        "        condition = (X['KitchenSquare'].isna()) \\\n",
        "                    | (X['KitchenSquare'] > self.kitchen_square_quantile)\n",
        "        \n",
        "        X.loc[condition, 'KitchenSquare'] = self.medians['KitchenSquare']\n",
        "\n",
        "        X.loc[X['KitchenSquare'] < 3, 'KitchenSquare'] = 3\n",
        "        \n",
        "        # HouseFloor, Floor\n",
        "        X['HouseFloor_outlier'] = 0\n",
        "        X.loc[X['HouseFloor'] == 0, 'HouseFloor_outlier'] = 1\n",
        "        X.loc[X['Floor'] > X['HouseFloor'], 'HouseFloor_outlier'] = 1\n",
        "        \n",
        "        X.loc[X['HouseFloor'] == 0, 'HouseFloor'] = self.medians['HouseFloor']\n",
        "        \n",
        "        floor_outliers = X.loc[X['Floor'] > X['HouseFloor']].index\n",
        "        X.loc[floor_outliers, 'Floor'] = X.loc[floor_outliers, 'HouseFloor']\\\n",
        "                                            .apply(lambda x: random.randint(1, x))\n",
        "        \n",
        "        # HouseYear\n",
        "        current_year = datetime.now().year\n",
        "        \n",
        "        X['HouseYear_outlier'] = 0\n",
        "        X.loc[X['HouseYear'] > current_year, 'HouseYear_outlier'] = 1\n",
        "        \n",
        "        X.loc[X['HouseYear'] > current_year, 'HouseYear'] = current_year\n",
        "        \n",
        "        # Healthcare_1\n",
        "        if 'Healthcare_1' in X.columns:\n",
        "            X.drop('Healthcare_1', axis=1, inplace=True)\n",
        "            \n",
        "        # LifeSquare\n",
        "        X['LifeSquare_nan'] = X['LifeSquare'].isna() * 1\n",
        "        condition = (X['LifeSquare'].isna()) & \\\n",
        "                      (~X['Square'].isna()) & \\\n",
        "                      (~X['KitchenSquare'].isna())\n",
        "        \n",
        "        X.loc[condition, 'LifeSquare'] = X.loc[condition, 'Square'] - X.loc[condition, 'KitchenSquare'] - 3\n",
        "        \n",
        "        \n",
        "        X.fillna(self.medians, inplace=True)\n",
        "        \n",
        "        return X"
      ],
      "execution_count": null,
      "outputs": []
    },
    {
      "cell_type": "markdown",
      "metadata": {
        "id": "usDv29cN1-2U"
      },
      "source": [
        "### Построение новых признаков  <a class='anchor' id='feature'>"
      ]
    },
    {
      "cell_type": "markdown",
      "metadata": {
        "id": "0ZQEKi8n1-2V"
      },
      "source": [
        "**Dummies**"
      ]
    },
    {
      "cell_type": "code",
      "metadata": {
        "execution": {
          "iopub.execute_input": "2021-05-25T15:46:38.057305Z",
          "iopub.status.busy": "2021-05-25T15:46:38.057011Z",
          "iopub.status.idle": "2021-05-25T15:46:38.078688Z",
          "shell.execute_reply": "2021-05-25T15:46:38.07758Z",
          "shell.execute_reply.started": "2021-05-25T15:46:38.057278Z"
        },
        "id": "_g7ytVEP1-2V"
      },
      "source": [
        "binary_to_numbers = {'A': 0, 'B': 1}\n",
        "\n",
        "train_df['Ecology_2'] = train_df['Ecology_2'].replace(binary_to_numbers)\n",
        "train_df['Ecology_3'] = train_df['Ecology_3'].replace(binary_to_numbers)\n",
        "train_df['Shops_2'] = train_df['Shops_2'].replace(binary_to_numbers)"
      ],
      "execution_count": null,
      "outputs": []
    },
    {
      "cell_type": "markdown",
      "metadata": {
        "id": "iy-hG9G-1-2W"
      },
      "source": [
        "**DistrictSize, IsDistrictLarge**"
      ]
    },
    {
      "cell_type": "code",
      "metadata": {
        "execution": {
          "iopub.execute_input": "2021-05-25T15:46:38.717971Z",
          "iopub.status.busy": "2021-05-25T15:46:38.717583Z",
          "iopub.status.idle": "2021-05-25T15:46:38.732152Z",
          "shell.execute_reply": "2021-05-25T15:46:38.73108Z",
          "shell.execute_reply.started": "2021-05-25T15:46:38.717944Z"
        },
        "id": "MJgcpCyU1-2W",
        "outputId": "a997d1e8-381c-42ae-dd9b-66d455325b2c"
      },
      "source": [
        "district_size = train_df['DistrictId'].value_counts().reset_index()\\\n",
        "                    .rename(columns={'index':'DistrictId', 'DistrictId':'DistrictSize'})\n",
        "\n",
        "district_size.head()"
      ],
      "execution_count": null,
      "outputs": [
        {
          "output_type": "execute_result",
          "data": {
            "text/html": [
              "<div>\n",
              "<style scoped>\n",
              "    .dataframe tbody tr th:only-of-type {\n",
              "        vertical-align: middle;\n",
              "    }\n",
              "\n",
              "    .dataframe tbody tr th {\n",
              "        vertical-align: top;\n",
              "    }\n",
              "\n",
              "    .dataframe thead th {\n",
              "        text-align: right;\n",
              "    }\n",
              "</style>\n",
              "<table border=\"1\" class=\"dataframe\">\n",
              "  <thead>\n",
              "    <tr style=\"text-align: right;\">\n",
              "      <th></th>\n",
              "      <th>DistrictId</th>\n",
              "      <th>DistrictSize</th>\n",
              "    </tr>\n",
              "  </thead>\n",
              "  <tbody>\n",
              "    <tr>\n",
              "      <th>0</th>\n",
              "      <td>27</td>\n",
              "      <td>851</td>\n",
              "    </tr>\n",
              "    <tr>\n",
              "      <th>1</th>\n",
              "      <td>1</td>\n",
              "      <td>652</td>\n",
              "    </tr>\n",
              "    <tr>\n",
              "      <th>2</th>\n",
              "      <td>23</td>\n",
              "      <td>565</td>\n",
              "    </tr>\n",
              "    <tr>\n",
              "      <th>3</th>\n",
              "      <td>6</td>\n",
              "      <td>511</td>\n",
              "    </tr>\n",
              "    <tr>\n",
              "      <th>4</th>\n",
              "      <td>9</td>\n",
              "      <td>294</td>\n",
              "    </tr>\n",
              "  </tbody>\n",
              "</table>\n",
              "</div>"
            ],
            "text/plain": [
              "  DistrictId  DistrictSize\n",
              "0         27           851\n",
              "1          1           652\n",
              "2         23           565\n",
              "3          6           511\n",
              "4          9           294"
            ]
          },
          "metadata": {
            "tags": []
          },
          "execution_count": 40
        }
      ]
    },
    {
      "cell_type": "code",
      "metadata": {
        "execution": {
          "iopub.execute_input": "2021-05-25T15:46:38.986317Z",
          "iopub.status.busy": "2021-05-25T15:46:38.986017Z",
          "iopub.status.idle": "2021-05-25T15:46:39.028312Z",
          "shell.execute_reply": "2021-05-25T15:46:39.027123Z",
          "shell.execute_reply.started": "2021-05-25T15:46:38.986291Z"
        },
        "id": "Zta8y6l71-2X",
        "outputId": "8abeeac1-914c-402c-f4f0-475d424372d2"
      },
      "source": [
        "train_df = train_df.merge(district_size, on='DistrictId', how='left')\n",
        "train_df.head()"
      ],
      "execution_count": null,
      "outputs": [
        {
          "output_type": "execute_result",
          "data": {
            "text/html": [
              "<div>\n",
              "<style scoped>\n",
              "    .dataframe tbody tr th:only-of-type {\n",
              "        vertical-align: middle;\n",
              "    }\n",
              "\n",
              "    .dataframe tbody tr th {\n",
              "        vertical-align: top;\n",
              "    }\n",
              "\n",
              "    .dataframe thead th {\n",
              "        text-align: right;\n",
              "    }\n",
              "</style>\n",
              "<table border=\"1\" class=\"dataframe\">\n",
              "  <thead>\n",
              "    <tr style=\"text-align: right;\">\n",
              "      <th></th>\n",
              "      <th>Id</th>\n",
              "      <th>DistrictId</th>\n",
              "      <th>Rooms</th>\n",
              "      <th>Square</th>\n",
              "      <th>LifeSquare</th>\n",
              "      <th>KitchenSquare</th>\n",
              "      <th>Floor</th>\n",
              "      <th>HouseFloor</th>\n",
              "      <th>HouseYear</th>\n",
              "      <th>Ecology_1</th>\n",
              "      <th>...</th>\n",
              "      <th>Social_2</th>\n",
              "      <th>Social_3</th>\n",
              "      <th>Helthcare_2</th>\n",
              "      <th>Shops_1</th>\n",
              "      <th>Shops_2</th>\n",
              "      <th>Price</th>\n",
              "      <th>Rooms_outlier</th>\n",
              "      <th>HouseFloor_outlier</th>\n",
              "      <th>LifeSquare_nan</th>\n",
              "      <th>DistrictSize</th>\n",
              "    </tr>\n",
              "  </thead>\n",
              "  <tbody>\n",
              "    <tr>\n",
              "      <th>0</th>\n",
              "      <td>11809</td>\n",
              "      <td>27</td>\n",
              "      <td>3.0</td>\n",
              "      <td>115.027311</td>\n",
              "      <td>102.027311</td>\n",
              "      <td>10.0</td>\n",
              "      <td>4</td>\n",
              "      <td>10.0</td>\n",
              "      <td>2014</td>\n",
              "      <td>0.075424</td>\n",
              "      <td>...</td>\n",
              "      <td>3097</td>\n",
              "      <td>0</td>\n",
              "      <td>0</td>\n",
              "      <td>0</td>\n",
              "      <td>1</td>\n",
              "      <td>305018.871089</td>\n",
              "      <td>0</td>\n",
              "      <td>0</td>\n",
              "      <td>1</td>\n",
              "      <td>851</td>\n",
              "    </tr>\n",
              "    <tr>\n",
              "      <th>1</th>\n",
              "      <td>3013</td>\n",
              "      <td>22</td>\n",
              "      <td>1.0</td>\n",
              "      <td>39.832524</td>\n",
              "      <td>23.169223</td>\n",
              "      <td>8.0</td>\n",
              "      <td>7</td>\n",
              "      <td>8.0</td>\n",
              "      <td>1966</td>\n",
              "      <td>0.118537</td>\n",
              "      <td>...</td>\n",
              "      <td>6207</td>\n",
              "      <td>1</td>\n",
              "      <td>1</td>\n",
              "      <td>0</td>\n",
              "      <td>1</td>\n",
              "      <td>177734.553407</td>\n",
              "      <td>0</td>\n",
              "      <td>0</td>\n",
              "      <td>0</td>\n",
              "      <td>78</td>\n",
              "    </tr>\n",
              "    <tr>\n",
              "      <th>2</th>\n",
              "      <td>8215</td>\n",
              "      <td>1</td>\n",
              "      <td>3.0</td>\n",
              "      <td>78.342215</td>\n",
              "      <td>47.671972</td>\n",
              "      <td>10.0</td>\n",
              "      <td>2</td>\n",
              "      <td>17.0</td>\n",
              "      <td>1988</td>\n",
              "      <td>0.025609</td>\n",
              "      <td>...</td>\n",
              "      <td>5261</td>\n",
              "      <td>0</td>\n",
              "      <td>3</td>\n",
              "      <td>1</td>\n",
              "      <td>1</td>\n",
              "      <td>282078.720850</td>\n",
              "      <td>0</td>\n",
              "      <td>0</td>\n",
              "      <td>0</td>\n",
              "      <td>652</td>\n",
              "    </tr>\n",
              "    <tr>\n",
              "      <th>3</th>\n",
              "      <td>2352</td>\n",
              "      <td>1</td>\n",
              "      <td>1.0</td>\n",
              "      <td>40.409907</td>\n",
              "      <td>34.409907</td>\n",
              "      <td>3.0</td>\n",
              "      <td>10</td>\n",
              "      <td>22.0</td>\n",
              "      <td>1977</td>\n",
              "      <td>0.007122</td>\n",
              "      <td>...</td>\n",
              "      <td>264</td>\n",
              "      <td>0</td>\n",
              "      <td>0</td>\n",
              "      <td>1</td>\n",
              "      <td>1</td>\n",
              "      <td>168106.007630</td>\n",
              "      <td>0</td>\n",
              "      <td>0</td>\n",
              "      <td>1</td>\n",
              "      <td>652</td>\n",
              "    </tr>\n",
              "    <tr>\n",
              "      <th>4</th>\n",
              "      <td>13866</td>\n",
              "      <td>94</td>\n",
              "      <td>2.0</td>\n",
              "      <td>64.285067</td>\n",
              "      <td>38.562517</td>\n",
              "      <td>9.0</td>\n",
              "      <td>16</td>\n",
              "      <td>16.0</td>\n",
              "      <td>1972</td>\n",
              "      <td>0.282798</td>\n",
              "      <td>...</td>\n",
              "      <td>8667</td>\n",
              "      <td>2</td>\n",
              "      <td>0</td>\n",
              "      <td>6</td>\n",
              "      <td>1</td>\n",
              "      <td>343995.102962</td>\n",
              "      <td>0</td>\n",
              "      <td>0</td>\n",
              "      <td>0</td>\n",
              "      <td>89</td>\n",
              "    </tr>\n",
              "  </tbody>\n",
              "</table>\n",
              "<p>5 rows × 23 columns</p>\n",
              "</div>"
            ],
            "text/plain": [
              "      Id DistrictId  Rooms      Square  LifeSquare  KitchenSquare  Floor  \\\n",
              "0  11809         27    3.0  115.027311  102.027311           10.0      4   \n",
              "1   3013         22    1.0   39.832524   23.169223            8.0      7   \n",
              "2   8215          1    3.0   78.342215   47.671972           10.0      2   \n",
              "3   2352          1    1.0   40.409907   34.409907            3.0     10   \n",
              "4  13866         94    2.0   64.285067   38.562517            9.0     16   \n",
              "\n",
              "   HouseFloor  HouseYear  Ecology_1  ...  Social_2  Social_3  Helthcare_2  \\\n",
              "0        10.0       2014   0.075424  ...      3097         0            0   \n",
              "1         8.0       1966   0.118537  ...      6207         1            1   \n",
              "2        17.0       1988   0.025609  ...      5261         0            3   \n",
              "3        22.0       1977   0.007122  ...       264         0            0   \n",
              "4        16.0       1972   0.282798  ...      8667         2            0   \n",
              "\n",
              "   Shops_1  Shops_2          Price  Rooms_outlier  HouseFloor_outlier  \\\n",
              "0        0        1  305018.871089              0                   0   \n",
              "1        0        1  177734.553407              0                   0   \n",
              "2        1        1  282078.720850              0                   0   \n",
              "3        1        1  168106.007630              0                   0   \n",
              "4        6        1  343995.102962              0                   0   \n",
              "\n",
              "   LifeSquare_nan  DistrictSize  \n",
              "0               1           851  \n",
              "1               0            78  \n",
              "2               0           652  \n",
              "3               1           652  \n",
              "4               0            89  \n",
              "\n",
              "[5 rows x 23 columns]"
            ]
          },
          "metadata": {
            "tags": []
          },
          "execution_count": 41
        }
      ]
    },
    {
      "cell_type": "code",
      "metadata": {
        "execution": {
          "iopub.execute_input": "2021-05-25T15:46:39.25878Z",
          "iopub.status.busy": "2021-05-25T15:46:39.258419Z",
          "iopub.status.idle": "2021-05-25T15:46:39.27035Z",
          "shell.execute_reply": "2021-05-25T15:46:39.269321Z",
          "shell.execute_reply.started": "2021-05-25T15:46:39.258746Z"
        },
        "id": "XnregVGN1-2X",
        "outputId": "e3beffa9-011a-4670-f2ac-17cefe7f5087"
      },
      "source": [
        "(train_df['DistrictSize'] > 100).value_counts()"
      ],
      "execution_count": null,
      "outputs": [
        {
          "output_type": "execute_result",
          "data": {
            "text/plain": [
              "True     5069\n",
              "False    4931\n",
              "Name: DistrictSize, dtype: int64"
            ]
          },
          "metadata": {
            "tags": []
          },
          "execution_count": 42
        }
      ]
    },
    {
      "cell_type": "code",
      "metadata": {
        "execution": {
          "iopub.execute_input": "2021-05-25T15:46:39.524953Z",
          "iopub.status.busy": "2021-05-25T15:46:39.524603Z",
          "iopub.status.idle": "2021-05-25T15:46:39.530625Z",
          "shell.execute_reply": "2021-05-25T15:46:39.529758Z",
          "shell.execute_reply.started": "2021-05-25T15:46:39.524925Z"
        },
        "id": "MtI8G0RU1-2Y"
      },
      "source": [
        "train_df['IsDistrictLarge'] = (train_df['DistrictSize'] > 100).astype(int)"
      ],
      "execution_count": null,
      "outputs": []
    },
    {
      "cell_type": "markdown",
      "metadata": {
        "id": "klUXIRDZ1-2Y"
      },
      "source": [
        "**MedPriceByDistrict**"
      ]
    },
    {
      "cell_type": "code",
      "metadata": {
        "execution": {
          "iopub.execute_input": "2021-05-25T15:46:39.989867Z",
          "iopub.status.busy": "2021-05-25T15:46:39.9895Z",
          "iopub.status.idle": "2021-05-25T15:46:40.011261Z",
          "shell.execute_reply": "2021-05-25T15:46:40.010495Z",
          "shell.execute_reply.started": "2021-05-25T15:46:39.989827Z"
        },
        "id": "QGIME_Gs1-2Y",
        "outputId": "fa64111c-7ec0-4314-d570-ddb6b5cdf07a"
      },
      "source": [
        "med_price_by_district = train_df.groupby(['DistrictId', 'Rooms'], as_index=False).agg({'Price':'median'})\\\n",
        "                            .rename(columns={'Price':'MedPriceByDistrict'})\n",
        "\n",
        "med_price_by_district.head()"
      ],
      "execution_count": null,
      "outputs": [
        {
          "output_type": "execute_result",
          "data": {
            "text/html": [
              "<div>\n",
              "<style scoped>\n",
              "    .dataframe tbody tr th:only-of-type {\n",
              "        vertical-align: middle;\n",
              "    }\n",
              "\n",
              "    .dataframe tbody tr th {\n",
              "        vertical-align: top;\n",
              "    }\n",
              "\n",
              "    .dataframe thead th {\n",
              "        text-align: right;\n",
              "    }\n",
              "</style>\n",
              "<table border=\"1\" class=\"dataframe\">\n",
              "  <thead>\n",
              "    <tr style=\"text-align: right;\">\n",
              "      <th></th>\n",
              "      <th>DistrictId</th>\n",
              "      <th>Rooms</th>\n",
              "      <th>MedPriceByDistrict</th>\n",
              "    </tr>\n",
              "  </thead>\n",
              "  <tbody>\n",
              "    <tr>\n",
              "      <th>0</th>\n",
              "      <td>0</td>\n",
              "      <td>1.0</td>\n",
              "      <td>142799.434052</td>\n",
              "    </tr>\n",
              "    <tr>\n",
              "      <th>1</th>\n",
              "      <td>0</td>\n",
              "      <td>2.0</td>\n",
              "      <td>176210.812334</td>\n",
              "    </tr>\n",
              "    <tr>\n",
              "      <th>2</th>\n",
              "      <td>0</td>\n",
              "      <td>3.0</td>\n",
              "      <td>300610.359425</td>\n",
              "    </tr>\n",
              "    <tr>\n",
              "      <th>3</th>\n",
              "      <td>1</td>\n",
              "      <td>1.0</td>\n",
              "      <td>146735.671740</td>\n",
              "    </tr>\n",
              "    <tr>\n",
              "      <th>4</th>\n",
              "      <td>1</td>\n",
              "      <td>2.0</td>\n",
              "      <td>202666.310126</td>\n",
              "    </tr>\n",
              "  </tbody>\n",
              "</table>\n",
              "</div>"
            ],
            "text/plain": [
              "  DistrictId  Rooms  MedPriceByDistrict\n",
              "0          0    1.0       142799.434052\n",
              "1          0    2.0       176210.812334\n",
              "2          0    3.0       300610.359425\n",
              "3          1    1.0       146735.671740\n",
              "4          1    2.0       202666.310126"
            ]
          },
          "metadata": {
            "tags": []
          },
          "execution_count": 44
        }
      ]
    },
    {
      "cell_type": "code",
      "metadata": {
        "execution": {
          "iopub.execute_input": "2021-05-25T15:46:40.259118Z",
          "iopub.status.busy": "2021-05-25T15:46:40.258656Z",
          "iopub.status.idle": "2021-05-25T15:46:40.264111Z",
          "shell.execute_reply": "2021-05-25T15:46:40.2632Z",
          "shell.execute_reply.started": "2021-05-25T15:46:40.25909Z"
        },
        "id": "O_muzPjp1-2Z",
        "outputId": "2a26b412-4b9a-4ee3-f23b-fd1bd1d0aea7"
      },
      "source": [
        "med_price_by_district.shape"
      ],
      "execution_count": null,
      "outputs": [
        {
          "output_type": "execute_result",
          "data": {
            "text/plain": [
              "(668, 3)"
            ]
          },
          "metadata": {
            "tags": []
          },
          "execution_count": 45
        }
      ]
    },
    {
      "cell_type": "code",
      "metadata": {
        "execution": {
          "iopub.execute_input": "2021-05-25T15:46:40.408752Z",
          "iopub.status.busy": "2021-05-25T15:46:40.408285Z",
          "iopub.status.idle": "2021-05-25T15:46:40.443032Z",
          "shell.execute_reply": "2021-05-25T15:46:40.442275Z",
          "shell.execute_reply.started": "2021-05-25T15:46:40.408721Z"
        },
        "id": "KjzSTCQd1-2Z",
        "outputId": "c6dcc31b-658e-4149-adfc-b4e5ed465c32"
      },
      "source": [
        "train_df = train_df.merge(med_price_by_district, on=['DistrictId', 'Rooms'], how='left')\n",
        "train_df.head()"
      ],
      "execution_count": null,
      "outputs": [
        {
          "output_type": "execute_result",
          "data": {
            "text/html": [
              "<div>\n",
              "<style scoped>\n",
              "    .dataframe tbody tr th:only-of-type {\n",
              "        vertical-align: middle;\n",
              "    }\n",
              "\n",
              "    .dataframe tbody tr th {\n",
              "        vertical-align: top;\n",
              "    }\n",
              "\n",
              "    .dataframe thead th {\n",
              "        text-align: right;\n",
              "    }\n",
              "</style>\n",
              "<table border=\"1\" class=\"dataframe\">\n",
              "  <thead>\n",
              "    <tr style=\"text-align: right;\">\n",
              "      <th></th>\n",
              "      <th>Id</th>\n",
              "      <th>DistrictId</th>\n",
              "      <th>Rooms</th>\n",
              "      <th>Square</th>\n",
              "      <th>LifeSquare</th>\n",
              "      <th>KitchenSquare</th>\n",
              "      <th>Floor</th>\n",
              "      <th>HouseFloor</th>\n",
              "      <th>HouseYear</th>\n",
              "      <th>Ecology_1</th>\n",
              "      <th>...</th>\n",
              "      <th>Helthcare_2</th>\n",
              "      <th>Shops_1</th>\n",
              "      <th>Shops_2</th>\n",
              "      <th>Price</th>\n",
              "      <th>Rooms_outlier</th>\n",
              "      <th>HouseFloor_outlier</th>\n",
              "      <th>LifeSquare_nan</th>\n",
              "      <th>DistrictSize</th>\n",
              "      <th>IsDistrictLarge</th>\n",
              "      <th>MedPriceByDistrict</th>\n",
              "    </tr>\n",
              "  </thead>\n",
              "  <tbody>\n",
              "    <tr>\n",
              "      <th>0</th>\n",
              "      <td>11809</td>\n",
              "      <td>27</td>\n",
              "      <td>3.0</td>\n",
              "      <td>115.027311</td>\n",
              "      <td>102.027311</td>\n",
              "      <td>10.0</td>\n",
              "      <td>4</td>\n",
              "      <td>10.0</td>\n",
              "      <td>2014</td>\n",
              "      <td>0.075424</td>\n",
              "      <td>...</td>\n",
              "      <td>0</td>\n",
              "      <td>0</td>\n",
              "      <td>1</td>\n",
              "      <td>305018.871089</td>\n",
              "      <td>0</td>\n",
              "      <td>0</td>\n",
              "      <td>1</td>\n",
              "      <td>851</td>\n",
              "      <td>1</td>\n",
              "      <td>213530.788443</td>\n",
              "    </tr>\n",
              "    <tr>\n",
              "      <th>1</th>\n",
              "      <td>3013</td>\n",
              "      <td>22</td>\n",
              "      <td>1.0</td>\n",
              "      <td>39.832524</td>\n",
              "      <td>23.169223</td>\n",
              "      <td>8.0</td>\n",
              "      <td>7</td>\n",
              "      <td>8.0</td>\n",
              "      <td>1966</td>\n",
              "      <td>0.118537</td>\n",
              "      <td>...</td>\n",
              "      <td>1</td>\n",
              "      <td>0</td>\n",
              "      <td>1</td>\n",
              "      <td>177734.553407</td>\n",
              "      <td>0</td>\n",
              "      <td>0</td>\n",
              "      <td>0</td>\n",
              "      <td>78</td>\n",
              "      <td>0</td>\n",
              "      <td>146032.829834</td>\n",
              "    </tr>\n",
              "    <tr>\n",
              "      <th>2</th>\n",
              "      <td>8215</td>\n",
              "      <td>1</td>\n",
              "      <td>3.0</td>\n",
              "      <td>78.342215</td>\n",
              "      <td>47.671972</td>\n",
              "      <td>10.0</td>\n",
              "      <td>2</td>\n",
              "      <td>17.0</td>\n",
              "      <td>1988</td>\n",
              "      <td>0.025609</td>\n",
              "      <td>...</td>\n",
              "      <td>3</td>\n",
              "      <td>1</td>\n",
              "      <td>1</td>\n",
              "      <td>282078.720850</td>\n",
              "      <td>0</td>\n",
              "      <td>0</td>\n",
              "      <td>0</td>\n",
              "      <td>652</td>\n",
              "      <td>1</td>\n",
              "      <td>244005.272380</td>\n",
              "    </tr>\n",
              "    <tr>\n",
              "      <th>3</th>\n",
              "      <td>2352</td>\n",
              "      <td>1</td>\n",
              "      <td>1.0</td>\n",
              "      <td>40.409907</td>\n",
              "      <td>34.409907</td>\n",
              "      <td>3.0</td>\n",
              "      <td>10</td>\n",
              "      <td>22.0</td>\n",
              "      <td>1977</td>\n",
              "      <td>0.007122</td>\n",
              "      <td>...</td>\n",
              "      <td>0</td>\n",
              "      <td>1</td>\n",
              "      <td>1</td>\n",
              "      <td>168106.007630</td>\n",
              "      <td>0</td>\n",
              "      <td>0</td>\n",
              "      <td>1</td>\n",
              "      <td>652</td>\n",
              "      <td>1</td>\n",
              "      <td>146735.671740</td>\n",
              "    </tr>\n",
              "    <tr>\n",
              "      <th>4</th>\n",
              "      <td>13866</td>\n",
              "      <td>94</td>\n",
              "      <td>2.0</td>\n",
              "      <td>64.285067</td>\n",
              "      <td>38.562517</td>\n",
              "      <td>9.0</td>\n",
              "      <td>16</td>\n",
              "      <td>16.0</td>\n",
              "      <td>1972</td>\n",
              "      <td>0.282798</td>\n",
              "      <td>...</td>\n",
              "      <td>0</td>\n",
              "      <td>6</td>\n",
              "      <td>1</td>\n",
              "      <td>343995.102962</td>\n",
              "      <td>0</td>\n",
              "      <td>0</td>\n",
              "      <td>0</td>\n",
              "      <td>89</td>\n",
              "      <td>0</td>\n",
              "      <td>201584.441255</td>\n",
              "    </tr>\n",
              "  </tbody>\n",
              "</table>\n",
              "<p>5 rows × 25 columns</p>\n",
              "</div>"
            ],
            "text/plain": [
              "      Id DistrictId  Rooms      Square  LifeSquare  KitchenSquare  Floor  \\\n",
              "0  11809         27    3.0  115.027311  102.027311           10.0      4   \n",
              "1   3013         22    1.0   39.832524   23.169223            8.0      7   \n",
              "2   8215          1    3.0   78.342215   47.671972           10.0      2   \n",
              "3   2352          1    1.0   40.409907   34.409907            3.0     10   \n",
              "4  13866         94    2.0   64.285067   38.562517            9.0     16   \n",
              "\n",
              "   HouseFloor  HouseYear  Ecology_1  ...  Helthcare_2  Shops_1  Shops_2  \\\n",
              "0        10.0       2014   0.075424  ...            0        0        1   \n",
              "1         8.0       1966   0.118537  ...            1        0        1   \n",
              "2        17.0       1988   0.025609  ...            3        1        1   \n",
              "3        22.0       1977   0.007122  ...            0        1        1   \n",
              "4        16.0       1972   0.282798  ...            0        6        1   \n",
              "\n",
              "           Price  Rooms_outlier  HouseFloor_outlier  LifeSquare_nan  \\\n",
              "0  305018.871089              0                   0               1   \n",
              "1  177734.553407              0                   0               0   \n",
              "2  282078.720850              0                   0               0   \n",
              "3  168106.007630              0                   0               1   \n",
              "4  343995.102962              0                   0               0   \n",
              "\n",
              "   DistrictSize  IsDistrictLarge  MedPriceByDistrict  \n",
              "0           851                1       213530.788443  \n",
              "1            78                0       146032.829834  \n",
              "2           652                1       244005.272380  \n",
              "3           652                1       146735.671740  \n",
              "4            89                0       201584.441255  \n",
              "\n",
              "[5 rows x 25 columns]"
            ]
          },
          "metadata": {
            "tags": []
          },
          "execution_count": 46
        }
      ]
    },
    {
      "cell_type": "markdown",
      "metadata": {
        "id": "J8MXfnPr1-2a"
      },
      "source": [
        "**MedPriceByFloorYear**"
      ]
    },
    {
      "cell_type": "code",
      "metadata": {
        "execution": {
          "iopub.execute_input": "2021-05-25T15:46:41.183488Z",
          "iopub.status.busy": "2021-05-25T15:46:41.183031Z",
          "iopub.status.idle": "2021-05-25T15:46:41.196422Z",
          "shell.execute_reply": "2021-05-25T15:46:41.195056Z",
          "shell.execute_reply.started": "2021-05-25T15:46:41.183457Z"
        },
        "id": "SPXOao471-2a"
      },
      "source": [
        "def floor_to_cat(X):\n",
        "\n",
        "    X['floor_cat'] = 0\n",
        "\n",
        "    X.loc[X['Floor'] <= 3, 'floor_cat'] = 1  \n",
        "    X.loc[(X['Floor'] > 3) & (X['Floor'] <= 5), 'floor_cat'] = 2\n",
        "    X.loc[(X['Floor'] > 5) & (X['Floor'] <= 9), 'floor_cat'] = 3\n",
        "    X.loc[(X['Floor'] > 9) & (X['Floor'] <= 15), 'floor_cat'] = 4\n",
        "    X.loc[X['Floor'] > 15, 'floor_cat'] = 5\n",
        "\n",
        "    return X\n",
        "\n",
        "\n",
        "def floor_to_cat_pandas(X):\n",
        "    bins = [0, 3, 5, 9, 15, X['Floor'].max()]\n",
        "    X['floor_cat'] = pd.cut(X['Floor'], bins=bins, labels=False)\n",
        "    \n",
        "    X['floor_cat'].fillna(-1, inplace=True)\n",
        "    return X\n",
        "\n",
        "\n",
        "def year_to_cat(X):\n",
        "\n",
        "    X['year_cat'] = 0\n",
        "\n",
        "    X.loc[X['HouseYear'] <= 1941, 'year_cat'] = 1\n",
        "    X.loc[(X['HouseYear'] > 1941) & (X['HouseYear'] <= 1945), 'year_cat'] = 2\n",
        "    X.loc[(X['HouseYear'] > 1945) & (X['HouseYear'] <= 1980), 'year_cat'] = 3\n",
        "    X.loc[(X['HouseYear'] > 1980) & (X['HouseYear'] <= 2000), 'year_cat'] = 4\n",
        "    X.loc[(X['HouseYear'] > 2000) & (X['HouseYear'] <= 2010), 'year_cat'] = 5\n",
        "    X.loc[(X['HouseYear'] > 2010), 'year_cat'] = 6\n",
        "\n",
        "    return X\n",
        "\n",
        "\n",
        "def year_to_cat_pandas(X):\n",
        "    bins = [0, 1941, 1945, 1980, 2000, 2010, X['HouseYear'].max()]\n",
        "    X['year_cat'] = pd.cut(X['HouseYear'], bins=bins, labels=False)\n",
        "    \n",
        "    X['year_cat'].fillna(-1, inplace=True)\n",
        "    return X"
      ],
      "execution_count": null,
      "outputs": []
    },
    {
      "cell_type": "code",
      "metadata": {
        "execution": {
          "iopub.execute_input": "2021-05-25T15:46:41.644897Z",
          "iopub.status.busy": "2021-05-25T15:46:41.644565Z",
          "iopub.status.idle": "2021-05-25T15:46:41.65413Z",
          "shell.execute_reply": "2021-05-25T15:46:41.653091Z",
          "shell.execute_reply.started": "2021-05-25T15:46:41.644868Z"
        },
        "id": "fAbscJWz1-2b",
        "outputId": "848f3746-9b6e-41e8-de2b-3263605649fe"
      },
      "source": [
        "bins = [0, 3, 5, 9, 15, train_df['Floor'].max()]\n",
        "pd.cut(train_df['Floor'], bins=bins, labels=False)"
      ],
      "execution_count": null,
      "outputs": [
        {
          "output_type": "execute_result",
          "data": {
            "text/plain": [
              "0       1\n",
              "1       2\n",
              "2       0\n",
              "3       3\n",
              "4       4\n",
              "       ..\n",
              "9995    0\n",
              "9996    3\n",
              "9997    0\n",
              "9998    0\n",
              "9999    2\n",
              "Name: Floor, Length: 10000, dtype: int64"
            ]
          },
          "metadata": {
            "tags": []
          },
          "execution_count": 48
        }
      ]
    },
    {
      "cell_type": "code",
      "metadata": {
        "execution": {
          "iopub.execute_input": "2021-05-25T15:46:41.656634Z",
          "iopub.status.busy": "2021-05-25T15:46:41.656246Z",
          "iopub.status.idle": "2021-05-25T15:46:41.677547Z",
          "shell.execute_reply": "2021-05-25T15:46:41.676594Z",
          "shell.execute_reply.started": "2021-05-25T15:46:41.656593Z"
        },
        "id": "5eA-Lsw01-2b",
        "outputId": "c36e0f62-ee67-47a9-ff1a-08a2d766b764"
      },
      "source": [
        "bins = [0, 3, 5, 9, 15, train_df['Floor'].max()]\n",
        "pd.cut(train_df['Floor'], bins=bins)"
      ],
      "execution_count": null,
      "outputs": [
        {
          "output_type": "execute_result",
          "data": {
            "text/plain": [
              "0         (3, 5]\n",
              "1         (5, 9]\n",
              "2         (0, 3]\n",
              "3        (9, 15]\n",
              "4       (15, 42]\n",
              "          ...   \n",
              "9995      (0, 3]\n",
              "9996     (9, 15]\n",
              "9997      (0, 3]\n",
              "9998      (0, 3]\n",
              "9999      (5, 9]\n",
              "Name: Floor, Length: 10000, dtype: category\n",
              "Categories (5, interval[int64]): [(0, 3] < (3, 5] < (5, 9] < (9, 15] < (15, 42]]"
            ]
          },
          "metadata": {
            "tags": []
          },
          "execution_count": 49
        }
      ]
    },
    {
      "cell_type": "code",
      "metadata": {
        "execution": {
          "iopub.execute_input": "2021-05-25T15:46:41.678989Z",
          "iopub.status.busy": "2021-05-25T15:46:41.678751Z",
          "iopub.status.idle": "2021-05-25T15:46:41.72024Z",
          "shell.execute_reply": "2021-05-25T15:46:41.719541Z",
          "shell.execute_reply.started": "2021-05-25T15:46:41.678966Z"
        },
        "id": "uOOWTG8z1-2c",
        "outputId": "2aa56d3c-7c46-4e35-ac75-31b7a8f0ce56"
      },
      "source": [
        "train_df = year_to_cat(train_df)\n",
        "train_df = floor_to_cat(train_df)\n",
        "train_df.head()"
      ],
      "execution_count": null,
      "outputs": [
        {
          "output_type": "execute_result",
          "data": {
            "text/html": [
              "<div>\n",
              "<style scoped>\n",
              "    .dataframe tbody tr th:only-of-type {\n",
              "        vertical-align: middle;\n",
              "    }\n",
              "\n",
              "    .dataframe tbody tr th {\n",
              "        vertical-align: top;\n",
              "    }\n",
              "\n",
              "    .dataframe thead th {\n",
              "        text-align: right;\n",
              "    }\n",
              "</style>\n",
              "<table border=\"1\" class=\"dataframe\">\n",
              "  <thead>\n",
              "    <tr style=\"text-align: right;\">\n",
              "      <th></th>\n",
              "      <th>Id</th>\n",
              "      <th>DistrictId</th>\n",
              "      <th>Rooms</th>\n",
              "      <th>Square</th>\n",
              "      <th>LifeSquare</th>\n",
              "      <th>KitchenSquare</th>\n",
              "      <th>Floor</th>\n",
              "      <th>HouseFloor</th>\n",
              "      <th>HouseYear</th>\n",
              "      <th>Ecology_1</th>\n",
              "      <th>...</th>\n",
              "      <th>Shops_2</th>\n",
              "      <th>Price</th>\n",
              "      <th>Rooms_outlier</th>\n",
              "      <th>HouseFloor_outlier</th>\n",
              "      <th>LifeSquare_nan</th>\n",
              "      <th>DistrictSize</th>\n",
              "      <th>IsDistrictLarge</th>\n",
              "      <th>MedPriceByDistrict</th>\n",
              "      <th>year_cat</th>\n",
              "      <th>floor_cat</th>\n",
              "    </tr>\n",
              "  </thead>\n",
              "  <tbody>\n",
              "    <tr>\n",
              "      <th>0</th>\n",
              "      <td>11809</td>\n",
              "      <td>27</td>\n",
              "      <td>3.0</td>\n",
              "      <td>115.027311</td>\n",
              "      <td>102.027311</td>\n",
              "      <td>10.0</td>\n",
              "      <td>4</td>\n",
              "      <td>10.0</td>\n",
              "      <td>2014</td>\n",
              "      <td>0.075424</td>\n",
              "      <td>...</td>\n",
              "      <td>1</td>\n",
              "      <td>305018.871089</td>\n",
              "      <td>0</td>\n",
              "      <td>0</td>\n",
              "      <td>1</td>\n",
              "      <td>851</td>\n",
              "      <td>1</td>\n",
              "      <td>213530.788443</td>\n",
              "      <td>6</td>\n",
              "      <td>2</td>\n",
              "    </tr>\n",
              "    <tr>\n",
              "      <th>1</th>\n",
              "      <td>3013</td>\n",
              "      <td>22</td>\n",
              "      <td>1.0</td>\n",
              "      <td>39.832524</td>\n",
              "      <td>23.169223</td>\n",
              "      <td>8.0</td>\n",
              "      <td>7</td>\n",
              "      <td>8.0</td>\n",
              "      <td>1966</td>\n",
              "      <td>0.118537</td>\n",
              "      <td>...</td>\n",
              "      <td>1</td>\n",
              "      <td>177734.553407</td>\n",
              "      <td>0</td>\n",
              "      <td>0</td>\n",
              "      <td>0</td>\n",
              "      <td>78</td>\n",
              "      <td>0</td>\n",
              "      <td>146032.829834</td>\n",
              "      <td>3</td>\n",
              "      <td>3</td>\n",
              "    </tr>\n",
              "    <tr>\n",
              "      <th>2</th>\n",
              "      <td>8215</td>\n",
              "      <td>1</td>\n",
              "      <td>3.0</td>\n",
              "      <td>78.342215</td>\n",
              "      <td>47.671972</td>\n",
              "      <td>10.0</td>\n",
              "      <td>2</td>\n",
              "      <td>17.0</td>\n",
              "      <td>1988</td>\n",
              "      <td>0.025609</td>\n",
              "      <td>...</td>\n",
              "      <td>1</td>\n",
              "      <td>282078.720850</td>\n",
              "      <td>0</td>\n",
              "      <td>0</td>\n",
              "      <td>0</td>\n",
              "      <td>652</td>\n",
              "      <td>1</td>\n",
              "      <td>244005.272380</td>\n",
              "      <td>4</td>\n",
              "      <td>1</td>\n",
              "    </tr>\n",
              "    <tr>\n",
              "      <th>3</th>\n",
              "      <td>2352</td>\n",
              "      <td>1</td>\n",
              "      <td>1.0</td>\n",
              "      <td>40.409907</td>\n",
              "      <td>34.409907</td>\n",
              "      <td>3.0</td>\n",
              "      <td>10</td>\n",
              "      <td>22.0</td>\n",
              "      <td>1977</td>\n",
              "      <td>0.007122</td>\n",
              "      <td>...</td>\n",
              "      <td>1</td>\n",
              "      <td>168106.007630</td>\n",
              "      <td>0</td>\n",
              "      <td>0</td>\n",
              "      <td>1</td>\n",
              "      <td>652</td>\n",
              "      <td>1</td>\n",
              "      <td>146735.671740</td>\n",
              "      <td>3</td>\n",
              "      <td>4</td>\n",
              "    </tr>\n",
              "    <tr>\n",
              "      <th>4</th>\n",
              "      <td>13866</td>\n",
              "      <td>94</td>\n",
              "      <td>2.0</td>\n",
              "      <td>64.285067</td>\n",
              "      <td>38.562517</td>\n",
              "      <td>9.0</td>\n",
              "      <td>16</td>\n",
              "      <td>16.0</td>\n",
              "      <td>1972</td>\n",
              "      <td>0.282798</td>\n",
              "      <td>...</td>\n",
              "      <td>1</td>\n",
              "      <td>343995.102962</td>\n",
              "      <td>0</td>\n",
              "      <td>0</td>\n",
              "      <td>0</td>\n",
              "      <td>89</td>\n",
              "      <td>0</td>\n",
              "      <td>201584.441255</td>\n",
              "      <td>3</td>\n",
              "      <td>5</td>\n",
              "    </tr>\n",
              "  </tbody>\n",
              "</table>\n",
              "<p>5 rows × 27 columns</p>\n",
              "</div>"
            ],
            "text/plain": [
              "      Id DistrictId  Rooms      Square  LifeSquare  KitchenSquare  Floor  \\\n",
              "0  11809         27    3.0  115.027311  102.027311           10.0      4   \n",
              "1   3013         22    1.0   39.832524   23.169223            8.0      7   \n",
              "2   8215          1    3.0   78.342215   47.671972           10.0      2   \n",
              "3   2352          1    1.0   40.409907   34.409907            3.0     10   \n",
              "4  13866         94    2.0   64.285067   38.562517            9.0     16   \n",
              "\n",
              "   HouseFloor  HouseYear  Ecology_1  ...  Shops_2          Price  \\\n",
              "0        10.0       2014   0.075424  ...        1  305018.871089   \n",
              "1         8.0       1966   0.118537  ...        1  177734.553407   \n",
              "2        17.0       1988   0.025609  ...        1  282078.720850   \n",
              "3        22.0       1977   0.007122  ...        1  168106.007630   \n",
              "4        16.0       1972   0.282798  ...        1  343995.102962   \n",
              "\n",
              "   Rooms_outlier  HouseFloor_outlier  LifeSquare_nan  DistrictSize  \\\n",
              "0              0                   0               1           851   \n",
              "1              0                   0               0            78   \n",
              "2              0                   0               0           652   \n",
              "3              0                   0               1           652   \n",
              "4              0                   0               0            89   \n",
              "\n",
              "   IsDistrictLarge  MedPriceByDistrict  year_cat  floor_cat  \n",
              "0                1       213530.788443         6          2  \n",
              "1                0       146032.829834         3          3  \n",
              "2                1       244005.272380         4          1  \n",
              "3                1       146735.671740         3          4  \n",
              "4                0       201584.441255         3          5  \n",
              "\n",
              "[5 rows x 27 columns]"
            ]
          },
          "metadata": {
            "tags": []
          },
          "execution_count": 50
        }
      ]
    },
    {
      "cell_type": "code",
      "metadata": {
        "execution": {
          "iopub.execute_input": "2021-05-25T15:46:41.851423Z",
          "iopub.status.busy": "2021-05-25T15:46:41.851106Z",
          "iopub.status.idle": "2021-05-25T15:46:41.867565Z",
          "shell.execute_reply": "2021-05-25T15:46:41.866744Z",
          "shell.execute_reply.started": "2021-05-25T15:46:41.851396Z"
        },
        "id": "M1bCyLrh1-2c",
        "outputId": "67b97c6a-670f-4762-c7eb-e338e7221838"
      },
      "source": [
        "med_price_by_floor_year = train_df.groupby(['year_cat', 'floor_cat'], as_index=False).agg({'Price':'median'}).\\\n",
        "                                            rename(columns={'Price':'MedPriceByFloorYear'})\n",
        "med_price_by_floor_year.head()"
      ],
      "execution_count": null,
      "outputs": [
        {
          "output_type": "execute_result",
          "data": {
            "text/html": [
              "<div>\n",
              "<style scoped>\n",
              "    .dataframe tbody tr th:only-of-type {\n",
              "        vertical-align: middle;\n",
              "    }\n",
              "\n",
              "    .dataframe tbody tr th {\n",
              "        vertical-align: top;\n",
              "    }\n",
              "\n",
              "    .dataframe thead th {\n",
              "        text-align: right;\n",
              "    }\n",
              "</style>\n",
              "<table border=\"1\" class=\"dataframe\">\n",
              "  <thead>\n",
              "    <tr style=\"text-align: right;\">\n",
              "      <th></th>\n",
              "      <th>year_cat</th>\n",
              "      <th>floor_cat</th>\n",
              "      <th>MedPriceByFloorYear</th>\n",
              "    </tr>\n",
              "  </thead>\n",
              "  <tbody>\n",
              "    <tr>\n",
              "      <th>0</th>\n",
              "      <td>1</td>\n",
              "      <td>1</td>\n",
              "      <td>352702.635693</td>\n",
              "    </tr>\n",
              "    <tr>\n",
              "      <th>1</th>\n",
              "      <td>1</td>\n",
              "      <td>2</td>\n",
              "      <td>333877.704698</td>\n",
              "    </tr>\n",
              "    <tr>\n",
              "      <th>2</th>\n",
              "      <td>1</td>\n",
              "      <td>3</td>\n",
              "      <td>396262.354728</td>\n",
              "    </tr>\n",
              "    <tr>\n",
              "      <th>3</th>\n",
              "      <td>1</td>\n",
              "      <td>4</td>\n",
              "      <td>274992.472366</td>\n",
              "    </tr>\n",
              "    <tr>\n",
              "      <th>4</th>\n",
              "      <td>2</td>\n",
              "      <td>1</td>\n",
              "      <td>467230.539057</td>\n",
              "    </tr>\n",
              "  </tbody>\n",
              "</table>\n",
              "</div>"
            ],
            "text/plain": [
              "   year_cat  floor_cat  MedPriceByFloorYear\n",
              "0         1          1        352702.635693\n",
              "1         1          2        333877.704698\n",
              "2         1          3        396262.354728\n",
              "3         1          4        274992.472366\n",
              "4         2          1        467230.539057"
            ]
          },
          "metadata": {
            "tags": []
          },
          "execution_count": 51
        }
      ]
    },
    {
      "cell_type": "code",
      "metadata": {
        "execution": {
          "iopub.execute_input": "2021-05-25T15:46:42.144642Z",
          "iopub.status.busy": "2021-05-25T15:46:42.144308Z",
          "iopub.status.idle": "2021-05-25T15:46:42.181588Z",
          "shell.execute_reply": "2021-05-25T15:46:42.180501Z",
          "shell.execute_reply.started": "2021-05-25T15:46:42.144614Z"
        },
        "id": "UQwqNzwb1-2d",
        "outputId": "6d2b43e0-7f01-4c75-8656-3ee334f1a736"
      },
      "source": [
        "train_df = train_df.merge(med_price_by_floor_year, on=['year_cat', 'floor_cat'], how='left')\n",
        "train_df.head()"
      ],
      "execution_count": null,
      "outputs": [
        {
          "output_type": "execute_result",
          "data": {
            "text/html": [
              "<div>\n",
              "<style scoped>\n",
              "    .dataframe tbody tr th:only-of-type {\n",
              "        vertical-align: middle;\n",
              "    }\n",
              "\n",
              "    .dataframe tbody tr th {\n",
              "        vertical-align: top;\n",
              "    }\n",
              "\n",
              "    .dataframe thead th {\n",
              "        text-align: right;\n",
              "    }\n",
              "</style>\n",
              "<table border=\"1\" class=\"dataframe\">\n",
              "  <thead>\n",
              "    <tr style=\"text-align: right;\">\n",
              "      <th></th>\n",
              "      <th>Id</th>\n",
              "      <th>DistrictId</th>\n",
              "      <th>Rooms</th>\n",
              "      <th>Square</th>\n",
              "      <th>LifeSquare</th>\n",
              "      <th>KitchenSquare</th>\n",
              "      <th>Floor</th>\n",
              "      <th>HouseFloor</th>\n",
              "      <th>HouseYear</th>\n",
              "      <th>Ecology_1</th>\n",
              "      <th>...</th>\n",
              "      <th>Price</th>\n",
              "      <th>Rooms_outlier</th>\n",
              "      <th>HouseFloor_outlier</th>\n",
              "      <th>LifeSquare_nan</th>\n",
              "      <th>DistrictSize</th>\n",
              "      <th>IsDistrictLarge</th>\n",
              "      <th>MedPriceByDistrict</th>\n",
              "      <th>year_cat</th>\n",
              "      <th>floor_cat</th>\n",
              "      <th>MedPriceByFloorYear</th>\n",
              "    </tr>\n",
              "  </thead>\n",
              "  <tbody>\n",
              "    <tr>\n",
              "      <th>0</th>\n",
              "      <td>11809</td>\n",
              "      <td>27</td>\n",
              "      <td>3.0</td>\n",
              "      <td>115.027311</td>\n",
              "      <td>102.027311</td>\n",
              "      <td>10.0</td>\n",
              "      <td>4</td>\n",
              "      <td>10.0</td>\n",
              "      <td>2014</td>\n",
              "      <td>0.075424</td>\n",
              "      <td>...</td>\n",
              "      <td>305018.871089</td>\n",
              "      <td>0</td>\n",
              "      <td>0</td>\n",
              "      <td>1</td>\n",
              "      <td>851</td>\n",
              "      <td>1</td>\n",
              "      <td>213530.788443</td>\n",
              "      <td>6</td>\n",
              "      <td>2</td>\n",
              "      <td>165636.155320</td>\n",
              "    </tr>\n",
              "    <tr>\n",
              "      <th>1</th>\n",
              "      <td>3013</td>\n",
              "      <td>22</td>\n",
              "      <td>1.0</td>\n",
              "      <td>39.832524</td>\n",
              "      <td>23.169223</td>\n",
              "      <td>8.0</td>\n",
              "      <td>7</td>\n",
              "      <td>8.0</td>\n",
              "      <td>1966</td>\n",
              "      <td>0.118537</td>\n",
              "      <td>...</td>\n",
              "      <td>177734.553407</td>\n",
              "      <td>0</td>\n",
              "      <td>0</td>\n",
              "      <td>0</td>\n",
              "      <td>78</td>\n",
              "      <td>0</td>\n",
              "      <td>146032.829834</td>\n",
              "      <td>3</td>\n",
              "      <td>3</td>\n",
              "      <td>192125.202581</td>\n",
              "    </tr>\n",
              "    <tr>\n",
              "      <th>2</th>\n",
              "      <td>8215</td>\n",
              "      <td>1</td>\n",
              "      <td>3.0</td>\n",
              "      <td>78.342215</td>\n",
              "      <td>47.671972</td>\n",
              "      <td>10.0</td>\n",
              "      <td>2</td>\n",
              "      <td>17.0</td>\n",
              "      <td>1988</td>\n",
              "      <td>0.025609</td>\n",
              "      <td>...</td>\n",
              "      <td>282078.720850</td>\n",
              "      <td>0</td>\n",
              "      <td>0</td>\n",
              "      <td>0</td>\n",
              "      <td>652</td>\n",
              "      <td>1</td>\n",
              "      <td>244005.272380</td>\n",
              "      <td>4</td>\n",
              "      <td>1</td>\n",
              "      <td>204940.082609</td>\n",
              "    </tr>\n",
              "    <tr>\n",
              "      <th>3</th>\n",
              "      <td>2352</td>\n",
              "      <td>1</td>\n",
              "      <td>1.0</td>\n",
              "      <td>40.409907</td>\n",
              "      <td>34.409907</td>\n",
              "      <td>3.0</td>\n",
              "      <td>10</td>\n",
              "      <td>22.0</td>\n",
              "      <td>1977</td>\n",
              "      <td>0.007122</td>\n",
              "      <td>...</td>\n",
              "      <td>168106.007630</td>\n",
              "      <td>0</td>\n",
              "      <td>0</td>\n",
              "      <td>1</td>\n",
              "      <td>652</td>\n",
              "      <td>1</td>\n",
              "      <td>146735.671740</td>\n",
              "      <td>3</td>\n",
              "      <td>4</td>\n",
              "      <td>183445.443721</td>\n",
              "    </tr>\n",
              "    <tr>\n",
              "      <th>4</th>\n",
              "      <td>13866</td>\n",
              "      <td>94</td>\n",
              "      <td>2.0</td>\n",
              "      <td>64.285067</td>\n",
              "      <td>38.562517</td>\n",
              "      <td>9.0</td>\n",
              "      <td>16</td>\n",
              "      <td>16.0</td>\n",
              "      <td>1972</td>\n",
              "      <td>0.282798</td>\n",
              "      <td>...</td>\n",
              "      <td>343995.102962</td>\n",
              "      <td>0</td>\n",
              "      <td>0</td>\n",
              "      <td>0</td>\n",
              "      <td>89</td>\n",
              "      <td>0</td>\n",
              "      <td>201584.441255</td>\n",
              "      <td>3</td>\n",
              "      <td>5</td>\n",
              "      <td>173955.556579</td>\n",
              "    </tr>\n",
              "  </tbody>\n",
              "</table>\n",
              "<p>5 rows × 28 columns</p>\n",
              "</div>"
            ],
            "text/plain": [
              "      Id DistrictId  Rooms      Square  LifeSquare  KitchenSquare  Floor  \\\n",
              "0  11809         27    3.0  115.027311  102.027311           10.0      4   \n",
              "1   3013         22    1.0   39.832524   23.169223            8.0      7   \n",
              "2   8215          1    3.0   78.342215   47.671972           10.0      2   \n",
              "3   2352          1    1.0   40.409907   34.409907            3.0     10   \n",
              "4  13866         94    2.0   64.285067   38.562517            9.0     16   \n",
              "\n",
              "   HouseFloor  HouseYear  Ecology_1  ...          Price  Rooms_outlier  \\\n",
              "0        10.0       2014   0.075424  ...  305018.871089              0   \n",
              "1         8.0       1966   0.118537  ...  177734.553407              0   \n",
              "2        17.0       1988   0.025609  ...  282078.720850              0   \n",
              "3        22.0       1977   0.007122  ...  168106.007630              0   \n",
              "4        16.0       1972   0.282798  ...  343995.102962              0   \n",
              "\n",
              "   HouseFloor_outlier  LifeSquare_nan  DistrictSize  IsDistrictLarge  \\\n",
              "0                   0               1           851                1   \n",
              "1                   0               0            78                0   \n",
              "2                   0               0           652                1   \n",
              "3                   0               1           652                1   \n",
              "4                   0               0            89                0   \n",
              "\n",
              "   MedPriceByDistrict  year_cat  floor_cat  MedPriceByFloorYear  \n",
              "0       213530.788443         6          2        165636.155320  \n",
              "1       146032.829834         3          3        192125.202581  \n",
              "2       244005.272380         4          1        204940.082609  \n",
              "3       146735.671740         3          4        183445.443721  \n",
              "4       201584.441255         3          5        173955.556579  \n",
              "\n",
              "[5 rows x 28 columns]"
            ]
          },
          "metadata": {
            "tags": []
          },
          "execution_count": 52
        }
      ]
    },
    {
      "cell_type": "code",
      "metadata": {
        "execution": {
          "iopub.execute_input": "2021-05-25T15:47:32.534516Z",
          "iopub.status.busy": "2021-05-25T15:47:32.534179Z",
          "iopub.status.idle": "2021-05-25T15:47:32.555631Z",
          "shell.execute_reply": "2021-05-25T15:47:32.5542Z",
          "shell.execute_reply.started": "2021-05-25T15:47:32.534484Z"
        },
        "id": "vb2hmpPF1-2e"
      },
      "source": [
        "class FeatureGenetator():\n",
        "    \"\"\"Генерация новых фич\"\"\"\n",
        "    \n",
        "    def __init__(self):\n",
        "        self.DistrictId_counts = None\n",
        "        self.binary_to_numbers = None\n",
        "        self.med_price_by_district = None\n",
        "        self.med_price_by_floor_year = None\n",
        "        self.house_year_max = None\n",
        "        self.floor_max = None\n",
        "        self.district_size = None\n",
        "        \n",
        "    def fit(self, X, y=None):\n",
        "        \n",
        "        X = X.copy()\n",
        "        \n",
        "        # Binary features\n",
        "        self.binary_to_numbers = {'A': 0, 'B': 1}\n",
        "        \n",
        "        # DistrictID\n",
        "        self.district_size = X['DistrictId'].value_counts().reset_index() \\\n",
        "                               .rename(columns={'index':'DistrictId', 'DistrictId':'DistrictSize'})\n",
        "                \n",
        "        # Target encoding\n",
        "        ## District, Rooms\n",
        "        df = X.copy()\n",
        "        \n",
        "        if y is not None:\n",
        "            df['Price'] = y.values\n",
        "            \n",
        "            self.med_price_by_district = df.groupby(['DistrictId', 'Rooms'], as_index=False).agg({'Price':'median'})\\\n",
        "                                            .rename(columns={'Price':'MedPriceByDistrict'})\n",
        "            \n",
        "            self.med_price_by_district_median = self.med_price_by_district['MedPriceByDistrict'].median()\n",
        "            \n",
        "        ## floor, year\n",
        "        if y is not None:\n",
        "            self.floor_max = df['Floor'].max()\n",
        "            self.house_year_max = df['HouseYear'].max()\n",
        "            df['Price'] = y.values\n",
        "            df = self.floor_to_cat(df)\n",
        "            df = self.year_to_cat(df)\n",
        "            self.med_price_by_floor_year = df.groupby(['year_cat', 'floor_cat'], as_index=False).agg({'Price':'median'}).\\\n",
        "                                            rename(columns={'Price':'MedPriceByFloorYear'})\n",
        "            self.med_price_by_floor_year_median = self.med_price_by_floor_year['MedPriceByFloorYear'].median()\n",
        "        \n",
        "\n",
        "        \n",
        "    def transform(self, X):\n",
        "        \n",
        "        # Binary features\n",
        "        X['Ecology_2'] = X['Ecology_2'].map(self.binary_to_numbers)  # self.binary_to_numbers = {'A': 0, 'B': 1}\n",
        "        X['Ecology_3'] = X['Ecology_3'].map(self.binary_to_numbers)\n",
        "        X['Shops_2'] = X['Shops_2'].map(self.binary_to_numbers)\n",
        "        \n",
        "        # DistrictId, IsDistrictLarge\n",
        "        X = X.merge(self.district_size, on='DistrictId', how='left')\n",
        "        \n",
        "        X['new_district'] = 0\n",
        "        X.loc[X['DistrictSize'].isna(), 'new_district'] = 1\n",
        "        \n",
        "        X['DistrictSize'].fillna(5, inplace=True)\n",
        "        \n",
        "        X['IsDistrictLarge'] = (X['DistrictSize'] > 100).astype(int)\n",
        "        \n",
        "        # More categorical features\n",
        "        X = self.floor_to_cat(X)  # + столбец floor_cat\n",
        "        X = self.year_to_cat(X)   # + столбец year_cat\n",
        "        \n",
        "        # Target encoding\n",
        "        if self.med_price_by_district is not None:\n",
        "            X = X.merge(self.med_price_by_district, on=['DistrictId', 'Rooms'], how='left')\n",
        "            X['MedPriceByDistrict'].fillna(self.med_price_by_district_median, inplace=True)\n",
        "            \n",
        "        if self.med_price_by_floor_year is not None:\n",
        "            X = X.merge(self.med_price_by_floor_year, on=['year_cat', 'floor_cat'], how='left')\n",
        "            X['MedPriceByFloorYear'].fillna(self.med_price_by_floor_year_median, inplace=True)\n",
        "        \n",
        "        return X\n",
        "    \n",
        "    def floor_to_cat(self, X):\n",
        "        bins = [0, 3, 5, 9, 15, self.floor_max]\n",
        "        X['floor_cat'] = pd.cut(X['Floor'], bins=bins, labels=False)\n",
        "\n",
        "        X['floor_cat'].fillna(-1, inplace=True) \n",
        "        return X\n",
        "     \n",
        "    def year_to_cat(self, X):\n",
        "        bins = [0, 1941, 1945, 1980, 2000, 2010, self.house_year_max]\n",
        "        X['year_cat'] = pd.cut(X['HouseYear'], bins=bins, labels=False)\n",
        "\n",
        "        X['year_cat'].fillna(-1, inplace=True)\n",
        "        return X\n",
        "            \n",
        "    "
      ],
      "execution_count": null,
      "outputs": []
    },
    {
      "cell_type": "markdown",
      "metadata": {
        "id": "jQdFYvT51-2f"
      },
      "source": [
        "### Отбор признаков  <a class='anchor' id='feature_selection'>"
      ]
    },
    {
      "cell_type": "code",
      "metadata": {
        "execution": {
          "iopub.execute_input": "2021-05-25T15:47:34.854577Z",
          "iopub.status.busy": "2021-05-25T15:47:34.854266Z",
          "iopub.status.idle": "2021-05-25T15:47:34.859908Z",
          "shell.execute_reply": "2021-05-25T15:47:34.859094Z",
          "shell.execute_reply.started": "2021-05-25T15:47:34.85455Z"
        },
        "id": "y6Ue9DcB1-2g",
        "outputId": "1640f880-13b5-40ef-946b-c2e2ea01f62e"
      },
      "source": [
        "train_df.columns.tolist()"
      ],
      "execution_count": null,
      "outputs": [
        {
          "output_type": "execute_result",
          "data": {
            "text/plain": [
              "['Id',\n",
              " 'DistrictId',\n",
              " 'Rooms',\n",
              " 'Square',\n",
              " 'LifeSquare',\n",
              " 'KitchenSquare',\n",
              " 'Floor',\n",
              " 'HouseFloor',\n",
              " 'HouseYear',\n",
              " 'Ecology_1',\n",
              " 'Ecology_2',\n",
              " 'Ecology_3',\n",
              " 'Social_1',\n",
              " 'Social_2',\n",
              " 'Social_3',\n",
              " 'Helthcare_2',\n",
              " 'Shops_1',\n",
              " 'Shops_2',\n",
              " 'Price',\n",
              " 'Rooms_outlier',\n",
              " 'HouseFloor_outlier',\n",
              " 'LifeSquare_nan',\n",
              " 'DistrictSize',\n",
              " 'IsDistrictLarge',\n",
              " 'MedPriceByDistrict',\n",
              " 'year_cat',\n",
              " 'floor_cat',\n",
              " 'MedPriceByFloorYear']"
            ]
          },
          "metadata": {
            "tags": []
          },
          "execution_count": 54
        }
      ]
    },
    {
      "cell_type": "code",
      "metadata": {
        "execution": {
          "iopub.execute_input": "2021-05-25T15:47:35.367904Z",
          "iopub.status.busy": "2021-05-25T15:47:35.367428Z",
          "iopub.status.idle": "2021-05-25T15:47:35.372945Z",
          "shell.execute_reply": "2021-05-25T15:47:35.372116Z",
          "shell.execute_reply.started": "2021-05-25T15:47:35.367865Z"
        },
        "id": "DshxE7T-1-2g"
      },
      "source": [
        "feature_names = ['Rooms', 'Square', 'LifeSquare', 'KitchenSquare', 'Floor', 'HouseFloor', 'HouseYear',\n",
        "                 'Ecology_1', 'Ecology_2', 'Ecology_3', 'Social_1', 'Social_2', 'Social_3',\n",
        "                 'Helthcare_2', 'Shops_1', 'Shops_2']\n",
        "\n",
        "new_feature_names = ['Rooms_outlier', 'HouseFloor_outlier', 'HouseYear_outlier', 'LifeSquare_nan', 'DistrictSize',\n",
        "                     'new_district', 'IsDistrictLarge',  'MedPriceByDistrict', 'MedPriceByFloorYear']\n",
        "\n",
        "target_name = 'Price'"
      ],
      "execution_count": null,
      "outputs": []
    },
    {
      "cell_type": "markdown",
      "metadata": {
        "id": "Yv4dYZBv1-2h"
      },
      "source": [
        "### Разбиение на train и test  <a class='anchor' id='split'>"
      ]
    },
    {
      "cell_type": "code",
      "metadata": {
        "execution": {
          "iopub.execute_input": "2021-05-25T15:47:36.631637Z",
          "iopub.status.busy": "2021-05-25T15:47:36.631073Z",
          "iopub.status.idle": "2021-05-25T15:47:36.681311Z",
          "shell.execute_reply": "2021-05-25T15:47:36.680653Z",
          "shell.execute_reply.started": "2021-05-25T15:47:36.631603Z"
        },
        "id": "f-mkS1n_1-2h"
      },
      "source": [
        "train_df = pd.read_csv('train.csv')\n",
        "test_df = pd.read_csv('test.csv')\n",
        "\n",
        "X = train_df.drop(columns=target_name)\n",
        "y = train_df[target_name]"
      ],
      "execution_count": null,
      "outputs": []
    },
    {
      "cell_type": "code",
      "metadata": {
        "execution": {
          "iopub.execute_input": "2021-05-25T15:47:37.087607Z",
          "iopub.status.busy": "2021-05-25T15:47:37.087136Z",
          "iopub.status.idle": "2021-05-25T15:47:37.095619Z",
          "shell.execute_reply": "2021-05-25T15:47:37.094624Z",
          "shell.execute_reply.started": "2021-05-25T15:47:37.087568Z"
        },
        "id": "3u0xIH5S1-2h"
      },
      "source": [
        "X_train, X_valid, y_train, y_valid = train_test_split(X, y, test_size=0.33, shuffle=True, random_state=21)"
      ],
      "execution_count": null,
      "outputs": []
    },
    {
      "cell_type": "code",
      "metadata": {
        "execution": {
          "iopub.execute_input": "2021-05-25T15:47:37.436412Z",
          "iopub.status.busy": "2021-05-25T15:47:37.436066Z",
          "iopub.status.idle": "2021-05-25T15:47:37.508796Z",
          "shell.execute_reply": "2021-05-25T15:47:37.507593Z",
          "shell.execute_reply.started": "2021-05-25T15:47:37.436379Z"
        },
        "id": "qTEuo-Vr1-2i",
        "outputId": "5d06f59f-b603-4a90-ec66-9be2de828c7a"
      },
      "source": [
        "preprocessor = DataPreprocessing()\n",
        "preprocessor.fit(X_train)\n",
        "\n",
        "X_train = preprocessor.transform(X_train)\n",
        "X_valid = preprocessor.transform(X_valid)\n",
        "test_df = preprocessor.transform(test_df)\n",
        "\n",
        "X_train.shape, X_valid.shape, test_df.shape"
      ],
      "execution_count": null,
      "outputs": [
        {
          "output_type": "execute_result",
          "data": {
            "text/plain": [
              "((6700, 22), (3300, 22), (5000, 22))"
            ]
          },
          "metadata": {
            "tags": []
          },
          "execution_count": 58
        }
      ]
    },
    {
      "cell_type": "code",
      "metadata": {
        "execution": {
          "iopub.execute_input": "2021-05-25T15:47:38.721484Z",
          "iopub.status.busy": "2021-05-25T15:47:38.721171Z",
          "iopub.status.idle": "2021-05-25T15:47:38.826965Z",
          "shell.execute_reply": "2021-05-25T15:47:38.825856Z",
          "shell.execute_reply.started": "2021-05-25T15:47:38.721456Z"
        },
        "id": "jD_jtNGn1-2j",
        "outputId": "2ca09ac2-d23b-4eea-fb9c-3ab7d5c81a13"
      },
      "source": [
        "features_gen = FeatureGenetator()\n",
        "features_gen.fit(X_train, y_train)\n",
        "\n",
        "X_train = features_gen.transform(X_train)\n",
        "X_valid = features_gen.transform(X_valid)\n",
        "test_df = features_gen.transform(test_df)\n",
        "\n",
        "X_train.shape, X_valid.shape, test_df.shape"
      ],
      "execution_count": null,
      "outputs": [
        {
          "output_type": "execute_result",
          "data": {
            "text/plain": [
              "((6700, 29), (3300, 29), (5000, 29))"
            ]
          },
          "metadata": {
            "tags": []
          },
          "execution_count": 59
        }
      ]
    },
    {
      "cell_type": "code",
      "metadata": {
        "execution": {
          "iopub.execute_input": "2021-05-25T15:47:40.173688Z",
          "iopub.status.busy": "2021-05-25T15:47:40.173341Z",
          "iopub.status.idle": "2021-05-25T15:47:40.184952Z",
          "shell.execute_reply": "2021-05-25T15:47:40.183901Z",
          "shell.execute_reply.started": "2021-05-25T15:47:40.173643Z"
        },
        "id": "y3zttH7c1-2j"
      },
      "source": [
        "X_train = X_train[feature_names + new_feature_names]\n",
        "X_valid = X_valid[feature_names + new_feature_names]\n",
        "test_df = test_df[feature_names + new_feature_names]"
      ],
      "execution_count": null,
      "outputs": []
    },
    {
      "cell_type": "code",
      "metadata": {
        "execution": {
          "iopub.execute_input": "2021-05-25T15:47:40.661114Z",
          "iopub.status.busy": "2021-05-25T15:47:40.660619Z",
          "iopub.status.idle": "2021-05-25T15:47:40.671918Z",
          "shell.execute_reply": "2021-05-25T15:47:40.670937Z",
          "shell.execute_reply.started": "2021-05-25T15:47:40.661069Z"
        },
        "id": "KPl2QKi21-2j",
        "outputId": "a29e0857-1339-4696-be84-fc01f76aaa99"
      },
      "source": [
        "X_train.isna().sum().sum(), X_valid.isna().sum().sum(), test_df.isna().sum().sum()"
      ],
      "execution_count": null,
      "outputs": [
        {
          "output_type": "execute_result",
          "data": {
            "text/plain": [
              "(0, 0, 0)"
            ]
          },
          "metadata": {
            "tags": []
          },
          "execution_count": 61
        }
      ]
    },
    {
      "cell_type": "markdown",
      "metadata": {
        "id": "YSvMGeUL1-2k"
      },
      "source": [
        "### Построение модели  <a class='anchor' id='modeling'>"
      ]
    },
    {
      "cell_type": "markdown",
      "metadata": {
        "id": "Mz0EKMOa1-2k"
      },
      "source": [
        "**Обучение**"
      ]
    },
    {
      "cell_type": "code",
      "metadata": {
        "id": "HGbscKBF1-2k"
      },
      "source": [
        "from sklearn.ensemble import GradientBoostingRegressor\n",
        "\n",
        "model = GradientBoostingRegressor(criterion='friedman_mse',\n",
        "                                     max_depth=6,\n",
        "                                     min_samples_split=2,\n",
        "                                     min_samples_leaf=3,\n",
        "                                     random_state=42,  \n",
        "                                     n_estimators=800,\n",
        "                                     min_weight_fraction_leaf=0.0,\n",
        "                                     max_features='sqrt', \n",
        "                                     loss='huber',\n",
        "                                     subsample=1,\n",
        "                                     max_leaf_nodes=20,\n",
        "                                     learning_rate=0.1)\n"
      ],
      "execution_count": null,
      "outputs": []
    },
    {
      "cell_type": "code",
      "metadata": {
        "id": "EZEvrdjF1-2l",
        "outputId": "fb46e6a3-fece-4548-fdbd-fcf6f003ae1b"
      },
      "source": [
        "model.fit(X_train, y_train)"
      ],
      "execution_count": null,
      "outputs": [
        {
          "output_type": "execute_result",
          "data": {
            "text/plain": [
              "GradientBoostingRegressor(loss='huber', max_depth=6, max_features='sqrt',\n",
              "                          max_leaf_nodes=20, min_samples_leaf=3,\n",
              "                          n_estimators=800, random_state=42, subsample=1)"
            ]
          },
          "metadata": {
            "tags": []
          },
          "execution_count": 63
        }
      ]
    },
    {
      "cell_type": "code",
      "metadata": {
        "id": "SY3THiYb1-2l",
        "outputId": "e313089d-cd0c-46c5-ee80-12bb2aa881a2"
      },
      "source": [
        "y_train_preds = model.predict(X_train)\n",
        "y_test_preds = model.predict(X_valid)\n",
        "\n",
        "evaluate_preds(y_train, y_train_preds, y_valid, y_test_preds)"
      ],
      "execution_count": null,
      "outputs": [
        {
          "output_type": "stream",
          "text": [
            "Train R2:\t0.93\n",
            "Test R2:\t0.74\n"
          ],
          "name": "stdout"
        },
        {
          "output_type": "display_data",
          "data": {
            "image/png": "[encoded data removed]",
            "text/plain": [
              "<Figure size 1296x720 with 2 Axes>"
            ]
          },
          "metadata": {
            "tags": [],
            "needs_background": "light"
          }
        }
      ]
    },
    {
      "cell_type": "code",
      "metadata": {
        "id": "N-UfdPP31-2m",
        "outputId": "3046a9a2-6984-477a-a4a7-430a047a07a1"
      },
      "source": [
        "feature_importances = pd.DataFrame(zip(X_train.columns, model.feature_importances_), \n",
        "                                   columns=['feature_name', 'importance'])\n",
        "\n",
        "feature_importances.sort_values(by='importance', ascending=False)"
      ],
      "execution_count": null,
      "outputs": [
        {
          "output_type": "execute_result",
          "data": {
            "text/html": [
              "<div>\n",
              "<style scoped>\n",
              "    .dataframe tbody tr th:only-of-type {\n",
              "        vertical-align: middle;\n",
              "    }\n",
              "\n",
              "    .dataframe tbody tr th {\n",
              "        vertical-align: top;\n",
              "    }\n",
              "\n",
              "    .dataframe thead th {\n",
              "        text-align: right;\n",
              "    }\n",
              "</style>\n",
              "<table border=\"1\" class=\"dataframe\">\n",
              "  <thead>\n",
              "    <tr style=\"text-align: right;\">\n",
              "      <th></th>\n",
              "      <th>feature_name</th>\n",
              "      <th>importance</th>\n",
              "    </tr>\n",
              "  </thead>\n",
              "  <tbody>\n",
              "    <tr>\n",
              "      <th>23</th>\n",
              "      <td>MedPriceByDistrict</td>\n",
              "      <td>0.250656</td>\n",
              "    </tr>\n",
              "    <tr>\n",
              "      <th>1</th>\n",
              "      <td>Square</td>\n",
              "      <td>0.222576</td>\n",
              "    </tr>\n",
              "    <tr>\n",
              "      <th>2</th>\n",
              "      <td>LifeSquare</td>\n",
              "      <td>0.098719</td>\n",
              "    </tr>\n",
              "    <tr>\n",
              "      <th>20</th>\n",
              "      <td>DistrictSize</td>\n",
              "      <td>0.093155</td>\n",
              "    </tr>\n",
              "    <tr>\n",
              "      <th>10</th>\n",
              "      <td>Social_1</td>\n",
              "      <td>0.060788</td>\n",
              "    </tr>\n",
              "    <tr>\n",
              "      <th>11</th>\n",
              "      <td>Social_2</td>\n",
              "      <td>0.058479</td>\n",
              "    </tr>\n",
              "    <tr>\n",
              "      <th>0</th>\n",
              "      <td>Rooms</td>\n",
              "      <td>0.034654</td>\n",
              "    </tr>\n",
              "    <tr>\n",
              "      <th>24</th>\n",
              "      <td>MedPriceByFloorYear</td>\n",
              "      <td>0.030298</td>\n",
              "    </tr>\n",
              "    <tr>\n",
              "      <th>3</th>\n",
              "      <td>KitchenSquare</td>\n",
              "      <td>0.026091</td>\n",
              "    </tr>\n",
              "    <tr>\n",
              "      <th>12</th>\n",
              "      <td>Social_3</td>\n",
              "      <td>0.024710</td>\n",
              "    </tr>\n",
              "    <tr>\n",
              "      <th>5</th>\n",
              "      <td>HouseFloor</td>\n",
              "      <td>0.019686</td>\n",
              "    </tr>\n",
              "    <tr>\n",
              "      <th>6</th>\n",
              "      <td>HouseYear</td>\n",
              "      <td>0.018797</td>\n",
              "    </tr>\n",
              "    <tr>\n",
              "      <th>7</th>\n",
              "      <td>Ecology_1</td>\n",
              "      <td>0.017976</td>\n",
              "    </tr>\n",
              "    <tr>\n",
              "      <th>14</th>\n",
              "      <td>Shops_1</td>\n",
              "      <td>0.013669</td>\n",
              "    </tr>\n",
              "    <tr>\n",
              "      <th>4</th>\n",
              "      <td>Floor</td>\n",
              "      <td>0.010784</td>\n",
              "    </tr>\n",
              "    <tr>\n",
              "      <th>22</th>\n",
              "      <td>IsDistrictLarge</td>\n",
              "      <td>0.008538</td>\n",
              "    </tr>\n",
              "    <tr>\n",
              "      <th>13</th>\n",
              "      <td>Helthcare_2</td>\n",
              "      <td>0.004894</td>\n",
              "    </tr>\n",
              "    <tr>\n",
              "      <th>19</th>\n",
              "      <td>LifeSquare_nan</td>\n",
              "      <td>0.002160</td>\n",
              "    </tr>\n",
              "    <tr>\n",
              "      <th>15</th>\n",
              "      <td>Shops_2</td>\n",
              "      <td>0.001737</td>\n",
              "    </tr>\n",
              "    <tr>\n",
              "      <th>17</th>\n",
              "      <td>HouseFloor_outlier</td>\n",
              "      <td>0.001155</td>\n",
              "    </tr>\n",
              "    <tr>\n",
              "      <th>9</th>\n",
              "      <td>Ecology_3</td>\n",
              "      <td>0.000366</td>\n",
              "    </tr>\n",
              "    <tr>\n",
              "      <th>16</th>\n",
              "      <td>Rooms_outlier</td>\n",
              "      <td>0.000055</td>\n",
              "    </tr>\n",
              "    <tr>\n",
              "      <th>8</th>\n",
              "      <td>Ecology_2</td>\n",
              "      <td>0.000055</td>\n",
              "    </tr>\n",
              "    <tr>\n",
              "      <th>21</th>\n",
              "      <td>new_district</td>\n",
              "      <td>0.000000</td>\n",
              "    </tr>\n",
              "    <tr>\n",
              "      <th>18</th>\n",
              "      <td>HouseYear_outlier</td>\n",
              "      <td>0.000000</td>\n",
              "    </tr>\n",
              "  </tbody>\n",
              "</table>\n",
              "</div>"
            ],
            "text/plain": [
              "           feature_name  importance\n",
              "23   MedPriceByDistrict    0.250656\n",
              "1                Square    0.222576\n",
              "2            LifeSquare    0.098719\n",
              "20         DistrictSize    0.093155\n",
              "10             Social_1    0.060788\n",
              "11             Social_2    0.058479\n",
              "0                 Rooms    0.034654\n",
              "24  MedPriceByFloorYear    0.030298\n",
              "3         KitchenSquare    0.026091\n",
              "12             Social_3    0.024710\n",
              "5            HouseFloor    0.019686\n",
              "6             HouseYear    0.018797\n",
              "7             Ecology_1    0.017976\n",
              "14              Shops_1    0.013669\n",
              "4                 Floor    0.010784\n",
              "22      IsDistrictLarge    0.008538\n",
              "13          Helthcare_2    0.004894\n",
              "19       LifeSquare_nan    0.002160\n",
              "15              Shops_2    0.001737\n",
              "17   HouseFloor_outlier    0.001155\n",
              "9             Ecology_3    0.000366\n",
              "16        Rooms_outlier    0.000055\n",
              "8             Ecology_2    0.000055\n",
              "21         new_district    0.000000\n",
              "18    HouseYear_outlier    0.000000"
            ]
          },
          "metadata": {
            "tags": []
          },
          "execution_count": 65
        }
      ]
    },
    {
      "cell_type": "markdown",
      "metadata": {
        "id": "ZKHwnFCW1-2m"
      },
      "source": [
        "### Прогнозирование на тестовом датасете  <a class='anchor' id='prediction'>"
      ]
    },
    {
      "cell_type": "code",
      "metadata": {
        "id": "pKdBg6NN1-2n",
        "outputId": "9aba2d97-ee4c-43e7-a270-844c9f3ffa7f"
      },
      "source": [
        "test_df.shape"
      ],
      "execution_count": null,
      "outputs": [
        {
          "output_type": "execute_result",
          "data": {
            "text/plain": [
              "(5000, 25)"
            ]
          },
          "metadata": {
            "tags": []
          },
          "execution_count": 66
        }
      ]
    },
    {
      "cell_type": "code",
      "metadata": {
        "id": "R2KiGnuE1-2n",
        "outputId": "345d0969-948d-4f70-cd1f-c90f05530aef"
      },
      "source": [
        "test_df"
      ],
      "execution_count": null,
      "outputs": [
        {
          "output_type": "execute_result",
          "data": {
            "text/html": [
              "<div>\n",
              "<style scoped>\n",
              "    .dataframe tbody tr th:only-of-type {\n",
              "        vertical-align: middle;\n",
              "    }\n",
              "\n",
              "    .dataframe tbody tr th {\n",
              "        vertical-align: top;\n",
              "    }\n",
              "\n",
              "    .dataframe thead th {\n",
              "        text-align: right;\n",
              "    }\n",
              "</style>\n",
              "<table border=\"1\" class=\"dataframe\">\n",
              "  <thead>\n",
              "    <tr style=\"text-align: right;\">\n",
              "      <th></th>\n",
              "      <th>Rooms</th>\n",
              "      <th>Square</th>\n",
              "      <th>LifeSquare</th>\n",
              "      <th>KitchenSquare</th>\n",
              "      <th>Floor</th>\n",
              "      <th>HouseFloor</th>\n",
              "      <th>HouseYear</th>\n",
              "      <th>Ecology_1</th>\n",
              "      <th>Ecology_2</th>\n",
              "      <th>Ecology_3</th>\n",
              "      <th>...</th>\n",
              "      <th>Shops_2</th>\n",
              "      <th>Rooms_outlier</th>\n",
              "      <th>HouseFloor_outlier</th>\n",
              "      <th>HouseYear_outlier</th>\n",
              "      <th>LifeSquare_nan</th>\n",
              "      <th>DistrictSize</th>\n",
              "      <th>new_district</th>\n",
              "      <th>IsDistrictLarge</th>\n",
              "      <th>MedPriceByDistrict</th>\n",
              "      <th>MedPriceByFloorYear</th>\n",
              "    </tr>\n",
              "  </thead>\n",
              "  <tbody>\n",
              "    <tr>\n",
              "      <th>0</th>\n",
              "      <td>1.0</td>\n",
              "      <td>36.847630</td>\n",
              "      <td>19.094182</td>\n",
              "      <td>5.0</td>\n",
              "      <td>5</td>\n",
              "      <td>9.0</td>\n",
              "      <td>1970</td>\n",
              "      <td>0.036122</td>\n",
              "      <td>1</td>\n",
              "      <td>1</td>\n",
              "      <td>...</td>\n",
              "      <td>1</td>\n",
              "      <td>0</td>\n",
              "      <td>0</td>\n",
              "      <td>0</td>\n",
              "      <td>0</td>\n",
              "      <td>76.0</td>\n",
              "      <td>0</td>\n",
              "      <td>0</td>\n",
              "      <td>171145.169069</td>\n",
              "      <td>188697.720287</td>\n",
              "    </tr>\n",
              "    <tr>\n",
              "      <th>1</th>\n",
              "      <td>1.0</td>\n",
              "      <td>42.493907</td>\n",
              "      <td>42.568133</td>\n",
              "      <td>10.0</td>\n",
              "      <td>7</td>\n",
              "      <td>17.0</td>\n",
              "      <td>2017</td>\n",
              "      <td>0.072158</td>\n",
              "      <td>1</td>\n",
              "      <td>1</td>\n",
              "      <td>...</td>\n",
              "      <td>0</td>\n",
              "      <td>0</td>\n",
              "      <td>0</td>\n",
              "      <td>0</td>\n",
              "      <td>0</td>\n",
              "      <td>164.0</td>\n",
              "      <td>0</td>\n",
              "      <td>1</td>\n",
              "      <td>131107.271962</td>\n",
              "      <td>179449.269388</td>\n",
              "    </tr>\n",
              "    <tr>\n",
              "      <th>2</th>\n",
              "      <td>2.0</td>\n",
              "      <td>59.463678</td>\n",
              "      <td>47.463678</td>\n",
              "      <td>9.0</td>\n",
              "      <td>19</td>\n",
              "      <td>19.0</td>\n",
              "      <td>1977</td>\n",
              "      <td>0.211401</td>\n",
              "      <td>1</td>\n",
              "      <td>1</td>\n",
              "      <td>...</td>\n",
              "      <td>1</td>\n",
              "      <td>0</td>\n",
              "      <td>0</td>\n",
              "      <td>0</td>\n",
              "      <td>1</td>\n",
              "      <td>580.0</td>\n",
              "      <td>0</td>\n",
              "      <td>1</td>\n",
              "      <td>165993.292450</td>\n",
              "      <td>174137.278013</td>\n",
              "    </tr>\n",
              "    <tr>\n",
              "      <th>3</th>\n",
              "      <td>3.0</td>\n",
              "      <td>49.646030</td>\n",
              "      <td>33.893825</td>\n",
              "      <td>6.0</td>\n",
              "      <td>2</td>\n",
              "      <td>2.0</td>\n",
              "      <td>1965</td>\n",
              "      <td>0.014073</td>\n",
              "      <td>1</td>\n",
              "      <td>1</td>\n",
              "      <td>...</td>\n",
              "      <td>1</td>\n",
              "      <td>0</td>\n",
              "      <td>0</td>\n",
              "      <td>0</td>\n",
              "      <td>0</td>\n",
              "      <td>372.0</td>\n",
              "      <td>0</td>\n",
              "      <td>1</td>\n",
              "      <td>172778.615365</td>\n",
              "      <td>180133.312013</td>\n",
              "    </tr>\n",
              "    <tr>\n",
              "      <th>4</th>\n",
              "      <td>1.0</td>\n",
              "      <td>53.837056</td>\n",
              "      <td>47.837056</td>\n",
              "      <td>3.0</td>\n",
              "      <td>8</td>\n",
              "      <td>17.0</td>\n",
              "      <td>1977</td>\n",
              "      <td>0.309479</td>\n",
              "      <td>1</td>\n",
              "      <td>1</td>\n",
              "      <td>...</td>\n",
              "      <td>1</td>\n",
              "      <td>0</td>\n",
              "      <td>0</td>\n",
              "      <td>0</td>\n",
              "      <td>1</td>\n",
              "      <td>65.0</td>\n",
              "      <td>0</td>\n",
              "      <td>0</td>\n",
              "      <td>164116.183543</td>\n",
              "      <td>192048.442631</td>\n",
              "    </tr>\n",
              "    <tr>\n",
              "      <th>...</th>\n",
              "      <td>...</td>\n",
              "      <td>...</td>\n",
              "      <td>...</td>\n",
              "      <td>...</td>\n",
              "      <td>...</td>\n",
              "      <td>...</td>\n",
              "      <td>...</td>\n",
              "      <td>...</td>\n",
              "      <td>...</td>\n",
              "      <td>...</td>\n",
              "      <td>...</td>\n",
              "      <td>...</td>\n",
              "      <td>...</td>\n",
              "      <td>...</td>\n",
              "      <td>...</td>\n",
              "      <td>...</td>\n",
              "      <td>...</td>\n",
              "      <td>...</td>\n",
              "      <td>...</td>\n",
              "      <td>...</td>\n",
              "      <td>...</td>\n",
              "    </tr>\n",
              "    <tr>\n",
              "      <th>4995</th>\n",
              "      <td>2.0</td>\n",
              "      <td>43.177521</td>\n",
              "      <td>30.339945</td>\n",
              "      <td>5.0</td>\n",
              "      <td>4</td>\n",
              "      <td>5.0</td>\n",
              "      <td>1962</td>\n",
              "      <td>0.069660</td>\n",
              "      <td>1</td>\n",
              "      <td>1</td>\n",
              "      <td>...</td>\n",
              "      <td>1</td>\n",
              "      <td>0</td>\n",
              "      <td>1</td>\n",
              "      <td>0</td>\n",
              "      <td>0</td>\n",
              "      <td>56.0</td>\n",
              "      <td>0</td>\n",
              "      <td>0</td>\n",
              "      <td>183575.963167</td>\n",
              "      <td>188697.720287</td>\n",
              "    </tr>\n",
              "    <tr>\n",
              "      <th>4996</th>\n",
              "      <td>3.0</td>\n",
              "      <td>93.698122</td>\n",
              "      <td>94.521465</td>\n",
              "      <td>10.0</td>\n",
              "      <td>21</td>\n",
              "      <td>27.0</td>\n",
              "      <td>2018</td>\n",
              "      <td>0.060753</td>\n",
              "      <td>1</td>\n",
              "      <td>1</td>\n",
              "      <td>...</td>\n",
              "      <td>1</td>\n",
              "      <td>0</td>\n",
              "      <td>0</td>\n",
              "      <td>0</td>\n",
              "      <td>0</td>\n",
              "      <td>26.0</td>\n",
              "      <td>0</td>\n",
              "      <td>0</td>\n",
              "      <td>425037.641820</td>\n",
              "      <td>195066.700021</td>\n",
              "    </tr>\n",
              "    <tr>\n",
              "      <th>4997</th>\n",
              "      <td>1.0</td>\n",
              "      <td>33.656723</td>\n",
              "      <td>19.003259</td>\n",
              "      <td>5.0</td>\n",
              "      <td>2</td>\n",
              "      <td>5.0</td>\n",
              "      <td>1966</td>\n",
              "      <td>0.038693</td>\n",
              "      <td>1</td>\n",
              "      <td>1</td>\n",
              "      <td>...</td>\n",
              "      <td>1</td>\n",
              "      <td>0</td>\n",
              "      <td>0</td>\n",
              "      <td>0</td>\n",
              "      <td>0</td>\n",
              "      <td>54.0</td>\n",
              "      <td>0</td>\n",
              "      <td>0</td>\n",
              "      <td>156266.487610</td>\n",
              "      <td>180133.312013</td>\n",
              "    </tr>\n",
              "    <tr>\n",
              "      <th>4998</th>\n",
              "      <td>1.0</td>\n",
              "      <td>38.635155</td>\n",
              "      <td>20.976257</td>\n",
              "      <td>9.0</td>\n",
              "      <td>8</td>\n",
              "      <td>14.0</td>\n",
              "      <td>1970</td>\n",
              "      <td>0.089040</td>\n",
              "      <td>1</td>\n",
              "      <td>1</td>\n",
              "      <td>...</td>\n",
              "      <td>1</td>\n",
              "      <td>0</td>\n",
              "      <td>0</td>\n",
              "      <td>0</td>\n",
              "      <td>0</td>\n",
              "      <td>40.0</td>\n",
              "      <td>0</td>\n",
              "      <td>0</td>\n",
              "      <td>185704.766694</td>\n",
              "      <td>192048.442631</td>\n",
              "    </tr>\n",
              "    <tr>\n",
              "      <th>4999</th>\n",
              "      <td>2.0</td>\n",
              "      <td>67.122742</td>\n",
              "      <td>33.944344</td>\n",
              "      <td>6.0</td>\n",
              "      <td>9</td>\n",
              "      <td>17.0</td>\n",
              "      <td>2009</td>\n",
              "      <td>0.194489</td>\n",
              "      <td>1</td>\n",
              "      <td>1</td>\n",
              "      <td>...</td>\n",
              "      <td>1</td>\n",
              "      <td>0</td>\n",
              "      <td>0</td>\n",
              "      <td>0</td>\n",
              "      <td>0</td>\n",
              "      <td>117.0</td>\n",
              "      <td>0</td>\n",
              "      <td>1</td>\n",
              "      <td>182602.286983</td>\n",
              "      <td>230531.045981</td>\n",
              "    </tr>\n",
              "  </tbody>\n",
              "</table>\n",
              "<p>5000 rows × 25 columns</p>\n",
              "</div>"
            ],
            "text/plain": [
              "      Rooms     Square  LifeSquare  KitchenSquare  Floor  HouseFloor  \\\n",
              "0       1.0  36.847630   19.094182            5.0      5         9.0   \n",
              "1       1.0  42.493907   42.568133           10.0      7        17.0   \n",
              "2       2.0  59.463678   47.463678            9.0     19        19.0   \n",
              "3       3.0  49.646030   33.893825            6.0      2         2.0   \n",
              "4       1.0  53.837056   47.837056            3.0      8        17.0   \n",
              "...     ...        ...         ...            ...    ...         ...   \n",
              "4995    2.0  43.177521   30.339945            5.0      4         5.0   \n",
              "4996    3.0  93.698122   94.521465           10.0     21        27.0   \n",
              "4997    1.0  33.656723   19.003259            5.0      2         5.0   \n",
              "4998    1.0  38.635155   20.976257            9.0      8        14.0   \n",
              "4999    2.0  67.122742   33.944344            6.0      9        17.0   \n",
              "\n",
              "      HouseYear  Ecology_1  Ecology_2  Ecology_3  ...  Shops_2  Rooms_outlier  \\\n",
              "0          1970   0.036122          1          1  ...        1              0   \n",
              "1          2017   0.072158          1          1  ...        0              0   \n",
              "2          1977   0.211401          1          1  ...        1              0   \n",
              "3          1965   0.014073          1          1  ...        1              0   \n",
              "4          1977   0.309479          1          1  ...        1              0   \n",
              "...         ...        ...        ...        ...  ...      ...            ...   \n",
              "4995       1962   0.069660          1          1  ...        1              0   \n",
              "4996       2018   0.060753          1          1  ...        1              0   \n",
              "4997       1966   0.038693          1          1  ...        1              0   \n",
              "4998       1970   0.089040          1          1  ...        1              0   \n",
              "4999       2009   0.194489          1          1  ...        1              0   \n",
              "\n",
              "      HouseFloor_outlier  HouseYear_outlier  LifeSquare_nan  DistrictSize  \\\n",
              "0                      0                  0               0          76.0   \n",
              "1                      0                  0               0         164.0   \n",
              "2                      0                  0               1         580.0   \n",
              "3                      0                  0               0         372.0   \n",
              "4                      0                  0               1          65.0   \n",
              "...                  ...                ...             ...           ...   \n",
              "4995                   1                  0               0          56.0   \n",
              "4996                   0                  0               0          26.0   \n",
              "4997                   0                  0               0          54.0   \n",
              "4998                   0                  0               0          40.0   \n",
              "4999                   0                  0               0         117.0   \n",
              "\n",
              "      new_district  IsDistrictLarge  MedPriceByDistrict  MedPriceByFloorYear  \n",
              "0                0                0       171145.169069        188697.720287  \n",
              "1                0                1       131107.271962        179449.269388  \n",
              "2                0                1       165993.292450        174137.278013  \n",
              "3                0                1       172778.615365        180133.312013  \n",
              "4                0                0       164116.183543        192048.442631  \n",
              "...            ...              ...                 ...                  ...  \n",
              "4995             0                0       183575.963167        188697.720287  \n",
              "4996             0                0       425037.641820        195066.700021  \n",
              "4997             0                0       156266.487610        180133.312013  \n",
              "4998             0                0       185704.766694        192048.442631  \n",
              "4999             0                1       182602.286983        230531.045981  \n",
              "\n",
              "[5000 rows x 25 columns]"
            ]
          },
          "metadata": {
            "tags": []
          },
          "execution_count": 67
        }
      ]
    },
    {
      "cell_type": "code",
      "metadata": {
        "id": "EEIRMQam1-2n",
        "outputId": "a4411a5f-adaf-4272-c9dd-2a93d63715e3"
      },
      "source": [
        "submit = pd.read_csv('sample_submission.csv')\n",
        "submit.head()"
      ],
      "execution_count": null,
      "outputs": [
        {
          "output_type": "execute_result",
          "data": {
            "text/html": [
              "<div>\n",
              "<style scoped>\n",
              "    .dataframe tbody tr th:only-of-type {\n",
              "        vertical-align: middle;\n",
              "    }\n",
              "\n",
              "    .dataframe tbody tr th {\n",
              "        vertical-align: top;\n",
              "    }\n",
              "\n",
              "    .dataframe thead th {\n",
              "        text-align: right;\n",
              "    }\n",
              "</style>\n",
              "<table border=\"1\" class=\"dataframe\">\n",
              "  <thead>\n",
              "    <tr style=\"text-align: right;\">\n",
              "      <th></th>\n",
              "      <th>Id</th>\n",
              "      <th>Price</th>\n",
              "    </tr>\n",
              "  </thead>\n",
              "  <tbody>\n",
              "    <tr>\n",
              "      <th>0</th>\n",
              "      <td>4567</td>\n",
              "      <td>200000.0</td>\n",
              "    </tr>\n",
              "    <tr>\n",
              "      <th>1</th>\n",
              "      <td>5925</td>\n",
              "      <td>200000.0</td>\n",
              "    </tr>\n",
              "    <tr>\n",
              "      <th>2</th>\n",
              "      <td>960</td>\n",
              "      <td>200000.0</td>\n",
              "    </tr>\n",
              "    <tr>\n",
              "      <th>3</th>\n",
              "      <td>3848</td>\n",
              "      <td>200000.0</td>\n",
              "    </tr>\n",
              "    <tr>\n",
              "      <th>4</th>\n",
              "      <td>746</td>\n",
              "      <td>200000.0</td>\n",
              "    </tr>\n",
              "  </tbody>\n",
              "</table>\n",
              "</div>"
            ],
            "text/plain": [
              "     Id     Price\n",
              "0  4567  200000.0\n",
              "1  5925  200000.0\n",
              "2   960  200000.0\n",
              "3  3848  200000.0\n",
              "4   746  200000.0"
            ]
          },
          "metadata": {
            "tags": []
          },
          "execution_count": 68
        }
      ]
    },
    {
      "cell_type": "code",
      "metadata": {
        "id": "zb-ZzlTc1-2o",
        "outputId": "8ccc7625-faf6-4dd7-e4cb-719b9ac255e2"
      },
      "source": [
        "predictions = model.predict(test_df)\n",
        "predictions"
      ],
      "execution_count": null,
      "outputs": [
        {
          "output_type": "execute_result",
          "data": {
            "text/plain": [
              "array([174426.57368031, 120089.21954008, 139291.24670056, ...,\n",
              "       150041.82027314, 193946.06502999, 253282.50944589])"
            ]
          },
          "metadata": {
            "tags": []
          },
          "execution_count": 69
        }
      ]
    },
    {
      "cell_type": "code",
      "metadata": {
        "id": "Z3uK42vo1-2o",
        "outputId": "0462219c-5412-4fc0-8fa2-509faad63662"
      },
      "source": [
        "submit['Price'] = predictions\n",
        "submit.head()"
      ],
      "execution_count": null,
      "outputs": [
        {
          "output_type": "execute_result",
          "data": {
            "text/html": [
              "<div>\n",
              "<style scoped>\n",
              "    .dataframe tbody tr th:only-of-type {\n",
              "        vertical-align: middle;\n",
              "    }\n",
              "\n",
              "    .dataframe tbody tr th {\n",
              "        vertical-align: top;\n",
              "    }\n",
              "\n",
              "    .dataframe thead th {\n",
              "        text-align: right;\n",
              "    }\n",
              "</style>\n",
              "<table border=\"1\" class=\"dataframe\">\n",
              "  <thead>\n",
              "    <tr style=\"text-align: right;\">\n",
              "      <th></th>\n",
              "      <th>Id</th>\n",
              "      <th>Price</th>\n",
              "    </tr>\n",
              "  </thead>\n",
              "  <tbody>\n",
              "    <tr>\n",
              "      <th>0</th>\n",
              "      <td>4567</td>\n",
              "      <td>174426.573680</td>\n",
              "    </tr>\n",
              "    <tr>\n",
              "      <th>1</th>\n",
              "      <td>5925</td>\n",
              "      <td>120089.219540</td>\n",
              "    </tr>\n",
              "    <tr>\n",
              "      <th>2</th>\n",
              "      <td>960</td>\n",
              "      <td>139291.246701</td>\n",
              "    </tr>\n",
              "    <tr>\n",
              "      <th>3</th>\n",
              "      <td>3848</td>\n",
              "      <td>116692.218811</td>\n",
              "    </tr>\n",
              "    <tr>\n",
              "      <th>4</th>\n",
              "      <td>746</td>\n",
              "      <td>191690.902598</td>\n",
              "    </tr>\n",
              "  </tbody>\n",
              "</table>\n",
              "</div>"
            ],
            "text/plain": [
              "     Id          Price\n",
              "0  4567  174426.573680\n",
              "1  5925  120089.219540\n",
              "2   960  139291.246701\n",
              "3  3848  116692.218811\n",
              "4   746  191690.902598"
            ]
          },
          "metadata": {
            "tags": []
          },
          "execution_count": 70
        }
      ]
    },
    {
      "cell_type": "code",
      "metadata": {
        "id": "kO5gYitG1-2p"
      },
      "source": [
        "submit.to_csv('my_submit3.csv', index=False)"
      ],
      "execution_count": null,
      "outputs": []
    },
    {
      "cell_type": "code",
      "metadata": {
        "id": "6Eot4L6Z1-2p"
      },
      "source": [
        ""
      ],
      "execution_count": null,
      "outputs": []
    }
  ]
}