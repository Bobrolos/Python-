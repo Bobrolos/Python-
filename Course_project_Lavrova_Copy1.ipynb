{
  "nbformat": 4,
  "nbformat_minor": 5,
  "metadata": {
    "kernelspec": {
      "display_name": "Python 3",
      "language": "python",
      "name": "python3"
    },
    "language_info": {
      "codemirror_mode": {
        "name": "ipython",
        "version": 3
      },
      "file_extension": ".py",
      "mimetype": "text/x-python",
      "name": "python",
      "nbconvert_exporter": "python",
      "pygments_lexer": "ipython3",
      "version": "3.8.8"
    },
    "colab": {
      "name": "Course_project_Lavrova-Copy1.ipynb",
      "provenance": [],
      "include_colab_link": true
    }
  },
  "cells": [
    {
      "cell_type": "markdown",
      "metadata": {
        "id": "view-in-github",
        "colab_type": "text"
      },
      "source": [
        "<a href=\"https://colab.research.google.com/github/Bobrolos/Python-/blob/main/Course_project_Lavrova_Copy1.ipynb\" target=\"_parent\"><img src=\"https://colab.research.google.com/assets/colab-badge.svg\" alt=\"Open In Colab\"/></a>"
      ]
    },
    {
      "cell_type": "markdown",
      "metadata": {
        "id": "1f8a2046"
      },
      "source": [
        "Подключение библиотек и скриптов"
      ],
      "id": "1f8a2046"
    },
    {
      "cell_type": "code",
      "metadata": {
        "colab": {
          "base_uri": "https://localhost:8080/",
          "height": 363
        },
        "id": "9c813fc6",
        "outputId": "baa73ca9-fb43-4801-c9c7-828f25f9f83c"
      },
      "source": [
        "import pandas as pd\n",
        "import numpy as np\n",
        "import pickle\n",
        "import random\n",
        "\n",
        "from sklearn.preprocessing import StandardScaler, MinMaxScaler\n",
        "from sklearn.model_selection import train_test_split, ShuffleSplit, cross_val_score, learning_curve\n",
        "from sklearn.model_selection import KFold, GridSearchCV, RandomizedSearchCV\n",
        "from sklearn.metrics import classification_report, f1_score, precision_score, recall_score\n",
        "\n",
        "from sklearn.linear_model import LogisticRegression\n",
        "from sklearn.neighbors import KNeighborsClassifier\n",
        "import xgboost as xgb, lightgbm as lgbm, catboost as catb\n",
        "\n",
        "import seaborn as sns\n",
        "from matplotlib import pyplot as plt\n",
        "%matplotlib inline"
      ],
      "id": "9c813fc6",
      "execution_count": null,
      "outputs": [
        {
          "output_type": "error",
          "ename": "ModuleNotFoundError",
          "evalue": "ignored",
          "traceback": [
            "\u001b[0;31m---------------------------------------------------------------------------\u001b[0m",
            "\u001b[0;31mModuleNotFoundError\u001b[0m                       Traceback (most recent call last)",
            "\u001b[0;32m<ipython-input-5-6f2e5b948299>\u001b[0m in \u001b[0;36m<module>\u001b[0;34m()\u001b[0m\n\u001b[1;32m     11\u001b[0m \u001b[0;32mfrom\u001b[0m \u001b[0msklearn\u001b[0m\u001b[0;34m.\u001b[0m\u001b[0mlinear_model\u001b[0m \u001b[0;32mimport\u001b[0m \u001b[0mLogisticRegression\u001b[0m\u001b[0;34m\u001b[0m\u001b[0;34m\u001b[0m\u001b[0m\n\u001b[1;32m     12\u001b[0m \u001b[0;32mfrom\u001b[0m \u001b[0msklearn\u001b[0m\u001b[0;34m.\u001b[0m\u001b[0mneighbors\u001b[0m \u001b[0;32mimport\u001b[0m \u001b[0mKNeighborsClassifier\u001b[0m\u001b[0;34m\u001b[0m\u001b[0;34m\u001b[0m\u001b[0m\n\u001b[0;32m---> 13\u001b[0;31m \u001b[0;32mimport\u001b[0m \u001b[0mxgboost\u001b[0m \u001b[0;32mas\u001b[0m \u001b[0mxgb\u001b[0m\u001b[0;34m,\u001b[0m \u001b[0mlightgbm\u001b[0m \u001b[0;32mas\u001b[0m \u001b[0mlgbm\u001b[0m\u001b[0;34m,\u001b[0m \u001b[0mcatboost\u001b[0m \u001b[0;32mas\u001b[0m \u001b[0mcatb\u001b[0m\u001b[0;34m\u001b[0m\u001b[0;34m\u001b[0m\u001b[0m\n\u001b[0m\u001b[1;32m     14\u001b[0m \u001b[0;34m\u001b[0m\u001b[0m\n\u001b[1;32m     15\u001b[0m \u001b[0;32mimport\u001b[0m \u001b[0mseaborn\u001b[0m \u001b[0;32mas\u001b[0m \u001b[0msns\u001b[0m\u001b[0;34m\u001b[0m\u001b[0;34m\u001b[0m\u001b[0m\n",
            "\u001b[0;31mModuleNotFoundError\u001b[0m: No module named 'catboost'",
            "",
            "\u001b[0;31m---------------------------------------------------------------------------\u001b[0;32m\nNOTE: If your import is failing due to a missing package, you can\nmanually install dependencies using either !pip or !apt.\n\nTo view examples of installing some common dependencies, click the\n\"Open Examples\" button below.\n\u001b[0;31m---------------------------------------------------------------------------\u001b[0m\n"
          ]
        }
      ]
    },
    {
      "cell_type": "code",
      "metadata": {
        "id": "95e0eefb"
      },
      "source": [
        "def get_classification_report(y_train_true, y_train_pred, y_test_true, y_test_pred):\n",
        "    print('TRAIN\\n\\n' + classification_report(y_train_true, y_train_pred))\n",
        "    print('TEST\\n\\n' + classification_report(y_test_true, y_test_pred))\n",
        "    print('CONFUSION MATRIX\\n')\n",
        "    print(pd.crosstab(y_test_true, y_test_pred))"
      ],
      "id": "95e0eefb",
      "execution_count": null,
      "outputs": []
    },
    {
      "cell_type": "code",
      "metadata": {
        "id": "36d90a18"
      },
      "source": [
        "def balance_df_by_target(df, target_name):\n",
        "\n",
        "    target_counts = df[target_name].value_counts()\n",
        "\n",
        "    major_class_name = target_counts.argmax()\n",
        "    minor_class_name = target_counts.argmin()\n",
        "\n",
        "    disbalance_coeff = int(target_counts[major_class_name] / target_counts[minor_class_name]) - 1\n",
        "\n",
        "    for i in range(disbalance_coeff):\n",
        "        sample = df[df[target_name] == minor_class_name].sample(target_counts[minor_class_name])\n",
        "        df = df.append(sample, ignore_index=True)\n",
        "\n",
        "    return df.sample(frac=1) "
      ],
      "id": "36d90a18",
      "execution_count": null,
      "outputs": []
    },
    {
      "cell_type": "markdown",
      "metadata": {
        "id": "75bbef94"
      },
      "source": [
        "Пути к директориям и файлам"
      ],
      "id": "75bbef94"
    },
    {
      "cell_type": "code",
      "metadata": {
        "id": "3d949816"
      },
      "source": [
        "TRAIN_DATASET_PATH = 'train.csv'\n",
        "TEST_DATASET_PATH = 'test.csv'\n",
        "SAMPLE_SUBMIT_PATH = 'sample_submission.csv'"
      ],
      "id": "3d949816",
      "execution_count": null,
      "outputs": []
    },
    {
      "cell_type": "markdown",
      "metadata": {
        "id": "8be99807"
      },
      "source": [
        "Загрузка данных"
      ],
      "id": "8be99807"
    },
    {
      "cell_type": "code",
      "metadata": {
        "id": "ba401cd3",
        "outputId": "5356961c-0c0f-46f7-dc9b-f2e2db361d25"
      },
      "source": [
        "df = pd.read_csv(TRAIN_DATASET_PATH)\n",
        "test_df = pd.read_csv(TEST_DATASET_PATH)\n",
        "df.head()"
      ],
      "id": "ba401cd3",
      "execution_count": null,
      "outputs": [
        {
          "output_type": "execute_result",
          "data": {
            "text/html": [
              "<div>\n",
              "<style scoped>\n",
              "    .dataframe tbody tr th:only-of-type {\n",
              "        vertical-align: middle;\n",
              "    }\n",
              "\n",
              "    .dataframe tbody tr th {\n",
              "        vertical-align: top;\n",
              "    }\n",
              "\n",
              "    .dataframe thead th {\n",
              "        text-align: right;\n",
              "    }\n",
              "</style>\n",
              "<table border=\"1\" class=\"dataframe\">\n",
              "  <thead>\n",
              "    <tr style=\"text-align: right;\">\n",
              "      <th></th>\n",
              "      <th>Home Ownership</th>\n",
              "      <th>Annual Income</th>\n",
              "      <th>Years in current job</th>\n",
              "      <th>Tax Liens</th>\n",
              "      <th>Number of Open Accounts</th>\n",
              "      <th>Years of Credit History</th>\n",
              "      <th>Maximum Open Credit</th>\n",
              "      <th>Number of Credit Problems</th>\n",
              "      <th>Months since last delinquent</th>\n",
              "      <th>Bankruptcies</th>\n",
              "      <th>Purpose</th>\n",
              "      <th>Term</th>\n",
              "      <th>Current Loan Amount</th>\n",
              "      <th>Current Credit Balance</th>\n",
              "      <th>Monthly Debt</th>\n",
              "      <th>Credit Score</th>\n",
              "      <th>Credit Default</th>\n",
              "    </tr>\n",
              "  </thead>\n",
              "  <tbody>\n",
              "    <tr>\n",
              "      <th>0</th>\n",
              "      <td>Own Home</td>\n",
              "      <td>482087.0</td>\n",
              "      <td>NaN</td>\n",
              "      <td>0.0</td>\n",
              "      <td>11.0</td>\n",
              "      <td>26.3</td>\n",
              "      <td>685960.0</td>\n",
              "      <td>1.0</td>\n",
              "      <td>NaN</td>\n",
              "      <td>1.0</td>\n",
              "      <td>debt consolidation</td>\n",
              "      <td>Short Term</td>\n",
              "      <td>99999999.0</td>\n",
              "      <td>47386.0</td>\n",
              "      <td>7914.0</td>\n",
              "      <td>749.0</td>\n",
              "      <td>0</td>\n",
              "    </tr>\n",
              "    <tr>\n",
              "      <th>1</th>\n",
              "      <td>Own Home</td>\n",
              "      <td>1025487.0</td>\n",
              "      <td>10+ years</td>\n",
              "      <td>0.0</td>\n",
              "      <td>15.0</td>\n",
              "      <td>15.3</td>\n",
              "      <td>1181730.0</td>\n",
              "      <td>0.0</td>\n",
              "      <td>NaN</td>\n",
              "      <td>0.0</td>\n",
              "      <td>debt consolidation</td>\n",
              "      <td>Long Term</td>\n",
              "      <td>264968.0</td>\n",
              "      <td>394972.0</td>\n",
              "      <td>18373.0</td>\n",
              "      <td>737.0</td>\n",
              "      <td>1</td>\n",
              "    </tr>\n",
              "    <tr>\n",
              "      <th>2</th>\n",
              "      <td>Home Mortgage</td>\n",
              "      <td>751412.0</td>\n",
              "      <td>8 years</td>\n",
              "      <td>0.0</td>\n",
              "      <td>11.0</td>\n",
              "      <td>35.0</td>\n",
              "      <td>1182434.0</td>\n",
              "      <td>0.0</td>\n",
              "      <td>NaN</td>\n",
              "      <td>0.0</td>\n",
              "      <td>debt consolidation</td>\n",
              "      <td>Short Term</td>\n",
              "      <td>99999999.0</td>\n",
              "      <td>308389.0</td>\n",
              "      <td>13651.0</td>\n",
              "      <td>742.0</td>\n",
              "      <td>0</td>\n",
              "    </tr>\n",
              "    <tr>\n",
              "      <th>3</th>\n",
              "      <td>Own Home</td>\n",
              "      <td>805068.0</td>\n",
              "      <td>6 years</td>\n",
              "      <td>0.0</td>\n",
              "      <td>8.0</td>\n",
              "      <td>22.5</td>\n",
              "      <td>147400.0</td>\n",
              "      <td>1.0</td>\n",
              "      <td>NaN</td>\n",
              "      <td>1.0</td>\n",
              "      <td>debt consolidation</td>\n",
              "      <td>Short Term</td>\n",
              "      <td>121396.0</td>\n",
              "      <td>95855.0</td>\n",
              "      <td>11338.0</td>\n",
              "      <td>694.0</td>\n",
              "      <td>0</td>\n",
              "    </tr>\n",
              "    <tr>\n",
              "      <th>4</th>\n",
              "      <td>Rent</td>\n",
              "      <td>776264.0</td>\n",
              "      <td>8 years</td>\n",
              "      <td>0.0</td>\n",
              "      <td>13.0</td>\n",
              "      <td>13.6</td>\n",
              "      <td>385836.0</td>\n",
              "      <td>1.0</td>\n",
              "      <td>NaN</td>\n",
              "      <td>0.0</td>\n",
              "      <td>debt consolidation</td>\n",
              "      <td>Short Term</td>\n",
              "      <td>125840.0</td>\n",
              "      <td>93309.0</td>\n",
              "      <td>7180.0</td>\n",
              "      <td>719.0</td>\n",
              "      <td>0</td>\n",
              "    </tr>\n",
              "  </tbody>\n",
              "</table>\n",
              "</div>"
            ],
            "text/plain": [
              "  Home Ownership  Annual Income Years in current job  Tax Liens  \\\n",
              "0       Own Home       482087.0                  NaN        0.0   \n",
              "1       Own Home      1025487.0            10+ years        0.0   \n",
              "2  Home Mortgage       751412.0              8 years        0.0   \n",
              "3       Own Home       805068.0              6 years        0.0   \n",
              "4           Rent       776264.0              8 years        0.0   \n",
              "\n",
              "   Number of Open Accounts  Years of Credit History  Maximum Open Credit  \\\n",
              "0                     11.0                     26.3             685960.0   \n",
              "1                     15.0                     15.3            1181730.0   \n",
              "2                     11.0                     35.0            1182434.0   \n",
              "3                      8.0                     22.5             147400.0   \n",
              "4                     13.0                     13.6             385836.0   \n",
              "\n",
              "   Number of Credit Problems  Months since last delinquent  Bankruptcies  \\\n",
              "0                        1.0                           NaN           1.0   \n",
              "1                        0.0                           NaN           0.0   \n",
              "2                        0.0                           NaN           0.0   \n",
              "3                        1.0                           NaN           1.0   \n",
              "4                        1.0                           NaN           0.0   \n",
              "\n",
              "              Purpose        Term  Current Loan Amount  \\\n",
              "0  debt consolidation  Short Term           99999999.0   \n",
              "1  debt consolidation   Long Term             264968.0   \n",
              "2  debt consolidation  Short Term           99999999.0   \n",
              "3  debt consolidation  Short Term             121396.0   \n",
              "4  debt consolidation  Short Term             125840.0   \n",
              "\n",
              "   Current Credit Balance  Monthly Debt  Credit Score  Credit Default  \n",
              "0                 47386.0        7914.0         749.0               0  \n",
              "1                394972.0       18373.0         737.0               1  \n",
              "2                308389.0       13651.0         742.0               0  \n",
              "3                 95855.0       11338.0         694.0               0  \n",
              "4                 93309.0        7180.0         719.0               0  "
            ]
          },
          "metadata": {
            "tags": []
          },
          "execution_count": 5
        }
      ]
    },
    {
      "cell_type": "code",
      "metadata": {
        "id": "13bfd3eb",
        "outputId": "c6cbfb2f-bf69-4ffc-9cdd-5d0092b231b5"
      },
      "source": [
        "test_df = pd.read_csv(TEST_DATASET_PATH)\n",
        "df.head()"
      ],
      "id": "13bfd3eb",
      "execution_count": null,
      "outputs": [
        {
          "output_type": "execute_result",
          "data": {
            "text/html": [
              "<div>\n",
              "<style scoped>\n",
              "    .dataframe tbody tr th:only-of-type {\n",
              "        vertical-align: middle;\n",
              "    }\n",
              "\n",
              "    .dataframe tbody tr th {\n",
              "        vertical-align: top;\n",
              "    }\n",
              "\n",
              "    .dataframe thead th {\n",
              "        text-align: right;\n",
              "    }\n",
              "</style>\n",
              "<table border=\"1\" class=\"dataframe\">\n",
              "  <thead>\n",
              "    <tr style=\"text-align: right;\">\n",
              "      <th></th>\n",
              "      <th>Home Ownership</th>\n",
              "      <th>Annual Income</th>\n",
              "      <th>Years in current job</th>\n",
              "      <th>Tax Liens</th>\n",
              "      <th>Number of Open Accounts</th>\n",
              "      <th>Years of Credit History</th>\n",
              "      <th>Maximum Open Credit</th>\n",
              "      <th>Number of Credit Problems</th>\n",
              "      <th>Months since last delinquent</th>\n",
              "      <th>Bankruptcies</th>\n",
              "      <th>Purpose</th>\n",
              "      <th>Term</th>\n",
              "      <th>Current Loan Amount</th>\n",
              "      <th>Current Credit Balance</th>\n",
              "      <th>Monthly Debt</th>\n",
              "      <th>Credit Score</th>\n",
              "      <th>Credit Default</th>\n",
              "    </tr>\n",
              "  </thead>\n",
              "  <tbody>\n",
              "    <tr>\n",
              "      <th>0</th>\n",
              "      <td>Own Home</td>\n",
              "      <td>482087.0</td>\n",
              "      <td>NaN</td>\n",
              "      <td>0.0</td>\n",
              "      <td>11.0</td>\n",
              "      <td>26.3</td>\n",
              "      <td>685960.0</td>\n",
              "      <td>1.0</td>\n",
              "      <td>NaN</td>\n",
              "      <td>1.0</td>\n",
              "      <td>debt consolidation</td>\n",
              "      <td>Short Term</td>\n",
              "      <td>99999999.0</td>\n",
              "      <td>47386.0</td>\n",
              "      <td>7914.0</td>\n",
              "      <td>749.0</td>\n",
              "      <td>0</td>\n",
              "    </tr>\n",
              "    <tr>\n",
              "      <th>1</th>\n",
              "      <td>Own Home</td>\n",
              "      <td>1025487.0</td>\n",
              "      <td>10+ years</td>\n",
              "      <td>0.0</td>\n",
              "      <td>15.0</td>\n",
              "      <td>15.3</td>\n",
              "      <td>1181730.0</td>\n",
              "      <td>0.0</td>\n",
              "      <td>NaN</td>\n",
              "      <td>0.0</td>\n",
              "      <td>debt consolidation</td>\n",
              "      <td>Long Term</td>\n",
              "      <td>264968.0</td>\n",
              "      <td>394972.0</td>\n",
              "      <td>18373.0</td>\n",
              "      <td>737.0</td>\n",
              "      <td>1</td>\n",
              "    </tr>\n",
              "    <tr>\n",
              "      <th>2</th>\n",
              "      <td>Home Mortgage</td>\n",
              "      <td>751412.0</td>\n",
              "      <td>8 years</td>\n",
              "      <td>0.0</td>\n",
              "      <td>11.0</td>\n",
              "      <td>35.0</td>\n",
              "      <td>1182434.0</td>\n",
              "      <td>0.0</td>\n",
              "      <td>NaN</td>\n",
              "      <td>0.0</td>\n",
              "      <td>debt consolidation</td>\n",
              "      <td>Short Term</td>\n",
              "      <td>99999999.0</td>\n",
              "      <td>308389.0</td>\n",
              "      <td>13651.0</td>\n",
              "      <td>742.0</td>\n",
              "      <td>0</td>\n",
              "    </tr>\n",
              "    <tr>\n",
              "      <th>3</th>\n",
              "      <td>Own Home</td>\n",
              "      <td>805068.0</td>\n",
              "      <td>6 years</td>\n",
              "      <td>0.0</td>\n",
              "      <td>8.0</td>\n",
              "      <td>22.5</td>\n",
              "      <td>147400.0</td>\n",
              "      <td>1.0</td>\n",
              "      <td>NaN</td>\n",
              "      <td>1.0</td>\n",
              "      <td>debt consolidation</td>\n",
              "      <td>Short Term</td>\n",
              "      <td>121396.0</td>\n",
              "      <td>95855.0</td>\n",
              "      <td>11338.0</td>\n",
              "      <td>694.0</td>\n",
              "      <td>0</td>\n",
              "    </tr>\n",
              "    <tr>\n",
              "      <th>4</th>\n",
              "      <td>Rent</td>\n",
              "      <td>776264.0</td>\n",
              "      <td>8 years</td>\n",
              "      <td>0.0</td>\n",
              "      <td>13.0</td>\n",
              "      <td>13.6</td>\n",
              "      <td>385836.0</td>\n",
              "      <td>1.0</td>\n",
              "      <td>NaN</td>\n",
              "      <td>0.0</td>\n",
              "      <td>debt consolidation</td>\n",
              "      <td>Short Term</td>\n",
              "      <td>125840.0</td>\n",
              "      <td>93309.0</td>\n",
              "      <td>7180.0</td>\n",
              "      <td>719.0</td>\n",
              "      <td>0</td>\n",
              "    </tr>\n",
              "  </tbody>\n",
              "</table>\n",
              "</div>"
            ],
            "text/plain": [
              "  Home Ownership  Annual Income Years in current job  Tax Liens  \\\n",
              "0       Own Home       482087.0                  NaN        0.0   \n",
              "1       Own Home      1025487.0            10+ years        0.0   \n",
              "2  Home Mortgage       751412.0              8 years        0.0   \n",
              "3       Own Home       805068.0              6 years        0.0   \n",
              "4           Rent       776264.0              8 years        0.0   \n",
              "\n",
              "   Number of Open Accounts  Years of Credit History  Maximum Open Credit  \\\n",
              "0                     11.0                     26.3             685960.0   \n",
              "1                     15.0                     15.3            1181730.0   \n",
              "2                     11.0                     35.0            1182434.0   \n",
              "3                      8.0                     22.5             147400.0   \n",
              "4                     13.0                     13.6             385836.0   \n",
              "\n",
              "   Number of Credit Problems  Months since last delinquent  Bankruptcies  \\\n",
              "0                        1.0                           NaN           1.0   \n",
              "1                        0.0                           NaN           0.0   \n",
              "2                        0.0                           NaN           0.0   \n",
              "3                        1.0                           NaN           1.0   \n",
              "4                        1.0                           NaN           0.0   \n",
              "\n",
              "              Purpose        Term  Current Loan Amount  \\\n",
              "0  debt consolidation  Short Term           99999999.0   \n",
              "1  debt consolidation   Long Term             264968.0   \n",
              "2  debt consolidation  Short Term           99999999.0   \n",
              "3  debt consolidation  Short Term             121396.0   \n",
              "4  debt consolidation  Short Term             125840.0   \n",
              "\n",
              "   Current Credit Balance  Monthly Debt  Credit Score  Credit Default  \n",
              "0                 47386.0        7914.0         749.0               0  \n",
              "1                394972.0       18373.0         737.0               1  \n",
              "2                308389.0       13651.0         742.0               0  \n",
              "3                 95855.0       11338.0         694.0               0  \n",
              "4                 93309.0        7180.0         719.0               0  "
            ]
          },
          "metadata": {
            "tags": []
          },
          "execution_count": 6
        }
      ]
    },
    {
      "cell_type": "markdown",
      "metadata": {
        "id": "99440a4f"
      },
      "source": [
        "## Описание датасета\n",
        "\n",
        "Home Ownership - домовладение\n",
        "Annual Income - годовой доход\n",
        "Years in current job - количество лет на текущем месте работы\n",
        "Tax Liens - налоговые обременения\n",
        "Number of Open Accounts - количество открытых счетов\n",
        "Years of Credit History - количество лет кредитной истории\n",
        "Maximum Open Credit - наибольший открытый кредит (максимальная сумма, которая когда-либо была доступна клиенту)\n",
        "Number of Credit Problems - количество проблем с кредитом\n",
        "Months since last delinquent - количество месяцев с последней просрочки платежа\n",
        "Bankruptcies - банкротства\n",
        "Purpose - цель кредита\n",
        "Term - срок кредита\n",
        "Current Loan Amount - текущая сумма кредита (сумма, которую еще предстоит выплатить клиенту)\n",
        "Current Credit Balance - текущий кредитный баланс (сумма, которую может тратить клиент с кредитного счета)\n",
        "Monthly Debt - ежемесячный долг\n",
        "Credit Score - баллы кредитного рейтинга\n",
        "Credit Default - факт невыполнения кредитных обязательств (0 - погашен вовремя, 1 - просрочка)"
      ],
      "id": "99440a4f"
    },
    {
      "cell_type": "code",
      "metadata": {
        "id": "bdd1c5c7",
        "outputId": "9eddf576-431a-4190-db64-6914139f58c9"
      },
      "source": [
        "df.shape"
      ],
      "id": "bdd1c5c7",
      "execution_count": null,
      "outputs": [
        {
          "output_type": "execute_result",
          "data": {
            "text/plain": [
              "(7500, 17)"
            ]
          },
          "metadata": {
            "tags": []
          },
          "execution_count": 7
        }
      ]
    },
    {
      "cell_type": "code",
      "metadata": {
        "id": "b9cca9d7",
        "outputId": "e418f4e0-3676-4365-ff8b-78c12bb7c9da"
      },
      "source": [
        "df.info()"
      ],
      "id": "b9cca9d7",
      "execution_count": null,
      "outputs": [
        {
          "output_type": "stream",
          "text": [
            "<class 'pandas.core.frame.DataFrame'>\n",
            "RangeIndex: 7500 entries, 0 to 7499\n",
            "Data columns (total 17 columns):\n",
            " #   Column                        Non-Null Count  Dtype  \n",
            "---  ------                        --------------  -----  \n",
            " 0   Home Ownership                7500 non-null   object \n",
            " 1   Annual Income                 5943 non-null   float64\n",
            " 2   Years in current job          7129 non-null   object \n",
            " 3   Tax Liens                     7500 non-null   float64\n",
            " 4   Number of Open Accounts       7500 non-null   float64\n",
            " 5   Years of Credit History       7500 non-null   float64\n",
            " 6   Maximum Open Credit           7500 non-null   float64\n",
            " 7   Number of Credit Problems     7500 non-null   float64\n",
            " 8   Months since last delinquent  3419 non-null   float64\n",
            " 9   Bankruptcies                  7486 non-null   float64\n",
            " 10  Purpose                       7500 non-null   object \n",
            " 11  Term                          7500 non-null   object \n",
            " 12  Current Loan Amount           7500 non-null   float64\n",
            " 13  Current Credit Balance        7500 non-null   float64\n",
            " 14  Monthly Debt                  7500 non-null   float64\n",
            " 15  Credit Score                  5943 non-null   float64\n",
            " 16  Credit Default                7500 non-null   int64  \n",
            "dtypes: float64(12), int64(1), object(4)\n",
            "memory usage: 996.2+ KB\n"
          ],
          "name": "stdout"
        }
      ]
    },
    {
      "cell_type": "markdown",
      "metadata": {
        "id": "b55cb4f2"
      },
      "source": [
        "## Обзор данных"
      ],
      "id": "b55cb4f2"
    },
    {
      "cell_type": "markdown",
      "metadata": {
        "id": "b038a43b"
      },
      "source": [
        "Обзор целевой переменной"
      ],
      "id": "b038a43b"
    },
    {
      "cell_type": "code",
      "metadata": {
        "id": "009e4a7e",
        "outputId": "1db71ad4-ab4f-4d59-ee76-2c9afdc081af"
      },
      "source": [
        "df['Credit Default'].value_counts(normalize=True)"
      ],
      "id": "009e4a7e",
      "execution_count": null,
      "outputs": [
        {
          "output_type": "execute_result",
          "data": {
            "text/plain": [
              "0    0.718267\n",
              "1    0.281733\n",
              "Name: Credit Default, dtype: float64"
            ]
          },
          "metadata": {
            "tags": []
          },
          "execution_count": 9
        }
      ]
    },
    {
      "cell_type": "code",
      "metadata": {
        "id": "18c8e726",
        "outputId": "85df45e8-8d06-49a9-c580-60e9dfc23515"
      },
      "source": [
        "df.describe(include='all')"
      ],
      "id": "18c8e726",
      "execution_count": null,
      "outputs": [
        {
          "output_type": "execute_result",
          "data": {
            "text/html": [
              "<div>\n",
              "<style scoped>\n",
              "    .dataframe tbody tr th:only-of-type {\n",
              "        vertical-align: middle;\n",
              "    }\n",
              "\n",
              "    .dataframe tbody tr th {\n",
              "        vertical-align: top;\n",
              "    }\n",
              "\n",
              "    .dataframe thead th {\n",
              "        text-align: right;\n",
              "    }\n",
              "</style>\n",
              "<table border=\"1\" class=\"dataframe\">\n",
              "  <thead>\n",
              "    <tr style=\"text-align: right;\">\n",
              "      <th></th>\n",
              "      <th>Home Ownership</th>\n",
              "      <th>Annual Income</th>\n",
              "      <th>Years in current job</th>\n",
              "      <th>Tax Liens</th>\n",
              "      <th>Number of Open Accounts</th>\n",
              "      <th>Years of Credit History</th>\n",
              "      <th>Maximum Open Credit</th>\n",
              "      <th>Number of Credit Problems</th>\n",
              "      <th>Months since last delinquent</th>\n",
              "      <th>Bankruptcies</th>\n",
              "      <th>Purpose</th>\n",
              "      <th>Term</th>\n",
              "      <th>Current Loan Amount</th>\n",
              "      <th>Current Credit Balance</th>\n",
              "      <th>Monthly Debt</th>\n",
              "      <th>Credit Score</th>\n",
              "      <th>Credit Default</th>\n",
              "    </tr>\n",
              "  </thead>\n",
              "  <tbody>\n",
              "    <tr>\n",
              "      <th>count</th>\n",
              "      <td>7500</td>\n",
              "      <td>5.943000e+03</td>\n",
              "      <td>7129</td>\n",
              "      <td>7500.000000</td>\n",
              "      <td>7500.000000</td>\n",
              "      <td>7500.000000</td>\n",
              "      <td>7.500000e+03</td>\n",
              "      <td>7500.000000</td>\n",
              "      <td>3419.000000</td>\n",
              "      <td>7486.000000</td>\n",
              "      <td>7500</td>\n",
              "      <td>7500</td>\n",
              "      <td>7.500000e+03</td>\n",
              "      <td>7.500000e+03</td>\n",
              "      <td>7500.000000</td>\n",
              "      <td>5943.000000</td>\n",
              "      <td>7500.000000</td>\n",
              "    </tr>\n",
              "    <tr>\n",
              "      <th>unique</th>\n",
              "      <td>4</td>\n",
              "      <td>NaN</td>\n",
              "      <td>11</td>\n",
              "      <td>NaN</td>\n",
              "      <td>NaN</td>\n",
              "      <td>NaN</td>\n",
              "      <td>NaN</td>\n",
              "      <td>NaN</td>\n",
              "      <td>NaN</td>\n",
              "      <td>NaN</td>\n",
              "      <td>15</td>\n",
              "      <td>2</td>\n",
              "      <td>NaN</td>\n",
              "      <td>NaN</td>\n",
              "      <td>NaN</td>\n",
              "      <td>NaN</td>\n",
              "      <td>NaN</td>\n",
              "    </tr>\n",
              "    <tr>\n",
              "      <th>top</th>\n",
              "      <td>Home Mortgage</td>\n",
              "      <td>NaN</td>\n",
              "      <td>10+ years</td>\n",
              "      <td>NaN</td>\n",
              "      <td>NaN</td>\n",
              "      <td>NaN</td>\n",
              "      <td>NaN</td>\n",
              "      <td>NaN</td>\n",
              "      <td>NaN</td>\n",
              "      <td>NaN</td>\n",
              "      <td>debt consolidation</td>\n",
              "      <td>Short Term</td>\n",
              "      <td>NaN</td>\n",
              "      <td>NaN</td>\n",
              "      <td>NaN</td>\n",
              "      <td>NaN</td>\n",
              "      <td>NaN</td>\n",
              "    </tr>\n",
              "    <tr>\n",
              "      <th>freq</th>\n",
              "      <td>3637</td>\n",
              "      <td>NaN</td>\n",
              "      <td>2332</td>\n",
              "      <td>NaN</td>\n",
              "      <td>NaN</td>\n",
              "      <td>NaN</td>\n",
              "      <td>NaN</td>\n",
              "      <td>NaN</td>\n",
              "      <td>NaN</td>\n",
              "      <td>NaN</td>\n",
              "      <td>5944</td>\n",
              "      <td>5556</td>\n",
              "      <td>NaN</td>\n",
              "      <td>NaN</td>\n",
              "      <td>NaN</td>\n",
              "      <td>NaN</td>\n",
              "      <td>NaN</td>\n",
              "    </tr>\n",
              "    <tr>\n",
              "      <th>mean</th>\n",
              "      <td>NaN</td>\n",
              "      <td>1.366392e+06</td>\n",
              "      <td>NaN</td>\n",
              "      <td>0.030133</td>\n",
              "      <td>11.130933</td>\n",
              "      <td>18.317467</td>\n",
              "      <td>9.451537e+05</td>\n",
              "      <td>0.170000</td>\n",
              "      <td>34.692600</td>\n",
              "      <td>0.117152</td>\n",
              "      <td>NaN</td>\n",
              "      <td>NaN</td>\n",
              "      <td>1.187318e+07</td>\n",
              "      <td>2.898332e+05</td>\n",
              "      <td>18314.454133</td>\n",
              "      <td>1151.087498</td>\n",
              "      <td>0.281733</td>\n",
              "    </tr>\n",
              "    <tr>\n",
              "      <th>std</th>\n",
              "      <td>NaN</td>\n",
              "      <td>8.453392e+05</td>\n",
              "      <td>NaN</td>\n",
              "      <td>0.271604</td>\n",
              "      <td>4.908924</td>\n",
              "      <td>7.041946</td>\n",
              "      <td>1.602622e+07</td>\n",
              "      <td>0.498598</td>\n",
              "      <td>21.688806</td>\n",
              "      <td>0.347192</td>\n",
              "      <td>NaN</td>\n",
              "      <td>NaN</td>\n",
              "      <td>3.192612e+07</td>\n",
              "      <td>3.178714e+05</td>\n",
              "      <td>11926.764673</td>\n",
              "      <td>1604.451418</td>\n",
              "      <td>0.449874</td>\n",
              "    </tr>\n",
              "    <tr>\n",
              "      <th>min</th>\n",
              "      <td>NaN</td>\n",
              "      <td>1.645970e+05</td>\n",
              "      <td>NaN</td>\n",
              "      <td>0.000000</td>\n",
              "      <td>2.000000</td>\n",
              "      <td>4.000000</td>\n",
              "      <td>0.000000e+00</td>\n",
              "      <td>0.000000</td>\n",
              "      <td>0.000000</td>\n",
              "      <td>0.000000</td>\n",
              "      <td>NaN</td>\n",
              "      <td>NaN</td>\n",
              "      <td>1.124200e+04</td>\n",
              "      <td>0.000000e+00</td>\n",
              "      <td>0.000000</td>\n",
              "      <td>585.000000</td>\n",
              "      <td>0.000000</td>\n",
              "    </tr>\n",
              "    <tr>\n",
              "      <th>25%</th>\n",
              "      <td>NaN</td>\n",
              "      <td>8.443410e+05</td>\n",
              "      <td>NaN</td>\n",
              "      <td>0.000000</td>\n",
              "      <td>8.000000</td>\n",
              "      <td>13.500000</td>\n",
              "      <td>2.792295e+05</td>\n",
              "      <td>0.000000</td>\n",
              "      <td>16.000000</td>\n",
              "      <td>0.000000</td>\n",
              "      <td>NaN</td>\n",
              "      <td>NaN</td>\n",
              "      <td>1.801690e+05</td>\n",
              "      <td>1.142565e+05</td>\n",
              "      <td>10067.500000</td>\n",
              "      <td>711.000000</td>\n",
              "      <td>0.000000</td>\n",
              "    </tr>\n",
              "    <tr>\n",
              "      <th>50%</th>\n",
              "      <td>NaN</td>\n",
              "      <td>1.168386e+06</td>\n",
              "      <td>NaN</td>\n",
              "      <td>0.000000</td>\n",
              "      <td>10.000000</td>\n",
              "      <td>17.000000</td>\n",
              "      <td>4.781590e+05</td>\n",
              "      <td>0.000000</td>\n",
              "      <td>32.000000</td>\n",
              "      <td>0.000000</td>\n",
              "      <td>NaN</td>\n",
              "      <td>NaN</td>\n",
              "      <td>3.095730e+05</td>\n",
              "      <td>2.093230e+05</td>\n",
              "      <td>16076.500000</td>\n",
              "      <td>731.000000</td>\n",
              "      <td>0.000000</td>\n",
              "    </tr>\n",
              "    <tr>\n",
              "      <th>75%</th>\n",
              "      <td>NaN</td>\n",
              "      <td>1.640137e+06</td>\n",
              "      <td>NaN</td>\n",
              "      <td>0.000000</td>\n",
              "      <td>14.000000</td>\n",
              "      <td>21.800000</td>\n",
              "      <td>7.935015e+05</td>\n",
              "      <td>0.000000</td>\n",
              "      <td>50.000000</td>\n",
              "      <td>0.000000</td>\n",
              "      <td>NaN</td>\n",
              "      <td>NaN</td>\n",
              "      <td>5.198820e+05</td>\n",
              "      <td>3.604062e+05</td>\n",
              "      <td>23818.000000</td>\n",
              "      <td>743.000000</td>\n",
              "      <td>1.000000</td>\n",
              "    </tr>\n",
              "    <tr>\n",
              "      <th>max</th>\n",
              "      <td>NaN</td>\n",
              "      <td>1.014934e+07</td>\n",
              "      <td>NaN</td>\n",
              "      <td>7.000000</td>\n",
              "      <td>43.000000</td>\n",
              "      <td>57.700000</td>\n",
              "      <td>1.304726e+09</td>\n",
              "      <td>7.000000</td>\n",
              "      <td>118.000000</td>\n",
              "      <td>4.000000</td>\n",
              "      <td>NaN</td>\n",
              "      <td>NaN</td>\n",
              "      <td>1.000000e+08</td>\n",
              "      <td>6.506797e+06</td>\n",
              "      <td>136679.000000</td>\n",
              "      <td>7510.000000</td>\n",
              "      <td>1.000000</td>\n",
              "    </tr>\n",
              "  </tbody>\n",
              "</table>\n",
              "</div>"
            ],
            "text/plain": [
              "       Home Ownership  Annual Income Years in current job    Tax Liens  \\\n",
              "count            7500   5.943000e+03                 7129  7500.000000   \n",
              "unique              4            NaN                   11          NaN   \n",
              "top     Home Mortgage            NaN            10+ years          NaN   \n",
              "freq             3637            NaN                 2332          NaN   \n",
              "mean              NaN   1.366392e+06                  NaN     0.030133   \n",
              "std               NaN   8.453392e+05                  NaN     0.271604   \n",
              "min               NaN   1.645970e+05                  NaN     0.000000   \n",
              "25%               NaN   8.443410e+05                  NaN     0.000000   \n",
              "50%               NaN   1.168386e+06                  NaN     0.000000   \n",
              "75%               NaN   1.640137e+06                  NaN     0.000000   \n",
              "max               NaN   1.014934e+07                  NaN     7.000000   \n",
              "\n",
              "        Number of Open Accounts  Years of Credit History  Maximum Open Credit  \\\n",
              "count               7500.000000              7500.000000         7.500000e+03   \n",
              "unique                      NaN                      NaN                  NaN   \n",
              "top                         NaN                      NaN                  NaN   \n",
              "freq                        NaN                      NaN                  NaN   \n",
              "mean                  11.130933                18.317467         9.451537e+05   \n",
              "std                    4.908924                 7.041946         1.602622e+07   \n",
              "min                    2.000000                 4.000000         0.000000e+00   \n",
              "25%                    8.000000                13.500000         2.792295e+05   \n",
              "50%                   10.000000                17.000000         4.781590e+05   \n",
              "75%                   14.000000                21.800000         7.935015e+05   \n",
              "max                   43.000000                57.700000         1.304726e+09   \n",
              "\n",
              "        Number of Credit Problems  Months since last delinquent  Bankruptcies  \\\n",
              "count                 7500.000000                   3419.000000   7486.000000   \n",
              "unique                        NaN                           NaN           NaN   \n",
              "top                           NaN                           NaN           NaN   \n",
              "freq                          NaN                           NaN           NaN   \n",
              "mean                     0.170000                     34.692600      0.117152   \n",
              "std                      0.498598                     21.688806      0.347192   \n",
              "min                      0.000000                      0.000000      0.000000   \n",
              "25%                      0.000000                     16.000000      0.000000   \n",
              "50%                      0.000000                     32.000000      0.000000   \n",
              "75%                      0.000000                     50.000000      0.000000   \n",
              "max                      7.000000                    118.000000      4.000000   \n",
              "\n",
              "                   Purpose        Term  Current Loan Amount  \\\n",
              "count                 7500        7500         7.500000e+03   \n",
              "unique                  15           2                  NaN   \n",
              "top     debt consolidation  Short Term                  NaN   \n",
              "freq                  5944        5556                  NaN   \n",
              "mean                   NaN         NaN         1.187318e+07   \n",
              "std                    NaN         NaN         3.192612e+07   \n",
              "min                    NaN         NaN         1.124200e+04   \n",
              "25%                    NaN         NaN         1.801690e+05   \n",
              "50%                    NaN         NaN         3.095730e+05   \n",
              "75%                    NaN         NaN         5.198820e+05   \n",
              "max                    NaN         NaN         1.000000e+08   \n",
              "\n",
              "        Current Credit Balance   Monthly Debt  Credit Score  Credit Default  \n",
              "count             7.500000e+03    7500.000000   5943.000000     7500.000000  \n",
              "unique                     NaN            NaN           NaN             NaN  \n",
              "top                        NaN            NaN           NaN             NaN  \n",
              "freq                       NaN            NaN           NaN             NaN  \n",
              "mean              2.898332e+05   18314.454133   1151.087498        0.281733  \n",
              "std               3.178714e+05   11926.764673   1604.451418        0.449874  \n",
              "min               0.000000e+00       0.000000    585.000000        0.000000  \n",
              "25%               1.142565e+05   10067.500000    711.000000        0.000000  \n",
              "50%               2.093230e+05   16076.500000    731.000000        0.000000  \n",
              "75%               3.604062e+05   23818.000000    743.000000        1.000000  \n",
              "max               6.506797e+06  136679.000000   7510.000000        1.000000  "
            ]
          },
          "metadata": {
            "tags": []
          },
          "execution_count": 10
        }
      ]
    },
    {
      "cell_type": "code",
      "metadata": {
        "id": "a544a380",
        "outputId": "8a32dfcc-516b-4ae1-ba6a-8df33712b000"
      },
      "source": [
        "df.hist(bins = 20, figsize = (16, 16))\n",
        "plt.show()"
      ],
      "id": "a544a380",
      "execution_count": null,
      "outputs": [
        {
          "output_type": "display_data",
          "data": {
            "image/png": "[encoded data removed]",
            "text/plain": [
              "<Figure size 1152x1152 with 16 Axes>"
            ]
          },
          "metadata": {
            "tags": [],
            "needs_background": "light"
          }
        }
      ]
    },
    {
      "cell_type": "markdown",
      "metadata": {
        "id": "c28fa7d1"
      },
      "source": [
        "Обзор номинативных/категориальных признаков"
      ],
      "id": "c28fa7d1"
    },
    {
      "cell_type": "code",
      "metadata": {
        "id": "6f995cc9",
        "outputId": "18daaf9f-a169-4276-f3f9-a22a3a4a2b8c"
      },
      "source": [
        "for cat_colname in df.select_dtypes(include='object').columns:\n",
        "    print(str(cat_colname) + '\\n\\n' + str(df[cat_colname].value_counts()) + '\\n' + '*' * 100 + '\\n')"
      ],
      "id": "6f995cc9",
      "execution_count": null,
      "outputs": [
        {
          "output_type": "stream",
          "text": [
            "Home Ownership\n",
            "\n",
            "Home Mortgage    3637\n",
            "Rent             3204\n",
            "Own Home          647\n",
            "Have Mortgage      12\n",
            "Name: Home Ownership, dtype: int64\n",
            "****************************************************************************************************\n",
            "\n",
            "Years in current job\n",
            "\n",
            "10+ years    2332\n",
            "2 years       705\n",
            "3 years       620\n",
            "< 1 year      563\n",
            "5 years       516\n",
            "1 year        504\n",
            "4 years       469\n",
            "6 years       426\n",
            "7 years       396\n",
            "8 years       339\n",
            "9 years       259\n",
            "Name: Years in current job, dtype: int64\n",
            "****************************************************************************************************\n",
            "\n",
            "Purpose\n",
            "\n",
            "debt consolidation      5944\n",
            "other                    665\n",
            "home improvements        412\n",
            "business loan            129\n",
            "buy a car                 96\n",
            "medical bills             71\n",
            "major purchase            40\n",
            "take a trip               37\n",
            "buy house                 34\n",
            "small business            26\n",
            "wedding                   15\n",
            "moving                    11\n",
            "educational expenses      10\n",
            "vacation                   8\n",
            "renewable energy           2\n",
            "Name: Purpose, dtype: int64\n",
            "****************************************************************************************************\n",
            "\n",
            "Term\n",
            "\n",
            "Short Term    5556\n",
            "Long Term     1944\n",
            "Name: Term, dtype: int64\n",
            "****************************************************************************************************\n",
            "\n"
          ],
          "name": "stdout"
        }
      ]
    },
    {
      "cell_type": "markdown",
      "metadata": {
        "id": "62a74706"
      },
      "source": [
        "### Корреляция с базовыми признаками"
      ],
      "id": "62a74706"
    },
    {
      "cell_type": "code",
      "metadata": {
        "id": "c444e6cf",
        "outputId": "2a1336e4-9f46-4bbd-9b96-d0463b0ec2a7"
      },
      "source": [
        "TARGET_NAME = 'Credit Default'\n",
        "BASE_FEATURE_NAMES = df.columns.drop(TARGET_NAME).tolist()\n",
        "NEW_FEATURE_NAMES = df.columns.drop([TARGET_NAME] + BASE_FEATURE_NAMES)\n",
        "\n",
        "\n",
        "corr_with_target = df[BASE_FEATURE_NAMES + [TARGET_NAME]].corr().iloc[:-1, -1].sort_values(ascending=False)\n",
        "\n",
        "plt.figure(figsize=(10, 8))\n",
        "\n",
        "sns.barplot(x=corr_with_target.values, y=corr_with_target.index)\n",
        "\n",
        "plt.title('Correlation with target variable')\n",
        "plt.show()"
      ],
      "id": "c444e6cf",
      "execution_count": null,
      "outputs": [
        {
          "output_type": "display_data",
          "data": {
            "image/png": "[encoded data removed]",
            "text/plain": [
              "<Figure size 720x576 with 1 Axes>"
            ]
          },
          "metadata": {
            "tags": [],
            "needs_background": "light"
          }
        }
      ]
    },
    {
      "cell_type": "markdown",
      "metadata": {
        "id": "38d0911b"
      },
      "source": [
        "### Анализ признакового пространства<a class=\"anchor\" id=\"features_analysis\"></a>"
      ],
      "id": "38d0911b"
    },
    {
      "cell_type": "code",
      "metadata": {
        "id": "67e9f19b",
        "outputId": "3df2bdd2-faa5-4a60-a027-740ca952206e"
      },
      "source": [
        "plt.figure(figsize=(12, 7))\n",
        "\n",
        "corr_matrix = df.corr()\n",
        "corr_matrix = np.round(corr_matrix, 2)\n",
        "corr_matrix[np.abs(corr_matrix) < 0.3] = 0\n",
        "\n",
        "sns.heatmap(corr_matrix, annot=True, linewidths=.5, cmap='coolwarm')\n",
        "\n",
        "plt.title('Матрица корреляции')\n",
        "plt.show()"
      ],
      "id": "67e9f19b",
      "execution_count": null,
      "outputs": [
        {
          "output_type": "display_data",
          "data": {
            "image/png": "[encoded data removed]",
            "text/plain": [
              "<Figure size 864x504 with 2 Axes>"
            ]
          },
          "metadata": {
            "tags": [],
            "needs_background": "light"
          }
        }
      ]
    },
    {
      "cell_type": "markdown",
      "metadata": {
        "id": "fd3a88a0"
      },
      "source": [
        "### Обработка пропусков<a class=\"anchor\" id=\"gaps\"></a>"
      ],
      "id": "fd3a88a0"
    },
    {
      "cell_type": "code",
      "metadata": {
        "id": "19dcd6b2",
        "outputId": "bac344a6-beec-4e03-a95b-bc80ee7fdd31"
      },
      "source": [
        "df.isna().sum()"
      ],
      "id": "19dcd6b2",
      "execution_count": null,
      "outputs": [
        {
          "output_type": "execute_result",
          "data": {
            "text/plain": [
              "Home Ownership                     0\n",
              "Annual Income                   1557\n",
              "Years in current job             371\n",
              "Tax Liens                          0\n",
              "Number of Open Accounts            0\n",
              "Years of Credit History            0\n",
              "Maximum Open Credit                0\n",
              "Number of Credit Problems          0\n",
              "Months since last delinquent    4081\n",
              "Bankruptcies                      14\n",
              "Purpose                            0\n",
              "Term                               0\n",
              "Current Loan Amount                0\n",
              "Current Credit Balance             0\n",
              "Monthly Debt                       0\n",
              "Credit Score                    1557\n",
              "Credit Default                     0\n",
              "dtype: int64"
            ]
          },
          "metadata": {
            "tags": []
          },
          "execution_count": 15
        }
      ]
    },
    {
      "cell_type": "markdown",
      "metadata": {
        "id": "9e462386"
      },
      "source": [
        "'Annual Income'"
      ],
      "id": "9e462386"
    },
    {
      "cell_type": "code",
      "metadata": {
        "id": "c2e72b04",
        "outputId": "99167dc3-0d5b-4528-b8fc-0bcf4ea62183"
      },
      "source": [
        "df['Annual Income'].median()"
      ],
      "id": "c2e72b04",
      "execution_count": null,
      "outputs": [
        {
          "output_type": "execute_result",
          "data": {
            "text/plain": [
              "1168386.0"
            ]
          },
          "metadata": {
            "tags": []
          },
          "execution_count": 16
        }
      ]
    },
    {
      "cell_type": "code",
      "metadata": {
        "id": "d38ce579"
      },
      "source": [
        "df['Annual Income NaN'] = 0\n",
        "df.loc[df['Annual Income'].isna(), 'Annual Income NaN'] = 1\n",
        "test_df['Annual Income NaN'] = 0\n",
        "test_df.loc[test_df['Annual Income'].isna(), 'Annual Income NaN'] = 1"
      ],
      "id": "d38ce579",
      "execution_count": null,
      "outputs": []
    },
    {
      "cell_type": "code",
      "metadata": {
        "id": "415718f6"
      },
      "source": [
        "df['Annual Income'].fillna(df['Annual Income'].median(), inplace = True)\n",
        "test_df['Annual Income'].fillna(test_df['Annual Income'].median(), inplace = True)"
      ],
      "id": "415718f6",
      "execution_count": null,
      "outputs": []
    },
    {
      "cell_type": "code",
      "metadata": {
        "id": "de045767",
        "outputId": "ebf4e900-c7e8-4f4d-8e66-e920d6d5868a"
      },
      "source": [
        "df['Annual Income'].isna().sum()\n",
        "test_df['Annual Income'].isna().sum()"
      ],
      "id": "de045767",
      "execution_count": null,
      "outputs": [
        {
          "output_type": "execute_result",
          "data": {
            "text/plain": [
              "0"
            ]
          },
          "metadata": {
            "tags": []
          },
          "execution_count": 19
        }
      ]
    },
    {
      "cell_type": "markdown",
      "metadata": {
        "id": "73e8a224"
      },
      "source": [
        "'Years in current job'"
      ],
      "id": "73e8a224"
    },
    {
      "cell_type": "code",
      "metadata": {
        "id": "917f0529",
        "outputId": "66778afd-688e-45f5-df90-7d6e01d37a5d"
      },
      "source": [
        "mode = df['Years in current job'].mode().values[0]\n",
        "mode"
      ],
      "id": "917f0529",
      "execution_count": null,
      "outputs": [
        {
          "output_type": "execute_result",
          "data": {
            "text/plain": [
              "'10+ years'"
            ]
          },
          "metadata": {
            "tags": []
          },
          "execution_count": 20
        }
      ]
    },
    {
      "cell_type": "code",
      "metadata": {
        "id": "6b33b7e4"
      },
      "source": [
        "df['Years in current job NaN'] = 0\n",
        "df.loc[df['Years in current job'].isna(), 'Years in current job NaN'] = 1\n",
        "df['Years in current job'].fillna(mode, inplace = True)\n",
        "\n",
        "test_df['Years in current job NaN'] = 0\n",
        "test_df.loc[df['Years in current job'].isna(), 'Years in current job NaN'] = 1\n",
        "test_df['Years in current job'].fillna(mode, inplace = True)"
      ],
      "id": "6b33b7e4",
      "execution_count": null,
      "outputs": []
    },
    {
      "cell_type": "code",
      "metadata": {
        "id": "05d6f8b3",
        "outputId": "695559da-9008-408b-8aeb-91e45040d9ec"
      },
      "source": [
        "df['Years in current job'].isna().sum()"
      ],
      "id": "05d6f8b3",
      "execution_count": null,
      "outputs": [
        {
          "output_type": "execute_result",
          "data": {
            "text/plain": [
              "0"
            ]
          },
          "metadata": {
            "tags": []
          },
          "execution_count": 22
        }
      ]
    },
    {
      "cell_type": "markdown",
      "metadata": {
        "id": "d930d8f4"
      },
      "source": [
        "Current Loan Amount"
      ],
      "id": "d930d8f4"
    },
    {
      "cell_type": "code",
      "metadata": {
        "id": "51053ee9",
        "outputId": "68518aa5-b7bf-4d7c-879e-c8da3c4c51dc"
      },
      "source": [
        "df['Current Loan Amount'].value_counts()"
      ],
      "id": "51053ee9",
      "execution_count": null,
      "outputs": [
        {
          "output_type": "execute_result",
          "data": {
            "text/plain": [
              "99999999.0    870\n",
              "218064.0        6\n",
              "89298.0         6\n",
              "216106.0        5\n",
              "265826.0        5\n",
              "             ... \n",
              "104324.0        1\n",
              "201080.0        1\n",
              "427812.0        1\n",
              "665544.0        1\n",
              "191136.0        1\n",
              "Name: Current Loan Amount, Length: 5386, dtype: int64"
            ]
          },
          "metadata": {
            "tags": []
          },
          "execution_count": 23
        }
      ]
    },
    {
      "cell_type": "code",
      "metadata": {
        "id": "bf53b60c"
      },
      "source": [
        "df['Current Loan Amount Outlier'] = 0\n",
        "df.loc[df['Current Loan Amount'] == 99999999.0, 'Current Loan Amount Outlier'] = 1\n",
        "df.loc[df['Current Loan Amount'] == 99999999.0, 'Current Loan Amount'] = df['Current Loan Amount'].median()\n",
        "\n",
        "test_df['Current Loan Amount Outlier'] = 0\n",
        "test_df.loc[test_df['Current Loan Amount'] == 99999999.0, 'Current Loan Amount Outlier'] = 1\n",
        "test_df.loc[test_df['Current Loan Amount'] == 99999999.0, 'Current Loan Amount'] = df['Current Loan Amount'].median()"
      ],
      "id": "bf53b60c",
      "execution_count": null,
      "outputs": []
    },
    {
      "cell_type": "code",
      "metadata": {
        "id": "2e3b8a71",
        "outputId": "c4fdad52-e0ca-49ed-e274-330c3e6aeb26"
      },
      "source": [
        "df[df['Current Loan Amount'] == 99999999.0]['Current Loan Amount'].count()"
      ],
      "id": "2e3b8a71",
      "execution_count": null,
      "outputs": [
        {
          "output_type": "execute_result",
          "data": {
            "text/plain": [
              "0"
            ]
          },
          "metadata": {
            "tags": []
          },
          "execution_count": 25
        }
      ]
    },
    {
      "cell_type": "markdown",
      "metadata": {
        "id": "fc830722"
      },
      "source": [
        "'Months since last delinquent'"
      ],
      "id": "fc830722"
    },
    {
      "cell_type": "code",
      "metadata": {
        "id": "cb620588"
      },
      "source": [
        "df.loc[df['Months since last delinquent'].isnull(), 'Months since last delinquent'] = 0\n",
        "test_df.loc[test_df['Months since last delinquent'].isnull(), 'Months since last delinquent'] = 0"
      ],
      "id": "cb620588",
      "execution_count": null,
      "outputs": []
    },
    {
      "cell_type": "markdown",
      "metadata": {
        "id": "499b91c0"
      },
      "source": [
        "'Bankruptcies'"
      ],
      "id": "499b91c0"
    },
    {
      "cell_type": "code",
      "metadata": {
        "id": "5ebbbb48",
        "outputId": "d23b4dc5-883d-4802-925c-ae6183a4c593"
      },
      "source": [
        "df['Bankruptcies'].median()\n",
        "test_df['Bankruptcies'].median()"
      ],
      "id": "5ebbbb48",
      "execution_count": null,
      "outputs": [
        {
          "output_type": "execute_result",
          "data": {
            "text/plain": [
              "0.0"
            ]
          },
          "metadata": {
            "tags": []
          },
          "execution_count": 27
        }
      ]
    },
    {
      "cell_type": "code",
      "metadata": {
        "id": "8c870fb8",
        "outputId": "de518c91-6d0b-42f4-d845-8658004846d4"
      },
      "source": [
        "df['Bankruptcies NaN'] = 0\n",
        "df.loc[df['Bankruptcies'].isna(), 'Bankruptcies NaN'] = 1\n",
        "df['Bankruptcies'].fillna(df['Bankruptcies'].median(), inplace = True)\n",
        "df['Bankruptcies'].isna().sum()\n",
        "\n",
        "test_df['Bankruptcies NaN'] = 0\n",
        "test_df.loc[test_df['Bankruptcies'].isna(), 'Bankruptcies NaN'] = 1\n",
        "test_df['Bankruptcies'].fillna(df['Bankruptcies'].median(), inplace = True)\n",
        "test_df['Bankruptcies'].isna().sum()"
      ],
      "id": "8c870fb8",
      "execution_count": null,
      "outputs": [
        {
          "output_type": "execute_result",
          "data": {
            "text/plain": [
              "0"
            ]
          },
          "metadata": {
            "tags": []
          },
          "execution_count": 28
        }
      ]
    },
    {
      "cell_type": "markdown",
      "metadata": {
        "id": "e88a19e2"
      },
      "source": [
        "'Credit Score'"
      ],
      "id": "e88a19e2"
    },
    {
      "cell_type": "code",
      "metadata": {
        "id": "b340dd89",
        "outputId": "a1d4a5ca-b5d2-4659-f624-a817e475dfc2"
      },
      "source": [
        "df['Credit Score'].median()"
      ],
      "id": "b340dd89",
      "execution_count": null,
      "outputs": [
        {
          "output_type": "execute_result",
          "data": {
            "text/plain": [
              "731.0"
            ]
          },
          "metadata": {
            "tags": []
          },
          "execution_count": 29
        }
      ]
    },
    {
      "cell_type": "code",
      "metadata": {
        "id": "94594a6a",
        "outputId": "cf9258b5-d165-4147-d1d9-8dd2d42dc8e7"
      },
      "source": [
        "df['Credit Score NaN'] = 0\n",
        "df.loc[df['Credit Score'].isna(), 'Credit Score NaN'] = 1\n",
        "df['Credit Score'].fillna(df['Credit Score'].median(), inplace = True)\n",
        "df['Credit Score'].isna().sum()\n",
        "\n",
        "test_df['Credit Score NaN'] = 0\n",
        "test_df.loc[test_df['Credit Score'].isna(), 'Credit Score NaN'] = 1\n",
        "test_df['Credit Score'].fillna(df['Credit Score'].median(), inplace = True)\n",
        "test_df['Credit Score'].isna().sum()"
      ],
      "id": "94594a6a",
      "execution_count": null,
      "outputs": [
        {
          "output_type": "execute_result",
          "data": {
            "text/plain": [
              "0"
            ]
          },
          "metadata": {
            "tags": []
          },
          "execution_count": 30
        }
      ]
    },
    {
      "cell_type": "code",
      "metadata": {
        "id": "45d1f7b0",
        "outputId": "8f546619-97f8-4059-ac54-886f179eb21f"
      },
      "source": [
        "df.isna().sum()"
      ],
      "id": "45d1f7b0",
      "execution_count": null,
      "outputs": [
        {
          "output_type": "execute_result",
          "data": {
            "text/plain": [
              "Home Ownership                  0\n",
              "Annual Income                   0\n",
              "Years in current job            0\n",
              "Tax Liens                       0\n",
              "Number of Open Accounts         0\n",
              "Years of Credit History         0\n",
              "Maximum Open Credit             0\n",
              "Number of Credit Problems       0\n",
              "Months since last delinquent    0\n",
              "Bankruptcies                    0\n",
              "Purpose                         0\n",
              "Term                            0\n",
              "Current Loan Amount             0\n",
              "Current Credit Balance          0\n",
              "Monthly Debt                    0\n",
              "Credit Score                    0\n",
              "Credit Default                  0\n",
              "Annual Income NaN               0\n",
              "Years in current job NaN        0\n",
              "Current Loan Amount Outlier     0\n",
              "Bankruptcies NaN                0\n",
              "Credit Score NaN                0\n",
              "dtype: int64"
            ]
          },
          "metadata": {
            "tags": []
          },
          "execution_count": 31
        }
      ]
    },
    {
      "cell_type": "code",
      "metadata": {
        "id": "ac68ab9f",
        "outputId": "d87d0e0c-0201-4134-8bb6-60ddaf06b1d6"
      },
      "source": [
        "test_df.isna().sum()"
      ],
      "id": "ac68ab9f",
      "execution_count": null,
      "outputs": [
        {
          "output_type": "execute_result",
          "data": {
            "text/plain": [
              "Home Ownership                  0\n",
              "Annual Income                   0\n",
              "Years in current job            0\n",
              "Tax Liens                       0\n",
              "Number of Open Accounts         0\n",
              "Years of Credit History         0\n",
              "Maximum Open Credit             0\n",
              "Number of Credit Problems       0\n",
              "Months since last delinquent    0\n",
              "Bankruptcies                    0\n",
              "Purpose                         0\n",
              "Term                            0\n",
              "Current Loan Amount             0\n",
              "Current Credit Balance          0\n",
              "Monthly Debt                    0\n",
              "Credit Score                    0\n",
              "Annual Income NaN               0\n",
              "Years in current job NaN        0\n",
              "Current Loan Amount Outlier     0\n",
              "Bankruptcies NaN                0\n",
              "Credit Score NaN                0\n",
              "dtype: int64"
            ]
          },
          "metadata": {
            "tags": []
          },
          "execution_count": 32
        }
      ]
    },
    {
      "cell_type": "markdown",
      "metadata": {
        "id": "21232581"
      },
      "source": [
        "Преобразуем значения признака Home Ownership в dummy переменные"
      ],
      "id": "21232581"
    },
    {
      "cell_type": "code",
      "metadata": {
        "id": "cc3589cb"
      },
      "source": [
        "df = pd.concat([df, pd.get_dummies(df['Home Ownership'])], axis=1)\n",
        "test_df = pd.concat([test_df, pd.get_dummies(test_df['Home Ownership'])], axis=1)"
      ],
      "id": "cc3589cb",
      "execution_count": null,
      "outputs": []
    },
    {
      "cell_type": "markdown",
      "metadata": {
        "id": "158f26eb"
      },
      "source": [
        "Преобразуем значения Years in current job в числовые"
      ],
      "id": "158f26eb"
    },
    {
      "cell_type": "code",
      "metadata": {
        "id": "afc7dd78"
      },
      "source": [
        "df['Years in current job'] = df['Years in current job'].replace({'< 1 year':0, '1 year':1, '2 years':2, '3 years':3, '4 years':4, '5 years':5, '6 years':6, '7 years':7,'8 years':8,'9 years':9,'10+ years':10})\n",
        "test_df['Years in current job'] = test_df['Years in current job'].replace({'< 1 year':0, '1 year':1, '2 years':2, '3 years':3, '4 years':4, '5 years':5, '6 years':6, '7 years':7,'8 years':8,'9 years':9,'10+ years':10})"
      ],
      "id": "afc7dd78",
      "execution_count": null,
      "outputs": []
    },
    {
      "cell_type": "markdown",
      "metadata": {
        "id": "e56cf63b"
      },
      "source": [
        "Tax Liens приведём к бинарному виду"
      ],
      "id": "e56cf63b"
    },
    {
      "cell_type": "code",
      "metadata": {
        "id": "635b1047"
      },
      "source": [
        "df.loc[df['Tax Liens'] > 0, 'Tax Liens'] = 1\n",
        "test_df.loc[test_df['Tax Liens'] > 0, 'Tax Liens'] = 1"
      ],
      "id": "635b1047",
      "execution_count": null,
      "outputs": []
    },
    {
      "cell_type": "markdown",
      "metadata": {
        "id": "1dd787d9"
      },
      "source": [
        "Number of Credit Problems приведём к бинарному виду"
      ],
      "id": "1dd787d9"
    },
    {
      "cell_type": "code",
      "metadata": {
        "id": "4e02bb52"
      },
      "source": [
        "df.loc[df['Number of Credit Problems'] > 0, 'Number of Credit Problems'] = 1\n",
        "test_df.loc[test_df['Number of Credit Problems'] > 0, 'Number of Credit Problems'] = 1"
      ],
      "id": "4e02bb52",
      "execution_count": null,
      "outputs": []
    },
    {
      "cell_type": "markdown",
      "metadata": {
        "id": "35544187"
      },
      "source": [
        "Значения признака Bankruptcies также необходимо привести к бинарному виду по факту банкротства"
      ],
      "id": "35544187"
    },
    {
      "cell_type": "code",
      "metadata": {
        "id": "a59583e6"
      },
      "source": [
        "df.loc[df['Bankruptcies'] > 0, 'Bankruptcies'] = 1\n",
        "test_df.loc[test_df['Bankruptcies'] > 0, 'Bankruptcies'] = 1"
      ],
      "id": "a59583e6",
      "execution_count": null,
      "outputs": []
    },
    {
      "cell_type": "markdown",
      "metadata": {
        "id": "a83c506e"
      },
      "source": [
        "Срок кредита (Term) также лучше сделать бинарным"
      ],
      "id": "a83c506e"
    },
    {
      "cell_type": "code",
      "metadata": {
        "id": "d9884ce8"
      },
      "source": [
        "df['Term'] = df['Term'].replace({'Short Term':0, 'Long Term':1})\n",
        "test_df['Term'] = test_df['Term'].replace({'Short Term':0, 'Long Term':1})"
      ],
      "id": "d9884ce8",
      "execution_count": null,
      "outputs": []
    },
    {
      "cell_type": "markdown",
      "metadata": {
        "id": "1198fa86"
      },
      "source": [
        "### Отбор признаков"
      ],
      "id": "1198fa86"
    },
    {
      "cell_type": "code",
      "metadata": {
        "id": "86f7b50e"
      },
      "source": [
        "FEATURE_NAMES_SELECTED = ['Annual Income', \n",
        "                 'Tax Liens', \n",
        "                 'Term',\n",
        "                 'Number of Open Accounts', \n",
        "                 'Years of Credit History', \n",
        "                 'Maximum Open Credit', \n",
        "                 'Number of Credit Problems', \n",
        "                 'Bankruptcies',\n",
        "                 'Current Loan Amount', \n",
        "                 'Current Credit Balance', \n",
        "                 'Monthly Debt', \n",
        "                 'Credit Score', \n",
        "                 'Years in current job', \n",
        "                ]\n",
        "\n",
        "new_feature_names = []\n",
        "\n",
        "TARGET_NAME = 'Credit Default'"
      ],
      "id": "86f7b50e",
      "execution_count": null,
      "outputs": []
    },
    {
      "cell_type": "markdown",
      "metadata": {
        "id": "ee9f2853"
      },
      "source": [
        "### Разбиение на train и test"
      ],
      "id": "ee9f2853"
    },
    {
      "cell_type": "code",
      "metadata": {
        "id": "6155ddc3"
      },
      "source": [
        "X = df[FEATURE_NAMES_SELECTED]\n",
        "y = df[TARGET_NAME]\n",
        "\n",
        "X_train, X_test, y_train, y_test = train_test_split(X, y, shuffle=True, test_size=0.25, random_state=211)"
      ],
      "id": "6155ddc3",
      "execution_count": null,
      "outputs": []
    },
    {
      "cell_type": "markdown",
      "metadata": {
        "id": "adcd81a5"
      },
      "source": [
        "### Балансировка целевой переменной"
      ],
      "id": "adcd81a5"
    },
    {
      "cell_type": "code",
      "metadata": {
        "id": "1aea33a2",
        "outputId": "6ace9ba9-6e75-4153-dae0-948ed005979f"
      },
      "source": [
        "df_for_balancing = pd.concat([X_train, y_train], axis=1)\n",
        "df_balanced = balance_df_by_target(df_for_balancing, TARGET_NAME)\n",
        "    \n",
        "df_balanced[TARGET_NAME].value_counts()"
      ],
      "id": "1aea33a2",
      "execution_count": null,
      "outputs": [
        {
          "output_type": "execute_result",
          "data": {
            "text/plain": [
              "0    4047\n",
              "1    3156\n",
              "Name: Credit Default, dtype: int64"
            ]
          },
          "metadata": {
            "tags": []
          },
          "execution_count": 41
        }
      ]
    },
    {
      "cell_type": "code",
      "metadata": {
        "id": "794da2b6"
      },
      "source": [
        "X_train = df_balanced.drop(columns=TARGET_NAME)\n",
        "y_train = df_balanced[TARGET_NAME]"
      ],
      "id": "794da2b6",
      "execution_count": null,
      "outputs": []
    },
    {
      "cell_type": "markdown",
      "metadata": {
        "id": "f1e75b98"
      },
      "source": [
        "# Построение и оценка базовых моделей\n"
      ],
      "id": "f1e75b98"
    },
    {
      "cell_type": "markdown",
      "metadata": {
        "id": "0d8dd5cc"
      },
      "source": [
        "### Логистическая регрессия"
      ],
      "id": "0d8dd5cc"
    },
    {
      "cell_type": "code",
      "metadata": {
        "id": "fda38a21",
        "outputId": "f80c3da9-db30-4ac5-ffb0-86c83e47b121"
      },
      "source": [
        "model_lr = LogisticRegression()\n",
        "model_lr.fit(X_train, y_train)\n",
        "\n",
        "y_train_pred = model_lr.predict(X_train)\n",
        "y_test_pred = model_lr.predict(X_test)\n",
        "\n",
        "get_classification_report(y_train, y_train_pred, y_test, y_test_pred)"
      ],
      "id": "fda38a21",
      "execution_count": null,
      "outputs": [
        {
          "output_type": "stream",
          "text": [
            "TRAIN\n",
            "\n",
            "              precision    recall  f1-score   support\n",
            "\n",
            "           0       0.64      0.82      0.72      4047\n",
            "           1       0.64      0.42      0.51      3156\n",
            "\n",
            "    accuracy                           0.64      7203\n",
            "   macro avg       0.64      0.62      0.61      7203\n",
            "weighted avg       0.64      0.64      0.63      7203\n",
            "\n",
            "TEST\n",
            "\n",
            "              precision    recall  f1-score   support\n",
            "\n",
            "           0       0.77      0.81      0.79      1340\n",
            "           1       0.46      0.40      0.43       535\n",
            "\n",
            "    accuracy                           0.69      1875\n",
            "   macro avg       0.62      0.61      0.61      1875\n",
            "weighted avg       0.68      0.69      0.69      1875\n",
            "\n",
            "CONFUSION MATRIX\n",
            "\n",
            "col_0              0    1\n",
            "Credit Default           \n",
            "0               1089  251\n",
            "1                321  214\n"
          ],
          "name": "stdout"
        }
      ]
    },
    {
      "cell_type": "markdown",
      "metadata": {
        "id": "7f2d45ff"
      },
      "source": [
        "### k ближайших соседей"
      ],
      "id": "7f2d45ff"
    },
    {
      "cell_type": "code",
      "metadata": {
        "id": "63f9de35",
        "outputId": "cdc1e4f4-3bb4-4c81-c220-3d0ddc833999"
      },
      "source": [
        "model_knn = KNeighborsClassifier()\n",
        "model_knn.fit(X_train, y_train)\n",
        "\n",
        "y_train_pred = model_knn.predict(X_train)\n",
        "y_test_pred = model_knn.predict(X_test)\n",
        "\n",
        "get_classification_report(y_train, y_train_pred, y_test, y_test_pred)"
      ],
      "id": "63f9de35",
      "execution_count": null,
      "outputs": [
        {
          "output_type": "stream",
          "text": [
            "TRAIN\n",
            "\n",
            "              precision    recall  f1-score   support\n",
            "\n",
            "           0       0.76      0.81      0.79      4047\n",
            "           1       0.74      0.68      0.71      3156\n",
            "\n",
            "    accuracy                           0.75      7203\n",
            "   macro avg       0.75      0.75      0.75      7203\n",
            "weighted avg       0.75      0.75      0.75      7203\n",
            "\n",
            "TEST\n",
            "\n",
            "              precision    recall  f1-score   support\n",
            "\n",
            "           0       0.75      0.72      0.73      1340\n",
            "           1       0.35      0.38      0.37       535\n",
            "\n",
            "    accuracy                           0.63      1875\n",
            "   macro avg       0.55      0.55      0.55      1875\n",
            "weighted avg       0.63      0.63      0.63      1875\n",
            "\n",
            "CONFUSION MATRIX\n",
            "\n",
            "col_0             0    1\n",
            "Credit Default          \n",
            "0               971  369\n",
            "1               332  203\n"
          ],
          "name": "stdout"
        }
      ]
    },
    {
      "cell_type": "markdown",
      "metadata": {
        "id": "55367aea"
      },
      "source": [
        "## Бустинговые алгоритмы"
      ],
      "id": "55367aea"
    },
    {
      "cell_type": "markdown",
      "metadata": {
        "id": "a5a9409d"
      },
      "source": [
        "### XGBoost"
      ],
      "id": "a5a9409d"
    },
    {
      "cell_type": "code",
      "metadata": {
        "id": "5a80f6b4",
        "outputId": "fc46eb61-b7b7-4fae-a92a-fd7f716ccce3"
      },
      "source": [
        "model_xgb = xgb.XGBClassifier(random_state=21)\n",
        "model_xgb.fit(X_train, y_train)\n",
        "\n",
        "y_train_pred = model_xgb.predict(X_train)\n",
        "y_test_pred = model_xgb.predict(X_test)\n",
        "\n",
        "get_classification_report(y_train, y_train_pred, y_test, y_test_pred)"
      ],
      "id": "5a80f6b4",
      "execution_count": null,
      "outputs": [
        {
          "output_type": "stream",
          "text": [
            "[13:46:51] WARNING: C:/Users/Administrator/workspace/xgboost-win64_release_1.4.0/src/learner.cc:1095: Starting in XGBoost 1.3.0, the default evaluation metric used with the objective 'binary:logistic' was changed from 'error' to 'logloss'. Explicitly set eval_metric if you'd like to restore the old behavior.\n"
          ],
          "name": "stdout"
        },
        {
          "output_type": "stream",
          "text": [
            "C:\\Users\\ad\\anaconda3\\lib\\site-packages\\xgboost\\sklearn.py:1146: UserWarning: The use of label encoder in XGBClassifier is deprecated and will be removed in a future release. To remove this warning, do the following: 1) Pass option use_label_encoder=False when constructing XGBClassifier object; and 2) Encode your labels (y) as integers starting with 0, i.e. 0, 1, 2, ..., [num_class - 1].\n",
            "  warnings.warn(label_encoder_deprecation_msg, UserWarning)\n"
          ],
          "name": "stderr"
        },
        {
          "output_type": "stream",
          "text": [
            "TRAIN\n",
            "\n",
            "              precision    recall  f1-score   support\n",
            "\n",
            "           0       0.97      0.98      0.97      4047\n",
            "           1       0.97      0.96      0.96      3156\n",
            "\n",
            "    accuracy                           0.97      7203\n",
            "   macro avg       0.97      0.97      0.97      7203\n",
            "weighted avg       0.97      0.97      0.97      7203\n",
            "\n",
            "TEST\n",
            "\n",
            "              precision    recall  f1-score   support\n",
            "\n",
            "           0       0.80      0.86      0.83      1340\n",
            "           1       0.57      0.47      0.52       535\n",
            "\n",
            "    accuracy                           0.75      1875\n",
            "   macro avg       0.69      0.67      0.67      1875\n",
            "weighted avg       0.74      0.75      0.74      1875\n",
            "\n",
            "CONFUSION MATRIX\n",
            "\n",
            "col_0              0    1\n",
            "Credit Default           \n",
            "0               1147  193\n",
            "1                281  254\n"
          ],
          "name": "stdout"
        }
      ]
    },
    {
      "cell_type": "markdown",
      "metadata": {
        "id": "fde0dea3"
      },
      "source": [
        "### LightGBM"
      ],
      "id": "fde0dea3"
    },
    {
      "cell_type": "code",
      "metadata": {
        "scrolled": true,
        "id": "ae715a15",
        "outputId": "f8388391-1b98-4508-832b-9998b56681da"
      },
      "source": [
        "model_lgbm = lgbm.LGBMClassifier(random_state=21)\n",
        "model_lgbm.fit(X_train, y_train)\n",
        "\n",
        "y_train_pred = model_lgbm.predict(X_train)\n",
        "y_test_pred = model_lgbm.predict(X_test)\n",
        "\n",
        "get_classification_report(y_train, y_train_pred, y_test, y_test_pred)"
      ],
      "id": "ae715a15",
      "execution_count": null,
      "outputs": [
        {
          "output_type": "stream",
          "text": [
            "TRAIN\n",
            "\n",
            "              precision    recall  f1-score   support\n",
            "\n",
            "           0       0.90      0.95      0.93      4047\n",
            "           1       0.94      0.87      0.90      3156\n",
            "\n",
            "    accuracy                           0.92      7203\n",
            "   macro avg       0.92      0.91      0.91      7203\n",
            "weighted avg       0.92      0.92      0.92      7203\n",
            "\n",
            "TEST\n",
            "\n",
            "              precision    recall  f1-score   support\n",
            "\n",
            "           0       0.81      0.85      0.83      1340\n",
            "           1       0.56      0.49      0.52       535\n",
            "\n",
            "    accuracy                           0.75      1875\n",
            "   macro avg       0.68      0.67      0.67      1875\n",
            "weighted avg       0.74      0.75      0.74      1875\n",
            "\n",
            "CONFUSION MATRIX\n",
            "\n",
            "col_0              0    1\n",
            "Credit Default           \n",
            "0               1135  205\n",
            "1                273  262\n"
          ],
          "name": "stdout"
        }
      ]
    },
    {
      "cell_type": "markdown",
      "metadata": {
        "id": "d349d52c"
      },
      "source": [
        "### CatBoost"
      ],
      "id": "d349d52c"
    },
    {
      "cell_type": "code",
      "metadata": {
        "id": "bb4d28d7",
        "outputId": "853231cf-5751-4cc9-8bdc-8a20dd8c65be"
      },
      "source": [
        "model_catb = catb.CatBoostClassifier(silent=True, random_state=21)\n",
        "model_catb.fit(X_train, y_train, plot=True)\n",
        "\n",
        "y_train_pred = model_catb.predict(X_train)\n",
        "y_test_pred = model_catb.predict(X_test)\n",
        "\n",
        "get_classification_report(y_train, y_train_pred, y_test, y_test_pred)"
      ],
      "id": "bb4d28d7",
      "execution_count": null,
      "outputs": [
        {
          "output_type": "display_data",
          "data": {
            "application/vnd.jupyter.widget-view+json": {
              "model_id": "5ba034e41caa44bbb1ec159228c23ac1",
              "version_major": 2,
              "version_minor": 0
            },
            "text/plain": [
              "MetricVisualizer(layout=Layout(align_self='stretch', height='500px'))"
            ]
          },
          "metadata": {
            "tags": []
          }
        },
        {
          "output_type": "stream",
          "text": [
            "TRAIN\n",
            "\n",
            "              precision    recall  f1-score   support\n",
            "\n",
            "           0       0.88      0.95      0.91      4047\n",
            "           1       0.93      0.83      0.88      3156\n",
            "\n",
            "    accuracy                           0.90      7203\n",
            "   macro avg       0.90      0.89      0.89      7203\n",
            "weighted avg       0.90      0.90      0.90      7203\n",
            "\n",
            "TEST\n",
            "\n",
            "              precision    recall  f1-score   support\n",
            "\n",
            "           0       0.81      0.86      0.84      1340\n",
            "           1       0.59      0.49      0.53       535\n",
            "\n",
            "    accuracy                           0.76      1875\n",
            "   macro avg       0.70      0.68      0.68      1875\n",
            "weighted avg       0.75      0.76      0.75      1875\n",
            "\n",
            "CONFUSION MATRIX\n",
            "\n",
            "col_0              0    1\n",
            "Credit Default           \n",
            "0               1158  182\n",
            "1                274  261\n"
          ],
          "name": "stdout"
        }
      ]
    },
    {
      "cell_type": "markdown",
      "metadata": {
        "id": "5978482c"
      },
      "source": [
        "### подбор гиперпараметров"
      ],
      "id": "5978482c"
    },
    {
      "cell_type": "code",
      "metadata": {
        "id": "fdfd721c"
      },
      "source": [
        "model_catb = catb.CatBoostClassifier(silent=True, random_state=21)"
      ],
      "id": "fdfd721c",
      "execution_count": null,
      "outputs": []
    },
    {
      "cell_type": "code",
      "metadata": {
        "id": "227236d0"
      },
      "source": [
        "params = {'n_estimators':[50, 100, 200, 500], \n",
        "          'max_depth':[3, 5, 7, 10],\n",
        "          'learning_rate':[0.001, 0.01, 0.05, 0.1]}"
      ],
      "id": "227236d0",
      "execution_count": null,
      "outputs": []
    },
    {
      "cell_type": "code",
      "metadata": {
        "id": "11403cbf"
      },
      "source": [
        "cv=KFold(n_splits=3, random_state=21, shuffle=True)"
      ],
      "id": "11403cbf",
      "execution_count": null,
      "outputs": []
    },
    {
      "cell_type": "code",
      "metadata": {
        "id": "bd83bf43",
        "outputId": "a3059346-092a-46cc-aa5a-63de83c2ed4d"
      },
      "source": [
        "%%time\n",
        "\n",
        "rs = RandomizedSearchCV(model_catb, params, scoring='f1', cv=cv, n_jobs=-1)\n",
        "rs.fit(X_train, y_train)"
      ],
      "id": "bd83bf43",
      "execution_count": null,
      "outputs": [
        {
          "output_type": "stream",
          "text": [
            "Wall time: 1min 28s\n"
          ],
          "name": "stdout"
        },
        {
          "output_type": "execute_result",
          "data": {
            "text/plain": [
              "RandomizedSearchCV(cv=KFold(n_splits=3, random_state=21, shuffle=True),\n",
              "                   estimator=<catboost.core.CatBoostClassifier object at 0x000002219989FB20>,\n",
              "                   n_jobs=-1,\n",
              "                   param_distributions={'learning_rate': [0.001, 0.01, 0.05,\n",
              "                                                          0.1],\n",
              "                                        'max_depth': [3, 5, 7, 10],\n",
              "                                        'n_estimators': [50, 100, 200, 500]},\n",
              "                   scoring='f1')"
            ]
          },
          "metadata": {
            "tags": []
          },
          "execution_count": 51
        }
      ]
    },
    {
      "cell_type": "code",
      "metadata": {
        "id": "c747724a",
        "outputId": "d209551a-265a-4cd1-88e7-081596fe5a4d"
      },
      "source": [
        "rs.best_params_"
      ],
      "id": "c747724a",
      "execution_count": null,
      "outputs": [
        {
          "output_type": "execute_result",
          "data": {
            "text/plain": [
              "{'n_estimators': 200, 'max_depth': 7, 'learning_rate': 0.1}"
            ]
          },
          "metadata": {
            "tags": []
          },
          "execution_count": 52
        }
      ]
    },
    {
      "cell_type": "code",
      "metadata": {
        "id": "43692238",
        "outputId": "eba94f2c-c489-423b-98e8-375a9092b154"
      },
      "source": [
        "rs.best_score_"
      ],
      "id": "43692238",
      "execution_count": null,
      "outputs": [
        {
          "output_type": "execute_result",
          "data": {
            "text/plain": [
              "0.7147836519179102"
            ]
          },
          "metadata": {
            "tags": []
          },
          "execution_count": 53
        }
      ]
    },
    {
      "cell_type": "markdown",
      "metadata": {
        "id": "fa822c23"
      },
      "source": [
        "### Обучение и оценка финальной модели"
      ],
      "id": "fa822c23"
    },
    {
      "cell_type": "code",
      "metadata": {
        "id": "6e299065",
        "outputId": "4ad642f4-502b-4ddf-a72e-8aa263e76588"
      },
      "source": [
        "%%time\n",
        "\n",
        "final_model = catb.CatBoostClassifier(n_estimators=500, max_depth=3, learning_rate=0.1,\n",
        "                                      silent=True, random_state=21)\n",
        "final_model.fit(X_train, y_train)\n",
        "\n",
        "y_train_pred = final_model.predict(X_train)\n",
        "y_test_pred = final_model.predict(X_test)\n",
        "\n",
        "get_classification_report(y_train, y_train_pred, y_test, y_test_pred)"
      ],
      "id": "6e299065",
      "execution_count": null,
      "outputs": [
        {
          "output_type": "stream",
          "text": [
            "TRAIN\n",
            "\n",
            "              precision    recall  f1-score   support\n",
            "\n",
            "           0       0.80      0.89      0.84      4047\n",
            "           1       0.84      0.71      0.77      3156\n",
            "\n",
            "    accuracy                           0.81      7203\n",
            "   macro avg       0.82      0.80      0.80      7203\n",
            "weighted avg       0.81      0.81      0.81      7203\n",
            "\n",
            "TEST\n",
            "\n",
            "              precision    recall  f1-score   support\n",
            "\n",
            "           0       0.81      0.83      0.82      1340\n",
            "           1       0.54      0.51      0.53       535\n",
            "\n",
            "    accuracy                           0.74      1875\n",
            "   macro avg       0.67      0.67      0.67      1875\n",
            "weighted avg       0.73      0.74      0.73      1875\n",
            "\n",
            "CONFUSION MATRIX\n",
            "\n",
            "col_0              0    1\n",
            "Credit Default           \n",
            "0               1106  234\n",
            "1                261  274\n",
            "Wall time: 3.84 s\n"
          ],
          "name": "stdout"
        }
      ]
    },
    {
      "cell_type": "markdown",
      "metadata": {
        "id": "a555bb97"
      },
      "source": [
        "### Снижение степени переобучения"
      ],
      "id": "a555bb97"
    },
    {
      "cell_type": "code",
      "metadata": {
        "colab": {
          "base_uri": "https://localhost:8080/",
          "height": 229
        },
        "id": "2711b262",
        "outputId": "f6750010-ad42-4bd1-db06-a0d3373c88aa"
      },
      "source": [
        "final_model = catb.CatBoostClassifier(n_estimators=500, max_depth=3,\n",
        "                                      l2_leaf_reg=10,\n",
        "                                      silent=True, random_state=21)\n",
        "final_model.fit(X_train, y_train)\n",
        "\n",
        "y_train_pred = final_model.predict(X_train)\n",
        "y_test_pred = final_model.predict(X_test)\n",
        "y_test_pred_probs = final_model.predict_proba(X_test)\n",
        "\n",
        "get_classification_report(y_train, y_train_pred, y_test, y_test_pred)"
      ],
      "id": "2711b262",
      "execution_count": null,
      "outputs": [
        {
          "output_type": "error",
          "ename": "NameError",
          "evalue": "ignored",
          "traceback": [
            "\u001b[0;31m---------------------------------------------------------------------------\u001b[0m",
            "\u001b[0;31mNameError\u001b[0m                                 Traceback (most recent call last)",
            "\u001b[0;32m<ipython-input-2-9eb2440e0ba5>\u001b[0m in \u001b[0;36m<module>\u001b[0;34m()\u001b[0m\n\u001b[0;32m----> 1\u001b[0;31m final_model = catb.CatBoostClassifier(n_estimators=500, max_depth=3,\n\u001b[0m\u001b[1;32m      2\u001b[0m                                       \u001b[0ml2_leaf_reg\u001b[0m\u001b[0;34m=\u001b[0m\u001b[0;36m10\u001b[0m\u001b[0;34m,\u001b[0m\u001b[0;34m\u001b[0m\u001b[0;34m\u001b[0m\u001b[0m\n\u001b[1;32m      3\u001b[0m                                       silent=True, random_state=21)\n\u001b[1;32m      4\u001b[0m \u001b[0mfinal_model\u001b[0m\u001b[0;34m.\u001b[0m\u001b[0mfit\u001b[0m\u001b[0;34m(\u001b[0m\u001b[0mX_train\u001b[0m\u001b[0;34m,\u001b[0m \u001b[0my_train\u001b[0m\u001b[0;34m)\u001b[0m\u001b[0;34m\u001b[0m\u001b[0;34m\u001b[0m\u001b[0m\n\u001b[1;32m      5\u001b[0m \u001b[0;34m\u001b[0m\u001b[0m\n",
            "\u001b[0;31mNameError\u001b[0m: name 'catb' is not defined"
          ]
        }
      ]
    },
    {
      "cell_type": "code",
      "metadata": {
        "id": "a727c5f5"
      },
      "source": [
        "def show_proba_calibration_plots(y_predicted_probs, y_true_labels):\n",
        "    preds_with_true_labels = np.array(list(zip(y_predicted_probs, y_true_labels)))\n",
        "\n",
        "    thresholds = []\n",
        "    precisions = []\n",
        "    recalls = []\n",
        "    f1_scores = []\n",
        "\n",
        "    for threshold in np.linspace(0.1, 0.9, 9):\n",
        "        thresholds.append(threshold)\n",
        "        precisions.append(precision_score(y_true_labels, list(map(int, y_predicted_probs > threshold))))\n",
        "        recalls.append(recall_score(y_true_labels, list(map(int, y_predicted_probs > threshold))))\n",
        "        f1_scores.append(f1_score(y_true_labels, list(map(int, y_predicted_probs > threshold))))\n",
        "\n",
        "    scores_table = pd.DataFrame({'f1':f1_scores,\n",
        "                                 'precision':precisions,\n",
        "                                 'recall':recalls,\n",
        "                                 'probability':thresholds}).sort_values('f1', ascending=False).round(3)\n",
        "  \n",
        "    figure = plt.figure(figsize = (15, 5))\n",
        "\n",
        "    plt1 = figure.add_subplot(121)\n",
        "    plt1.plot(thresholds, precisions, label='Precision', linewidth=4)\n",
        "    plt1.plot(thresholds, recalls, label='Recall', linewidth=4)\n",
        "    plt1.plot(thresholds, f1_scores, label='F1', linewidth=4)\n",
        "    plt1.set_ylabel('Scores')\n",
        "    plt1.set_xlabel('Probability threshold')\n",
        "    plt1.set_title('Probabilities threshold calibration')\n",
        "    plt1.legend(bbox_to_anchor=(0.25, 0.25))   \n",
        "    plt1.table(cellText = scores_table.values,\n",
        "               colLabels = scores_table.columns, \n",
        "               colLoc = 'center', cellLoc = 'center', loc = 'bottom', bbox = [0, -1.3, 1, 1])\n",
        "\n",
        "    plt2 = figure.add_subplot(122)\n",
        "    plt2.hist(preds_with_true_labels[preds_with_true_labels[:, 1] == 0][:, 0], \n",
        "              label='Another class', color='royalblue', alpha=1)\n",
        "    plt2.hist(preds_with_true_labels[preds_with_true_labels[:, 1] == 1][:, 0], \n",
        "              label='Main class', color='darkcyan', alpha=0.8)\n",
        "    plt2.set_ylabel('Number of examples')\n",
        "    plt2.set_xlabel('Probabilities')\n",
        "    plt2.set_title('Probability histogram')\n",
        "    plt2.legend(bbox_to_anchor=(1, 1))\n",
        "\n",
        "    plt.show()"
      ],
      "id": "a727c5f5",
      "execution_count": null,
      "outputs": []
    },
    {
      "cell_type": "code",
      "metadata": {
        "colab": {
          "base_uri": "https://localhost:8080/",
          "height": 229
        },
        "id": "0bda5397",
        "outputId": "ed61ff38-8bba-4619-ac70-b0f21dc9ea36"
      },
      "source": [
        "def show_learning_curve_plot(estimator, X, y, cv=3, n_jobs=-1, train_sizes=np.linspace(.1, 1.0, 5)):\n",
        "\n",
        "    train_sizes, train_scores, test_scores = learning_curve(estimator, X, y, \n",
        "                                                            cv=cv, \n",
        "                                                            scoring='f1',\n",
        "                                                            train_sizes=train_sizes, \n",
        "                                                            n_jobs=n_jobs)\n",
        "    train_scores_mean = np.mean(train_scores, axis=1)\n",
        "    train_scores_std = np.std(train_scores, axis=1)\n",
        "    test_scores_mean = np.mean(test_scores, axis=1)\n",
        "    test_scores_std = np.std(test_scores, axis=1)\n",
        "\n",
        "    plt.figure(figsize=(15,8))\n",
        "    plt.fill_between(train_sizes, train_scores_mean - train_scores_std,\n",
        "                     train_scores_mean + train_scores_std, alpha=0.1, color=\"r\")\n",
        "    plt.fill_between(train_sizes, test_scores_mean - test_scores_std,\n",
        "                     test_scores_mean + test_scores_std, alpha=0.1, color=\"g\")\n",
        "    plt.plot(train_sizes, train_scores_mean, 'o-', color=\"r\",\n",
        "             label=\"Training score\")\n",
        "    plt.plot(train_sizes, test_scores_mean, 'o-', color=\"g\",\n",
        "             label=\"Cross-validation score\")\n",
        "\n",
        "    plt.title(f\"Learning curves ({type(estimator).__name__})\")\n",
        "    plt.xlabel(\"Training examples\")\n",
        "    plt.ylabel(\"Score\")     \n",
        "    plt.legend(loc=\"best\")\n",
        "    plt.grid()\n",
        "    plt.show()"
      ],
      "id": "0bda5397",
      "execution_count": null,
      "outputs": [
        {
          "output_type": "error",
          "ename": "NameError",
          "evalue": "ignored",
          "traceback": [
            "\u001b[0;31m---------------------------------------------------------------------------\u001b[0m",
            "\u001b[0;31mNameError\u001b[0m                                 Traceback (most recent call last)",
            "\u001b[0;32m<ipython-input-4-95b11997ae4e>\u001b[0m in \u001b[0;36m<module>\u001b[0;34m()\u001b[0m\n\u001b[0;32m----> 1\u001b[0;31m \u001b[0;32mdef\u001b[0m \u001b[0mshow_learning_curve_plot\u001b[0m\u001b[0;34m(\u001b[0m\u001b[0mestimator\u001b[0m\u001b[0;34m,\u001b[0m \u001b[0mX\u001b[0m\u001b[0;34m,\u001b[0m \u001b[0my\u001b[0m\u001b[0;34m,\u001b[0m \u001b[0mcv\u001b[0m\u001b[0;34m=\u001b[0m\u001b[0;36m3\u001b[0m\u001b[0;34m,\u001b[0m \u001b[0mn_jobs\u001b[0m\u001b[0;34m=\u001b[0m\u001b[0;34m-\u001b[0m\u001b[0;36m1\u001b[0m\u001b[0;34m,\u001b[0m \u001b[0mtrain_sizes\u001b[0m\u001b[0;34m=\u001b[0m\u001b[0mnp\u001b[0m\u001b[0;34m.\u001b[0m\u001b[0mlinspace\u001b[0m\u001b[0;34m(\u001b[0m\u001b[0;36m.1\u001b[0m\u001b[0;34m,\u001b[0m \u001b[0;36m1.0\u001b[0m\u001b[0;34m,\u001b[0m \u001b[0;36m5\u001b[0m\u001b[0;34m)\u001b[0m\u001b[0;34m)\u001b[0m\u001b[0;34m:\u001b[0m\u001b[0;34m\u001b[0m\u001b[0;34m\u001b[0m\u001b[0m\n\u001b[0m\u001b[1;32m      2\u001b[0m \u001b[0;34m\u001b[0m\u001b[0m\n\u001b[1;32m      3\u001b[0m     train_sizes, train_scores, test_scores = learning_curve(estimator, X, y, \n\u001b[1;32m      4\u001b[0m                                                             \u001b[0mcv\u001b[0m\u001b[0;34m=\u001b[0m\u001b[0mcv\u001b[0m\u001b[0;34m,\u001b[0m\u001b[0;34m\u001b[0m\u001b[0;34m\u001b[0m\u001b[0m\n\u001b[1;32m      5\u001b[0m                                                             \u001b[0mscoring\u001b[0m\u001b[0;34m=\u001b[0m\u001b[0;34m'f1'\u001b[0m\u001b[0;34m,\u001b[0m\u001b[0;34m\u001b[0m\u001b[0;34m\u001b[0m\u001b[0m\n",
            "\u001b[0;31mNameError\u001b[0m: name 'np' is not defined"
          ]
        }
      ]
    },
    {
      "cell_type": "code",
      "metadata": {
        "id": "9e287c33"
      },
      "source": [
        "def show_feature_importances(feature_names, feature_importances, get_top=None):\n",
        "    feature_importances = pd.DataFrame({'feature': feature_names, 'importance': feature_importances})\n",
        "    feature_importances = feature_importances.sort_values('importance', ascending=False)\n",
        "       \n",
        "    plt.figure(figsize = (20, len(feature_importances) * 0.355))\n",
        "    \n",
        "    sns.barplot(feature_importances['importance'], feature_importances['feature'])\n",
        "    \n",
        "    plt.xlabel('Importance')\n",
        "    plt.title('Importance of features')\n",
        "    plt.show()\n",
        "    \n",
        "    if get_top is not None:\n",
        "        return feature_importances['feature'][:get_top].tolist()"
      ],
      "id": "9e287c33",
      "execution_count": null,
      "outputs": []
    },
    {
      "cell_type": "markdown",
      "metadata": {
        "id": "5b63dcfa"
      },
      "source": [
        "### Подбор оптимального размера выборки, кривая обучения"
      ],
      "id": "5b63dcfa"
    },
    {
      "cell_type": "code",
      "metadata": {
        "colab": {
          "base_uri": "https://localhost:8080/",
          "height": 195
        },
        "id": "4ca7b126",
        "outputId": "a107fce8-8251-4945-ef84-b9b59c0b1d3d"
      },
      "source": [
        "final_model = catb.CatBoostClassifier(n_estimators=500, max_depth=3,\n",
        "                                      class_weights=[1, 3.5],\n",
        "                                      silent=True, random_state=21)"
      ],
      "id": "4ca7b126",
      "execution_count": null,
      "outputs": [
        {
          "output_type": "error",
          "ename": "NameError",
          "evalue": "ignored",
          "traceback": [
            "\u001b[0;31m---------------------------------------------------------------------------\u001b[0m",
            "\u001b[0;31mNameError\u001b[0m                                 Traceback (most recent call last)",
            "\u001b[0;32m<ipython-input-1-ed9c136ca902>\u001b[0m in \u001b[0;36m<module>\u001b[0;34m()\u001b[0m\n\u001b[0;32m----> 1\u001b[0;31m final_model = catb.CatBoostClassifier(n_estimators=500, max_depth=3,\n\u001b[0m\u001b[1;32m      2\u001b[0m                                       \u001b[0mclass_weights\u001b[0m\u001b[0;34m=\u001b[0m\u001b[0;34m[\u001b[0m\u001b[0;36m1\u001b[0m\u001b[0;34m,\u001b[0m \u001b[0;36m3.5\u001b[0m\u001b[0;34m]\u001b[0m\u001b[0;34m,\u001b[0m\u001b[0;34m\u001b[0m\u001b[0;34m\u001b[0m\u001b[0m\n\u001b[1;32m      3\u001b[0m                                       silent=True, random_state=21)\n",
            "\u001b[0;31mNameError\u001b[0m: name 'catb' is not defined"
          ]
        }
      ]
    },
    {
      "cell_type": "code",
      "metadata": {
        "id": "9f41542c"
      },
      "source": [
        "show_learning_curve_plot(final_model, X, y)"
      ],
      "id": "9f41542c",
      "execution_count": null,
      "outputs": []
    },
    {
      "cell_type": "code",
      "metadata": {
        "id": "5bb959a6"
      },
      "source": [
        "show_proba_calibration_plots(y_test_pred_probs[:, 1], y_test)"
      ],
      "id": "5bb959a6",
      "execution_count": null,
      "outputs": []
    },
    {
      "cell_type": "code",
      "metadata": {
        "id": "9feda49f"
      },
      "source": [
        "important_features_top = show_feature_importances(X_train.columns, final_model.feature_importances, get_top=10)"
      ],
      "id": "9feda49f",
      "execution_count": null,
      "outputs": []
    },
    {
      "cell_type": "code",
      "metadata": {
        "id": "372610e2"
      },
      "source": [
        "important_features_top"
      ],
      "id": "372610e2",
      "execution_count": null,
      "outputs": []
    },
    {
      "cell_type": "markdown",
      "metadata": {
        "id": "2861d2dd"
      },
      "source": [
        "### итоговая модель"
      ],
      "id": "2861d2dd"
    },
    {
      "cell_type": "code",
      "metadata": {
        "id": "343f2043",
        "outputId": "b2993147-a523-4ca8-fe71-96681eb27704"
      },
      "source": [
        "final_model = catb.CatBoostClassifier(n_estimators=500, max_depth=3, l2_leaf_reg=10,\n",
        "                                      silent=True, random_state=21)\n",
        "final_model.fit(X_train[important_features_top], y_train)\n",
        "\n",
        "y_train_pred = final_model.predict(X_train[important_features_top])\n",
        "y_test_pred = final_model.predict(X_test[important_features_top])\n",
        "y_test_pred_probs = final_model.predict_proba(X_test[important_features_top])\n",
        "\n",
        "get_classification_report(y_train, y_train_pred, y_test, y_test_pred)"
      ],
      "id": "343f2043",
      "execution_count": null,
      "outputs": [
        {
          "output_type": "stream",
          "text": [
            "TRAIN\n",
            "\n",
            "              precision    recall  f1-score   support\n",
            "\n",
            "           0       0.66      0.80      0.72      4047\n",
            "           1       0.64      0.46      0.54      3156\n",
            "\n",
            "    accuracy                           0.65      7203\n",
            "   macro avg       0.65      0.63      0.63      7203\n",
            "weighted avg       0.65      0.65      0.64      7203\n",
            "\n",
            "TEST\n",
            "\n",
            "              precision    recall  f1-score   support\n",
            "\n",
            "           0       0.77      0.78      0.77      1340\n",
            "           1       0.43      0.41      0.42       535\n",
            "\n",
            "    accuracy                           0.67      1875\n",
            "   macro avg       0.60      0.60      0.60      1875\n",
            "weighted avg       0.67      0.67      0.67      1875\n",
            "\n",
            "CONFUSION MATRIX\n",
            "\n",
            "col_0              0    1\n",
            "Credit Default           \n",
            "0               1042  298\n",
            "1                314  221\n"
          ],
          "name": "stdout"
        }
      ]
    },
    {
      "cell_type": "code",
      "metadata": {
        "id": "c009e574",
        "outputId": "599d8d65-48f5-4bf9-c9fd-cb082580c975"
      },
      "source": [
        "test_df.shape"
      ],
      "id": "c009e574",
      "execution_count": null,
      "outputs": [
        {
          "output_type": "execute_result",
          "data": {
            "text/plain": [
              "(2500, 25)"
            ]
          },
          "metadata": {
            "tags": []
          },
          "execution_count": 80
        }
      ]
    },
    {
      "cell_type": "code",
      "metadata": {
        "id": "57e44dd0",
        "outputId": "0057e1fc-3845-4136-beba-6bcc5a10f024"
      },
      "source": [
        "submit = pd.read_csv(SAMPLE_SUBMIT_PATH)\n",
        "submit.head()"
      ],
      "id": "57e44dd0",
      "execution_count": null,
      "outputs": [
        {
          "output_type": "execute_result",
          "data": {
            "text/html": [
              "<div>\n",
              "<style scoped>\n",
              "    .dataframe tbody tr th:only-of-type {\n",
              "        vertical-align: middle;\n",
              "    }\n",
              "\n",
              "    .dataframe tbody tr th {\n",
              "        vertical-align: top;\n",
              "    }\n",
              "\n",
              "    .dataframe thead th {\n",
              "        text-align: right;\n",
              "    }\n",
              "</style>\n",
              "<table border=\"1\" class=\"dataframe\">\n",
              "  <thead>\n",
              "    <tr style=\"text-align: right;\">\n",
              "      <th></th>\n",
              "      <th>Id</th>\n",
              "      <th>Credit Default</th>\n",
              "    </tr>\n",
              "  </thead>\n",
              "  <tbody>\n",
              "    <tr>\n",
              "      <th>0</th>\n",
              "      <td>0</td>\n",
              "      <td>1</td>\n",
              "    </tr>\n",
              "    <tr>\n",
              "      <th>1</th>\n",
              "      <td>1</td>\n",
              "      <td>1</td>\n",
              "    </tr>\n",
              "    <tr>\n",
              "      <th>2</th>\n",
              "      <td>2</td>\n",
              "      <td>1</td>\n",
              "    </tr>\n",
              "    <tr>\n",
              "      <th>3</th>\n",
              "      <td>3</td>\n",
              "      <td>1</td>\n",
              "    </tr>\n",
              "    <tr>\n",
              "      <th>4</th>\n",
              "      <td>4</td>\n",
              "      <td>1</td>\n",
              "    </tr>\n",
              "  </tbody>\n",
              "</table>\n",
              "</div>"
            ],
            "text/plain": [
              "   Id  Credit Default\n",
              "0   0               1\n",
              "1   1               1\n",
              "2   2               1\n",
              "3   3               1\n",
              "4   4               1"
            ]
          },
          "metadata": {
            "tags": []
          },
          "execution_count": 81
        }
      ]
    },
    {
      "cell_type": "code",
      "metadata": {
        "id": "8ecfdd1c",
        "outputId": "cd4fdec8-d2c4-48bf-c8f4-a1cd1aec40ba"
      },
      "source": [
        "predictions = final_model.predict(test_df[FEATURE_NAMES_SELECTED])\n",
        "predictions"
      ],
      "id": "8ecfdd1c",
      "execution_count": null,
      "outputs": [
        {
          "output_type": "execute_result",
          "data": {
            "text/plain": [
              "array([0, 1, 0, ..., 0, 0, 0], dtype=int64)"
            ]
          },
          "metadata": {
            "tags": []
          },
          "execution_count": 82
        }
      ]
    },
    {
      "cell_type": "code",
      "metadata": {
        "id": "b94afe71",
        "outputId": "8202a3ee-1129-475f-9072-18166e4ef2d1"
      },
      "source": [
        "len(predictions)"
      ],
      "id": "b94afe71",
      "execution_count": null,
      "outputs": [
        {
          "output_type": "execute_result",
          "data": {
            "text/plain": [
              "2500"
            ]
          },
          "metadata": {
            "tags": []
          },
          "execution_count": 83
        }
      ]
    },
    {
      "cell_type": "code",
      "metadata": {
        "id": "a5a89fbf"
      },
      "source": [
        "submit['Credit Default'] = predictions"
      ],
      "id": "a5a89fbf",
      "execution_count": null,
      "outputs": []
    },
    {
      "cell_type": "code",
      "metadata": {
        "id": "dab29321"
      },
      "source": [
        "submit.to_csv('submit2.csv', index=False)"
      ],
      "id": "dab29321",
      "execution_count": null,
      "outputs": []
    },
    {
      "cell_type": "code",
      "metadata": {
        "id": "148fc9c6"
      },
      "source": [
        ""
      ],
      "id": "148fc9c6",
      "execution_count": null,
      "outputs": []
    }
  ]
}